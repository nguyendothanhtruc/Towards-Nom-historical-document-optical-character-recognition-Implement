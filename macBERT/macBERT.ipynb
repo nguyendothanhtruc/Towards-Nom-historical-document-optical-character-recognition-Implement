{
  "cells": [
    {
      "cell_type": "code",
      "execution_count": null,
      "metadata": {
        "colab": {
          "base_uri": "https://localhost:8080/"
        },
        "id": "w9DPXNqS9Oqd",
        "outputId": "aebbd329-3713-4f12-fdf2-0641d46b8279"
      },
      "outputs": [
        {
          "name": "stdout",
          "output_type": "stream",
          "text": [
            "Looking in indexes: https://pypi.org/simple, https://us-python.pkg.dev/colab-wheels/public/simple/\n",
            "Collecting loguru\n",
            "  Downloading loguru-0.6.0-py3-none-any.whl (58 kB)\n",
            "\u001b[K     |████████████████████████████████| 58 kB 6.2 MB/s \n",
            "\u001b[?25hInstalling collected packages: loguru\n",
            "Successfully installed loguru-0.6.0\n",
            "Looking in indexes: https://pypi.org/simple, https://us-python.pkg.dev/colab-wheels/public/simple/\n",
            "Collecting pytorch_lightning\n",
            "  Downloading pytorch_lightning-1.8.6-py3-none-any.whl (800 kB)\n",
            "\u001b[K     |████████████████████████████████| 800 kB 29.9 MB/s \n",
            "\u001b[?25hCollecting lightning-utilities!=0.4.0,>=0.3.0\n",
            "  Downloading lightning_utilities-0.5.0-py3-none-any.whl (18 kB)\n",
            "Requirement already satisfied: tqdm>=4.57.0 in /usr/local/lib/python3.8/dist-packages (from pytorch_lightning) (4.64.1)\n",
            "Requirement already satisfied: numpy>=1.17.2 in /usr/local/lib/python3.8/dist-packages (from pytorch_lightning) (1.21.6)\n",
            "Collecting tensorboardX>=2.2\n",
            "  Downloading tensorboardX-2.5.1-py2.py3-none-any.whl (125 kB)\n",
            "\u001b[K     |████████████████████████████████| 125 kB 71.9 MB/s \n",
            "\u001b[?25hCollecting torchmetrics>=0.7.0\n",
            "  Downloading torchmetrics-0.11.0-py3-none-any.whl (512 kB)\n",
            "\u001b[K     |████████████████████████████████| 512 kB 79.1 MB/s \n",
            "\u001b[?25hRequirement already satisfied: packaging>=17.0 in /usr/local/lib/python3.8/dist-packages (from pytorch_lightning) (21.3)\n",
            "Requirement already satisfied: fsspec[http]>2021.06.0 in /usr/local/lib/python3.8/dist-packages (from pytorch_lightning) (2022.11.0)\n",
            "Requirement already satisfied: typing-extensions>=4.0.0 in /usr/local/lib/python3.8/dist-packages (from pytorch_lightning) (4.4.0)\n",
            "Requirement already satisfied: PyYAML>=5.4 in /usr/local/lib/python3.8/dist-packages (from pytorch_lightning) (6.0)\n",
            "Requirement already satisfied: torch>=1.9.0 in /usr/local/lib/python3.8/dist-packages (from pytorch_lightning) (1.13.0+cu116)\n",
            "Requirement already satisfied: requests in /usr/local/lib/python3.8/dist-packages (from fsspec[http]>2021.06.0->pytorch_lightning) (2.23.0)\n",
            "Requirement already satisfied: aiohttp!=4.0.0a0,!=4.0.0a1 in /usr/local/lib/python3.8/dist-packages (from fsspec[http]>2021.06.0->pytorch_lightning) (3.8.3)\n",
            "Requirement already satisfied: aiosignal>=1.1.2 in /usr/local/lib/python3.8/dist-packages (from aiohttp!=4.0.0a0,!=4.0.0a1->fsspec[http]>2021.06.0->pytorch_lightning) (1.3.1)\n",
            "Requirement already satisfied: async-timeout<5.0,>=4.0.0a3 in /usr/local/lib/python3.8/dist-packages (from aiohttp!=4.0.0a0,!=4.0.0a1->fsspec[http]>2021.06.0->pytorch_lightning) (4.0.2)\n",
            "Requirement already satisfied: attrs>=17.3.0 in /usr/local/lib/python3.8/dist-packages (from aiohttp!=4.0.0a0,!=4.0.0a1->fsspec[http]>2021.06.0->pytorch_lightning) (22.1.0)\n",
            "Requirement already satisfied: charset-normalizer<3.0,>=2.0 in /usr/local/lib/python3.8/dist-packages (from aiohttp!=4.0.0a0,!=4.0.0a1->fsspec[http]>2021.06.0->pytorch_lightning) (2.1.1)\n",
            "Requirement already satisfied: yarl<2.0,>=1.0 in /usr/local/lib/python3.8/dist-packages (from aiohttp!=4.0.0a0,!=4.0.0a1->fsspec[http]>2021.06.0->pytorch_lightning) (1.8.2)\n",
            "Requirement already satisfied: multidict<7.0,>=4.5 in /usr/local/lib/python3.8/dist-packages (from aiohttp!=4.0.0a0,!=4.0.0a1->fsspec[http]>2021.06.0->pytorch_lightning) (6.0.3)\n",
            "Requirement already satisfied: frozenlist>=1.1.1 in /usr/local/lib/python3.8/dist-packages (from aiohttp!=4.0.0a0,!=4.0.0a1->fsspec[http]>2021.06.0->pytorch_lightning) (1.3.3)\n",
            "Requirement already satisfied: pyparsing!=3.0.5,>=2.0.2 in /usr/local/lib/python3.8/dist-packages (from packaging>=17.0->pytorch_lightning) (3.0.9)\n",
            "Requirement already satisfied: protobuf<=3.20.1,>=3.8.0 in /usr/local/lib/python3.8/dist-packages (from tensorboardX>=2.2->pytorch_lightning) (3.19.6)\n",
            "Requirement already satisfied: idna>=2.0 in /usr/local/lib/python3.8/dist-packages (from yarl<2.0,>=1.0->aiohttp!=4.0.0a0,!=4.0.0a1->fsspec[http]>2021.06.0->pytorch_lightning) (2.10)\n",
            "Requirement already satisfied: urllib3!=1.25.0,!=1.25.1,<1.26,>=1.21.1 in /usr/local/lib/python3.8/dist-packages (from requests->fsspec[http]>2021.06.0->pytorch_lightning) (1.24.3)\n",
            "Requirement already satisfied: certifi>=2017.4.17 in /usr/local/lib/python3.8/dist-packages (from requests->fsspec[http]>2021.06.0->pytorch_lightning) (2022.12.7)\n",
            "Requirement already satisfied: chardet<4,>=3.0.2 in /usr/local/lib/python3.8/dist-packages (from requests->fsspec[http]>2021.06.0->pytorch_lightning) (3.0.4)\n",
            "Installing collected packages: torchmetrics, tensorboardX, lightning-utilities, pytorch-lightning\n",
            "Successfully installed lightning-utilities-0.5.0 pytorch-lightning-1.8.6 tensorboardX-2.5.1 torchmetrics-0.11.0\n",
            "Looking in indexes: https://pypi.org/simple, https://us-python.pkg.dev/colab-wheels/public/simple/\n",
            "Collecting git+https://github.com/huggingface/transformers\n",
            "  Cloning https://github.com/huggingface/transformers to /tmp/pip-req-build-oouf1ljj\n",
            "  Running command git clone -q https://github.com/huggingface/transformers /tmp/pip-req-build-oouf1ljj\n",
            "  Installing build dependencies ... \u001b[?25l\u001b[?25hdone\n",
            "  Getting requirements to build wheel ... \u001b[?25l\u001b[?25hdone\n",
            "    Preparing wheel metadata ... \u001b[?25l\u001b[?25hdone\n",
            "Collecting huggingface-hub<1.0,>=0.10.0\n",
            "  Downloading huggingface_hub-0.11.1-py3-none-any.whl (182 kB)\n",
            "\u001b[K     |████████████████████████████████| 182 kB 22.0 MB/s \n",
            "\u001b[?25hRequirement already satisfied: numpy>=1.17 in /usr/local/lib/python3.8/dist-packages (from transformers==4.26.0.dev0) (1.21.6)\n",
            "Requirement already satisfied: pyyaml>=5.1 in /usr/local/lib/python3.8/dist-packages (from transformers==4.26.0.dev0) (6.0)\n",
            "Requirement already satisfied: packaging>=20.0 in /usr/local/lib/python3.8/dist-packages (from transformers==4.26.0.dev0) (21.3)\n",
            "Requirement already satisfied: regex!=2019.12.17 in /usr/local/lib/python3.8/dist-packages (from transformers==4.26.0.dev0) (2022.6.2)\n",
            "Requirement already satisfied: requests in /usr/local/lib/python3.8/dist-packages (from transformers==4.26.0.dev0) (2.23.0)\n",
            "Collecting tokenizers!=0.11.3,<0.14,>=0.11.1\n",
            "  Downloading tokenizers-0.13.2-cp38-cp38-manylinux_2_17_x86_64.manylinux2014_x86_64.whl (7.6 MB)\n",
            "\u001b[K     |████████████████████████████████| 7.6 MB 71.2 MB/s \n",
            "\u001b[?25hRequirement already satisfied: filelock in /usr/local/lib/python3.8/dist-packages (from transformers==4.26.0.dev0) (3.8.2)\n",
            "Requirement already satisfied: tqdm>=4.27 in /usr/local/lib/python3.8/dist-packages (from transformers==4.26.0.dev0) (4.64.1)\n",
            "Requirement already satisfied: typing-extensions>=3.7.4.3 in /usr/local/lib/python3.8/dist-packages (from huggingface-hub<1.0,>=0.10.0->transformers==4.26.0.dev0) (4.4.0)\n",
            "Requirement already satisfied: pyparsing!=3.0.5,>=2.0.2 in /usr/local/lib/python3.8/dist-packages (from packaging>=20.0->transformers==4.26.0.dev0) (3.0.9)\n",
            "Requirement already satisfied: chardet<4,>=3.0.2 in /usr/local/lib/python3.8/dist-packages (from requests->transformers==4.26.0.dev0) (3.0.4)\n",
            "Requirement already satisfied: idna<3,>=2.5 in /usr/local/lib/python3.8/dist-packages (from requests->transformers==4.26.0.dev0) (2.10)\n",
            "Requirement already satisfied: urllib3!=1.25.0,!=1.25.1,<1.26,>=1.21.1 in /usr/local/lib/python3.8/dist-packages (from requests->transformers==4.26.0.dev0) (1.24.3)\n",
            "Requirement already satisfied: certifi>=2017.4.17 in /usr/local/lib/python3.8/dist-packages (from requests->transformers==4.26.0.dev0) (2022.12.7)\n",
            "Building wheels for collected packages: transformers\n",
            "  Building wheel for transformers (PEP 517) ... \u001b[?25l\u001b[?25hdone\n",
            "  Created wheel for transformers: filename=transformers-4.26.0.dev0-py3-none-any.whl size=6073071 sha256=d773944169e496f0dc82c7e60710450b0248dffca2aca11bdb80e656f806af6e\n",
            "  Stored in directory: /tmp/pip-ephem-wheel-cache-97le5p55/wheels/42/68/45/c63edff61c292f2dfd4df4ef6522dcbecc603e7af82813c1d7\n",
            "Successfully built transformers\n",
            "Installing collected packages: tokenizers, huggingface-hub, transformers\n",
            "Successfully installed huggingface-hub-0.11.1 tokenizers-0.13.2 transformers-4.26.0.dev0\n"
          ]
        }
      ],
      "source": [
        "!pip install loguru\n",
        "!pip install pytorch_lightning\n",
        "!pip install git+https://github.com/huggingface/transformers\n"
      ]
    },
    {
      "cell_type": "code",
      "execution_count": null,
      "metadata": {
        "colab": {
          "base_uri": "https://localhost:8080/"
        },
        "id": "defBzxS7tJrE",
        "outputId": "22390358-969c-4e53-e320-2816c8f5231f"
      },
      "outputs": [
        {
          "name": "stdout",
          "output_type": "stream",
          "text": [
            "Mounted at /content/gdrive\n"
          ]
        }
      ],
      "source": [
        "from google.colab import drive\n",
        "drive.mount('/content/gdrive')"
      ]
    },
    {
      "cell_type": "code",
      "execution_count": null,
      "metadata": {
        "id": "r1VRnRJq2P-V"
      },
      "outputs": [],
      "source": [
        "import sys\n",
        "sys.path.append('/content/gdrive/MyDrive/Intro_NLP/Code/OCR/macBERT')"
      ]
    },
    {
      "cell_type": "code",
      "execution_count": null,
      "metadata": {
        "id": "pfb8_asO9Iyv"
      },
      "outputs": [],
      "source": [
        "import os\n",
        "import sys\n",
        "import numpy as np\n",
        "import pandas as pd\n",
        "import torch\n",
        "import torch.nn as nn\n",
        "from torch.utils.data import Dataset\n",
        "from torch.utils.data import DataLoader\n",
        "import pytorch_lightning as pl\n",
        "from pytorch_lightning.callbacks import ModelCheckpoint\n",
        "\n",
        "from transformers import BertTokenizerFast, BertForMaskedLM\n",
        "from tokenizers import BertWordPieceTokenizer\n",
        "\n",
        "import operator\n",
        "import argparse\n",
        "from abc import ABC\n",
        "from pathlib import Path\n",
        "from loguru import logger\n",
        "from collections import OrderedDict\n",
        "\n",
        "import lr_scheduler\n",
        "from evaluate_util import compute_corrector_prf, compute_sentence_level_prf\n",
        "from base_model import FocalLoss, make_optimizer, build_lr_scheduler\n",
        "\n",
        "device = torch.device(\"cuda\" if torch.cuda.is_available() else \"cpu\")\n",
        "os.environ[\"KMP_DUPLICATE_LIB_OK\"] = \"TRUE\"\n",
        "os.environ[\"TOKENIZERS_PARALLELISM\"] = \"FALSE\""
      ]
    },
    {
      "cell_type": "code",
      "execution_count": null,
      "metadata": {
        "id": "-bytFmX7Etyk"
      },
      "outputs": [],
      "source": [
        "### Config params\n",
        "class MODEL_class:\n",
        "    BERT_CKPT= \"hfl/chinese-macbert-base\"\n",
        "    DEVICE= \"cuda\"\n",
        "    NAME= \"macbert4csc\"\n",
        "    GPU_IDS= [0]\n",
        "    HYPER_PARAMS= [0.3]\n",
        "    WEIGHTS= \"\"\n",
        "\n",
        "class DATASETS_class:\n",
        "    TRAIN= \"/content/gdrive/MyDrive/Intro_NLP/Code/OCR/macBERT/Data/train_mask_can.xlsx\"\n",
        "    VALID= \"/content/gdrive/MyDrive/Intro_NLP/Code/OCR/macBERT/Data/test_mask_can.xlsx\"\n",
        "    TEST= \"/content/gdrive/MyDrive/Intro_NLP/Code/OCR/macBERT/Data/test_mask_can.xlsx\"\n",
        "\n",
        "class SOLVER_class:\n",
        "    BASE_LR= 0.00016\n",
        "    WEIGHT_DECAY= 6e-5\n",
        "    BATCH_SIZE= 128\n",
        "    MAX_EPOCHS= 1000\n",
        "    ACCUMULATE_GRAD_BATCHES= 4\n",
        "    OPTIMIZER_NAME = \"Adam\"\n",
        "    AMSGRAD = True,\n",
        "    BIAS_LR_FACTOR = 2\n",
        "    WEIGHT_DECAY_BIAS = 0\n",
        "    SCHED = \"WarmupExponentialLR\"\n",
        "    GAMMA = 0.9999\n",
        "    STEPS = ()\n",
        "    WARMUP_FACTOR = 0.005\n",
        "    WARMUP_EPOCHS = 20\n",
        "    WARMUP_METHOD = \"linear\"\n",
        "    DELAY_ITERS = 0\n",
        "    ETA_MIN_LR = 3e-7\n",
        "    MAX_ITER = 100\n",
        "    WARMUP_ITERS = 5\n",
        "    INTERVAL = 'step'\n",
        "    CHECKPOINT_PERIOD = 100\n",
        "    LOG_PERIOD = 100\n",
        "\n",
        "class CONFIG:\n",
        "    MODEL = MODEL_class()\n",
        "    DATASETS = DATASETS_class()\n",
        "    SOLVER = SOLVER_class()\n",
        "    OUTPUT_DIR= \"output/macbert4csc_adam\",\n",
        "    MODE= [\"train\", \"test\"]\n",
        "\n",
        "\n",
        "cfg = CONFIG()"
      ]
    },
    {
      "cell_type": "code",
      "execution_count": null,
      "metadata": {
        "colab": {
          "base_uri": "https://localhost:8080/"
        },
        "id": "23F62MiWGK9W",
        "outputId": "2a018523-e18a-47fa-d5c2-e6fddcf3b7a2"
      },
      "outputs": [
        {
          "data": {
            "text/plain": [
              "['tokenized_data/text_4.txt',\n",
              " 'tokenized_data/text_2.txt',\n",
              " 'tokenized_data/text_6.txt',\n",
              " 'tokenized_data/text_16.txt',\n",
              " 'tokenized_data/text_12.txt']"
            ]
          },
          "execution_count": 7,
          "metadata": {},
          "output_type": "execute_result"
        }
      ],
      "source": [
        "### Prepare data for training tokenizer\n",
        "os.makedirs(\"tokenized_data\", exist_ok=True)\n",
        "data_folder =\"/content/gdrive/MyDrive/Intro_NLP/Code/OCR/macBERT/Data/\"\n",
        "list_data_4_tokenizer = [\"tale-of-kieu-1902.txt\", \"luc-van-tien-nlvnpf-0059.txt\"]\n",
        "data_4_tokenizer = \"\"\n",
        "file_count = 0\n",
        "for file_name in list_data_4_tokenizer:\n",
        "  path = data_folder+file_name\n",
        "  f = open(path, \"r\")\n",
        "  content = f.readlines()\n",
        "  for line in content:\n",
        "    data_4_tokenizer += line.replace('\\n', '\\s')\n",
        "    if len(data_4_tokenizer) >= 4_500:\n",
        "        with open(f'./tokenized_data/text_{file_count}.txt', 'w', encoding='utf-8') as fp:\n",
        "                    fp.write('\\n'.join(data_4_tokenizer))\n",
        "        data_4_tokenizer = \"\"\n",
        "        file_count += 1\n",
        "with open(f'./tokenized_data/text_{file_count}.txt', 'w', encoding='utf-8') as fp:\n",
        "                    fp.write('\\n'.join(data_4_tokenizer))\n",
        "paths = [str(x) for x in Path('./tokenized_data').glob('**/*.txt')]\n",
        "paths[:5]"
      ]
    },
    {
      "cell_type": "code",
      "execution_count": null,
      "metadata": {
        "colab": {
          "base_uri": "https://localhost:8080/"
        },
        "id": "rC7bYjjkHrGZ",
        "outputId": "70360e9a-3ce5-4725-d7b8-d9a71e9fa867"
      },
      "outputs": [
        {
          "data": {
            "text/plain": [
              "['output/macbert4csc_adam/vocab.txt']"
            ]
          },
          "execution_count": 8,
          "metadata": {},
          "output_type": "execute_result"
        }
      ],
      "source": [
        "# initialize\n",
        "tokenizer = BertWordPieceTokenizer(\n",
        "    clean_text=True,\n",
        "    handle_chinese_chars=True,\n",
        "    strip_accents=False,\n",
        "    lowercase=False\n",
        ")\n",
        "# and train\n",
        "tokenizer.train(files=paths, vocab_size=6_000, min_frequency=0,\n",
        "                limit_alphabet=6_000, wordpieces_prefix='##',\n",
        "                special_tokens=[\n",
        "                    '[PAD]', '[UNK]', '[CLS]', '[SEP]', '[MASK]', \"[s]\", \"[/s]\"])\n",
        "\n",
        "os.makedirs(cfg.OUTPUT_DIR[0], exist_ok=True)\n",
        "tokenizer.save_model(cfg.OUTPUT_DIR[0])"
      ]
    },
    {
      "cell_type": "code",
      "execution_count": null,
      "metadata": {
        "colab": {
          "base_uri": "https://localhost:8080/"
        },
        "id": "5becwSjE-c-L",
        "outputId": "97159ee6-0650-4066-fc46-1c7d57116446"
      },
      "outputs": [
        {
          "name": "stderr",
          "output_type": "stream",
          "text": [
            "2023-01-02 08:06:52.367 | INFO     | __main__:<module>:2 - load model, model arch: macbert4csc\n",
            "Special tokens have been added in the vocabulary, make sure the associated word embeddings are fine-tuned or trained.\n",
            "Special tokens have been added in the vocabulary, make sure the associated word embeddings are fine-tuned or trained.\n"
          ]
        },
        {
          "name": "stdout",
          "output_type": "stream",
          "text": [
            "[2, 1197, 1185, 622, 2083, 1281, 3]\n",
            "新文堂藏板\n",
            "[CLS] 新 文 堂 藏 板 [SEP]\n"
          ]
        }
      ],
      "source": [
        "# Load tokenizer\n",
        "logger.info(f'load model, model arch: {cfg.MODEL.NAME}')\n",
        "tokenizer = BertTokenizerFast.from_pretrained(cfg.OUTPUT_DIR[0])\n",
        "\n",
        "test_string = '新文堂藏板'\n",
        "enc = tokenizer.encode(test_string)\n",
        "print(enc)\n",
        "dec = tokenizer.decode(enc)\n",
        "print(test_string)\n",
        "print(dec)"
      ]
    },
    {
      "cell_type": "code",
      "execution_count": null,
      "metadata": {
        "id": "J7G3CS8v9toN"
      },
      "outputs": [],
      "source": [
        "class DataCollator:\n",
        "    def __init__(self, tokenizer: BertTokenizerFast):\n",
        "        self.tokenizer = tokenizer\n",
        "\n",
        "    def __call__(self, data):\n",
        "        ori_texts, cor_texts, wrong_idss = zip(*data)\n",
        "        encoded_texts = [self.tokenizer(t, return_offsets_mapping=True, add_special_tokens=False) for t in ori_texts]\n",
        "        max_len = max([len(t['input_ids']) for t in encoded_texts]) + 2\n",
        "        det_labels = torch.zeros(len(ori_texts), max_len).long()\n",
        "\n",
        "        for i, (encoded_text, wrong_ids) in enumerate(zip(encoded_texts, wrong_idss)):\n",
        "            off_mapping = encoded_text['offset_mapping']\n",
        "            for idx in wrong_ids:\n",
        "                for j, (b, e) in enumerate(off_mapping):\n",
        "                    if b <= idx < e:\n",
        "                        # j+1 is because of the previous CLS token\n",
        "                        det_labels[i, j + 1] = 1\n",
        "                        break\n",
        "\n",
        "        return list(ori_texts), list(cor_texts), det_labels\n",
        "\n",
        "###### Change CscDataset class if the input format is changed       \n",
        "class CscDataset(Dataset):\n",
        "    def __init__(self, file_path):\n",
        "        # self.data = json.load(open(file_path, 'r', encoding='utf-8'))\n",
        "        self.data = pd.read_excel(file_path, keep_default_na=False)\n",
        "    def __len__(self):\n",
        "        return len(self.data)\n",
        "\n",
        "    def __getitem__(self, index):\n",
        "        # return self.data[index]['original_text'], self.data[index]['correct_text'], self.data[index]['wrong_ids']\n",
        "        lst_wrong_ids = str(self.data['wrong_ids'].iloc[index])\n",
        "        if len(lst_wrong_ids) > 0:\n",
        "          lst_wrong_ids = lst_wrong_ids.split(\" \")\n",
        "          return self.data['original_text'].iloc[index], self.data['correct_text'].iloc[index], [int(x) for x in lst_wrong_ids]\n",
        "        else:\n",
        "          return self.data['original_text'].iloc[index], self.data['correct_text'].iloc[index], []\n",
        "\n",
        "\n",
        "def make_loaders(collate_fn, train_path='', valid_path='', test_path='',\n",
        "                 batch_size=32, num_workers=4):\n",
        "    train_loader = None\n",
        "    if train_path and os.path.exists(train_path):\n",
        "        train_loader = DataLoader(CscDataset(train_path),\n",
        "                                  batch_size=batch_size,\n",
        "                                  shuffle=True,\n",
        "                                  num_workers=num_workers,\n",
        "                                  collate_fn=collate_fn)\n",
        "    valid_loader = None\n",
        "    if valid_path and os.path.exists(valid_path):\n",
        "        valid_loader = DataLoader(CscDataset(valid_path),\n",
        "                                  batch_size=batch_size,\n",
        "                                  num_workers=num_workers,\n",
        "                                  collate_fn=collate_fn)\n",
        "    test_loader = None\n",
        "    if test_path and os.path.exists(test_path):\n",
        "        test_loader = DataLoader(CscDataset(test_path),\n",
        "                                 batch_size=batch_size,\n",
        "                                 num_workers=num_workers,\n",
        "                                 collate_fn=collate_fn)\n",
        "    return train_loader, valid_loader, test_loader"
      ]
    },
    {
      "cell_type": "code",
      "execution_count": null,
      "metadata": {
        "colab": {
          "base_uri": "https://localhost:8080/"
        },
        "id": "eBLZji9GBl6n",
        "outputId": "16bcdf0e-edd0-4ed2-ba62-431f0cb4709e"
      },
      "outputs": [
        {
          "name": "stderr",
          "output_type": "stream",
          "text": [
            "/usr/local/lib/python3.8/dist-packages/torch/utils/data/dataloader.py:554: UserWarning: This DataLoader will create 4 worker processes in total. Our suggested max number of worker in current system is 2, which is smaller than what this DataLoader is going to create. Please be aware that excessive worker creation might get DataLoader running slow or even freeze, lower the worker number to avoid potential slowness/freeze if necessary.\n",
            "  warnings.warn(_create_warning_msg(\n"
          ]
        }
      ],
      "source": [
        "collator = DataCollator(tokenizer=tokenizer)\n",
        "# Load data\n",
        "train_loader, valid_loader, test_loader = make_loaders(collator, train_path=cfg.DATASETS.TRAIN,\n",
        "                                                        valid_path=cfg.DATASETS.VALID, test_path=cfg.DATASETS.TEST,\n",
        "                                                        batch_size=cfg.SOLVER.BATCH_SIZE, num_workers=4)"
      ]
    },
    {
      "cell_type": "code",
      "execution_count": null,
      "metadata": {
        "id": "2UPqKHiHuW08"
      },
      "outputs": [],
      "source": [
        "### Base model\n",
        "class BaseTrainingEngine(pl.LightningModule):\n",
        "    def __init__(self, cfg, *args, **kwargs):\n",
        "        super().__init__(*args, **kwargs)\n",
        "        self.cfg = cfg\n",
        "\n",
        "    def configure_optimizers(self):\n",
        "        optimizer = make_optimizer(self.cfg, self)\n",
        "        scheduler = build_lr_scheduler(self.cfg, optimizer)\n",
        "        return [optimizer], [scheduler]\n",
        "\n",
        "\n",
        "    def on_validation_epoch_start(self) -> None:\n",
        "        logger.info('Valid.')\n",
        "\n",
        "    def on_test_epoch_start(self) -> None:\n",
        "        logger.info('Testing...')\n",
        "\n",
        "\n",
        "class CscTrainingModel(BaseTrainingEngine, ABC):\n",
        "    \"\"\"\n",
        "        BaseModel for CSC, defines training and prediction steps\n",
        "        \"\"\"\n",
        "\n",
        "    def __init__(self, cfg, *args, **kwargs):\n",
        "        super().__init__(cfg, *args, **kwargs)\n",
        "        # loss weight\n",
        "        self.w = cfg.MODEL.HYPER_PARAMS[0]\n",
        "\n",
        "    def training_step(self, batch, batch_idx):\n",
        "        ori_text, cor_text, det_labels = batch\n",
        "\n",
        "        # print(f\"Original text: {len(ori_text)} - Correct text: {len(cor_text)} - Detection labels: {det_labels.shape}\")\n",
        "        sum_ori_word = 0\n",
        "        sum_cor_word = 0\n",
        "\n",
        "        for t in ori_text:\n",
        "          sum_ori_word += len(t)\n",
        "        for t in cor_text:\n",
        "          sum_cor_word += len(t)\n",
        "\n",
        "        # print(f\"Sum original text: {sum_ori_word} - Sum correct text: {sum_cor_word}\")\n",
        "        \n",
        "        outputs = self.forward(ori_text, cor_text, det_labels)\n",
        "        loss = self.w * outputs[1] + (1 - self.w) * outputs[0]\n",
        "        self.log('train_loss', loss, on_step=True, on_epoch=True, prog_bar=True, logger=True, batch_size=len(ori_text))\n",
        "        return loss\n",
        "\n",
        "    def validation_step(self, batch, batch_idx):\n",
        "        ori_text, cor_text, det_labels = batch\n",
        "        outputs = self.forward(ori_text, cor_text, det_labels)\n",
        "        loss = self.w * outputs[1] + (1 - self.w) * outputs[0]\n",
        "        det_y_hat = (outputs[2] > 0.5).long()\n",
        "        cor_y_hat = torch.argmax((outputs[3]), dim=-1)\n",
        "        encoded_x = self.tokenizer(cor_text, padding=True, return_tensors='pt')\n",
        "        encoded_x.to(self._device)\n",
        "        cor_y = encoded_x['input_ids']\n",
        "        cor_y_hat *= encoded_x['attention_mask']\n",
        "\n",
        "        results = []\n",
        "        det_acc_labels = []\n",
        "        cor_acc_labels = []\n",
        "        for src, tgt, predict, det_predict, det_label in zip(ori_text, cor_y, cor_y_hat, det_y_hat, det_labels):\n",
        "            _src = self.tokenizer(src, add_special_tokens=False)['input_ids']\n",
        "            _tgt = tgt[1:len(_src) + 1].cpu().numpy().tolist()\n",
        "            _predict = predict[1:len(_src) + 1].cpu().numpy().tolist()\n",
        "            cor_acc_labels.append(1 if operator.eq(_tgt, _predict) else 0)\n",
        "            det_acc_labels.append(det_predict[1:len(_src) + 1].equal(det_label[1:len(_src) + 1]))\n",
        "            results.append((_src, _tgt, _predict,))\n",
        "\n",
        "        return loss.cpu().item(), det_acc_labels, cor_acc_labels, results\n",
        "\n",
        "    def validation_epoch_end(self, outputs) -> None:\n",
        "        det_acc_labels = []\n",
        "        cor_acc_labels = []\n",
        "        results = []\n",
        "        for out in outputs:\n",
        "            det_acc_labels += out[1]\n",
        "            cor_acc_labels += out[2]\n",
        "            results += out[3]\n",
        "        loss = np.mean([out[0] for out in outputs])\n",
        "        self.log('val_loss', loss)\n",
        "        print(f'loss: {loss} - Detection acc: {np.mean(det_acc_labels):.4f} - Correction acc: {np.mean(cor_acc_labels):.4f}')\n",
        "        # print(f'Detection: acc: {np.mean(det_acc_labels):.4f}')\n",
        "        # print(f'Correction: acc: {np.mean(cor_acc_labels):.4f}')\n",
        "        dect_f1, cor_f1 = compute_corrector_prf(results, logger)\n",
        "        \n",
        "        _, _, _, senc_f1 = compute_sentence_level_prf(results, logger)\n",
        "        self.log('val_avg_f1', (dect_f1+cor_f1*2+senc_f1*3)/3)\n",
        "\n",
        "    def test_step(self, batch, batch_idx):\n",
        "        return self.validation_step(batch, batch_idx)\n",
        "\n",
        "    def test_epoch_end(self, outputs) -> None:\n",
        "        logger.info('Test.')\n",
        "        self.validation_epoch_end(outputs)\n",
        "\n",
        "    def predict(self, texts):\n",
        "        inputs = self.tokenizer(texts, padding=True, return_tensors='pt')\n",
        "        inputs.to(self.cfg.MODEL.DEVICE)\n",
        "        with torch.no_grad():\n",
        "            outputs = self.forward(texts)\n",
        "            y_hat = torch.argmax(outputs[1], dim=-1)\n",
        "            expand_text_lens = torch.sum(inputs['attention_mask'], dim=-1) - 1\n",
        "        rst = []\n",
        "        for t_len, _y_hat in zip(expand_text_lens, y_hat):\n",
        "            rst.append(self.tokenizer.decode(_y_hat[1:t_len]).replace(' ', ''))\n",
        "        return rst\n"
      ]
    },
    {
      "cell_type": "code",
      "execution_count": null,
      "metadata": {
        "id": "fcxkYoJT6wJQ"
      },
      "outputs": [],
      "source": [
        "### MacBert model\n",
        "class MacBert4Csc(CscTrainingModel, ABC):\n",
        "    def __init__(self, cfg, tokenizer):\n",
        "        super().__init__(cfg)\n",
        "        self.cfg = cfg\n",
        "        self.bert = BertForMaskedLM.from_pretrained(cfg.MODEL.BERT_CKPT)\n",
        "        self.detection = nn.Linear(self.bert.config.hidden_size, 1)\n",
        "        self.sigmoid = nn.Sigmoid()\n",
        "        self.tokenizer = tokenizer\n",
        "\n",
        "    def forward(self, texts, cor_labels=None, det_labels=None):\n",
        "        if cor_labels:\n",
        "            text_labels = self.tokenizer(cor_labels, padding=True, return_tensors='pt')['input_ids']\n",
        "            text_labels[text_labels == 0] = -100  # -100 is ignored when calculating \n",
        "            text_labels = text_labels.to(self.device)\n",
        "        else:\n",
        "            text_labels = None\n",
        "\n",
        "\n",
        "        encoded_text = self.tokenizer(texts, padding=True, return_tensors='pt')\n",
        "        encoded_text.to(self.device)\n",
        "\n",
        "        bert_outputs = self.bert(**encoded_text, labels=text_labels, return_dict=True, output_hidden_states=True)\n",
        "        # error detection probability\n",
        "        prob = self.detection(bert_outputs.hidden_states[-1])\n",
        "\n",
        "        if text_labels is None:\n",
        "            # error detection output, error correction output\n",
        "            outputs = (prob, bert_outputs.logits)\n",
        "        else:\n",
        "            det_loss_fct = FocalLoss(num_labels=None, activation_type='sigmoid')\n",
        "            # The pad part does not calculate the loss\n",
        "            active_loss = encoded_text['attention_mask'].view(-1, prob.shape[1]) == 1\n",
        "            active_probs = prob.view(-1, prob.shape[1])[active_loss]\n",
        "            active_labels = det_labels[active_loss]\n",
        "            det_loss = det_loss_fct(active_probs, active_labels.float())\n",
        "            # Error detection loss, error correction loss, error detection output, error correction output\n",
        "            outputs = (det_loss,\n",
        "                       bert_outputs.loss,\n",
        "                       self.sigmoid(prob).squeeze(-1),\n",
        "                       bert_outputs.logits)\n",
        "        return outputs"
      ]
    },
    {
      "cell_type": "code",
      "execution_count": null,
      "metadata": {
        "colab": {
          "base_uri": "https://localhost:8080/",
          "height": 1000,
          "referenced_widgets": [
            "27a01b678f26406fbaeb33af2e255c63",
            "08131f9d74944aec96d3549eb2ece0ff",
            "4bc96dbc700f4055ade523bbd6adf431",
            "6f6cd77f7b77443bb7e3b25e954c18f5",
            "420fa2b3db654790babfa715352aab68",
            "20417cb84d4e48348c4393399b2729ba",
            "6d373ed0cf0347dfb697a9a1cfc4667a",
            "8782724e4f014668bd7653ac27095272",
            "bb5f2f9a5b1b4708afcaa19d04eb7817",
            "d6749827aa82419f9e028873a8195021",
            "801ecbac4975447f94c49a3bd83de86b",
            "80ab2aafe44f4b7cb45151917e210738",
            "db98801ad3be4b0197a17b6e1f7383b5",
            "bf10299da4ff4a2a8bbc2906a2a14478",
            "e545784f713a453583789be88e816a66",
            "6d9bdb2fd5b9469ebb001659924c5b91",
            "5e1f94b1d0d044c49fe6f3eb26dc809e",
            "1e7e811acca145949a8c6ac69de9798a",
            "70c43675024d438e9eab48099bb12a11",
            "23ea6fcba1684a27af1902784da263e5",
            "4244903b93584d66a1e84b5ff2f3295d",
            "b6bf13b125e84ac3bf566b0f282d32b6",
            "92d85bbc82ee4911b2bf43e0dd4b4104",
            "91f5131209f84eaab0f26d31ab768c1f",
            "b80e1b420bb84bf3809bbb3c94d73c90",
            "b8bc0411083348b1be5c94aaab314a1e",
            "22f846808e934762809a745c54a7fbc8",
            "c8b23e5f379a478783bd317727a36bd7",
            "b7e240fc87a14749b4bf1057f7bcf018",
            "6484152baaeb4508bcb97f493b03e025",
            "6913b67107b84b08a233890132356d83",
            "c59676eec61647db9f6ccd4873de1b0b",
            "c5555aff308a4e7f8e1bb32065094180",
            "563ed7f3a12642528f2c33dc6ec6c4dc",
            "4c7ec451b6074e7c8e57e5416ed4470a",
            "4b7a0b8339f842b8bfe1e5370b272d3a",
            "64bade0c35ff41c7b15be52138d943c0",
            "797c5f5a4608425ba8bca010b8a7592d",
            "cb6b94e7754a4355b2aea18ed5ba5d53",
            "361c21608d9f4ed0b1029c65e8cdbbbd",
            "d0d2d8b1e5f94004a9640fb5e3fd2474",
            "0b766258625d46d0b8af6a2ad04eaa0c",
            "9486ad7ffe624e4685fbac764c0bdeb4",
            "2b24ea1aa21a478cb3271faac57c6748",
            "4e528e71ea174768ac656f535ae43f0d",
            "53a9bd8e732b41f5869c111ff60bf262",
            "ffe7f83555c74d3d8948213035ade445",
            "2b33f8543e9747228131eaeb4d2dcefc",
            "a12a789435b74ab3a1550fc36b54b128",
            "df4565438ee345968639aab5a92176e6",
            "23bcca609e6e4272bebad42b0eabceb9",
            "1c7e05f622ca4620a4d204c5d2190cc8",
            "7d103f64e9d44f8b85c224a935fe6c80",
            "3607f6a91c0a4c52a56df2a70fb13b83",
            "ca1b485dae0548ae9070ff056198e89a",
            "48cab65ea81b4a8b9bfd9b1ff5a9a9c0",
            "e178efe4342841f1a2f75bc6bbe4b5e2",
            "ec8dd61d7cb741aeadbbbe12289c9fc6",
            "a8d1fba111b14b06a1f6596767f6e891",
            "c15f259e0ef24800baa5cde786ac80d7",
            "b8b7abbb83eb440683e5ae688d77f39a",
            "e770cf43075d4b148770fc5e26e0adc3",
            "1449ef78ecdd4f609bcd1ada93a7c4ab",
            "24f179079fa149cdb6a06eacd674d7b2",
            "5d0777104847442cac65418727d3151f",
            "a032a899d5ab485aa16480a846cb8930",
            "383025b52ac542b284d8ff72267e23d4",
            "6ddd00e2283a400c8e39e77a7900f359",
            "75d2bd6931664cedb261c92cea5747f1",
            "8c51558fd13c4af49d429343de8c8495",
            "404783e57aa6404c81c1da60ed5b8fb4",
            "16ce6ac729354ffc9d4392e158a59ba0",
            "d8b714f974904e28b66feec3463799fb",
            "cfecd6adc8bf4a039fb8e7a26f8606f3",
            "927143b86b474fbd8d4d14f9510d80a5",
            "1968a46ad30c4d4da617af2828f25544",
            "5f79df99fa9f476bb231ec90979a4246",
            "5a1ada0836514f3bbbd2d74d09bf75c0",
            "89dae2a70e5c49b5b8739031bc4e1bbe",
            "65d039be4d714ce080b7761611908ad9",
            "38c399714e3f4ea796c3e7f8c83d5ace",
            "955081d976614ac38cd372d2810e09e3",
            "621370fa184f4c82a90c6d433ef86979",
            "abfb97e78666471fa85f523a1b0c69cb",
            "6075a2e4785d417390d010d644ed809f",
            "132951335b544fcd87cba953cd5a81b8",
            "2c1332a5b51c4b07a49f32cac749d3d3",
            "691d01a85d19484c8119818acf106e4b",
            "8c2a7c93006848fba8d8c865799fbfdc",
            "a4dc9a690c6d49dba1c569923c24e703",
            "c36a773d948545838b6d8bc09cea78b2",
            "58d95e199f8244868bfa13598a244be7",
            "b3ea757f602b4d8bb9d1e6cbcae5f648",
            "0d03ca963cae42dd8a3b9e9e1eba4a78",
            "3ed76567870c458980d7e634892321a8",
            "506bd14ee69544d1bf0e45417c2d2e55",
            "5be32d0210b64fac9c8f27db99df1839",
            "49d592802a3a4096b2091c584a6bbb6e",
            "5b70bfb971584a1faf5f79b0810c4f1b",
            "89aac38493234225a800c459d54445e8",
            "e2f1ffb5d1834d4fa8519576d9667a4d",
            "1012f5a5037141618e625bb32f6141a0",
            "7586e5454b8241e3a63a9c22930754cf",
            "734ceb7e06694a3daa7c9ed4880fdecd",
            "b790e499cee84593879eb7139617290d",
            "856e75f33c7940b39f0a833c765faf4e",
            "a677bc4eb7af41808249f50b189a8f88",
            "a87c988a3fb540c6b80c9b228073ed14",
            "6786cd42e20d4a169dde0898db0550af",
            "d51655dab0cb4f5fadb768272e947fe2",
            "2eebdedb88ba4f43af553fdb6d04ba5e",
            "f262db57d9344de1af333674aaccd9fb",
            "a7c184e2866e426cbe8dd5a17b259c38",
            "722a437d21134eaeac030b8d2c075d1f",
            "e658bccb66e24669a64d557241ef0ef5",
            "27962c374a36427d918dd2bc1b0dde53",
            "6a4d86077f69474f9e5df617e687d089",
            "4dfbe630b36b42d3a03788b28fd1bb85",
            "e0f3c5d2b9234282aa74fc3f497966ca",
            "8ed66fcdf3414053a1ff5fd79704813b",
            "092771dcfe5942f991e33a3d8a4293dd",
            "2af774fe31264345a8a6fc3047fea64e",
            "05a5bd35523349c3870d120c96845a51",
            "6180c5b10ed948e2bd47d321722e4d80",
            "699579ffc7914f1fa58c8e1626fc86cc",
            "419ba40c8b074531bfe4901c8ea5a31c",
            "e97eb9cc7dc44d17888121e836f1cbeb",
            "4a2f5abbc3004bfba3982350ecf836b6",
            "e84987f404b54b8998b8681cfb44e7b4",
            "b4d6ebbda0a7477f810242e14ebda227",
            "678d9296f91f4af99caa686877f89b17",
            "1f166fd80fd44998b80ed947e59f4d80",
            "20d9fba5b43c49a68ef6a332aede0bf7",
            "1a52679f7dfa413ab8f84fc1baeb76d3",
            "9a50367aa9f940529b5672d5a383f9b5",
            "b8f32721588a45dbb6b731d78f6c43a3",
            "090e179fd52a406db446b6e2027843ab",
            "15d87024e1604dc09614df88e9412736",
            "831ae31075e245da95d152784ceb2910",
            "fabe9641baf64898a8b53a99a0675fa5",
            "27257bd52f644d64bc9b28ed250f42bd",
            "14013e7e23a7431189baba58a8f804b1",
            "696cf1a663cf483aabb6944183e7771d",
            "97aa9d9b4107458a84e3042400f907ab",
            "e95e1dffa71e4b3d81bb7a4354b226d6",
            "9dda6f4b1700404b93c5fb8483ad6b82",
            "f0657370636a4d3294a4b4214715cb1a",
            "bfe61ceefd0f489b8abce46d205e8681",
            "3c90164f3e1d4400bd0afdd5908ac7c3",
            "014bb4f90db5489db42e19d147befafb",
            "afb6b6428b544bd6b4aa0cf6950f428b",
            "b6139646108045af96f96b907bba54e0",
            "4d15986da06e46129fbd9201e41d1076",
            "90469d2fa6934962ba077bd1734cbe4b",
            "386edacf4c1642b98afae9330df7eef1",
            "49dcaefdff6e4b4ebc4d7a681827623d",
            "f1c4e924b4f24df38347b0939542a3dd",
            "882f56f6653e4006a0295089c58a36d3",
            "b130c6e390694d3daaeba6f2724933a9",
            "77d5e7c6bbc1493192caa5c057bc7762",
            "d3c370f31ce841e6b7cbf18c5da32cea",
            "7882a82a89494206b3414bd99540ae5d",
            "1ba8daad18dd4ecf943b6637bffc0b58",
            "63e24f69df4344cb92847acd3ab340dd",
            "17a289944756410f94264580c3947283",
            "a1af67f246e94799b9db6f24a2385fe0",
            "0f1917c53e3f42459e625e797ee67c5b",
            "ee0a2b045a5a4e4e88c1c52082a76cc5",
            "3c0f420fa79d4f139d3acd4386010f5c",
            "bf7b0aff67d14ae1b1aedcf16a8c0657",
            "3fda2cf443ae48e8893c344ed5f583a0",
            "9558e0d89a0545abafccb0e90346293a",
            "6d73b56911d648c8ad2f44d6ce24655b",
            "8cdc9fc7eeca457cb796f3930a13ac45",
            "4489532b401541f88f3eacacebccb751",
            "11576be4035f47948bfa712230401a3a",
            "a505ebac3db14a309a6df991fd97a091",
            "871fa635d77840888ca3636709c35d05",
            "0e1f46f4eaee4cf2a407e07dda13f430",
            "0e1a0ebfb5714f38b43206657e1e4529",
            "7707d16e51c74049af697099a68ca72b",
            "b07b362ca73f412ba4f16876e18bde77",
            "21b3f9aefee342a4b0b2d66f257c1bc9",
            "52ddc0d77ad8409696c35c573fe9a123",
            "067b4666670f47cf96ea28f23e0306bd",
            "a0c30356810b4eeda80cb07346b73013",
            "6f9b9be9a3b24022ada0aac4e5653c1c",
            "60f79e99c7a4472abe4c6ffefaf560fa",
            "4bf324a0f60641d6b27c7b0130456310",
            "da82911f91564a1e90305c61865acc79",
            "86da83ee291b40dcba5b98fb7a78edb7",
            "a4caac93cdd84819aa5f9a0d64f8d416",
            "d85b2558c5c6404998c27c3c823b065c",
            "2399dfb0514b4151a53b5a46e965cf81",
            "5efc82864ec14453bdc880f2c13808c8",
            "24992297b66946788512ed7e59cd17b4",
            "4eb9c4ae30454c81a78863add1ab027e",
            "955dc1181db847e3a06094a1e770eccd",
            "d736bb8f2f3444c7a6bd860d78352637",
            "0a14bfdea3844eeaaa0ad426ffd99ec9",
            "5acbb12b9ab640aab706c670089f6193",
            "d6c41a57b61c49a6bee1ce3be2cd1bc1",
            "94455da63d434a6782e4c90ccf6ec742",
            "6317e20cf938457da7a79769c6a41b05",
            "10f9080b4edc4cb9a7524e927c42629d",
            "26952a57aaec44b6a52c9483f893052e",
            "5672b91ffe6043828eafacbbd107e6e5",
            "829bf40e71ca427faa6ba91df6b7ac77",
            "6cf8515e23fc4b06889e77d21ba4b090",
            "82976ba0a8364bf980da97e45668c44a",
            "ac63787fe5514a51baccf82594c50422",
            "8b075d06965a48df9fc8f99e6bbfd97a",
            "4a92ca010cd24c0aa0712ba72da36f3d",
            "16762e77c1a448259df8ad9bf060945e",
            "100f4fafaccc423ab59bc831d11ef0e8",
            "66fab5aad083446b98447d3d0ae5f108",
            "4c989004e517466891477e18ee37be6f",
            "1a9f662098a04d70bb1e80dc33e037f3",
            "0710b36150064694892ce012a3dbce51",
            "f440d8f51aba40b09d60d7335cff15f4",
            "531a6c8d3732477b8ca5616a42ff88e8",
            "1074171db5334988b4712fb255f0b5d1",
            "155db524603a43209fe6ef609db3d255",
            "df80f2814c9c4b918a5b35297d1507cf",
            "cd02d7667a2545c687a09b4c4ed2997f",
            "3d4ddcc3809848d2b6b045f0b8f22767",
            "cf8644c027f24499be470ed09e130637",
            "630246524c9a42d19d228fd950ec1691",
            "eb267296980248f682198c4b80451e39",
            "23ce204942874cfbaae08d4d21f64033",
            "b796ac5caa774847a219e3532806e68f",
            "249ba463b59c42c591c6c8a5092cef11",
            "a8138997026341ae878922e9a12d8933",
            "074058a644954588bc5c32b186a3771f",
            "975a8d1106af41daa01436ed7fca3919",
            "352bca4d59b24c178cbc600353866957",
            "a2bd690f2ca5426b9f77cad73e8a11da",
            "4ebc95d5bf9f476ab59ed1c89f8044d7",
            "69a49e3802a245a18fdb651fd67fb146",
            "bdb84189de9749ddaec226362196ea40",
            "c3aa053074df471c83b644def38fd8e7",
            "abebd96a8c5b47aa9989f21e7da5a8a8",
            "df217918e40d47b79ef7c3f48b0e7dfd",
            "5af965bb69ed464486937a001d582d3e",
            "a487cdd431f14879bec156ff694cdda6",
            "a7655b7b96c84f8e863266f764991588",
            "e259806197084d2194407de08c479168",
            "c45eae9fbf2642189ff5d2096ede420a",
            "22e186da9fe44537b4c0eb96dadc0c92",
            "a6d09c33ac3d4028b26168a2ef8e88c0",
            "77577ab4bbbb4eb480514dfe8604e948",
            "c5eee0d445e343d0a60d50967787d982",
            "b47b307cbf9b4b478ef7cf1b0bda5485",
            "5be082770b4642af888510cb8bc2b5d1",
            "728e2a8f36574f1d9bc579f0315d0ded",
            "86a5da5a6df54a7882e588345a6f49d9",
            "79d10eeb3f694306a3a56e1b7e4f077a",
            "2bf9be620359476092881ba5d99f29e7",
            "5c46e22e62864df2b53d288d2d71a618",
            "eed7d17d1aa246b99e2ac319038c8951",
            "abf03d4767dc4fc28f1ad089cde897cb",
            "ec1c41c1191d41b2ba555d5b174cbff7",
            "7623f52b42f746bc8406677e7ea8cc9b",
            "71bc0cb0e477464aae8d7b2b9c7c7d12",
            "9ec07895cd1e4383b0cf85ae16652054",
            "f6523f76cb864eaf89926bcb3ea43a9c",
            "fd85330d8480466288c4dafd71015cbb",
            "8eb97d489da44c20a2c304bbb1ef090d",
            "0bf17781248240e0a4a591c597a57e24",
            "596f94cca5284b9e8585b1360126be20",
            "43bcea156d914c9b93a61ff4d331fcc3",
            "a5a22852678c4e6ea10fe61803953334",
            "d96b5a32a3f344f3a215cbc8bbcb9845",
            "baaa80246c12467390b10ee5867537b6",
            "1dc50fe5a3b24d338c62529aafd43ca1",
            "beadb5052f38498eb6d249303bec0295",
            "67e75884c6924188b595369b2ca34645",
            "646b3c1c22a14bb481a8d21583755872",
            "2523b9affd1c468da67e4b9d548b9f3e",
            "c41b255ca69446f39085eb6b15b4b355",
            "46f98a35c82e478e8d9925d8484281a7",
            "df49913dccb3489ea54be641aa5aa699",
            "e2f9348ec4bc4542adfedf3a4bfba010",
            "a6382051559940d2a7266f39251b04a2",
            "c11261f5d06b426ab4eaac9541af83cf",
            "1f58364c467d4291b5d01c6fdf4e6ce5",
            "8245ef1cc93e4f219d21cec1dfcbdfcf",
            "9a03e9236c5e4b8fa104bc2f4c1e96f5",
            "5d73a77d47084fa9b5ac6fd4b2091199",
            "aff58385170f4d718bbb25c09b8716fd",
            "5177eb6f52f744d4a0aba35da7bdd7b1",
            "2854641280be40dfa1c17290c2567f03",
            "6bc7d0b1e5d747faae62a138d03d8103",
            "8719eb6e45854f129e2c5533ff4c580d",
            "f5fdc0b7f3a5467e868fbf5d3bc35877",
            "4594fdb512f741399c515171105054a0",
            "c96ec38658a443578a2e47723b086f0b",
            "ff261ae15fa3408c8a237db3575ed900",
            "88da8112b2034d12accbb0a415e03f36",
            "ef73ea45d5eb468ea400938bcbcb87e9",
            "5e28a5e94666469ea8eb805c4a5d57e7",
            "2a64e4ffa51845fd8c83c081ef3964ad",
            "2edf637a8fee41a0a81ed0dffa28ba82",
            "7901ae21ad3d4c9490f80a608cad3436",
            "9862dbe4c1804109b379b1f41004afdc",
            "1c363113b87f4137bac452806b63d342",
            "cea0f14d1c214fc8a44b006efb20be8f",
            "0894277cd8f7498ca5edf541318dd83c",
            "7172cbbb12124e94aed7223e70055f4b",
            "4fc7006cb4484dec806e0f020e166dde",
            "2360ea6d5a8d4e09ba8f3020f127d3bf",
            "6aec71d001a84f8f9d32f3387a1904b0",
            "0106d5eed5964b1db2bee8a78b5eaecd",
            "482710c14c844bb0b21c8b3dc7d0ca98",
            "f2f9f5b5eddf44a99c1a449e6d15bc50",
            "2d3f650386e94d089724b1260f9870f8",
            "b8debf977e9343f3ace87a653ff26b76",
            "871eac16cd9c4510b025c095926419c6",
            "6876f981487346ca94e3132566707610",
            "a8dfc989771f420ea096849b1e243730",
            "72389019a79c45eca73f2ba3254a6ad6",
            "f31190d104744b159601f3b593439e67",
            "872259b47daa40a48870219263aa8379",
            "74de0bb38b18480ba653de0fde7f4a61",
            "63010f6c81604db8876e5a5a5ad8db07",
            "d1fd5fb0d29f491caedc3dccb23373ff",
            "483b197925174a16ae91dbe0983f32b0",
            "734b632cbd664e9386c2beb1235428b0",
            "a693014bdb4240d7ba0279d0d13dfc0b",
            "56c1c1506f8d4811b3c7a7c9c789bb19",
            "7e948e20475b4af7ad3d68b20d1301cc",
            "f1a19fae4e67463085b5c3db1de52297",
            "5c67421d593c44d697bd7322b38dec6d",
            "1da4708f8f5f49edb44445c0c29256cc",
            "cf26072006e24d01895372b18e8b903f",
            "cc6074e59f194222895eb5426640c61b",
            "f0eb8a20e2744c0994dde5f8736e9e27",
            "35bccf74ec5548ae909159d5ea48c274",
            "38aee8e2ea334379ad0c9825e166b635",
            "e8431ec196554a2b96103293e046474f",
            "4e3dcac4e5a14356a1522ee7dcd5e596",
            "39f12043baf4452fbb54b0c134ad35cf",
            "62914bff8131429db082072771f5d892"
          ]
        },
        "id": "gJBbJ31UIpqx",
        "outputId": "c2eae16e-2e98-4ddd-d648-790cb05e8665"
      },
      "outputs": [
        {
          "data": {
            "application/vnd.jupyter.widget-view+json": {
              "model_id": "27a01b678f26406fbaeb33af2e255c63",
              "version_major": 2,
              "version_minor": 0
            },
            "text/plain": [
              "Downloading:   0%|          | 0.00/659 [00:00<?, ?B/s]"
            ]
          },
          "metadata": {},
          "output_type": "display_data"
        },
        {
          "data": {
            "application/vnd.jupyter.widget-view+json": {
              "model_id": "80ab2aafe44f4b7cb45151917e210738",
              "version_major": 2,
              "version_minor": 0
            },
            "text/plain": [
              "Downloading:   0%|          | 0.00/412M [00:00<?, ?B/s]"
            ]
          },
          "metadata": {},
          "output_type": "display_data"
        },
        {
          "metadata": {
            "tags": null
          },
          "name": "stderr",
          "output_type": "stream",
          "text": [
            "Some weights of the model checkpoint at hfl/chinese-macbert-base were not used when initializing BertForMaskedLM: ['cls.seq_relationship.bias', 'cls.seq_relationship.weight']\n",
            "- This IS expected if you are initializing BertForMaskedLM from the checkpoint of a model trained on another task or with another architecture (e.g. initializing a BertForSequenceClassification model from a BertForPreTraining model).\n",
            "- This IS NOT expected if you are initializing BertForMaskedLM from the checkpoint of a model that you expect to be exactly identical (initializing a BertForSequenceClassification model from a BertForSequenceClassification model).\n",
            "2023-01-02 08:07:27.733 | INFO     | __main__:<module>:21 - train model ...\n",
            "/usr/local/lib/python3.8/dist-packages/pytorch_lightning/trainer/connectors/accelerator_connector.py:441: LightningDeprecationWarning: Setting `Trainer(gpus=[0])` is deprecated in v1.7 and will be removed in v2.0. Please use `Trainer(accelerator='gpu', devices=[0])` instead.\n",
            "  rank_zero_deprecation(\n",
            "INFO:pytorch_lightning.utilities.rank_zero:GPU available: True (cuda), used: True\n",
            "INFO:pytorch_lightning.utilities.rank_zero:TPU available: False, using: 0 TPU cores\n",
            "INFO:pytorch_lightning.utilities.rank_zero:IPU available: False, using: 0 IPUs\n",
            "INFO:pytorch_lightning.utilities.rank_zero:HPU available: False, using: 0 HPUs\n",
            "WARNING:pytorch_lightning.loggers.tensorboard:Missing logger folder: /content/lightning_logs\n",
            "/usr/local/lib/python3.8/dist-packages/pytorch_lightning/callbacks/model_checkpoint.py:604: UserWarning: Checkpoint directory /content/output/macbert4csc_adam exists and is not empty.\n",
            "  rank_zero_warn(f\"Checkpoint directory {dirpath} exists and is not empty.\")\n",
            "INFO:pytorch_lightning.accelerators.cuda:LOCAL_RANK: 0 - CUDA_VISIBLE_DEVICES: [0]\n",
            "INFO:pytorch_lightning.callbacks.model_summary:\n",
            "  | Name      | Type            | Params\n",
            "----------------------------------------------\n",
            "0 | bert      | BertForMaskedLM | 102 M \n",
            "1 | detection | Linear          | 769   \n",
            "2 | sigmoid   | Sigmoid         | 0     \n",
            "----------------------------------------------\n",
            "102 M     Trainable params\n",
            "0         Non-trainable params\n",
            "102 M     Total params\n",
            "409.164   Total estimated model params size (MB)\n"
          ]
        },
        {
          "data": {
            "application/vnd.jupyter.widget-view+json": {
              "model_id": "92d85bbc82ee4911b2bf43e0dd4b4104",
              "version_major": 2,
              "version_minor": 0
            },
            "text/plain": [
              "Sanity Checking: 0it [00:00, ?it/s]"
            ]
          },
          "metadata": {},
          "output_type": "display_data"
        },
        {
          "metadata": {
            "tags": null
          },
          "name": "stderr",
          "output_type": "stream",
          "text": [
            "2023-01-02 08:07:34.414 | INFO     | __main__:on_validation_epoch_start:14 - Valid.\n"
          ]
        },
        {
          "metadata": {
            "tags": null
          },
          "name": "stdout",
          "output_type": "stream",
          "text": [
            "loss: 2.2874581813812256 - Detection acc: 0.0195 - Correction acc: 0.0117\n",
            "Detection: precision=0.10986964618249534, recall=0.6820809248554913 and F1=0.18925421010425023\n",
            "Correction: precision=0.0, recall=0.0 and F1=0\n",
            "Sentence Level: acc:0.011719, precision:0.000000, recall:0.000000, f1:0.000000\n"
          ]
        },
        {
          "data": {
            "application/vnd.jupyter.widget-view+json": {
              "model_id": "563ed7f3a12642528f2c33dc6ec6c4dc",
              "version_major": 2,
              "version_minor": 0
            },
            "text/plain": [
              "Training: 0it [00:00, ?it/s]"
            ]
          },
          "metadata": {},
          "output_type": "display_data"
        },
        {
          "data": {
            "application/vnd.jupyter.widget-view+json": {
              "model_id": "4e528e71ea174768ac656f535ae43f0d",
              "version_major": 2,
              "version_minor": 0
            },
            "text/plain": [
              "Validation: 0it [00:00, ?it/s]"
            ]
          },
          "metadata": {},
          "output_type": "display_data"
        },
        {
          "metadata": {
            "tags": null
          },
          "name": "stderr",
          "output_type": "stream",
          "text": [
            "2023-01-02 08:08:50.429 | INFO     | __main__:on_validation_epoch_start:14 - Valid.\n"
          ]
        },
        {
          "metadata": {
            "tags": null
          },
          "name": "stdout",
          "output_type": "stream",
          "text": [
            "loss: 0.29127040776339447 - Detection acc: 0.4949 - Correction acc: 0.4077\n",
            "Detection: precision=0.1046831955922865, recall=0.009341199606686333 and F1=0.01715188445046265\n",
            "Correction: precision=0.07894736842105263, recall=0.05454545454545454 and F1=0.06451612903225806\n",
            "Sentence Level: acc:0.407713, precision:0.014184, recall:0.000632, f1:0.001210\n"
          ]
        },
        {
          "data": {
            "application/vnd.jupyter.widget-view+json": {
              "model_id": "48cab65ea81b4a8b9bfd9b1ff5a9a9c0",
              "version_major": 2,
              "version_minor": 0
            },
            "text/plain": [
              "Validation: 0it [00:00, ?it/s]"
            ]
          },
          "metadata": {},
          "output_type": "display_data"
        },
        {
          "metadata": {
            "tags": null
          },
          "name": "stderr",
          "output_type": "stream",
          "text": [
            "2023-01-02 08:10:22.278 | INFO     | __main__:on_validation_epoch_start:14 - Valid.\n"
          ]
        },
        {
          "metadata": {
            "tags": null
          },
          "name": "stdout",
          "output_type": "stream",
          "text": [
            "loss: 0.2333024272864515 - Detection acc: 0.4949 - Correction acc: 0.4359\n",
            "Detection: precision=0.5691937424789411, recall=0.11627335299901671 and F1=0.1931006327822004\n",
            "Correction: precision=0.7145877378435518, recall=0.5059880239520959 and F1=0.5924627519719544\n",
            "Sentence Level: acc:0.435874, precision:0.531250, recall:0.053712, f1:0.097561\n"
          ]
        },
        {
          "data": {
            "application/vnd.jupyter.widget-view+json": {
              "model_id": "383025b52ac542b284d8ff72267e23d4",
              "version_major": 2,
              "version_minor": 0
            },
            "text/plain": [
              "Validation: 0it [00:00, ?it/s]"
            ]
          },
          "metadata": {},
          "output_type": "display_data"
        },
        {
          "metadata": {
            "tags": null
          },
          "name": "stderr",
          "output_type": "stream",
          "text": [
            "2023-01-02 08:11:55.466 | INFO     | __main__:on_validation_epoch_start:14 - Valid.\n"
          ]
        },
        {
          "metadata": {
            "tags": null
          },
          "name": "stdout",
          "output_type": "stream",
          "text": [
            "loss: 0.2041092145849358 - Detection acc: 0.4949 - Correction acc: 0.4497\n",
            "Detection: precision=0.616580310880829, recall=0.20476892822025566 and F1=0.30743679645691085\n",
            "Correction: precision=0.7202881152460985, recall=0.5217391304347826 and F1=0.605143721633888\n",
            "Sentence Level: acc:0.449686, precision:0.594542, recall:0.096367, f1:0.165851\n"
          ]
        },
        {
          "data": {
            "application/vnd.jupyter.widget-view+json": {
              "model_id": "6ddd00e2283a400c8e39e77a7900f359",
              "version_major": 2,
              "version_minor": 0
            },
            "text/plain": [
              "Validation: 0it [00:00, ?it/s]"
            ]
          },
          "metadata": {},
          "output_type": "display_data"
        },
        {
          "metadata": {
            "tags": null
          },
          "name": "stderr",
          "output_type": "stream",
          "text": [
            "2023-01-02 08:13:29.354 | INFO     | __main__:on_validation_epoch_start:14 - Valid.\n"
          ]
        },
        {
          "metadata": {
            "tags": null
          },
          "name": "stdout",
          "output_type": "stream",
          "text": [
            "loss: 0.1863356777890162 - Detection acc: 0.4949 - Correction acc: 0.4509\n",
            "Detection: precision=0.5905218317358892, recall=0.2726155358898722 and F1=0.3730238816010764\n",
            "Correction: precision=0.7006311992786294, recall=0.5289312457454051 and F1=0.6027928626842514\n",
            "Sentence Level: acc:0.450942, precision:0.574074, recall:0.127330, f1:0.208430\n"
          ]
        },
        {
          "data": {
            "application/vnd.jupyter.widget-view+json": {
              "model_id": "75d2bd6931664cedb261c92cea5747f1",
              "version_major": 2,
              "version_minor": 0
            },
            "text/plain": [
              "Validation: 0it [00:00, ?it/s]"
            ]
          },
          "metadata": {},
          "output_type": "display_data"
        },
        {
          "metadata": {
            "tags": null
          },
          "name": "stderr",
          "output_type": "stream",
          "text": [
            "2023-01-02 08:15:03.988 | INFO     | __main__:on_validation_epoch_start:14 - Valid.\n"
          ]
        },
        {
          "metadata": {
            "tags": null
          },
          "name": "stdout",
          "output_type": "stream",
          "text": [
            "loss: 0.17406324144791474 - Detection acc: 0.4949 - Correction acc: 0.4481\n",
            "Detection: precision=0.5802304964539007, recall=0.321779744346116 and F1=0.41397849462365593\n",
            "Correction: precision=0.666157372039725, recall=0.511137162954279 and F1=0.578441127694859\n",
            "Sentence Level: acc:0.448072, precision:0.554726, recall:0.140916, f1:0.224742\n"
          ]
        },
        {
          "data": {
            "application/vnd.jupyter.widget-view+json": {
              "model_id": "8c51558fd13c4af49d429343de8c8495",
              "version_major": 2,
              "version_minor": 0
            },
            "text/plain": [
              "Validation: 0it [00:00, ?it/s]"
            ]
          },
          "metadata": {},
          "output_type": "display_data"
        },
        {
          "metadata": {
            "tags": null
          },
          "name": "stderr",
          "output_type": "stream",
          "text": [
            "2023-01-02 08:16:38.113 | INFO     | __main__:on_validation_epoch_start:14 - Valid.\n"
          ]
        },
        {
          "metadata": {
            "tags": null
          },
          "name": "stdout",
          "output_type": "stream",
          "text": [
            "loss: 0.16455941664224322 - Detection acc: 0.4949 - Correction acc: 0.4391\n",
            "Detection: precision=0.5588703261734288, recall=0.34537856440511305 and F1=0.4269219082345791\n",
            "Correction: precision=0.6519572953736655, recall=0.5038503850385039 and F1=0.5684145206329507\n",
            "Sentence Level: acc:0.439103, precision:0.521493, recall:0.145656, f1:0.227711\n"
          ]
        },
        {
          "data": {
            "application/vnd.jupyter.widget-view+json": {
              "model_id": "404783e57aa6404c81c1da60ed5b8fb4",
              "version_major": 2,
              "version_minor": 0
            },
            "text/plain": [
              "Validation: 0it [00:00, ?it/s]"
            ]
          },
          "metadata": {},
          "output_type": "display_data"
        },
        {
          "metadata": {
            "tags": null
          },
          "name": "stderr",
          "output_type": "stream",
          "text": [
            "2023-01-02 08:18:11.754 | INFO     | __main__:on_validation_epoch_start:14 - Valid.\n"
          ]
        },
        {
          "metadata": {
            "tags": null
          },
          "name": "stdout",
          "output_type": "stream",
          "text": [
            "loss: 0.1562227296896956 - Detection acc: 0.4949 - Correction acc: 0.4425\n",
            "Detection: precision=0.5672023374726077, recall=0.38176007866273354 and F1=0.45636203349985305\n",
            "Correction: precision=0.6580811332904056, recall=0.5195729537366548 and F1=0.5806818181818181\n",
            "Sentence Level: acc:0.442511, precision:0.529657, recall:0.160821, f1:0.246728\n"
          ]
        },
        {
          "data": {
            "application/vnd.jupyter.widget-view+json": {
              "model_id": "16ce6ac729354ffc9d4392e158a59ba0",
              "version_major": 2,
              "version_minor": 0
            },
            "text/plain": [
              "Validation: 0it [00:00, ?it/s]"
            ]
          },
          "metadata": {},
          "output_type": "display_data"
        },
        {
          "metadata": {
            "tags": null
          },
          "name": "stderr",
          "output_type": "stream",
          "text": [
            "2023-01-02 08:19:45.852 | INFO     | __main__:on_validation_epoch_start:14 - Valid.\n"
          ]
        },
        {
          "metadata": {
            "tags": null
          },
          "name": "stdout",
          "output_type": "stream",
          "text": [
            "loss: 0.15160626342350786 - Detection acc: 0.4967 - Correction acc: 0.4366\n",
            "Detection: precision=0.5379377431906615, recall=0.4078171091445428 and F1=0.4639261744966443\n",
            "Correction: precision=0.648583484026522, recall=0.5131139723414402 and F1=0.5729499467518636\n",
            "Sentence Level: acc:0.436592, precision:0.511342, recall:0.170932, f1:0.256216\n"
          ]
        },
        {
          "data": {
            "application/vnd.jupyter.widget-view+json": {
              "model_id": "d8b714f974904e28b66feec3463799fb",
              "version_major": 2,
              "version_minor": 0
            },
            "text/plain": [
              "Validation: 0it [00:00, ?it/s]"
            ]
          },
          "metadata": {},
          "output_type": "display_data"
        },
        {
          "metadata": {
            "tags": null
          },
          "name": "stderr",
          "output_type": "stream",
          "text": [
            "2023-01-02 08:21:19.022 | INFO     | __main__:on_validation_epoch_start:14 - Valid.\n"
          ]
        },
        {
          "metadata": {
            "tags": null
          },
          "name": "stdout",
          "output_type": "stream",
          "text": [
            "loss: 0.15160006132315507 - Detection acc: 0.5026 - Correction acc: 0.4328\n",
            "Detection: precision=0.5314861460957179, recall=0.41494591937069814 and F1=0.46604086140254003\n",
            "Correction: precision=0.6451421800947867, recall=0.510548523206751 and F1=0.5700078513478147\n",
            "Sentence Level: acc:0.432825, precision:0.501419, recall:0.167457, f1:0.251066\n"
          ]
        },
        {
          "data": {
            "application/vnd.jupyter.widget-view+json": {
              "model_id": "cfecd6adc8bf4a039fb8e7a26f8606f3",
              "version_major": 2,
              "version_minor": 0
            },
            "text/plain": [
              "Validation: 0it [00:00, ?it/s]"
            ]
          },
          "metadata": {},
          "output_type": "display_data"
        },
        {
          "metadata": {
            "tags": null
          },
          "name": "stderr",
          "output_type": "stream",
          "text": [
            "2023-01-02 08:22:43.222 | INFO     | __main__:on_validation_epoch_start:14 - Valid.\n"
          ]
        },
        {
          "metadata": {
            "tags": null
          },
          "name": "stdout",
          "output_type": "stream",
          "text": [
            "loss: 0.14683302254839378 - Detection acc: 0.5230 - Correction acc: 0.4317\n",
            "Detection: precision=0.5354691075514875, recall=0.46017699115044247 and F1=0.4949762030671602\n",
            "Correction: precision=0.6340811965811965, recall=0.5120793787748059 and F1=0.5665871121718378\n",
            "Sentence Level: acc:0.431749, precision:0.498710, recall:0.183254, f1:0.268022\n"
          ]
        },
        {
          "data": {
            "application/vnd.jupyter.widget-view+json": {
              "model_id": "927143b86b474fbd8d4d14f9510d80a5",
              "version_major": 2,
              "version_minor": 0
            },
            "text/plain": [
              "Validation: 0it [00:00, ?it/s]"
            ]
          },
          "metadata": {},
          "output_type": "display_data"
        },
        {
          "metadata": {
            "tags": null
          },
          "name": "stderr",
          "output_type": "stream",
          "text": [
            "2023-01-02 08:24:17.604 | INFO     | __main__:on_validation_epoch_start:14 - Valid.\n"
          ]
        },
        {
          "metadata": {
            "tags": null
          },
          "name": "stdout",
          "output_type": "stream",
          "text": [
            "loss: 0.14596859382634814 - Detection acc: 0.5290 - Correction acc: 0.4283\n",
            "Detection: precision=0.5186597657314084, recall=0.46804326450344147 and F1=0.49205323685230645\n",
            "Correction: precision=0.6601890756302521, recall=0.5351213282247765 and F1=0.5911121561250883\n",
            "Sentence Level: acc:0.428341, precision:0.491028, recall:0.190205, f1:0.274197\n"
          ]
        },
        {
          "data": {
            "application/vnd.jupyter.widget-view+json": {
              "model_id": "1968a46ad30c4d4da617af2828f25544",
              "version_major": 2,
              "version_minor": 0
            },
            "text/plain": [
              "Validation: 0it [00:00, ?it/s]"
            ]
          },
          "metadata": {},
          "output_type": "display_data"
        },
        {
          "metadata": {
            "tags": null
          },
          "name": "stderr",
          "output_type": "stream",
          "text": [
            "2023-01-02 08:25:51.231 | INFO     | __main__:on_validation_epoch_start:14 - Valid.\n"
          ]
        },
        {
          "metadata": {
            "tags": null
          },
          "name": "stdout",
          "output_type": "stream",
          "text": [
            "loss: 0.1452209008010951 - Detection acc: 0.5440 - Correction acc: 0.4280\n",
            "Detection: precision=0.533905119270973, recall=0.4896755162241888 and F1=0.5108347224003077\n",
            "Correction: precision=0.6400602409638554, recall=0.5225409836065574 and F1=0.5753610108303249\n",
            "Sentence Level: acc:0.427982, precision:0.490338, recall:0.192417, f1:0.276378\n"
          ]
        },
        {
          "data": {
            "application/vnd.jupyter.widget-view+json": {
              "model_id": "5f79df99fa9f476bb231ec90979a4246",
              "version_major": 2,
              "version_minor": 0
            },
            "text/plain": [
              "Validation: 0it [00:00, ?it/s]"
            ]
          },
          "metadata": {},
          "output_type": "display_data"
        },
        {
          "metadata": {
            "tags": null
          },
          "name": "stderr",
          "output_type": "stream",
          "text": [
            "2023-01-02 08:27:13.773 | INFO     | __main__:on_validation_epoch_start:14 - Valid.\n"
          ]
        },
        {
          "metadata": {
            "tags": null
          },
          "name": "stdout",
          "output_type": "stream",
          "text": [
            "loss: 0.1473246030509472 - Detection acc: 0.5528 - Correction acc: 0.4262\n",
            "Detection: precision=0.5234354543074103, recall=0.4913962635201573 and F1=0.5069101052364651\n",
            "Correction: precision=0.6538269134567284, recall=0.5330342577487766 and F1=0.5872837564592228\n",
            "Sentence Level: acc:0.426188, precision:0.486842, recall:0.198736, f1:0.282253\n"
          ]
        },
        {
          "data": {
            "application/vnd.jupyter.widget-view+json": {
              "model_id": "5a1ada0836514f3bbbd2d74d09bf75c0",
              "version_major": 2,
              "version_minor": 0
            },
            "text/plain": [
              "Validation: 0it [00:00, ?it/s]"
            ]
          },
          "metadata": {},
          "output_type": "display_data"
        },
        {
          "metadata": {
            "tags": null
          },
          "name": "stderr",
          "output_type": "stream",
          "text": [
            "2023-01-02 08:28:48.158 | INFO     | __main__:on_validation_epoch_start:14 - Valid.\n"
          ]
        },
        {
          "metadata": {
            "tags": null
          },
          "name": "stdout",
          "output_type": "stream",
          "text": [
            "loss: 0.14852411249144512 - Detection acc: 0.5491 - Correction acc: 0.4382\n",
            "Detection: precision=0.5385046205544666, recall=0.47271386430678464 and F1=0.5034690404503208\n",
            "Correction: precision=0.6630265210608425, recall=0.5377477857444116 and F1=0.5938518863530508\n",
            "Sentence Level: acc:0.438206, precision:0.513447, recall:0.199052, f1:0.286885\n"
          ]
        },
        {
          "data": {
            "application/vnd.jupyter.widget-view+json": {
              "model_id": "89dae2a70e5c49b5b8739031bc4e1bbe",
              "version_major": 2,
              "version_minor": 0
            },
            "text/plain": [
              "Validation: 0it [00:00, ?it/s]"
            ]
          },
          "metadata": {},
          "output_type": "display_data"
        },
        {
          "metadata": {
            "tags": null
          },
          "name": "stderr",
          "output_type": "stream",
          "text": [
            "2023-01-02 08:30:22.264 | INFO     | __main__:on_validation_epoch_start:14 - Valid.\n"
          ]
        },
        {
          "metadata": {
            "tags": null
          },
          "name": "stdout",
          "output_type": "stream",
          "text": [
            "loss: 0.1513182735917243 - Detection acc: 0.5570 - Correction acc: 0.4341\n",
            "Detection: precision=0.5312733615748816, recall=0.5240904621435595 and F1=0.5276574681351318\n",
            "Correction: precision=0.6472795497185742, recall=0.5322020825298882 and F1=0.584126984126984\n",
            "Sentence Level: acc:0.434081, precision:0.503726, recall:0.213586, f1:0.299978\n"
          ]
        },
        {
          "data": {
            "application/vnd.jupyter.widget-view+json": {
              "model_id": "65d039be4d714ce080b7761611908ad9",
              "version_major": 2,
              "version_minor": 0
            },
            "text/plain": [
              "Validation: 0it [00:00, ?it/s]"
            ]
          },
          "metadata": {},
          "output_type": "display_data"
        },
        {
          "metadata": {
            "tags": null
          },
          "name": "stderr",
          "output_type": "stream",
          "text": [
            "2023-01-02 08:31:55.596 | INFO     | __main__:on_validation_epoch_start:14 - Valid.\n"
          ]
        },
        {
          "metadata": {
            "tags": null
          },
          "name": "stdout",
          "output_type": "stream",
          "text": [
            "loss: 0.15130764144388112 - Detection acc: 0.5625 - Correction acc: 0.4382\n",
            "Detection: precision=0.5289672544080605, recall=0.5162241887905604 and F1=0.5225180393132619\n",
            "Correction: precision=0.6566666666666666, recall=0.5412087912087912 and F1=0.5933734939759036\n",
            "Sentence Level: acc:0.438206, precision:0.512341, recall:0.216430, f1:0.304309\n"
          ]
        },
        {
          "data": {
            "application/vnd.jupyter.widget-view+json": {
              "model_id": "38c399714e3f4ea796c3e7f8c83d5ace",
              "version_major": 2,
              "version_minor": 0
            },
            "text/plain": [
              "Validation: 0it [00:00, ?it/s]"
            ]
          },
          "metadata": {},
          "output_type": "display_data"
        },
        {
          "metadata": {
            "tags": null
          },
          "name": "stderr",
          "output_type": "stream",
          "text": [
            "2023-01-02 08:33:29.999 | INFO     | __main__:on_validation_epoch_start:14 - Valid.\n"
          ]
        },
        {
          "metadata": {
            "tags": null
          },
          "name": "stdout",
          "output_type": "stream",
          "text": [
            "loss: 0.15432364561341025 - Detection acc: 0.5684 - Correction acc: 0.4413\n",
            "Detection: precision=0.5405405405405406, recall=0.5260570304818093 and F1=0.5332004484863586\n",
            "Correction: precision=0.6453271028037383, recall=0.5340293890177881 and F1=0.5844265763859501\n",
            "Sentence Level: acc:0.441256, precision:0.518601, recall:0.220221, f1:0.309159\n"
          ]
        },
        {
          "data": {
            "application/vnd.jupyter.widget-view+json": {
              "model_id": "955081d976614ac38cd372d2810e09e3",
              "version_major": 2,
              "version_minor": 0
            },
            "text/plain": [
              "Validation: 0it [00:00, ?it/s]"
            ]
          },
          "metadata": {},
          "output_type": "display_data"
        },
        {
          "metadata": {
            "tags": null
          },
          "name": "stderr",
          "output_type": "stream",
          "text": [
            "2023-01-02 08:35:02.922 | INFO     | __main__:on_validation_epoch_start:14 - Valid.\n"
          ]
        },
        {
          "metadata": {
            "tags": null
          },
          "name": "stdout",
          "output_type": "stream",
          "text": [
            "loss: 0.15516653369096192 - Detection acc: 0.5668 - Correction acc: 0.4454\n",
            "Detection: precision=0.5415635823849579, recall=0.538102261553589 and F1=0.5398273736128236\n",
            "Correction: precision=0.6578346276838739, recall=0.5500381970970206 and F1=0.5991262741834824\n",
            "Sentence Level: acc:0.445381, precision:0.526740, recall:0.227172, f1:0.317439\n"
          ]
        },
        {
          "data": {
            "application/vnd.jupyter.widget-view+json": {
              "model_id": "621370fa184f4c82a90c6d433ef86979",
              "version_major": 2,
              "version_minor": 0
            },
            "text/plain": [
              "Validation: 0it [00:00, ?it/s]"
            ]
          },
          "metadata": {},
          "output_type": "display_data"
        },
        {
          "metadata": {
            "tags": null
          },
          "name": "stderr",
          "output_type": "stream",
          "text": [
            "2023-01-02 08:36:36.524 | INFO     | __main__:on_validation_epoch_start:14 - Valid.\n"
          ]
        },
        {
          "metadata": {
            "tags": null
          },
          "name": "stdout",
          "output_type": "stream",
          "text": [
            "loss: 0.15892419337548994 - Detection acc: 0.5726 - Correction acc: 0.4448\n",
            "Detection: precision=0.5339290026563632, recall=0.5435103244837758 and F1=0.5386770617614812\n",
            "Correction: precision=0.6612392582541836, recall=0.5516981132075471 and F1=0.601522320510183\n",
            "Sentence Level: acc:0.444843, precision:0.524858, recall:0.233491, f1:0.323201\n"
          ]
        },
        {
          "data": {
            "application/vnd.jupyter.widget-view+json": {
              "model_id": "abfb97e78666471fa85f523a1b0c69cb",
              "version_major": 2,
              "version_minor": 0
            },
            "text/plain": [
              "Validation: 0it [00:00, ?it/s]"
            ]
          },
          "metadata": {},
          "output_type": "display_data"
        },
        {
          "metadata": {
            "tags": null
          },
          "name": "stderr",
          "output_type": "stream",
          "text": [
            "2023-01-02 08:38:10.648 | INFO     | __main__:on_validation_epoch_start:14 - Valid.\n"
          ]
        },
        {
          "metadata": {
            "tags": null
          },
          "name": "stdout",
          "output_type": "stream",
          "text": [
            "loss: 0.16005478884008797 - Detection acc: 0.5806 - Correction acc: 0.4474\n",
            "Detection: precision=0.546112115732369, recall=0.5196656833824975 and F1=0.5325607759163623\n",
            "Correction: precision=0.6702932828760644, recall=0.5522213561964147 and F1=0.6055555555555555\n",
            "Sentence Level: acc:0.447354, precision:0.531532, recall:0.223697, f1:0.314877\n"
          ]
        },
        {
          "data": {
            "application/vnd.jupyter.widget-view+json": {
              "model_id": "6075a2e4785d417390d010d644ed809f",
              "version_major": 2,
              "version_minor": 0
            },
            "text/plain": [
              "Validation: 0it [00:00, ?it/s]"
            ]
          },
          "metadata": {},
          "output_type": "display_data"
        },
        {
          "metadata": {
            "tags": null
          },
          "name": "stderr",
          "output_type": "stream",
          "text": [
            "2023-01-02 08:39:32.236 | INFO     | __main__:on_validation_epoch_start:14 - Valid.\n"
          ]
        },
        {
          "metadata": {
            "tags": null
          },
          "name": "stdout",
          "output_type": "stream",
          "text": [
            "loss: 0.16076979244297201 - Detection acc: 0.5774 - Correction acc: 0.4490\n",
            "Detection: precision=0.5459755793670571, recall=0.5385939036381514 and F1=0.5422596213339934\n",
            "Correction: precision=0.6686444545869465, recall=0.5561883067577829 and F1=0.6072538860103627\n",
            "Sentence Level: acc:0.448969, precision:0.533381, recall:0.234755, f1:0.326020\n"
          ]
        },
        {
          "data": {
            "application/vnd.jupyter.widget-view+json": {
              "model_id": "132951335b544fcd87cba953cd5a81b8",
              "version_major": 2,
              "version_minor": 0
            },
            "text/plain": [
              "Validation: 0it [00:00, ?it/s]"
            ]
          },
          "metadata": {},
          "output_type": "display_data"
        },
        {
          "metadata": {
            "tags": null
          },
          "name": "stderr",
          "output_type": "stream",
          "text": [
            "2023-01-02 08:41:05.780 | INFO     | __main__:on_validation_epoch_start:14 - Valid.\n"
          ]
        },
        {
          "metadata": {
            "tags": null
          },
          "name": "stdout",
          "output_type": "stream",
          "text": [
            "loss: 0.16423474116758865 - Detection acc: 0.5864 - Correction acc: 0.4488\n",
            "Detection: precision=0.5428786359077231, recall=0.5322025565388397 and F1=0.5374875868917577\n",
            "Correction: precision=0.6632794457274827, recall=0.549559892843475 and F1=0.6010883214734198\n",
            "Sentence Level: acc:0.448789, precision:0.533626, recall:0.230648, f1:0.322083\n"
          ]
        },
        {
          "data": {
            "application/vnd.jupyter.widget-view+json": {
              "model_id": "2c1332a5b51c4b07a49f32cac749d3d3",
              "version_major": 2,
              "version_minor": 0
            },
            "text/plain": [
              "Validation: 0it [00:00, ?it/s]"
            ]
          },
          "metadata": {},
          "output_type": "display_data"
        },
        {
          "metadata": {
            "tags": null
          },
          "name": "stderr",
          "output_type": "stream",
          "text": [
            "2023-01-02 08:42:26.925 | INFO     | __main__:on_validation_epoch_start:14 - Valid.\n"
          ]
        },
        {
          "metadata": {
            "tags": null
          },
          "name": "stdout",
          "output_type": "stream",
          "text": [
            "loss: 0.16537839208136906 - Detection acc: 0.5806 - Correction acc: 0.4484\n",
            "Detection: precision=0.5413552566018933, recall=0.5341691248770895 and F1=0.5377381836179163\n",
            "Correction: precision=0.6718821905200184, recall=0.558530986993114 and F1=0.6099853770628786\n",
            "Sentence Level: acc:0.448430, precision:0.532609, recall:0.232227, f1:0.323432\n"
          ]
        },
        {
          "data": {
            "application/vnd.jupyter.widget-view+json": {
              "model_id": "691d01a85d19484c8119818acf106e4b",
              "version_major": 2,
              "version_minor": 0
            },
            "text/plain": [
              "Validation: 0it [00:00, ?it/s]"
            ]
          },
          "metadata": {},
          "output_type": "display_data"
        },
        {
          "metadata": {
            "tags": null
          },
          "name": "stderr",
          "output_type": "stream",
          "text": [
            "2023-01-02 08:43:49.449 | INFO     | __main__:on_validation_epoch_start:14 - Valid.\n"
          ]
        },
        {
          "metadata": {
            "tags": null
          },
          "name": "stdout",
          "output_type": "stream",
          "text": [
            "loss: 0.1646823383529078 - Detection acc: 0.5833 - Correction acc: 0.4517\n",
            "Detection: precision=0.550838840874428, recall=0.5326941986234022 and F1=0.5416145963509122\n",
            "Correction: precision=0.6765113059529303, recall=0.5614707008808886 and F1=0.6136458769359564\n",
            "Sentence Level: acc:0.451659, precision:0.539244, recall:0.234439, f1:0.326800\n"
          ]
        },
        {
          "data": {
            "application/vnd.jupyter.widget-view+json": {
              "model_id": "8c2a7c93006848fba8d8c865799fbfdc",
              "version_major": 2,
              "version_minor": 0
            },
            "text/plain": [
              "Validation: 0it [00:00, ?it/s]"
            ]
          },
          "metadata": {},
          "output_type": "display_data"
        },
        {
          "metadata": {
            "tags": null
          },
          "name": "stderr",
          "output_type": "stream",
          "text": [
            "2023-01-02 08:45:24.707 | INFO     | __main__:on_validation_epoch_start:14 - Valid.\n"
          ]
        },
        {
          "metadata": {
            "tags": null
          },
          "name": "stdout",
          "output_type": "stream",
          "text": [
            "loss: 0.16774796745316548 - Detection acc: 0.5858 - Correction acc: 0.4504\n",
            "Detection: precision=0.5381144621230112, recall=0.5570304818092429 and F1=0.5474091073801184\n",
            "Correction: precision=0.6676963812886143, recall=0.5607857672349889 and F1=0.6095890410958904\n",
            "Sentence Level: acc:0.450404, precision:0.535339, recall:0.241706, f1:0.333043\n"
          ]
        },
        {
          "data": {
            "application/vnd.jupyter.widget-view+json": {
              "model_id": "a4dc9a690c6d49dba1c569923c24e703",
              "version_major": 2,
              "version_minor": 0
            },
            "text/plain": [
              "Validation: 0it [00:00, ?it/s]"
            ]
          },
          "metadata": {},
          "output_type": "display_data"
        },
        {
          "metadata": {
            "tags": null
          },
          "name": "stderr",
          "output_type": "stream",
          "text": [
            "2023-01-02 08:47:00.452 | INFO     | __main__:on_validation_epoch_start:14 - Valid.\n"
          ]
        },
        {
          "metadata": {
            "tags": null
          },
          "name": "stdout",
          "output_type": "stream",
          "text": [
            "loss: 0.16875906187024983 - Detection acc: 0.5455 - Correction acc: 0.4206\n",
            "Detection: precision=0.5101650322889261, recall=0.5243362831858407 and F1=0.5171535943750757\n",
            "Correction: precision=0.6371308016877637, recall=0.5251159196290572 and F1=0.5757254818894302\n",
            "Sentence Level: acc:0.420628, precision:0.476015, recall:0.203791, f1:0.285398\n"
          ]
        },
        {
          "data": {
            "application/vnd.jupyter.widget-view+json": {
              "model_id": "c36a773d948545838b6d8bc09cea78b2",
              "version_major": 2,
              "version_minor": 0
            },
            "text/plain": [
              "Validation: 0it [00:00, ?it/s]"
            ]
          },
          "metadata": {},
          "output_type": "display_data"
        },
        {
          "metadata": {
            "tags": null
          },
          "name": "stderr",
          "output_type": "stream",
          "text": [
            "2023-01-02 08:48:22.771 | INFO     | __main__:on_validation_epoch_start:14 - Valid.\n"
          ]
        },
        {
          "metadata": {
            "tags": null
          },
          "name": "stdout",
          "output_type": "stream",
          "text": [
            "loss: 0.16334262964400378 - Detection acc: 0.5774 - Correction acc: 0.4423\n",
            "Detection: precision=0.5326113709081959, recall=0.5319567354965585 and F1=0.5322838519247326\n",
            "Correction: precision=0.6645101663585952, recall=0.5535026943802925 and F1=0.6039479210415792\n",
            "Sentence Level: acc:0.442332, precision:0.519943, recall:0.230648, f1:0.319545\n"
          ]
        },
        {
          "data": {
            "application/vnd.jupyter.widget-view+json": {
              "model_id": "58d95e199f8244868bfa13598a244be7",
              "version_major": 2,
              "version_minor": 0
            },
            "text/plain": [
              "Validation: 0it [00:00, ?it/s]"
            ]
          },
          "metadata": {},
          "output_type": "display_data"
        },
        {
          "metadata": {
            "tags": null
          },
          "name": "stderr",
          "output_type": "stream",
          "text": [
            "2023-01-02 08:49:45.169 | INFO     | __main__:on_validation_epoch_start:14 - Valid.\n"
          ]
        },
        {
          "metadata": {
            "tags": null
          },
          "name": "stdout",
          "output_type": "stream",
          "text": [
            "loss: 0.16380700113421137 - Detection acc: 0.5878 - Correction acc: 0.4520\n",
            "Detection: precision=0.5425226946966077, recall=0.5582595870206489 and F1=0.5502786527744123\n",
            "Correction: precision=0.6732716864817261, recall=0.5660866345797853 and F1=0.6150442477876106\n",
            "Sentence Level: acc:0.452018, precision:0.537723, recall:0.247709, f1:0.339174\n"
          ]
        },
        {
          "data": {
            "application/vnd.jupyter.widget-view+json": {
              "model_id": "b3ea757f602b4d8bb9d1e6cbcae5f648",
              "version_major": 2,
              "version_minor": 0
            },
            "text/plain": [
              "Validation: 0it [00:00, ?it/s]"
            ]
          },
          "metadata": {},
          "output_type": "display_data"
        },
        {
          "metadata": {
            "tags": null
          },
          "name": "stderr",
          "output_type": "stream",
          "text": [
            "2023-01-02 08:51:20.423 | INFO     | __main__:on_validation_epoch_start:14 - Valid.\n"
          ]
        },
        {
          "metadata": {
            "tags": null
          },
          "name": "stdout",
          "output_type": "stream",
          "text": [
            "loss: 0.1640868251296607 - Detection acc: 0.5858 - Correction acc: 0.4576\n",
            "Detection: precision=0.547985347985348, recall=0.551622418879056 and F1=0.549797868430724\n",
            "Correction: precision=0.679144385026738, recall=0.5720720720720721 and F1=0.6210268948655256\n",
            "Sentence Level: acc:0.457578, precision:0.548924, recall:0.249921, f1:0.343465\n"
          ]
        },
        {
          "data": {
            "application/vnd.jupyter.widget-view+json": {
              "model_id": "0d03ca963cae42dd8a3b9e9e1eba4a78",
              "version_major": 2,
              "version_minor": 0
            },
            "text/plain": [
              "Validation: 0it [00:00, ?it/s]"
            ]
          },
          "metadata": {},
          "output_type": "display_data"
        },
        {
          "metadata": {
            "tags": null
          },
          "name": "stderr",
          "output_type": "stream",
          "text": [
            "2023-01-02 08:52:55.684 | INFO     | __main__:on_validation_epoch_start:14 - Valid.\n"
          ]
        },
        {
          "metadata": {
            "tags": null
          },
          "name": "stdout",
          "output_type": "stream",
          "text": [
            "loss: 0.1664002134718678 - Detection acc: 0.5903 - Correction acc: 0.4549\n",
            "Detection: precision=0.5456956836267182, recall=0.5562930186823992 and F1=0.5509433962264151\n",
            "Correction: precision=0.6743261157755193, recall=0.5679196129512467 and F1=0.6165656565656565\n",
            "Sentence Level: acc:0.454888, precision:0.543750, recall:0.247393, f1:0.340065\n"
          ]
        },
        {
          "data": {
            "application/vnd.jupyter.widget-view+json": {
              "model_id": "3ed76567870c458980d7e634892321a8",
              "version_major": 2,
              "version_minor": 0
            },
            "text/plain": [
              "Validation: 0it [00:00, ?it/s]"
            ]
          },
          "metadata": {},
          "output_type": "display_data"
        },
        {
          "metadata": {
            "tags": null
          },
          "name": "stderr",
          "output_type": "stream",
          "text": [
            "2023-01-02 08:54:17.455 | INFO     | __main__:on_validation_epoch_start:14 - Valid.\n"
          ]
        },
        {
          "metadata": {
            "tags": null
          },
          "name": "stdout",
          "output_type": "stream",
          "text": [
            "loss: 0.16763533431697974 - Detection acc: 0.5917 - Correction acc: 0.4612\n",
            "Detection: precision=0.5541224076884168, recall=0.5385939036381514 and F1=0.5462478184991273\n",
            "Correction: precision=0.6932907348242812, recall=0.5817694369973191 and F1=0.6326530612244897\n",
            "Sentence Level: acc:0.461166, precision:0.557052, recall:0.248341, f1:0.343531\n"
          ]
        },
        {
          "data": {
            "application/vnd.jupyter.widget-view+json": {
              "model_id": "506bd14ee69544d1bf0e45417c2d2e55",
              "version_major": 2,
              "version_minor": 0
            },
            "text/plain": [
              "Validation: 0it [00:00, ?it/s]"
            ]
          },
          "metadata": {},
          "output_type": "display_data"
        },
        {
          "metadata": {
            "tags": null
          },
          "name": "stderr",
          "output_type": "stream",
          "text": [
            "2023-01-02 08:55:52.967 | INFO     | __main__:on_validation_epoch_start:14 - Valid.\n"
          ]
        },
        {
          "metadata": {
            "tags": null
          },
          "name": "stdout",
          "output_type": "stream",
          "text": [
            "loss: 0.16825333288447422 - Detection acc: 0.5862 - Correction acc: 0.4630\n",
            "Detection: precision=0.5509538152610441, recall=0.5395771878072763 and F1=0.5452061599602583\n",
            "Correction: precision=0.6938496583143507, recall=0.57996953541508 and F1=0.631819124662933\n",
            "Sentence Level: acc:0.462960, precision:0.560000, recall:0.252133, f1:0.347712\n"
          ]
        },
        {
          "data": {
            "application/vnd.jupyter.widget-view+json": {
              "model_id": "5be32d0210b64fac9c8f27db99df1839",
              "version_major": 2,
              "version_minor": 0
            },
            "text/plain": [
              "Validation: 0it [00:00, ?it/s]"
            ]
          },
          "metadata": {},
          "output_type": "display_data"
        },
        {
          "metadata": {
            "tags": null
          },
          "name": "stderr",
          "output_type": "stream",
          "text": [
            "2023-01-02 08:57:28.749 | INFO     | __main__:on_validation_epoch_start:14 - Valid.\n"
          ]
        },
        {
          "metadata": {
            "tags": null
          },
          "name": "stdout",
          "output_type": "stream",
          "text": [
            "loss: 0.16806773688982835 - Detection acc: 0.5932 - Correction acc: 0.4601\n",
            "Detection: precision=0.5575512269162661, recall=0.5417895771878073 and F1=0.5495574117940406\n",
            "Correction: precision=0.6837568058076225, recall=0.5734398782343988 and F1=0.6237582781456954\n",
            "Sentence Level: acc:0.460090, precision:0.555397, recall:0.245498, f1:0.340491\n"
          ]
        },
        {
          "data": {
            "application/vnd.jupyter.widget-view+json": {
              "model_id": "49d592802a3a4096b2091c584a6bbb6e",
              "version_major": 2,
              "version_minor": 0
            },
            "text/plain": [
              "Validation: 0it [00:00, ?it/s]"
            ]
          },
          "metadata": {},
          "output_type": "display_data"
        },
        {
          "metadata": {
            "tags": null
          },
          "name": "stderr",
          "output_type": "stream",
          "text": [
            "2023-01-02 08:58:49.363 | INFO     | __main__:on_validation_epoch_start:14 - Valid.\n"
          ]
        },
        {
          "metadata": {
            "tags": null
          },
          "name": "stdout",
          "output_type": "stream",
          "text": [
            "loss: 0.16817905753850937 - Detection acc: 0.5975 - Correction acc: 0.4578\n",
            "Detection: precision=0.5494373952597558, recall=0.5641592920353983 and F1=0.5567010309278351\n",
            "Correction: precision=0.6867102396514161, recall=0.5791988239617788 and F1=0.6283891547049442\n",
            "Sentence Level: acc:0.457758, precision:0.547908, recall:0.256556, f1:0.349473\n"
          ]
        },
        {
          "data": {
            "application/vnd.jupyter.widget-view+json": {
              "model_id": "5b70bfb971584a1faf5f79b0810c4f1b",
              "version_major": 2,
              "version_minor": 0
            },
            "text/plain": [
              "Validation: 0it [00:00, ?it/s]"
            ]
          },
          "metadata": {},
          "output_type": "display_data"
        },
        {
          "metadata": {
            "tags": null
          },
          "name": "stderr",
          "output_type": "stream",
          "text": [
            "2023-01-02 09:00:25.299 | INFO     | __main__:on_validation_epoch_start:14 - Valid.\n"
          ]
        },
        {
          "metadata": {
            "tags": null
          },
          "name": "stdout",
          "output_type": "stream",
          "text": [
            "loss: 0.16749441589821468 - Detection acc: 0.5880 - Correction acc: 0.4599\n",
            "Detection: precision=0.5520593502174469, recall=0.5304818092428711 and F1=0.5410555346621536\n",
            "Correction: precision=0.7020389249304912, recall=0.584942084942085 and F1=0.6381634372367313\n",
            "Sentence Level: acc:0.459910, precision:0.554302, recall:0.248341, f1:0.343007\n"
          ]
        },
        {
          "data": {
            "application/vnd.jupyter.widget-view+json": {
              "model_id": "89aac38493234225a800c459d54445e8",
              "version_major": 2,
              "version_minor": 0
            },
            "text/plain": [
              "Validation: 0it [00:00, ?it/s]"
            ]
          },
          "metadata": {},
          "output_type": "display_data"
        },
        {
          "metadata": {
            "tags": null
          },
          "name": "stderr",
          "output_type": "stream",
          "text": [
            "2023-01-02 09:01:46.722 | INFO     | __main__:on_validation_epoch_start:14 - Valid.\n"
          ]
        },
        {
          "metadata": {
            "tags": null
          },
          "name": "stdout",
          "output_type": "stream",
          "text": [
            "loss: 0.17007159763439136 - Detection acc: 0.5971 - Correction acc: 0.4631\n",
            "Detection: precision=0.5558270217444418, recall=0.5592428711897739 and F1=0.5575297144957727\n",
            "Correction: precision=0.6843956043956044, recall=0.5756007393715342 and F1=0.6253012048192771\n",
            "Sentence Level: acc:0.463139, precision:0.559392, recall:0.255924, f1:0.351181\n"
          ]
        },
        {
          "data": {
            "application/vnd.jupyter.widget-view+json": {
              "model_id": "e2f1ffb5d1834d4fa8519576d9667a4d",
              "version_major": 2,
              "version_minor": 0
            },
            "text/plain": [
              "Validation: 0it [00:00, ?it/s]"
            ]
          },
          "metadata": {},
          "output_type": "display_data"
        },
        {
          "metadata": {
            "tags": null
          },
          "name": "stderr",
          "output_type": "stream",
          "text": [
            "2023-01-02 09:03:08.089 | INFO     | __main__:on_validation_epoch_start:14 - Valid.\n"
          ]
        },
        {
          "metadata": {
            "tags": null
          },
          "name": "stdout",
          "output_type": "stream",
          "text": [
            "loss: 0.17064483565363017 - Detection acc: 0.6034 - Correction acc: 0.4640\n",
            "Detection: precision=0.5560571858540256, recall=0.5449852507374632 and F1=0.5504655493482309\n",
            "Correction: precision=0.6973387460532251, recall=0.5847201210287444 and F1=0.6360831104710966\n",
            "Sentence Level: acc:0.464036, precision:0.561931, recall:0.253712, f1:0.349586\n"
          ]
        },
        {
          "data": {
            "application/vnd.jupyter.widget-view+json": {
              "model_id": "1012f5a5037141618e625bb32f6141a0",
              "version_major": 2,
              "version_minor": 0
            },
            "text/plain": [
              "Validation: 0it [00:00, ?it/s]"
            ]
          },
          "metadata": {},
          "output_type": "display_data"
        },
        {
          "metadata": {
            "tags": null
          },
          "name": "stderr",
          "output_type": "stream",
          "text": [
            "2023-01-02 09:04:42.369 | INFO     | __main__:on_validation_epoch_start:14 - Valid.\n"
          ]
        },
        {
          "metadata": {
            "tags": null
          },
          "name": "stdout",
          "output_type": "stream",
          "text": [
            "loss: 0.17025271041149442 - Detection acc: 0.6011 - Correction acc: 0.4662\n",
            "Detection: precision=0.5568677792041078, recall=0.5331858407079646 and F1=0.5447695592113524\n",
            "Correction: precision=0.7118487782388198, recall=0.5893129770992367 and F1=0.6448110252662351\n",
            "Sentence Level: acc:0.466188, precision:0.566316, recall:0.254976, f1:0.351634\n"
          ]
        },
        {
          "data": {
            "application/vnd.jupyter.widget-view+json": {
              "model_id": "7586e5454b8241e3a63a9c22930754cf",
              "version_major": 2,
              "version_minor": 0
            },
            "text/plain": [
              "Validation: 0it [00:00, ?it/s]"
            ]
          },
          "metadata": {},
          "output_type": "display_data"
        },
        {
          "metadata": {
            "tags": null
          },
          "name": "stderr",
          "output_type": "stream",
          "text": [
            "2023-01-02 09:06:17.427 | INFO     | __main__:on_validation_epoch_start:14 - Valid.\n"
          ]
        },
        {
          "metadata": {
            "tags": null
          },
          "name": "stdout",
          "output_type": "stream",
          "text": [
            "loss: 0.17112426764585756 - Detection acc: 0.5962 - Correction acc: 0.4683\n",
            "Detection: precision=0.5607524148449415, recall=0.5422812192723697 and F1=0.551362159460135\n",
            "Correction: precision=0.7030825022665458, recall=0.5881683731513083 and F1=0.6405120792896964\n",
            "Sentence Level: acc:0.468341, precision:0.570427, recall:0.257188, f1:0.354530\n"
          ]
        },
        {
          "data": {
            "application/vnd.jupyter.widget-view+json": {
              "model_id": "734ceb7e06694a3daa7c9ed4880fdecd",
              "version_major": 2,
              "version_minor": 0
            },
            "text/plain": [
              "Validation: 0it [00:00, ?it/s]"
            ]
          },
          "metadata": {},
          "output_type": "display_data"
        },
        {
          "metadata": {
            "tags": null
          },
          "name": "stderr",
          "output_type": "stream",
          "text": [
            "2023-01-02 09:07:51.833 | INFO     | __main__:on_validation_epoch_start:14 - Valid.\n"
          ]
        },
        {
          "metadata": {
            "tags": null
          },
          "name": "stdout",
          "output_type": "stream",
          "text": [
            "loss: 0.17133773016658696 - Detection acc: 0.5993 - Correction acc: 0.4671\n",
            "Detection: precision=0.5605982465188242, recall=0.5344149459193707 and F1=0.5471935565064182\n",
            "Correction: precision=0.704231830726771, recall=0.5883935434281322 and F1=0.6411222780569514\n",
            "Sentence Level: acc:0.467085, precision:0.568118, recall:0.255608, f1:0.352582\n"
          ]
        },
        {
          "data": {
            "application/vnd.jupyter.widget-view+json": {
              "model_id": "b790e499cee84593879eb7139617290d",
              "version_major": 2,
              "version_minor": 0
            },
            "text/plain": [
              "Validation: 0it [00:00, ?it/s]"
            ]
          },
          "metadata": {},
          "output_type": "display_data"
        },
        {
          "metadata": {
            "tags": null
          },
          "name": "stderr",
          "output_type": "stream",
          "text": [
            "2023-01-02 09:09:12.816 | INFO     | __main__:on_validation_epoch_start:14 - Valid.\n"
          ]
        },
        {
          "metadata": {
            "tags": null
          },
          "name": "stdout",
          "output_type": "stream",
          "text": [
            "loss: 0.17184148694981227 - Detection acc: 0.5957 - Correction acc: 0.4649\n",
            "Detection: precision=0.5572916666666666, recall=0.5523598820058997 and F1=0.5548148148148146\n",
            "Correction: precision=0.6991544281263907, recall=0.5848845867460909 and F1=0.6369349280356781\n",
            "Sentence Level: acc:0.464933, precision:0.562500, recall:0.258768, f1:0.354469\n"
          ]
        },
        {
          "data": {
            "application/vnd.jupyter.widget-view+json": {
              "model_id": "856e75f33c7940b39f0a833c765faf4e",
              "version_major": 2,
              "version_minor": 0
            },
            "text/plain": [
              "Validation: 0it [00:00, ?it/s]"
            ]
          },
          "metadata": {},
          "output_type": "display_data"
        },
        {
          "metadata": {
            "tags": null
          },
          "name": "stderr",
          "output_type": "stream",
          "text": [
            "2023-01-02 09:10:33.407 | INFO     | __main__:on_validation_epoch_start:14 - Valid.\n"
          ]
        },
        {
          "metadata": {
            "tags": null
          },
          "name": "stdout",
          "output_type": "stream",
          "text": [
            "loss: 0.17395109683275223 - Detection acc: 0.5966 - Correction acc: 0.4639\n",
            "Detection: precision=0.5539964921072413, recall=0.5435103244837758 and F1=0.5487033130661372\n",
            "Correction: precision=0.7060153776571687, recall=0.5877259036144579 and F1=0.6414629134990754\n",
            "Sentence Level: acc:0.463857, precision:0.561111, recall:0.255292, f1:0.350923\n"
          ]
        },
        {
          "data": {
            "application/vnd.jupyter.widget-view+json": {
              "model_id": "a677bc4eb7af41808249f50b189a8f88",
              "version_major": 2,
              "version_minor": 0
            },
            "text/plain": [
              "Validation: 0it [00:00, ?it/s]"
            ]
          },
          "metadata": {},
          "output_type": "display_data"
        },
        {
          "metadata": {
            "tags": null
          },
          "name": "stderr",
          "output_type": "stream",
          "text": [
            "2023-01-02 09:11:55.937 | INFO     | __main__:on_validation_epoch_start:14 - Valid.\n"
          ]
        },
        {
          "metadata": {
            "tags": null
          },
          "name": "stdout",
          "output_type": "stream",
          "text": [
            "loss: 0.17688731967725538 - Detection acc: 0.5980 - Correction acc: 0.4655\n",
            "Detection: precision=0.5575381432635118, recall=0.5299901671583087 and F1=0.5434152488972905\n",
            "Correction: precision=0.7050092764378478, recall=0.5848403232012312 and F1=0.6393270241850684\n",
            "Sentence Level: acc:0.465471, precision:0.566787, recall:0.248025, f1:0.345055\n"
          ]
        },
        {
          "data": {
            "application/vnd.jupyter.widget-view+json": {
              "model_id": "a87c988a3fb540c6b80c9b228073ed14",
              "version_major": 2,
              "version_minor": 0
            },
            "text/plain": [
              "Validation: 0it [00:00, ?it/s]"
            ]
          },
          "metadata": {},
          "output_type": "display_data"
        },
        {
          "metadata": {
            "tags": null
          },
          "name": "stderr",
          "output_type": "stream",
          "text": [
            "2023-01-02 09:13:18.174 | INFO     | __main__:on_validation_epoch_start:14 - Valid.\n"
          ]
        },
        {
          "metadata": {
            "tags": null
          },
          "name": "stdout",
          "output_type": "stream",
          "text": [
            "loss: 0.17440354807133024 - Detection acc: 0.6014 - Correction acc: 0.4640\n",
            "Detection: precision=0.5579160343955488, recall=0.5422812192723697 and F1=0.549987534280728\n",
            "Correction: precision=0.699909338168631, recall=0.58418463866818 and F1=0.6368323365642401\n",
            "Sentence Level: acc:0.464036, precision:0.561845, recall:0.254028, f1:0.349869\n"
          ]
        },
        {
          "data": {
            "application/vnd.jupyter.widget-view+json": {
              "model_id": "6786cd42e20d4a169dde0898db0550af",
              "version_major": 2,
              "version_minor": 0
            },
            "text/plain": [
              "Validation: 0it [00:00, ?it/s]"
            ]
          },
          "metadata": {},
          "output_type": "display_data"
        },
        {
          "metadata": {
            "tags": null
          },
          "name": "stderr",
          "output_type": "stream",
          "text": [
            "2023-01-02 09:14:41.103 | INFO     | __main__:on_validation_epoch_start:14 - Valid.\n"
          ]
        },
        {
          "metadata": {
            "tags": null
          },
          "name": "stdout",
          "output_type": "stream",
          "text": [
            "loss: 0.1759653485972773 - Detection acc: 0.5952 - Correction acc: 0.4680\n",
            "Detection: precision=0.5677966101694916, recall=0.5105703048180924 and F1=0.5376650271809476\n",
            "Correction: precision=0.7144920558497834, recall=0.5900596421471173 and F1=0.646341463414634\n",
            "Sentence Level: acc:0.467982, precision:0.573324, recall:0.245814, f1:0.344096\n"
          ]
        },
        {
          "data": {
            "application/vnd.jupyter.widget-view+json": {
              "model_id": "d51655dab0cb4f5fadb768272e947fe2",
              "version_major": 2,
              "version_minor": 0
            },
            "text/plain": [
              "Validation: 0it [00:00, ?it/s]"
            ]
          },
          "metadata": {},
          "output_type": "display_data"
        },
        {
          "metadata": {
            "tags": null
          },
          "name": "stderr",
          "output_type": "stream",
          "text": [
            "2023-01-02 09:16:02.669 | INFO     | __main__:on_validation_epoch_start:14 - Valid.\n"
          ]
        },
        {
          "metadata": {
            "tags": null
          },
          "name": "stdout",
          "output_type": "stream",
          "text": [
            "loss: 0.17367442273958164 - Detection acc: 0.5991 - Correction acc: 0.4649\n",
            "Detection: precision=0.5609504132231405, recall=0.5339233038348082 and F1=0.5471032745591939\n",
            "Correction: precision=0.7117863720073665, recall=0.5903016418480336 and F1=0.6453767480692966\n",
            "Sentence Level: acc:0.464933, precision:0.564085, recall:0.253081, f1:0.349400\n"
          ]
        },
        {
          "data": {
            "application/vnd.jupyter.widget-view+json": {
              "model_id": "2eebdedb88ba4f43af553fdb6d04ba5e",
              "version_major": 2,
              "version_minor": 0
            },
            "text/plain": [
              "Validation: 0it [00:00, ?it/s]"
            ]
          },
          "metadata": {},
          "output_type": "display_data"
        },
        {
          "metadata": {
            "tags": null
          },
          "name": "stderr",
          "output_type": "stream",
          "text": [
            "2023-01-02 09:17:24.589 | INFO     | __main__:on_validation_epoch_start:14 - Valid.\n"
          ]
        },
        {
          "metadata": {
            "tags": null
          },
          "name": "stdout",
          "output_type": "stream",
          "text": [
            "loss: 0.1768260755660859 - Detection acc: 0.6054 - Correction acc: 0.4631\n",
            "Detection: precision=0.5585858585858586, recall=0.543756145526057 and F1=0.5510712506228201\n",
            "Correction: precision=0.6984629294755877, recall=0.582579185520362 and F1=0.6352796052631579\n",
            "Sentence Level: acc:0.463139, precision:0.560224, recall:0.252765, f1:0.348356\n"
          ]
        },
        {
          "data": {
            "application/vnd.jupyter.widget-view+json": {
              "model_id": "f262db57d9344de1af333674aaccd9fb",
              "version_major": 2,
              "version_minor": 0
            },
            "text/plain": [
              "Validation: 0it [00:00, ?it/s]"
            ]
          },
          "metadata": {},
          "output_type": "display_data"
        },
        {
          "metadata": {
            "tags": null
          },
          "name": "stderr",
          "output_type": "stream",
          "text": [
            "2023-01-02 09:18:46.631 | INFO     | __main__:on_validation_epoch_start:14 - Valid.\n"
          ]
        },
        {
          "metadata": {
            "tags": null
          },
          "name": "stdout",
          "output_type": "stream",
          "text": [
            "loss: 0.178704971447587 - Detection acc: 0.5996 - Correction acc: 0.4669\n",
            "Detection: precision=0.5627750453015791, recall=0.5344149459193707 and F1=0.5482284705585676\n",
            "Correction: precision=0.7092916283348666, recall=0.5881006864988558 and F1=0.6430358632193495\n",
            "Sentence Level: acc:0.466906, precision:0.568586, recall:0.252765, f1:0.349956\n"
          ]
        },
        {
          "data": {
            "application/vnd.jupyter.widget-view+json": {
              "model_id": "a7c184e2866e426cbe8dd5a17b259c38",
              "version_major": 2,
              "version_minor": 0
            },
            "text/plain": [
              "Validation: 0it [00:00, ?it/s]"
            ]
          },
          "metadata": {},
          "output_type": "display_data"
        },
        {
          "metadata": {
            "tags": null
          },
          "name": "stderr",
          "output_type": "stream",
          "text": [
            "2023-01-02 09:20:08.556 | INFO     | __main__:on_validation_epoch_start:14 - Valid.\n"
          ]
        },
        {
          "metadata": {
            "tags": null
          },
          "name": "stdout",
          "output_type": "stream",
          "text": [
            "loss: 0.1759355098686435 - Detection acc: 0.6014 - Correction acc: 0.4669\n",
            "Detection: precision=0.558679391281919, recall=0.532448377581121 and F1=0.5452485840151038\n",
            "Correction: precision=0.7059095106186519, recall=0.5858237547892721 and F1=0.6402847571189281\n",
            "Sentence Level: acc:0.466906, precision:0.568294, recall:0.253712, f1:0.350808\n"
          ]
        },
        {
          "data": {
            "application/vnd.jupyter.widget-view+json": {
              "model_id": "722a437d21134eaeac030b8d2c075d1f",
              "version_major": 2,
              "version_minor": 0
            },
            "text/plain": [
              "Validation: 0it [00:00, ?it/s]"
            ]
          },
          "metadata": {},
          "output_type": "display_data"
        },
        {
          "metadata": {
            "tags": null
          },
          "name": "stderr",
          "output_type": "stream",
          "text": [
            "2023-01-02 09:21:31.630 | INFO     | __main__:on_validation_epoch_start:14 - Valid.\n"
          ]
        },
        {
          "metadata": {
            "tags": null
          },
          "name": "stdout",
          "output_type": "stream",
          "text": [
            "loss: 0.1772477034140717 - Detection acc: 0.5975 - Correction acc: 0.4651\n",
            "Detection: precision=0.559383972853041, recall=0.5267944936086529 and F1=0.5426003291555893\n",
            "Correction: precision=0.7116192253849744, recall=0.5872160184828649 and F1=0.6434599156118144\n",
            "Sentence Level: acc:0.465112, precision:0.564848, recall:0.251817, f1:0.348339\n"
          ]
        },
        {
          "data": {
            "application/vnd.jupyter.widget-view+json": {
              "model_id": "e658bccb66e24669a64d557241ef0ef5",
              "version_major": 2,
              "version_minor": 0
            },
            "text/plain": [
              "Validation: 0it [00:00, ?it/s]"
            ]
          },
          "metadata": {},
          "output_type": "display_data"
        },
        {
          "metadata": {
            "tags": null
          },
          "name": "stderr",
          "output_type": "stream",
          "text": [
            "2023-01-02 09:22:52.790 | INFO     | __main__:on_validation_epoch_start:14 - Valid.\n"
          ]
        },
        {
          "metadata": {
            "tags": null
          },
          "name": "stdout",
          "output_type": "stream",
          "text": [
            "loss: 0.17806236445903778 - Detection acc: 0.6007 - Correction acc: 0.4689\n",
            "Detection: precision=0.5601120733571064, recall=0.5405604719764012 and F1=0.5501626219664749\n",
            "Correction: precision=0.7116871305138699, recall=0.5934774364808495 and F1=0.6472291149710505\n",
            "Sentence Level: acc:0.468879, precision:0.571831, recall:0.256556, f1:0.354198\n"
          ]
        },
        {
          "data": {
            "application/vnd.jupyter.widget-view+json": {
              "model_id": "27962c374a36427d918dd2bc1b0dde53",
              "version_major": 2,
              "version_minor": 0
            },
            "text/plain": [
              "Validation: 0it [00:00, ?it/s]"
            ]
          },
          "metadata": {},
          "output_type": "display_data"
        },
        {
          "metadata": {
            "tags": null
          },
          "name": "stderr",
          "output_type": "stream",
          "text": [
            "2023-01-02 09:24:28.366 | INFO     | __main__:on_validation_epoch_start:14 - Valid.\n"
          ]
        },
        {
          "metadata": {
            "tags": null
          },
          "name": "stdout",
          "output_type": "stream",
          "text": [
            "loss: 0.17661958848210899 - Detection acc: 0.5993 - Correction acc: 0.4710\n",
            "Detection: precision=0.5701636705124765, recall=0.522369714847591 and F1=0.5452212957023733\n",
            "Correction: precision=0.7181176470588235, recall=0.5912437039907013 and F1=0.6485337866553337\n",
            "Sentence Level: acc:0.471031, precision:0.578035, recall:0.252765, f1:0.351726\n"
          ]
        },
        {
          "data": {
            "application/vnd.jupyter.widget-view+json": {
              "model_id": "6a4d86077f69474f9e5df617e687d089",
              "version_major": 2,
              "version_minor": 0
            },
            "text/plain": [
              "Validation: 0it [00:00, ?it/s]"
            ]
          },
          "metadata": {},
          "output_type": "display_data"
        },
        {
          "metadata": {
            "tags": null
          },
          "name": "stderr",
          "output_type": "stream",
          "text": [
            "2023-01-02 09:25:50.726 | INFO     | __main__:on_validation_epoch_start:14 - Valid.\n"
          ]
        },
        {
          "metadata": {
            "tags": null
          },
          "name": "stdout",
          "output_type": "stream",
          "text": [
            "loss: 0.17880644801665435 - Detection acc: 0.5935 - Correction acc: 0.4642\n",
            "Detection: precision=0.5596899224806201, recall=0.532448377581121 and F1=0.54572940287226\n",
            "Correction: precision=0.7142197599261311, recall=0.5913608562691132 and F1=0.6470096194061062\n",
            "Sentence Level: acc:0.464215, precision:0.563121, recall:0.250869, f1:0.347104\n"
          ]
        },
        {
          "data": {
            "application/vnd.jupyter.widget-view+json": {
              "model_id": "4dfbe630b36b42d3a03788b28fd1bb85",
              "version_major": 2,
              "version_minor": 0
            },
            "text/plain": [
              "Validation: 0it [00:00, ?it/s]"
            ]
          },
          "metadata": {},
          "output_type": "display_data"
        },
        {
          "metadata": {
            "tags": null
          },
          "name": "stderr",
          "output_type": "stream",
          "text": [
            "2023-01-02 09:27:13.053 | INFO     | __main__:on_validation_epoch_start:14 - Valid.\n"
          ]
        },
        {
          "metadata": {
            "tags": null
          },
          "name": "stdout",
          "output_type": "stream",
          "text": [
            "loss: 0.1788824996487661 - Detection acc: 0.6018 - Correction acc: 0.4658\n",
            "Detection: precision=0.562143966856551, recall=0.533677482792527 and F1=0.5475409836065575\n",
            "Correction: precision=0.7098111469368954, recall=0.587047619047619 and F1=0.6426188490408674\n",
            "Sentence Level: acc:0.465830, precision:0.565799, recall:0.254028, f1:0.350632\n"
          ]
        },
        {
          "data": {
            "application/vnd.jupyter.widget-view+json": {
              "model_id": "e0f3c5d2b9234282aa74fc3f497966ca",
              "version_major": 2,
              "version_minor": 0
            },
            "text/plain": [
              "Validation: 0it [00:00, ?it/s]"
            ]
          },
          "metadata": {},
          "output_type": "display_data"
        },
        {
          "metadata": {
            "tags": null
          },
          "name": "stderr",
          "output_type": "stream",
          "text": [
            "2023-01-02 09:28:34.675 | INFO     | __main__:on_validation_epoch_start:14 - Valid.\n"
          ]
        },
        {
          "metadata": {
            "tags": null
          },
          "name": "stdout",
          "output_type": "stream",
          "text": [
            "loss: 0.17933952164920894 - Detection acc: 0.5989 - Correction acc: 0.4655\n",
            "Detection: precision=0.5538612887358584, recall=0.5535889872173058 and F1=0.5537251044996312\n",
            "Correction: precision=0.7069271758436945, recall=0.5902855024100853 and F1=0.6433622954132148\n",
            "Sentence Level: acc:0.465471, precision:0.562122, recall:0.264455, f1:0.359691\n"
          ]
        },
        {
          "data": {
            "application/vnd.jupyter.widget-view+json": {
              "model_id": "8ed66fcdf3414053a1ff5fd79704813b",
              "version_major": 2,
              "version_minor": 0
            },
            "text/plain": [
              "Validation: 0it [00:00, ?it/s]"
            ]
          },
          "metadata": {},
          "output_type": "display_data"
        },
        {
          "metadata": {
            "tags": null
          },
          "name": "stderr",
          "output_type": "stream",
          "text": [
            "2023-01-02 09:30:08.939 | INFO     | __main__:on_validation_epoch_start:14 - Valid.\n"
          ]
        },
        {
          "metadata": {
            "tags": null
          },
          "name": "stdout",
          "output_type": "stream",
          "text": [
            "loss: 0.18341576697474177 - Detection acc: 0.5917 - Correction acc: 0.4674\n",
            "Detection: precision=0.5625613346418057, recall=0.5636676499508357 and F1=0.5631139489194498\n",
            "Correction: precision=0.6977758395115569, recall=0.5845816587504568 and F1=0.6361829025844931\n",
            "Sentence Level: acc:0.467444, precision:0.565860, recall:0.266035, f1:0.361917\n"
          ]
        },
        {
          "data": {
            "application/vnd.jupyter.widget-view+json": {
              "model_id": "092771dcfe5942f991e33a3d8a4293dd",
              "version_major": 2,
              "version_minor": 0
            },
            "text/plain": [
              "Validation: 0it [00:00, ?it/s]"
            ]
          },
          "metadata": {},
          "output_type": "display_data"
        },
        {
          "metadata": {
            "tags": null
          },
          "name": "stderr",
          "output_type": "stream",
          "text": [
            "2023-01-02 09:31:45.469 | INFO     | __main__:on_validation_epoch_start:14 - Valid.\n"
          ]
        },
        {
          "metadata": {
            "tags": null
          },
          "name": "stdout",
          "output_type": "stream",
          "text": [
            "loss: 0.17907776971432296 - Detection acc: 0.6077 - Correction acc: 0.4676\n",
            "Detection: precision=0.5628631801373482, recall=0.5238446411012783 and F1=0.5426534250063662\n",
            "Correction: precision=0.7175035194744251, recall=0.5921766072811774 and F1=0.6488436240186717\n",
            "Sentence Level: acc:0.467623, precision:0.570007, recall:0.253397, f1:0.350831\n"
          ]
        },
        {
          "data": {
            "application/vnd.jupyter.widget-view+json": {
              "model_id": "2af774fe31264345a8a6fc3047fea64e",
              "version_major": 2,
              "version_minor": 0
            },
            "text/plain": [
              "Validation: 0it [00:00, ?it/s]"
            ]
          },
          "metadata": {},
          "output_type": "display_data"
        },
        {
          "metadata": {
            "tags": null
          },
          "name": "stderr",
          "output_type": "stream",
          "text": [
            "2023-01-02 09:33:07.146 | INFO     | __main__:on_validation_epoch_start:14 - Valid.\n"
          ]
        },
        {
          "metadata": {
            "tags": null
          },
          "name": "stdout",
          "output_type": "stream",
          "text": [
            "loss: 0.18003664030270142 - Detection acc: 0.6048 - Correction acc: 0.4689\n",
            "Detection: precision=0.5635103926096998, recall=0.5398230088495575 and F1=0.5514124293785311\n",
            "Correction: precision=0.7053734061930783, recall=0.5867424242424243 and F1=0.6406120760959472\n",
            "Sentence Level: acc:0.468879, precision:0.571329, recall:0.258136, f1:0.355604\n"
          ]
        },
        {
          "data": {
            "application/vnd.jupyter.widget-view+json": {
              "model_id": "05a5bd35523349c3870d120c96845a51",
              "version_major": 2,
              "version_minor": 0
            },
            "text/plain": [
              "Validation: 0it [00:00, ?it/s]"
            ]
          },
          "metadata": {},
          "output_type": "display_data"
        },
        {
          "metadata": {
            "tags": null
          },
          "name": "stderr",
          "output_type": "stream",
          "text": [
            "2023-01-02 09:34:30.707 | INFO     | __main__:on_validation_epoch_start:14 - Valid.\n"
          ]
        },
        {
          "metadata": {
            "tags": null
          },
          "name": "stdout",
          "output_type": "stream",
          "text": [
            "loss: 0.18011380528861826 - Detection acc: 0.6063 - Correction acc: 0.4689\n",
            "Detection: precision=0.564391995895331, recall=0.5408062930186824 and F1=0.5523474767762994\n",
            "Correction: precision=0.7081818181818181, recall=0.5897047691143074 and F1=0.6435357290375877\n",
            "Sentence Level: acc:0.468879, precision:0.571130, recall:0.258768, f1:0.356164\n"
          ]
        },
        {
          "data": {
            "application/vnd.jupyter.widget-view+json": {
              "model_id": "6180c5b10ed948e2bd47d321722e4d80",
              "version_major": 2,
              "version_minor": 0
            },
            "text/plain": [
              "Validation: 0it [00:00, ?it/s]"
            ]
          },
          "metadata": {},
          "output_type": "display_data"
        },
        {
          "metadata": {
            "tags": null
          },
          "name": "stderr",
          "output_type": "stream",
          "text": [
            "2023-01-02 09:35:53.360 | INFO     | __main__:on_validation_epoch_start:14 - Valid.\n"
          ]
        },
        {
          "metadata": {
            "tags": null
          },
          "name": "stdout",
          "output_type": "stream",
          "text": [
            "loss: 0.18126071278344502 - Detection acc: 0.6025 - Correction acc: 0.4705\n",
            "Detection: precision=0.5657068062827225, recall=0.5312192723697149 and F1=0.547920892494929\n",
            "Correction: precision=0.7154095326237853, recall=0.5927914110429447 and F1=0.6483539526106102\n",
            "Sentence Level: acc:0.470493, precision:0.573907, recall:0.261295, f1:0.359097\n"
          ]
        },
        {
          "data": {
            "application/vnd.jupyter.widget-view+json": {
              "model_id": "699579ffc7914f1fa58c8e1626fc86cc",
              "version_major": 2,
              "version_minor": 0
            },
            "text/plain": [
              "Validation: 0it [00:00, ?it/s]"
            ]
          },
          "metadata": {},
          "output_type": "display_data"
        },
        {
          "metadata": {
            "tags": null
          },
          "name": "stderr",
          "output_type": "stream",
          "text": [
            "2023-01-02 09:37:29.330 | INFO     | __main__:on_validation_epoch_start:14 - Valid.\n"
          ]
        },
        {
          "metadata": {
            "tags": null
          },
          "name": "stdout",
          "output_type": "stream",
          "text": [
            "loss: 0.17973502437499436 - Detection acc: 0.6106 - Correction acc: 0.4723\n",
            "Detection: precision=0.5655333506358682, recall=0.5356440511307768 and F1=0.5501830576947355\n",
            "Correction: precision=0.7154658100045893, recall=0.5932267884322678 and F1=0.6486374037861452\n",
            "Sentence Level: acc:0.472287, precision:0.577163, recall:0.263507, f1:0.361822\n"
          ]
        },
        {
          "data": {
            "application/vnd.jupyter.widget-view+json": {
              "model_id": "419ba40c8b074531bfe4901c8ea5a31c",
              "version_major": 2,
              "version_minor": 0
            },
            "text/plain": [
              "Validation: 0it [00:00, ?it/s]"
            ]
          },
          "metadata": {},
          "output_type": "display_data"
        },
        {
          "metadata": {
            "tags": null
          },
          "name": "stderr",
          "output_type": "stream",
          "text": [
            "2023-01-02 09:39:05.586 | INFO     | __main__:on_validation_epoch_start:14 - Valid.\n"
          ]
        },
        {
          "metadata": {
            "tags": null
          },
          "name": "stdout",
          "output_type": "stream",
          "text": [
            "loss: 0.17944745143706148 - Detection acc: 0.6059 - Correction acc: 0.4700\n",
            "Detection: precision=0.5668689000263782, recall=0.5282694198623402 and F1=0.5468889171650336\n",
            "Correction: precision=0.7128897161470451, recall=0.5887778631821675 and F1=0.6449168596085034\n",
            "Sentence Level: acc:0.469955, precision:0.574680, recall:0.255292, f1:0.353533\n"
          ]
        },
        {
          "data": {
            "application/vnd.jupyter.widget-view+json": {
              "model_id": "e97eb9cc7dc44d17888121e836f1cbeb",
              "version_major": 2,
              "version_minor": 0
            },
            "text/plain": [
              "Validation: 0it [00:00, ?it/s]"
            ]
          },
          "metadata": {},
          "output_type": "display_data"
        },
        {
          "metadata": {
            "tags": null
          },
          "name": "stderr",
          "output_type": "stream",
          "text": [
            "2023-01-02 09:40:28.205 | INFO     | __main__:on_validation_epoch_start:14 - Valid.\n"
          ]
        },
        {
          "metadata": {
            "tags": null
          },
          "name": "stdout",
          "output_type": "stream",
          "text": [
            "loss: 0.17929975823922592 - Detection acc: 0.6077 - Correction acc: 0.4728\n",
            "Detection: precision=0.5674603174603174, recall=0.5272861356932154 and F1=0.5466360856269113\n",
            "Correction: precision=0.7156177156177156, recall=0.5931221020092736 and F1=0.648637227973801\n",
            "Sentence Level: acc:0.472825, precision:0.579915, recall:0.259084, f1:0.358157\n"
          ]
        },
        {
          "data": {
            "application/vnd.jupyter.widget-view+json": {
              "model_id": "4a2f5abbc3004bfba3982350ecf836b6",
              "version_major": 2,
              "version_minor": 0
            },
            "text/plain": [
              "Validation: 0it [00:00, ?it/s]"
            ]
          },
          "metadata": {},
          "output_type": "display_data"
        },
        {
          "metadata": {
            "tags": null
          },
          "name": "stderr",
          "output_type": "stream",
          "text": [
            "2023-01-02 09:41:50.530 | INFO     | __main__:on_validation_epoch_start:14 - Valid.\n"
          ]
        },
        {
          "metadata": {
            "tags": null
          },
          "name": "stdout",
          "output_type": "stream",
          "text": [
            "loss: 0.18457329747351733 - Detection acc: 0.6005 - Correction acc: 0.4701\n",
            "Detection: precision=0.5635942327497425, recall=0.538102261553589 and F1=0.5505533199195171\n",
            "Correction: precision=0.7158519872087711, recall=0.5949126803340926 and F1=0.6498030271615177\n",
            "Sentence Level: acc:0.470135, precision:0.573213, recall:0.260979, f1:0.358663\n"
          ]
        },
        {
          "data": {
            "application/vnd.jupyter.widget-view+json": {
              "model_id": "e84987f404b54b8998b8681cfb44e7b4",
              "version_major": 2,
              "version_minor": 0
            },
            "text/plain": [
              "Validation: 0it [00:00, ?it/s]"
            ]
          },
          "metadata": {},
          "output_type": "display_data"
        },
        {
          "metadata": {
            "tags": null
          },
          "name": "stderr",
          "output_type": "stream",
          "text": [
            "2023-01-02 09:43:14.720 | INFO     | __main__:on_validation_epoch_start:14 - Valid.\n"
          ]
        },
        {
          "metadata": {
            "tags": null
          },
          "name": "stdout",
          "output_type": "stream",
          "text": [
            "loss: 0.18132075379517945 - Detection acc: 0.6059 - Correction acc: 0.4633\n",
            "Detection: precision=0.5546599496221662, recall=0.5412979351032449 and F1=0.5478974869370491\n",
            "Correction: precision=0.7102633969118983, recall=0.59041147602869 and F1=0.6448155019583591\n",
            "Sentence Level: acc:0.463318, precision:0.559287, recall:0.257820, f1:0.352941\n"
          ]
        },
        {
          "data": {
            "application/vnd.jupyter.widget-view+json": {
              "model_id": "b4d6ebbda0a7477f810242e14ebda227",
              "version_major": 2,
              "version_minor": 0
            },
            "text/plain": [
              "Validation: 0it [00:00, ?it/s]"
            ]
          },
          "metadata": {},
          "output_type": "display_data"
        },
        {
          "metadata": {
            "tags": null
          },
          "name": "stderr",
          "output_type": "stream",
          "text": [
            "2023-01-02 09:44:36.230 | INFO     | __main__:on_validation_epoch_start:14 - Valid.\n"
          ]
        },
        {
          "metadata": {
            "tags": null
          },
          "name": "stdout",
          "output_type": "stream",
          "text": [
            "loss: 0.1810200470076366 - Detection acc: 0.6047 - Correction acc: 0.4703\n",
            "Detection: precision=0.5647303985412868, recall=0.5329400196656834 and F1=0.5483748577210067\n",
            "Correction: precision=0.7154059040590406, recall=0.5933435348125479 and F1=0.6486825595984943\n",
            "Sentence Level: acc:0.470314, precision:0.573204, recall:0.262243, f1:0.359853\n"
          ]
        },
        {
          "data": {
            "application/vnd.jupyter.widget-view+json": {
              "model_id": "678d9296f91f4af99caa686877f89b17",
              "version_major": 2,
              "version_minor": 0
            },
            "text/plain": [
              "Validation: 0it [00:00, ?it/s]"
            ]
          },
          "metadata": {},
          "output_type": "display_data"
        },
        {
          "metadata": {
            "tags": null
          },
          "name": "stderr",
          "output_type": "stream",
          "text": [
            "2023-01-02 09:45:58.842 | INFO     | __main__:on_validation_epoch_start:14 - Valid.\n"
          ]
        },
        {
          "metadata": {
            "tags": null
          },
          "name": "stdout",
          "output_type": "stream",
          "text": [
            "loss: 0.18490638363767753 - Detection acc: 0.5977 - Correction acc: 0.4674\n",
            "Detection: precision=0.5612115041995419, recall=0.5420353982300885 and F1=0.5514567962986119\n",
            "Correction: precision=0.7052154195011338, recall=0.5870139675349189 and F1=0.6407086938607335\n",
            "Sentence Level: acc:0.467444, precision:0.567773, recall:0.259400, f1:0.356105\n"
          ]
        },
        {
          "data": {
            "application/vnd.jupyter.widget-view+json": {
              "model_id": "1f166fd80fd44998b80ed947e59f4d80",
              "version_major": 2,
              "version_minor": 0
            },
            "text/plain": [
              "Validation: 0it [00:00, ?it/s]"
            ]
          },
          "metadata": {},
          "output_type": "display_data"
        },
        {
          "metadata": {
            "tags": null
          },
          "name": "stderr",
          "output_type": "stream",
          "text": [
            "2023-01-02 09:47:21.796 | INFO     | __main__:on_validation_epoch_start:14 - Valid.\n"
          ]
        },
        {
          "metadata": {
            "tags": null
          },
          "name": "stdout",
          "output_type": "stream",
          "text": [
            "loss: 0.18175429054959255 - Detection acc: 0.6135 - Correction acc: 0.4674\n",
            "Detection: precision=0.5658234383066598, recall=0.5388397246804326 and F1=0.5520020146058927\n",
            "Correction: precision=0.7125912408759124, recall=0.5934650455927052 and F1=0.6475953565505804\n",
            "Sentence Level: acc:0.467444, precision:0.567400, recall:0.260664, f1:0.357220\n"
          ]
        },
        {
          "data": {
            "application/vnd.jupyter.widget-view+json": {
              "model_id": "20d9fba5b43c49a68ef6a332aede0bf7",
              "version_major": 2,
              "version_minor": 0
            },
            "text/plain": [
              "Validation: 0it [00:00, ?it/s]"
            ]
          },
          "metadata": {},
          "output_type": "display_data"
        },
        {
          "metadata": {
            "tags": null
          },
          "name": "stderr",
          "output_type": "stream",
          "text": [
            "2023-01-02 09:48:43.372 | INFO     | __main__:on_validation_epoch_start:14 - Valid.\n"
          ]
        },
        {
          "metadata": {
            "tags": null
          },
          "name": "stdout",
          "output_type": "stream",
          "text": [
            "loss: 0.18539131060242653 - Detection acc: 0.6063 - Correction acc: 0.4671\n",
            "Detection: precision=0.5613991565368395, recall=0.5562930186823992 and F1=0.5588344240029633\n",
            "Correction: precision=0.7030490499337163, recall=0.588170055452865 and F1=0.640499194847021\n",
            "Sentence Level: acc:0.467085, precision:0.565807, recall:0.263507, f1:0.359560\n"
          ]
        },
        {
          "data": {
            "application/vnd.jupyter.widget-view+json": {
              "model_id": "1a52679f7dfa413ab8f84fc1baeb76d3",
              "version_major": 2,
              "version_minor": 0
            },
            "text/plain": [
              "Validation: 0it [00:00, ?it/s]"
            ]
          },
          "metadata": {},
          "output_type": "display_data"
        },
        {
          "metadata": {
            "tags": null
          },
          "name": "stderr",
          "output_type": "stream",
          "text": [
            "2023-01-02 09:50:05.852 | INFO     | __main__:on_validation_epoch_start:14 - Valid.\n"
          ]
        },
        {
          "metadata": {
            "tags": null
          },
          "name": "stdout",
          "output_type": "stream",
          "text": [
            "loss: 0.1818026824092323 - Detection acc: 0.6084 - Correction acc: 0.4698\n",
            "Detection: precision=0.5647736194713425, recall=0.5304818092428711 and F1=0.5470908860438585\n",
            "Correction: precision=0.7182576459684893, recall=0.5940973553085473 and F1=0.6503041745332494\n",
            "Sentence Level: acc:0.469776, precision:0.573026, recall:0.259084, f1:0.356832\n"
          ]
        },
        {
          "data": {
            "application/vnd.jupyter.widget-view+json": {
              "model_id": "9a50367aa9f940529b5672d5a383f9b5",
              "version_major": 2,
              "version_minor": 0
            },
            "text/plain": [
              "Validation: 0it [00:00, ?it/s]"
            ]
          },
          "metadata": {},
          "output_type": "display_data"
        },
        {
          "metadata": {
            "tags": null
          },
          "name": "stderr",
          "output_type": "stream",
          "text": [
            "2023-01-02 09:51:26.729 | INFO     | __main__:on_validation_epoch_start:14 - Valid.\n"
          ]
        },
        {
          "metadata": {
            "tags": null
          },
          "name": "stdout",
          "output_type": "stream",
          "text": [
            "loss: 0.18302167968993838 - Detection acc: 0.6102 - Correction acc: 0.4685\n",
            "Detection: precision=0.5667701863354038, recall=0.5383480825958702 and F1=0.5521936459909228\n",
            "Correction: precision=0.7114155251141553, recall=0.5923954372623574 and F1=0.6464730290456432\n",
            "Sentence Level: acc:0.468520, precision:0.570236, recall:0.259084, f1:0.356289\n"
          ]
        },
        {
          "data": {
            "application/vnd.jupyter.widget-view+json": {
              "model_id": "b8f32721588a45dbb6b731d78f6c43a3",
              "version_major": 2,
              "version_minor": 0
            },
            "text/plain": [
              "Validation: 0it [00:00, ?it/s]"
            ]
          },
          "metadata": {},
          "output_type": "display_data"
        },
        {
          "metadata": {
            "tags": null
          },
          "name": "stderr",
          "output_type": "stream",
          "text": [
            "2023-01-02 09:52:50.238 | INFO     | __main__:on_validation_epoch_start:14 - Valid.\n"
          ]
        },
        {
          "metadata": {
            "tags": null
          },
          "name": "stdout",
          "output_type": "stream",
          "text": [
            "loss: 0.1850418998775157 - Detection acc: 0.6045 - Correction acc: 0.4669\n",
            "Detection: precision=0.5605906313645621, recall=0.5412979351032449 and F1=0.5507753876938468\n",
            "Correction: precision=0.7089009990917348, recall=0.5912878787878788 and F1=0.6447748864105741\n",
            "Sentence Level: acc:0.466906, precision:0.566414, recall:0.260032, f1:0.356431\n"
          ]
        },
        {
          "data": {
            "application/vnd.jupyter.widget-view+json": {
              "model_id": "090e179fd52a406db446b6e2027843ab",
              "version_major": 2,
              "version_minor": 0
            },
            "text/plain": [
              "Validation: 0it [00:00, ?it/s]"
            ]
          },
          "metadata": {},
          "output_type": "display_data"
        },
        {
          "metadata": {
            "tags": null
          },
          "name": "stderr",
          "output_type": "stream",
          "text": [
            "2023-01-02 09:54:13.566 | INFO     | __main__:on_validation_epoch_start:14 - Valid.\n"
          ]
        },
        {
          "metadata": {
            "tags": null
          },
          "name": "stdout",
          "output_type": "stream",
          "text": [
            "loss: 0.1859075708145445 - Detection acc: 0.6074 - Correction acc: 0.4685\n",
            "Detection: precision=0.5614711934156379, recall=0.5366273352999017 and F1=0.5487682252388134\n",
            "Correction: precision=0.7127805771873569, recall=0.5927619047619047 and F1=0.6472545757071547\n",
            "Sentence Level: acc:0.468520, precision:0.569945, recall:0.260032, f1:0.357127\n"
          ]
        },
        {
          "data": {
            "application/vnd.jupyter.widget-view+json": {
              "model_id": "15d87024e1604dc09614df88e9412736",
              "version_major": 2,
              "version_minor": 0
            },
            "text/plain": [
              "Validation: 0it [00:00, ?it/s]"
            ]
          },
          "metadata": {},
          "output_type": "display_data"
        },
        {
          "metadata": {
            "tags": null
          },
          "name": "stderr",
          "output_type": "stream",
          "text": [
            "2023-01-02 09:55:37.302 | INFO     | __main__:on_validation_epoch_start:14 - Valid.\n"
          ]
        },
        {
          "metadata": {
            "tags": null
          },
          "name": "stdout",
          "output_type": "stream",
          "text": [
            "loss: 0.1824530227617784 - Detection acc: 0.6070 - Correction acc: 0.4655\n",
            "Detection: precision=0.5629174458990115, recall=0.517944936086529 and F1=0.5394955831519652\n",
            "Correction: precision=0.7157095396298054, recall=0.5892926924579914 and F1=0.6463780540077153\n",
            "Sentence Level: acc:0.465471, precision:0.565930, recall:0.250869, f1:0.347636\n"
          ]
        },
        {
          "data": {
            "application/vnd.jupyter.widget-view+json": {
              "model_id": "831ae31075e245da95d152784ceb2910",
              "version_major": 2,
              "version_minor": 0
            },
            "text/plain": [
              "Validation: 0it [00:00, ?it/s]"
            ]
          },
          "metadata": {},
          "output_type": "display_data"
        },
        {
          "metadata": {
            "tags": null
          },
          "name": "stderr",
          "output_type": "stream",
          "text": [
            "2023-01-02 09:57:00.065 | INFO     | __main__:on_validation_epoch_start:14 - Valid.\n"
          ]
        },
        {
          "metadata": {
            "tags": null
          },
          "name": "stdout",
          "output_type": "stream",
          "text": [
            "loss: 0.1819623766297644 - Detection acc: 0.6086 - Correction acc: 0.4692\n",
            "Detection: precision=0.5619023003360042, recall=0.5344149459193707 and F1=0.5478140355297972\n",
            "Correction: precision=0.7115915363385464, recall=0.5904580152671756 and F1=0.6453900709219859\n",
            "Sentence Level: acc:0.469238, precision:0.571727, recall:0.259400, f1:0.356879\n"
          ]
        },
        {
          "data": {
            "application/vnd.jupyter.widget-view+json": {
              "model_id": "fabe9641baf64898a8b53a99a0675fa5",
              "version_major": 2,
              "version_minor": 0
            },
            "text/plain": [
              "Validation: 0it [00:00, ?it/s]"
            ]
          },
          "metadata": {},
          "output_type": "display_data"
        },
        {
          "metadata": {
            "tags": null
          },
          "name": "stderr",
          "output_type": "stream",
          "text": [
            "2023-01-02 09:58:22.734 | INFO     | __main__:on_validation_epoch_start:14 - Valid.\n"
          ]
        },
        {
          "metadata": {
            "tags": null
          },
          "name": "stdout",
          "output_type": "stream",
          "text": [
            "loss: 0.18285039541396228 - Detection acc: 0.6023 - Correction acc: 0.4680\n",
            "Detection: precision=0.5616069021299541, recall=0.5120452310717798 and F1=0.5356821396425357\n",
            "Correction: precision=0.7239558329332694, recall=0.5991259435836314 and F1=0.6556521739130435\n",
            "Sentence Level: acc:0.467982, precision:0.570517, recall:0.254344, f1:0.351836\n"
          ]
        },
        {
          "data": {
            "application/vnd.jupyter.widget-view+json": {
              "model_id": "27257bd52f644d64bc9b28ed250f42bd",
              "version_major": 2,
              "version_minor": 0
            },
            "text/plain": [
              "Validation: 0it [00:00, ?it/s]"
            ]
          },
          "metadata": {},
          "output_type": "display_data"
        },
        {
          "metadata": {
            "tags": null
          },
          "name": "stderr",
          "output_type": "stream",
          "text": [
            "2023-01-02 09:59:45.041 | INFO     | __main__:on_validation_epoch_start:14 - Valid.\n"
          ]
        },
        {
          "metadata": {
            "tags": null
          },
          "name": "stdout",
          "output_type": "stream",
          "text": [
            "loss: 0.184342949566516 - Detection acc: 0.6063 - Correction acc: 0.4685\n",
            "Detection: precision=0.5611154547823821, recall=0.5292527040314651 and F1=0.5447185325743201\n",
            "Correction: precision=0.7176033441709243, recall=0.5972168534982605 and F1=0.6518987341772152\n",
            "Sentence Level: acc:0.468520, precision:0.569848, recall:0.260348, f1:0.357406\n"
          ]
        },
        {
          "data": {
            "application/vnd.jupyter.widget-view+json": {
              "model_id": "14013e7e23a7431189baba58a8f804b1",
              "version_major": 2,
              "version_minor": 0
            },
            "text/plain": [
              "Validation: 0it [00:00, ?it/s]"
            ]
          },
          "metadata": {},
          "output_type": "display_data"
        },
        {
          "metadata": {
            "tags": null
          },
          "name": "stderr",
          "output_type": "stream",
          "text": [
            "2023-01-02 10:01:07.682 | INFO     | __main__:on_validation_epoch_start:14 - Valid.\n"
          ]
        },
        {
          "metadata": {
            "tags": null
          },
          "name": "stdout",
          "output_type": "stream",
          "text": [
            "loss: 0.18311615389856425 - Detection acc: 0.6048 - Correction acc: 0.4698\n",
            "Detection: precision=0.5650926167492826, recall=0.532448377581121 and F1=0.5482850272117453\n",
            "Correction: precision=0.7156048014773777, recall=0.5947812739831159 and F1=0.6496227996647108\n",
            "Sentence Level: acc:0.469776, precision:0.572822, recall:0.259716, f1:0.357391\n"
          ]
        },
        {
          "data": {
            "application/vnd.jupyter.widget-view+json": {
              "model_id": "696cf1a663cf483aabb6944183e7771d",
              "version_major": 2,
              "version_minor": 0
            },
            "text/plain": [
              "Validation: 0it [00:00, ?it/s]"
            ]
          },
          "metadata": {},
          "output_type": "display_data"
        },
        {
          "metadata": {
            "tags": null
          },
          "name": "stderr",
          "output_type": "stream",
          "text": [
            "2023-01-02 10:02:29.736 | INFO     | __main__:on_validation_epoch_start:14 - Valid.\n"
          ]
        },
        {
          "metadata": {
            "tags": null
          },
          "name": "stdout",
          "output_type": "stream",
          "text": [
            "loss: 0.18499864654784853 - Detection acc: 0.6115 - Correction acc: 0.4680\n",
            "Detection: precision=0.5632554391619662, recall=0.5154867256637168 and F1=0.5383134385829803\n",
            "Correction: precision=0.7176919408679066, recall=0.5904276186739899 and F1=0.647869134739561\n",
            "Sentence Level: acc:0.467982, precision:0.571326, recall:0.251817, f1:0.349561\n"
          ]
        },
        {
          "data": {
            "application/vnd.jupyter.widget-view+json": {
              "model_id": "97aa9d9b4107458a84e3042400f907ab",
              "version_major": 2,
              "version_minor": 0
            },
            "text/plain": [
              "Validation: 0it [00:00, ?it/s]"
            ]
          },
          "metadata": {},
          "output_type": "display_data"
        },
        {
          "metadata": {
            "tags": null
          },
          "name": "stderr",
          "output_type": "stream",
          "text": [
            "2023-01-02 10:03:52.503 | INFO     | __main__:on_validation_epoch_start:14 - Valid.\n"
          ]
        },
        {
          "metadata": {
            "tags": null
          },
          "name": "stdout",
          "output_type": "stream",
          "text": [
            "loss: 0.1837981053712693 - Detection acc: 0.6077 - Correction acc: 0.4653\n",
            "Detection: precision=0.5608236250338662, recall=0.5088495575221239 and F1=0.5335739141641963\n",
            "Correction: precision=0.7193236714975846, recall=0.5927547770700637 and F1=0.6499345264076822\n",
            "Sentence Level: acc:0.465291, precision:0.567055, recall:0.245814, f1:0.342958\n"
          ]
        },
        {
          "data": {
            "application/vnd.jupyter.widget-view+json": {
              "model_id": "e95e1dffa71e4b3d81bb7a4354b226d6",
              "version_major": 2,
              "version_minor": 0
            },
            "text/plain": [
              "Validation: 0it [00:00, ?it/s]"
            ]
          },
          "metadata": {},
          "output_type": "display_data"
        },
        {
          "metadata": {
            "tags": null
          },
          "name": "stderr",
          "output_type": "stream",
          "text": [
            "2023-01-02 10:05:14.696 | INFO     | __main__:on_validation_epoch_start:14 - Valid.\n"
          ]
        },
        {
          "metadata": {
            "tags": null
          },
          "name": "stdout",
          "output_type": "stream",
          "text": [
            "loss: 0.1859207476743243 - Detection acc: 0.6100 - Correction acc: 0.4674\n",
            "Detection: precision=0.5642177589852009, recall=0.5248279252704031 and F1=0.54381049414162\n",
            "Correction: precision=0.7156908665105386, recall=0.5924777045366421 and F1=0.6482817140432753\n",
            "Sentence Level: acc:0.467444, precision:0.569405, recall:0.254028, f1:0.351322\n"
          ]
        },
        {
          "data": {
            "application/vnd.jupyter.widget-view+json": {
              "model_id": "9dda6f4b1700404b93c5fb8483ad6b82",
              "version_major": 2,
              "version_minor": 0
            },
            "text/plain": [
              "Validation: 0it [00:00, ?it/s]"
            ]
          },
          "metadata": {},
          "output_type": "display_data"
        },
        {
          "metadata": {
            "tags": null
          },
          "name": "stderr",
          "output_type": "stream",
          "text": [
            "2023-01-02 10:06:37.070 | INFO     | __main__:on_validation_epoch_start:14 - Valid.\n"
          ]
        },
        {
          "metadata": {
            "tags": null
          },
          "name": "stdout",
          "output_type": "stream",
          "text": [
            "loss: 0.18492812815714965 - Detection acc: 0.6074 - Correction acc: 0.4676\n",
            "Detection: precision=0.5622156810275623, recall=0.5164700098328416 and F1=0.5383728379244074\n",
            "Correction: precision=0.7225130890052356, recall=0.5959952885747939 and F1=0.653184165232358\n",
            "Sentence Level: acc:0.467623, precision:0.570609, recall:0.251501, f1:0.349123\n"
          ]
        },
        {
          "data": {
            "application/vnd.jupyter.widget-view+json": {
              "model_id": "f0657370636a4d3294a4b4214715cb1a",
              "version_major": 2,
              "version_minor": 0
            },
            "text/plain": [
              "Validation: 0it [00:00, ?it/s]"
            ]
          },
          "metadata": {},
          "output_type": "display_data"
        },
        {
          "metadata": {
            "tags": null
          },
          "name": "stderr",
          "output_type": "stream",
          "text": [
            "2023-01-02 10:07:58.247 | INFO     | __main__:on_validation_epoch_start:14 - Valid.\n"
          ]
        },
        {
          "metadata": {
            "tags": null
          },
          "name": "stdout",
          "output_type": "stream",
          "text": [
            "loss: 0.18456357819112865 - Detection acc: 0.6118 - Correction acc: 0.4667\n",
            "Detection: precision=0.5639611242448122, recall=0.5277777777777778 and F1=0.5452698412698413\n",
            "Correction: precision=0.7168141592920354, recall=0.5928351309707242 and F1=0.648956356736243\n",
            "Sentence Level: acc:0.466726, precision:0.567416, recall:0.255292, f1:0.352146\n"
          ]
        },
        {
          "data": {
            "application/vnd.jupyter.widget-view+json": {
              "model_id": "bfe61ceefd0f489b8abce46d205e8681",
              "version_major": 2,
              "version_minor": 0
            },
            "text/plain": [
              "Validation: 0it [00:00, ?it/s]"
            ]
          },
          "metadata": {},
          "output_type": "display_data"
        },
        {
          "metadata": {
            "tags": null
          },
          "name": "stderr",
          "output_type": "stream",
          "text": [
            "2023-01-02 10:09:20.501 | INFO     | __main__:on_validation_epoch_start:14 - Valid.\n"
          ]
        },
        {
          "metadata": {
            "tags": null
          },
          "name": "stdout",
          "output_type": "stream",
          "text": [
            "loss: 0.19025800309397958 - Detection acc: 0.5982 - Correction acc: 0.4694\n",
            "Detection: precision=0.5631092868137506, recall=0.5395771878072763 and F1=0.5510921416018076\n",
            "Correction: precision=0.7125284738041002, recall=0.5901886792452831 and F1=0.6456140350877193\n",
            "Sentence Level: acc:0.469417, precision:0.571626, recall:0.260979, f1:0.358351\n"
          ]
        },
        {
          "data": {
            "application/vnd.jupyter.widget-view+json": {
              "model_id": "3c90164f3e1d4400bd0afdd5908ac7c3",
              "version_major": 2,
              "version_minor": 0
            },
            "text/plain": [
              "Validation: 0it [00:00, ?it/s]"
            ]
          },
          "metadata": {},
          "output_type": "display_data"
        },
        {
          "metadata": {
            "tags": null
          },
          "name": "stderr",
          "output_type": "stream",
          "text": [
            "2023-01-02 10:10:41.615 | INFO     | __main__:on_validation_epoch_start:14 - Valid.\n"
          ]
        },
        {
          "metadata": {
            "tags": null
          },
          "name": "stdout",
          "output_type": "stream",
          "text": [
            "loss: 0.18515247868543322 - Detection acc: 0.6097 - Correction acc: 0.4642\n",
            "Detection: precision=0.5590979782270606, recall=0.5302359882005899 and F1=0.5442846328538985\n",
            "Correction: precision=0.7167362076958739, recall=0.5962205939066718 and F1=0.6509473684210526\n",
            "Sentence Level: acc:0.464215, precision:0.561634, recall:0.256240, f1:0.351920\n"
          ]
        },
        {
          "data": {
            "application/vnd.jupyter.widget-view+json": {
              "model_id": "014bb4f90db5489db42e19d147befafb",
              "version_major": 2,
              "version_minor": 0
            },
            "text/plain": [
              "Validation: 0it [00:00, ?it/s]"
            ]
          },
          "metadata": {},
          "output_type": "display_data"
        },
        {
          "metadata": {
            "tags": null
          },
          "name": "stderr",
          "output_type": "stream",
          "text": [
            "2023-01-02 10:12:05.388 | INFO     | __main__:on_validation_epoch_start:14 - Valid.\n"
          ]
        },
        {
          "metadata": {
            "tags": null
          },
          "name": "stdout",
          "output_type": "stream",
          "text": [
            "loss: 0.18847422826696525 - Detection acc: 0.6059 - Correction acc: 0.4664\n",
            "Detection: precision=0.56319350473613, recall=0.5115535889872173 and F1=0.5361329382970501\n",
            "Correction: precision=0.7212878423834694, recall=0.5925779707856297 and F1=0.6506285218899003\n",
            "Sentence Level: acc:0.466368, precision:0.568444, recall:0.249289, f1:0.346585\n"
          ]
        },
        {
          "data": {
            "application/vnd.jupyter.widget-view+json": {
              "model_id": "afb6b6428b544bd6b4aa0cf6950f428b",
              "version_major": 2,
              "version_minor": 0
            },
            "text/plain": [
              "Validation: 0it [00:00, ?it/s]"
            ]
          },
          "metadata": {},
          "output_type": "display_data"
        },
        {
          "metadata": {
            "tags": null
          },
          "name": "stderr",
          "output_type": "stream",
          "text": [
            "2023-01-02 10:13:28.174 | INFO     | __main__:on_validation_epoch_start:14 - Valid.\n"
          ]
        },
        {
          "metadata": {
            "tags": null
          },
          "name": "stdout",
          "output_type": "stream",
          "text": [
            "loss: 0.18604051135480404 - Detection acc: 0.6025 - Correction acc: 0.4665\n",
            "Detection: precision=0.5620863118877416, recall=0.5218780727630286 and F1=0.5412364563416189\n",
            "Correction: precision=0.718794159208667, recall=0.5963266901133255 and F1=0.651858180264844\n",
            "Sentence Level: acc:0.466547, precision:0.568068, recall:0.251817, f1:0.348949\n"
          ]
        },
        {
          "data": {
            "application/vnd.jupyter.widget-view+json": {
              "model_id": "b6139646108045af96f96b907bba54e0",
              "version_major": 2,
              "version_minor": 0
            },
            "text/plain": [
              "Validation: 0it [00:00, ?it/s]"
            ]
          },
          "metadata": {},
          "output_type": "display_data"
        },
        {
          "metadata": {
            "tags": null
          },
          "name": "stderr",
          "output_type": "stream",
          "text": [
            "2023-01-02 10:14:49.531 | INFO     | __main__:on_validation_epoch_start:14 - Valid.\n"
          ]
        },
        {
          "metadata": {
            "tags": null
          },
          "name": "stdout",
          "output_type": "stream",
          "text": [
            "loss: 0.18781863102181393 - Detection acc: 0.6023 - Correction acc: 0.4635\n",
            "Detection: precision=0.5628532974427994, recall=0.5140117994100295 and F1=0.5373249389695489\n",
            "Correction: precision=0.7211860353897657, recall=0.5965189873417721 and F1=0.6529551851050012\n",
            "Sentence Level: acc:0.463498, precision:0.562861, recall:0.246130, f1:0.342493\n"
          ]
        },
        {
          "data": {
            "application/vnd.jupyter.widget-view+json": {
              "model_id": "4d15986da06e46129fbd9201e41d1076",
              "version_major": 2,
              "version_minor": 0
            },
            "text/plain": [
              "Validation: 0it [00:00, ?it/s]"
            ]
          },
          "metadata": {},
          "output_type": "display_data"
        },
        {
          "metadata": {
            "tags": null
          },
          "name": "stderr",
          "output_type": "stream",
          "text": [
            "2023-01-02 10:16:12.586 | INFO     | __main__:on_validation_epoch_start:14 - Valid.\n"
          ]
        },
        {
          "metadata": {
            "tags": null
          },
          "name": "stdout",
          "output_type": "stream",
          "text": [
            "loss: 0.18368118086999113 - Detection acc: 0.6036 - Correction acc: 0.4642\n",
            "Detection: precision=0.5623995715050883, recall=0.5162241887905604 and F1=0.5383235067931299\n",
            "Correction: precision=0.7133333333333334, recall=0.5883739198743126 and F1=0.6448557899268188\n",
            "Sentence Level: acc:0.464215, precision:0.564869, recall:0.244866, f1:0.341635\n"
          ]
        },
        {
          "data": {
            "application/vnd.jupyter.widget-view+json": {
              "model_id": "90469d2fa6934962ba077bd1734cbe4b",
              "version_major": 2,
              "version_minor": 0
            },
            "text/plain": [
              "Validation: 0it [00:00, ?it/s]"
            ]
          },
          "metadata": {},
          "output_type": "display_data"
        },
        {
          "metadata": {
            "tags": null
          },
          "name": "stderr",
          "output_type": "stream",
          "text": [
            "2023-01-02 10:17:35.657 | INFO     | __main__:on_validation_epoch_start:14 - Valid.\n"
          ]
        },
        {
          "metadata": {
            "tags": null
          },
          "name": "stdout",
          "output_type": "stream",
          "text": [
            "loss: 0.18715660053897987 - Detection acc: 0.5995 - Correction acc: 0.4651\n",
            "Detection: precision=0.5626992561105207, recall=0.5206489675516224 and F1=0.5408580183861084\n",
            "Correction: precision=0.7138810198300283, recall=0.5924764890282131 and F1=0.6475374732334046\n",
            "Sentence Level: acc:0.465112, precision:0.565780, recall:0.248657, f1:0.345478\n"
          ]
        },
        {
          "data": {
            "application/vnd.jupyter.widget-view+json": {
              "model_id": "386edacf4c1642b98afae9330df7eef1",
              "version_major": 2,
              "version_minor": 0
            },
            "text/plain": [
              "Validation: 0it [00:00, ?it/s]"
            ]
          },
          "metadata": {},
          "output_type": "display_data"
        },
        {
          "metadata": {
            "tags": null
          },
          "name": "stderr",
          "output_type": "stream",
          "text": [
            "2023-01-02 10:18:56.341 | INFO     | __main__:on_validation_epoch_start:14 - Valid.\n"
          ]
        },
        {
          "metadata": {
            "tags": null
          },
          "name": "stdout",
          "output_type": "stream",
          "text": [
            "loss: 0.1867613887245005 - Detection acc: 0.6023 - Correction acc: 0.4667\n",
            "Detection: precision=0.5650586701434159, recall=0.5326941986234022 and F1=0.548399342022017\n",
            "Correction: precision=0.7161975080756806, recall=0.5960061443932412 and F1=0.6505973590442256\n",
            "Sentence Level: acc:0.466726, precision:0.567701, recall:0.254344, f1:0.351298\n"
          ]
        },
        {
          "data": {
            "application/vnd.jupyter.widget-view+json": {
              "model_id": "49dcaefdff6e4b4ebc4d7a681827623d",
              "version_major": 2,
              "version_minor": 0
            },
            "text/plain": [
              "Validation: 0it [00:00, ?it/s]"
            ]
          },
          "metadata": {},
          "output_type": "display_data"
        },
        {
          "metadata": {
            "tags": null
          },
          "name": "stderr",
          "output_type": "stream",
          "text": [
            "2023-01-02 10:20:19.409 | INFO     | __main__:on_validation_epoch_start:14 - Valid.\n"
          ]
        },
        {
          "metadata": {
            "tags": null
          },
          "name": "stdout",
          "output_type": "stream",
          "text": [
            "loss: 0.18534656800329685 - Detection acc: 0.6093 - Correction acc: 0.4640\n",
            "Detection: precision=0.561441247647217, recall=0.5132743362831859 and F1=0.5362784127391806\n",
            "Correction: precision=0.7203065134099617, recall=0.5961157352358304 and F1=0.6523530687486445\n",
            "Sentence Level: acc:0.464036, precision:0.563441, recall:0.248341, f1:0.344737\n"
          ]
        },
        {
          "data": {
            "application/vnd.jupyter.widget-view+json": {
              "model_id": "f1c4e924b4f24df38347b0939542a3dd",
              "version_major": 2,
              "version_minor": 0
            },
            "text/plain": [
              "Validation: 0it [00:00, ?it/s]"
            ]
          },
          "metadata": {},
          "output_type": "display_data"
        },
        {
          "metadata": {
            "tags": null
          },
          "name": "stderr",
          "output_type": "stream",
          "text": [
            "2023-01-02 10:21:41.596 | INFO     | __main__:on_validation_epoch_start:14 - Valid.\n"
          ]
        },
        {
          "metadata": {
            "tags": null
          },
          "name": "stdout",
          "output_type": "stream",
          "text": [
            "loss: 0.18671066771176728 - Detection acc: 0.6072 - Correction acc: 0.4698\n",
            "Detection: precision=0.5663005625502276, recall=0.5196656833824975 and F1=0.5419817972054864\n",
            "Correction: precision=0.7213812677388837, recall=0.5975705329153606 and F1=0.6536648092584655\n",
            "Sentence Level: acc:0.469776, precision:0.574061, recall:0.255924, f1:0.354021\n"
          ]
        },
        {
          "data": {
            "application/vnd.jupyter.widget-view+json": {
              "model_id": "882f56f6653e4006a0295089c58a36d3",
              "version_major": 2,
              "version_minor": 0
            },
            "text/plain": [
              "Validation: 0it [00:00, ?it/s]"
            ]
          },
          "metadata": {},
          "output_type": "display_data"
        },
        {
          "metadata": {
            "tags": null
          },
          "name": "stderr",
          "output_type": "stream",
          "text": [
            "2023-01-02 10:23:02.943 | INFO     | __main__:on_validation_epoch_start:14 - Valid.\n"
          ]
        },
        {
          "metadata": {
            "tags": null
          },
          "name": "stdout",
          "output_type": "stream",
          "text": [
            "loss: 0.18561993353068829 - Detection acc: 0.6081 - Correction acc: 0.4655\n",
            "Detection: precision=0.5627693965517241, recall=0.5135201573254671 and F1=0.5370179948586118\n",
            "Correction: precision=0.7190043082814744, recall=0.5929727595736282 and F1=0.649935093033319\n",
            "Sentence Level: acc:0.465471, precision:0.567175, recall:0.246761, f1:0.343901\n"
          ]
        },
        {
          "data": {
            "application/vnd.jupyter.widget-view+json": {
              "model_id": "b130c6e390694d3daaeba6f2724933a9",
              "version_major": 2,
              "version_minor": 0
            },
            "text/plain": [
              "Validation: 0it [00:00, ?it/s]"
            ]
          },
          "metadata": {},
          "output_type": "display_data"
        },
        {
          "metadata": {
            "tags": null
          },
          "name": "stderr",
          "output_type": "stream",
          "text": [
            "2023-01-02 10:24:25.051 | INFO     | __main__:on_validation_epoch_start:14 - Valid.\n"
          ]
        },
        {
          "metadata": {
            "tags": null
          },
          "name": "stdout",
          "output_type": "stream",
          "text": [
            "loss: 0.18583974851803345 - Detection acc: 0.6070 - Correction acc: 0.4683\n",
            "Detection: precision=0.5630140620854338, recall=0.5216322517207473 and F1=0.5415337501594998\n",
            "Correction: precision=0.7252591894439209, recall=0.6014067995310668 and F1=0.6575518051698355\n",
            "Sentence Level: acc:0.468341, precision:0.571125, recall:0.254976, f1:0.352556\n"
          ]
        },
        {
          "data": {
            "application/vnd.jupyter.widget-view+json": {
              "model_id": "77d5e7c6bbc1493192caa5c057bc7762",
              "version_major": 2,
              "version_minor": 0
            },
            "text/plain": [
              "Validation: 0it [00:00, ?it/s]"
            ]
          },
          "metadata": {},
          "output_type": "display_data"
        },
        {
          "metadata": {
            "tags": null
          },
          "name": "stderr",
          "output_type": "stream",
          "text": [
            "2023-01-02 10:25:47.265 | INFO     | __main__:on_validation_epoch_start:14 - Valid.\n"
          ]
        },
        {
          "metadata": {
            "tags": null
          },
          "name": "stdout",
          "output_type": "stream",
          "text": [
            "loss: 0.1870866148647937 - Detection acc: 0.5982 - Correction acc: 0.4660\n",
            "Detection: precision=0.5614433509967196, recall=0.5469518190757129 and F1=0.5541028514506289\n",
            "Correction: precision=0.7141573033707865, recall=0.594685628742515 and F1=0.648968756381458\n",
            "Sentence Level: acc:0.466009, precision:0.563686, recall:0.262875, f1:0.358543\n"
          ]
        },
        {
          "data": {
            "application/vnd.jupyter.widget-view+json": {
              "model_id": "d3c370f31ce841e6b7cbf18c5da32cea",
              "version_major": 2,
              "version_minor": 0
            },
            "text/plain": [
              "Validation: 0it [00:00, ?it/s]"
            ]
          },
          "metadata": {},
          "output_type": "display_data"
        },
        {
          "metadata": {
            "tags": null
          },
          "name": "stderr",
          "output_type": "stream",
          "text": [
            "2023-01-02 10:27:10.072 | INFO     | __main__:on_validation_epoch_start:14 - Valid.\n"
          ]
        },
        {
          "metadata": {
            "tags": null
          },
          "name": "stdout",
          "output_type": "stream",
          "text": [
            "loss: 0.18518776903775605 - Detection acc: 0.6129 - Correction acc: 0.4700\n",
            "Detection: precision=0.5676251331203408, recall=0.5240904621435595 and F1=0.5449897750511248\n",
            "Correction: precision=0.725140712945591, recall=0.6050880626223092 and F1=0.6596970343503308\n",
            "Sentence Level: acc:0.469955, precision:0.573840, recall:0.257820, f1:0.355788\n"
          ]
        },
        {
          "data": {
            "application/vnd.jupyter.widget-view+json": {
              "model_id": "7882a82a89494206b3414bd99540ae5d",
              "version_major": 2,
              "version_minor": 0
            },
            "text/plain": [
              "Validation: 0it [00:00, ?it/s]"
            ]
          },
          "metadata": {},
          "output_type": "display_data"
        },
        {
          "metadata": {
            "tags": null
          },
          "name": "stderr",
          "output_type": "stream",
          "text": [
            "2023-01-02 10:28:32.559 | INFO     | __main__:on_validation_epoch_start:14 - Valid.\n"
          ]
        },
        {
          "metadata": {
            "tags": null
          },
          "name": "stdout",
          "output_type": "stream",
          "text": [
            "loss: 0.18824753554707224 - Detection acc: 0.6113 - Correction acc: 0.4676\n",
            "Detection: precision=0.5664921465968586, recall=0.5319567354965585 and F1=0.5486815415821501\n",
            "Correction: precision=0.7130314232902033, recall=0.5955229641065226 and F1=0.6490010515247109\n",
            "Sentence Level: acc:0.467623, precision:0.569513, recall:0.254976, f1:0.352248\n"
          ]
        },
        {
          "data": {
            "application/vnd.jupyter.widget-view+json": {
              "model_id": "1ba8daad18dd4ecf943b6637bffc0b58",
              "version_major": 2,
              "version_minor": 0
            },
            "text/plain": [
              "Validation: 0it [00:00, ?it/s]"
            ]
          },
          "metadata": {},
          "output_type": "display_data"
        },
        {
          "metadata": {
            "tags": null
          },
          "name": "stderr",
          "output_type": "stream",
          "text": [
            "2023-01-02 10:29:56.101 | INFO     | __main__:on_validation_epoch_start:14 - Valid.\n"
          ]
        },
        {
          "metadata": {
            "tags": null
          },
          "name": "stdout",
          "output_type": "stream",
          "text": [
            "loss: 0.18581120703708043 - Detection acc: 0.6090 - Correction acc: 0.4642\n",
            "Detection: precision=0.5646112600536193, recall=0.5176991150442478 and F1=0.5401384970505259\n",
            "Correction: precision=0.7141500474833808, recall=0.5870413739266198 and F1=0.6443873179091688\n",
            "Sentence Level: acc:0.464215, precision:0.564680, recall:0.245498, f1:0.342215\n"
          ]
        },
        {
          "data": {
            "application/vnd.jupyter.widget-view+json": {
              "model_id": "63e24f69df4344cb92847acd3ab340dd",
              "version_major": 2,
              "version_minor": 0
            },
            "text/plain": [
              "Validation: 0it [00:00, ?it/s]"
            ]
          },
          "metadata": {},
          "output_type": "display_data"
        },
        {
          "metadata": {
            "tags": null
          },
          "name": "stderr",
          "output_type": "stream",
          "text": [
            "2023-01-02 10:31:19.044 | INFO     | __main__:on_validation_epoch_start:14 - Valid.\n"
          ]
        },
        {
          "metadata": {
            "tags": null
          },
          "name": "stdout",
          "output_type": "stream",
          "text": [
            "loss: 0.18820377557792448 - Detection acc: 0.6061 - Correction acc: 0.4662\n",
            "Detection: precision=0.5670440251572327, recall=0.5540806293018682 and F1=0.5604873803307223\n",
            "Correction: precision=0.7076308784383318, recall=0.5916172106824926 and F1=0.6444444444444445\n",
            "Sentence Level: acc:0.466188, precision:0.564593, recall:0.260979, f1:0.356958\n"
          ]
        },
        {
          "data": {
            "application/vnd.jupyter.widget-view+json": {
              "model_id": "17a289944756410f94264580c3947283",
              "version_major": 2,
              "version_minor": 0
            },
            "text/plain": [
              "Validation: 0it [00:00, ?it/s]"
            ]
          },
          "metadata": {},
          "output_type": "display_data"
        },
        {
          "metadata": {
            "tags": null
          },
          "name": "stderr",
          "output_type": "stream",
          "text": [
            "2023-01-02 10:32:41.859 | INFO     | __main__:on_validation_epoch_start:14 - Valid.\n"
          ]
        },
        {
          "metadata": {
            "tags": null
          },
          "name": "stdout",
          "output_type": "stream",
          "text": [
            "loss: 0.18649240125986663 - Detection acc: 0.6120 - Correction acc: 0.4687\n",
            "Detection: precision=0.5692224329450013, recall=0.5164700098328416 and F1=0.5415646346178631\n",
            "Correction: precision=0.7187053783912423, recall=0.593320235756385 and F1=0.6500215238915196\n",
            "Sentence Level: acc:0.468700, precision:0.573074, recall:0.251501, f1:0.349583\n"
          ]
        },
        {
          "data": {
            "application/vnd.jupyter.widget-view+json": {
              "model_id": "a1af67f246e94799b9db6f24a2385fe0",
              "version_major": 2,
              "version_minor": 0
            },
            "text/plain": [
              "Validation: 0it [00:00, ?it/s]"
            ]
          },
          "metadata": {},
          "output_type": "display_data"
        },
        {
          "metadata": {
            "tags": null
          },
          "name": "stderr",
          "output_type": "stream",
          "text": [
            "2023-01-02 10:34:02.983 | INFO     | __main__:on_validation_epoch_start:14 - Valid.\n"
          ]
        },
        {
          "metadata": {
            "tags": null
          },
          "name": "stdout",
          "output_type": "stream",
          "text": [
            "loss: 0.18480045788667418 - Detection acc: 0.6077 - Correction acc: 0.4676\n",
            "Detection: precision=0.5702063412179165, recall=0.5570304818092429 and F1=0.5635414076100473\n",
            "Correction: precision=0.705648720211827, recall=0.5900369003690037 and F1=0.642684887459807\n",
            "Sentence Level: acc:0.467623, precision:0.567420, recall:0.261927, f1:0.358409\n"
          ]
        },
        {
          "data": {
            "application/vnd.jupyter.widget-view+json": {
              "model_id": "0f1917c53e3f42459e625e797ee67c5b",
              "version_major": 2,
              "version_minor": 0
            },
            "text/plain": [
              "Validation: 0it [00:00, ?it/s]"
            ]
          },
          "metadata": {},
          "output_type": "display_data"
        },
        {
          "metadata": {
            "tags": null
          },
          "name": "stderr",
          "output_type": "stream",
          "text": [
            "2023-01-02 10:35:26.120 | INFO     | __main__:on_validation_epoch_start:14 - Valid.\n"
          ]
        },
        {
          "metadata": {
            "tags": null
          },
          "name": "stdout",
          "output_type": "stream",
          "text": [
            "loss: 0.1859448885714466 - Detection acc: 0.6068 - Correction acc: 0.4692\n",
            "Detection: precision=0.5700787401574803, recall=0.5339233038348082 and F1=0.5514089870525515\n",
            "Correction: precision=0.7104051565377533, recall=0.5932333717800846 and F1=0.6465535302744606\n",
            "Sentence Level: acc:0.469238, precision:0.572433, recall:0.257188, f1:0.354916\n"
          ]
        },
        {
          "data": {
            "application/vnd.jupyter.widget-view+json": {
              "model_id": "ee0a2b045a5a4e4e88c1c52082a76cc5",
              "version_major": 2,
              "version_minor": 0
            },
            "text/plain": [
              "Validation: 0it [00:00, ?it/s]"
            ]
          },
          "metadata": {},
          "output_type": "display_data"
        },
        {
          "metadata": {
            "tags": null
          },
          "name": "stderr",
          "output_type": "stream",
          "text": [
            "2023-01-02 10:36:47.856 | INFO     | __main__:on_validation_epoch_start:14 - Valid.\n"
          ]
        },
        {
          "metadata": {
            "tags": null
          },
          "name": "stdout",
          "output_type": "stream",
          "text": [
            "loss: 0.18633955818685619 - Detection acc: 0.6068 - Correction acc: 0.4671\n",
            "Detection: precision=0.5643187381017134, recall=0.51007866273353 and F1=0.5358295674628792\n",
            "Correction: precision=0.7214457831325302, recall=0.5961768219832736 and F1=0.6528565198430004\n",
            "Sentence Level: acc:0.467085, precision:0.569584, recall:0.250869, f1:0.348322\n"
          ]
        },
        {
          "data": {
            "application/vnd.jupyter.widget-view+json": {
              "model_id": "3c0f420fa79d4f139d3acd4386010f5c",
              "version_major": 2,
              "version_minor": 0
            },
            "text/plain": [
              "Validation: 0it [00:00, ?it/s]"
            ]
          },
          "metadata": {},
          "output_type": "display_data"
        },
        {
          "metadata": {
            "tags": null
          },
          "name": "stderr",
          "output_type": "stream",
          "text": [
            "2023-01-02 10:38:10.797 | INFO     | __main__:on_validation_epoch_start:14 - Valid.\n"
          ]
        },
        {
          "metadata": {
            "tags": null
          },
          "name": "stdout",
          "output_type": "stream",
          "text": [
            "loss: 0.18866139514879746 - Detection acc: 0.5977 - Correction acc: 0.4714\n",
            "Detection: precision=0.5713188220230474, recall=0.5484267453294002 and F1=0.5596387808854885\n",
            "Correction: precision=0.7095472882115643, recall=0.5924401197604791 and F1=0.6457271058535591\n",
            "Sentence Level: acc:0.471390, precision:0.574658, recall:0.265087, f1:0.362811\n"
          ]
        },
        {
          "data": {
            "application/vnd.jupyter.widget-view+json": {
              "model_id": "bf7b0aff67d14ae1b1aedcf16a8c0657",
              "version_major": 2,
              "version_minor": 0
            },
            "text/plain": [
              "Validation: 0it [00:00, ?it/s]"
            ]
          },
          "metadata": {},
          "output_type": "display_data"
        },
        {
          "metadata": {
            "tags": null
          },
          "name": "stderr",
          "output_type": "stream",
          "text": [
            "2023-01-02 10:39:46.589 | INFO     | __main__:on_validation_epoch_start:14 - Valid.\n"
          ]
        },
        {
          "metadata": {
            "tags": null
          },
          "name": "stdout",
          "output_type": "stream",
          "text": [
            "loss: 0.18870176950638945 - Detection acc: 0.6074 - Correction acc: 0.4655\n",
            "Detection: precision=0.5657928886581884, recall=0.5358898721730581 and F1=0.5504355510667845\n",
            "Correction: precision=0.7073394495412844, recall=0.5896749521988528 and F1=0.643169968717414\n",
            "Sentence Level: acc:0.465471, precision:0.564912, recall:0.254344, f1:0.350763\n"
          ]
        },
        {
          "data": {
            "application/vnd.jupyter.widget-view+json": {
              "model_id": "3fda2cf443ae48e8893c344ed5f583a0",
              "version_major": 2,
              "version_minor": 0
            },
            "text/plain": [
              "Validation: 0it [00:00, ?it/s]"
            ]
          },
          "metadata": {},
          "output_type": "display_data"
        },
        {
          "metadata": {
            "tags": null
          },
          "name": "stderr",
          "output_type": "stream",
          "text": [
            "2023-01-02 10:41:08.993 | INFO     | __main__:on_validation_epoch_start:14 - Valid.\n"
          ]
        },
        {
          "metadata": {
            "tags": null
          },
          "name": "stdout",
          "output_type": "stream",
          "text": [
            "loss: 0.18480709889395672 - Detection acc: 0.6083 - Correction acc: 0.4682\n",
            "Detection: precision=0.5686221743810549, recall=0.5194198623402163 and F1=0.5429085303186023\n",
            "Correction: precision=0.7160435399905348, recall=0.5980237154150198 and F1=0.6517337928063752\n",
            "Sentence Level: acc:0.468161, precision:0.571429, recall:0.252765, f1:0.350493\n"
          ]
        },
        {
          "data": {
            "application/vnd.jupyter.widget-view+json": {
              "model_id": "9558e0d89a0545abafccb0e90346293a",
              "version_major": 2,
              "version_minor": 0
            },
            "text/plain": [
              "Validation: 0it [00:00, ?it/s]"
            ]
          },
          "metadata": {},
          "output_type": "display_data"
        },
        {
          "metadata": {
            "tags": null
          },
          "name": "stderr",
          "output_type": "stream",
          "text": [
            "2023-01-02 10:42:31.645 | INFO     | __main__:on_validation_epoch_start:14 - Valid.\n"
          ]
        },
        {
          "metadata": {
            "tags": null
          },
          "name": "stdout",
          "output_type": "stream",
          "text": [
            "loss: 0.18623998151584106 - Detection acc: 0.6111 - Correction acc: 0.4667\n",
            "Detection: precision=0.5659978880675819, recall=0.5270403146509341 and F1=0.5458248472505092\n",
            "Correction: precision=0.7164179104477612, recall=0.5953488372093023 and F1=0.6502963590177816\n",
            "Sentence Level: acc:0.466726, precision:0.568085, recall:0.253081, f1:0.350164\n"
          ]
        },
        {
          "data": {
            "application/vnd.jupyter.widget-view+json": {
              "model_id": "6d73b56911d648c8ad2f44d6ce24655b",
              "version_major": 2,
              "version_minor": 0
            },
            "text/plain": [
              "Validation: 0it [00:00, ?it/s]"
            ]
          },
          "metadata": {},
          "output_type": "display_data"
        },
        {
          "metadata": {
            "tags": null
          },
          "name": "stderr",
          "output_type": "stream",
          "text": [
            "2023-01-02 10:43:55.067 | INFO     | __main__:on_validation_epoch_start:14 - Valid.\n"
          ]
        },
        {
          "metadata": {
            "tags": null
          },
          "name": "stdout",
          "output_type": "stream",
          "text": [
            "loss: 0.1858891968361356 - Detection acc: 0.6093 - Correction acc: 0.4694\n",
            "Detection: precision=0.5677762982689747, recall=0.5240904621435595 and F1=0.5450594401124887\n",
            "Correction: precision=0.7190431519699813, recall=0.5941860465116279 and F1=0.650679117147708\n",
            "Sentence Level: acc:0.469417, precision:0.573456, recall:0.255292, f1:0.353301\n"
          ]
        },
        {
          "data": {
            "application/vnd.jupyter.widget-view+json": {
              "model_id": "8cdc9fc7eeca457cb796f3930a13ac45",
              "version_major": 2,
              "version_minor": 0
            },
            "text/plain": [
              "Validation: 0it [00:00, ?it/s]"
            ]
          },
          "metadata": {},
          "output_type": "display_data"
        },
        {
          "metadata": {
            "tags": null
          },
          "name": "stderr",
          "output_type": "stream",
          "text": [
            "2023-01-02 10:45:17.489 | INFO     | __main__:on_validation_epoch_start:14 - Valid.\n"
          ]
        },
        {
          "metadata": {
            "tags": null
          },
          "name": "stdout",
          "output_type": "stream",
          "text": [
            "loss: 0.19329005005684766 - Detection acc: 0.5907 - Correction acc: 0.4676\n",
            "Detection: precision=0.5632421270005162, recall=0.5363815142576205 and F1=0.54948375723999\n",
            "Correction: precision=0.7135655362053163, recall=0.5940480732544831 and F1=0.6483447845096814\n",
            "Sentence Level: acc:0.467623, precision:0.568833, recall:0.257188, f1:0.354221\n"
          ]
        },
        {
          "data": {
            "application/vnd.jupyter.widget-view+json": {
              "model_id": "4489532b401541f88f3eacacebccb751",
              "version_major": 2,
              "version_minor": 0
            },
            "text/plain": [
              "Validation: 0it [00:00, ?it/s]"
            ]
          },
          "metadata": {},
          "output_type": "display_data"
        },
        {
          "metadata": {
            "tags": null
          },
          "name": "stderr",
          "output_type": "stream",
          "text": [
            "2023-01-02 10:46:40.334 | INFO     | __main__:on_validation_epoch_start:14 - Valid.\n"
          ]
        },
        {
          "metadata": {
            "tags": null
          },
          "name": "stdout",
          "output_type": "stream",
          "text": [
            "loss: 0.1845073884522373 - Detection acc: 0.6061 - Correction acc: 0.4662\n",
            "Detection: precision=0.5634078212290503, recall=0.49582104228121926 and F1=0.5274581589958159\n",
            "Correction: precision=0.7233515121467526, recall=0.5955102040816327 and F1=0.6532348332214014\n",
            "Sentence Level: acc:0.466188, precision:0.569639, recall:0.244234, f1:0.341884\n"
          ]
        },
        {
          "data": {
            "application/vnd.jupyter.widget-view+json": {
              "model_id": "11576be4035f47948bfa712230401a3a",
              "version_major": 2,
              "version_minor": 0
            },
            "text/plain": [
              "Validation: 0it [00:00, ?it/s]"
            ]
          },
          "metadata": {},
          "output_type": "display_data"
        },
        {
          "metadata": {
            "tags": null
          },
          "name": "stderr",
          "output_type": "stream",
          "text": [
            "2023-01-02 10:48:02.175 | INFO     | __main__:on_validation_epoch_start:14 - Valid.\n"
          ]
        },
        {
          "metadata": {
            "tags": null
          },
          "name": "stdout",
          "output_type": "stream",
          "text": [
            "loss: 0.18699643049727788 - Detection acc: 0.6136 - Correction acc: 0.4646\n",
            "Detection: precision=0.5627075351213282, recall=0.5415437561455261 and F1=0.5519228360265565\n",
            "Correction: precision=0.7063095778483885, recall=0.5867269984917044 and F1=0.6409886714727085\n",
            "Sentence Level: acc:0.464574, precision:0.562500, recall:0.255924, f1:0.351792\n"
          ]
        },
        {
          "data": {
            "application/vnd.jupyter.widget-view+json": {
              "model_id": "a505ebac3db14a309a6df991fd97a091",
              "version_major": 2,
              "version_minor": 0
            },
            "text/plain": [
              "Validation: 0it [00:00, ?it/s]"
            ]
          },
          "metadata": {},
          "output_type": "display_data"
        },
        {
          "metadata": {
            "tags": null
          },
          "name": "stderr",
          "output_type": "stream",
          "text": [
            "2023-01-02 10:49:24.203 | INFO     | __main__:on_validation_epoch_start:14 - Valid.\n"
          ]
        },
        {
          "metadata": {
            "tags": null
          },
          "name": "stdout",
          "output_type": "stream",
          "text": [
            "loss: 0.18799069100482899 - Detection acc: 0.6088 - Correction acc: 0.4674\n",
            "Detection: precision=0.5656807887023715, recall=0.5218780727630286 and F1=0.5428973277074544\n",
            "Correction: precision=0.7154969382948657, recall=0.5935912465806956 and F1=0.6488680051260146\n",
            "Sentence Level: acc:0.467444, precision:0.569307, recall:0.254344, f1:0.351605\n"
          ]
        },
        {
          "data": {
            "application/vnd.jupyter.widget-view+json": {
              "model_id": "871fa635d77840888ca3636709c35d05",
              "version_major": 2,
              "version_minor": 0
            },
            "text/plain": [
              "Validation: 0it [00:00, ?it/s]"
            ]
          },
          "metadata": {},
          "output_type": "display_data"
        },
        {
          "metadata": {
            "tags": null
          },
          "name": "stderr",
          "output_type": "stream",
          "text": [
            "2023-01-02 10:50:46.938 | INFO     | __main__:on_validation_epoch_start:14 - Valid.\n"
          ]
        },
        {
          "metadata": {
            "tags": null
          },
          "name": "stdout",
          "output_type": "stream",
          "text": [
            "loss: 0.18739685958082025 - Detection acc: 0.6129 - Correction acc: 0.4680\n",
            "Detection: precision=0.5687397708674304, recall=0.5125368731563422 and F1=0.5391776570985259\n",
            "Correction: precision=0.7227817745803358, recall=0.5975416336241078 and F1=0.6542218363360104\n",
            "Sentence Level: acc:0.467982, precision:0.571841, recall:0.250237, f1:0.348132\n"
          ]
        },
        {
          "data": {
            "application/vnd.jupyter.widget-view+json": {
              "model_id": "0e1f46f4eaee4cf2a407e07dda13f430",
              "version_major": 2,
              "version_minor": 0
            },
            "text/plain": [
              "Validation: 0it [00:00, ?it/s]"
            ]
          },
          "metadata": {},
          "output_type": "display_data"
        },
        {
          "metadata": {
            "tags": null
          },
          "name": "stderr",
          "output_type": "stream",
          "text": [
            "2023-01-02 10:52:10.068 | INFO     | __main__:on_validation_epoch_start:14 - Valid.\n"
          ]
        },
        {
          "metadata": {
            "tags": null
          },
          "name": "stdout",
          "output_type": "stream",
          "text": [
            "loss: 0.1871616222303022 - Detection acc: 0.6113 - Correction acc: 0.4682\n",
            "Detection: precision=0.5697705802968961, recall=0.5189282202556539 and F1=0.5431622282259102\n",
            "Correction: precision=0.7214590241591663, recall=0.5960861056751467 and F1=0.6528075439348477\n",
            "Sentence Level: acc:0.468161, precision:0.571942, recall:0.251185, f1:0.349067\n"
          ]
        },
        {
          "data": {
            "application/vnd.jupyter.widget-view+json": {
              "model_id": "0e1a0ebfb5714f38b43206657e1e4529",
              "version_major": 2,
              "version_minor": 0
            },
            "text/plain": [
              "Validation: 0it [00:00, ?it/s]"
            ]
          },
          "metadata": {},
          "output_type": "display_data"
        },
        {
          "metadata": {
            "tags": null
          },
          "name": "stderr",
          "output_type": "stream",
          "text": [
            "2023-01-02 10:53:32.948 | INFO     | __main__:on_validation_epoch_start:14 - Valid.\n"
          ]
        },
        {
          "metadata": {
            "tags": null
          },
          "name": "stdout",
          "output_type": "stream",
          "text": [
            "loss: 0.19248204525898804 - Detection acc: 0.6002 - Correction acc: 0.4651\n",
            "Detection: precision=0.5657349896480331, recall=0.5373647984267453 and F1=0.551185073121533\n",
            "Correction: precision=0.7140896614821592, recall=0.5944402132520944 and F1=0.6487946799667498\n",
            "Sentence Level: acc:0.465112, precision:0.563941, recall:0.254976, f1:0.351175\n"
          ]
        },
        {
          "data": {
            "application/vnd.jupyter.widget-view+json": {
              "model_id": "7707d16e51c74049af697099a68ca72b",
              "version_major": 2,
              "version_minor": 0
            },
            "text/plain": [
              "Validation: 0it [00:00, ?it/s]"
            ]
          },
          "metadata": {},
          "output_type": "display_data"
        },
        {
          "metadata": {
            "tags": null
          },
          "name": "stderr",
          "output_type": "stream",
          "text": [
            "2023-01-02 10:54:55.289 | INFO     | __main__:on_validation_epoch_start:14 - Valid.\n"
          ]
        },
        {
          "metadata": {
            "tags": null
          },
          "name": "stdout",
          "output_type": "stream",
          "text": [
            "loss: 0.18981695124371487 - Detection acc: 0.6050 - Correction acc: 0.4665\n",
            "Detection: precision=0.5668689000263782, recall=0.5282694198623402 and F1=0.5468889171650336\n",
            "Correction: precision=0.7175430432759423, recall=0.5953667953667954 and F1=0.6507702046845326\n",
            "Sentence Level: acc:0.466547, precision:0.567491, recall:0.253712, f1:0.350655\n"
          ]
        },
        {
          "data": {
            "application/vnd.jupyter.widget-view+json": {
              "model_id": "b07b362ca73f412ba4f16876e18bde77",
              "version_major": 2,
              "version_minor": 0
            },
            "text/plain": [
              "Validation: 0it [00:00, ?it/s]"
            ]
          },
          "metadata": {},
          "output_type": "display_data"
        },
        {
          "metadata": {
            "tags": null
          },
          "name": "stderr",
          "output_type": "stream",
          "text": [
            "2023-01-02 10:56:18.436 | INFO     | __main__:on_validation_epoch_start:14 - Valid.\n"
          ]
        },
        {
          "metadata": {
            "tags": null
          },
          "name": "stdout",
          "output_type": "stream",
          "text": [
            "loss: 0.1884625813161785 - Detection acc: 0.6066 - Correction acc: 0.4633\n",
            "Detection: precision=0.5601431323974676, recall=0.5002458210422812 and F1=0.5285027918452149\n",
            "Correction: precision=0.7203931203931204, recall=0.595450852965069 and F1=0.6519902156993552\n",
            "Sentence Level: acc:0.463318, precision:0.562365, recall:0.246445, f1:0.342707\n"
          ]
        },
        {
          "data": {
            "application/vnd.jupyter.widget-view+json": {
              "model_id": "21b3f9aefee342a4b0b2d66f257c1bc9",
              "version_major": 2,
              "version_minor": 0
            },
            "text/plain": [
              "Validation: 0it [00:00, ?it/s]"
            ]
          },
          "metadata": {},
          "output_type": "display_data"
        },
        {
          "metadata": {
            "tags": null
          },
          "name": "stderr",
          "output_type": "stream",
          "text": [
            "2023-01-02 10:57:40.145 | INFO     | __main__:on_validation_epoch_start:14 - Valid.\n"
          ]
        },
        {
          "metadata": {
            "tags": null
          },
          "name": "stdout",
          "output_type": "stream",
          "text": [
            "loss: 0.1861288095401092 - Detection acc: 0.6115 - Correction acc: 0.4615\n",
            "Detection: precision=0.56282316442606, recall=0.5351524090462143 and F1=0.5486391129032258\n",
            "Correction: precision=0.7046394120349104, recall=0.586840091813313 and F1=0.6403673554581507\n",
            "Sentence Level: acc:0.461525, precision:0.557193, recall:0.250869, f1:0.345969\n"
          ]
        },
        {
          "data": {
            "application/vnd.jupyter.widget-view+json": {
              "model_id": "52ddc0d77ad8409696c35c573fe9a123",
              "version_major": 2,
              "version_minor": 0
            },
            "text/plain": [
              "Validation: 0it [00:00, ?it/s]"
            ]
          },
          "metadata": {},
          "output_type": "display_data"
        },
        {
          "metadata": {
            "tags": null
          },
          "name": "stderr",
          "output_type": "stream",
          "text": [
            "2023-01-02 10:59:02.961 | INFO     | __main__:on_validation_epoch_start:14 - Valid.\n"
          ]
        },
        {
          "metadata": {
            "tags": null
          },
          "name": "stdout",
          "output_type": "stream",
          "text": [
            "loss: 0.1890756772323088 - Detection acc: 0.6083 - Correction acc: 0.4644\n",
            "Detection: precision=0.5638051044083526, recall=0.5376106194690266 and F1=0.5503963759909399\n",
            "Correction: precision=0.7087334247828075, recall=0.5902513328255903 and F1=0.6440889258258883\n",
            "Sentence Level: acc:0.464395, precision:0.562631, recall:0.254028, f1:0.350022\n"
          ]
        },
        {
          "data": {
            "application/vnd.jupyter.widget-view+json": {
              "model_id": "067b4666670f47cf96ea28f23e0306bd",
              "version_major": 2,
              "version_minor": 0
            },
            "text/plain": [
              "Validation: 0it [00:00, ?it/s]"
            ]
          },
          "metadata": {},
          "output_type": "display_data"
        },
        {
          "metadata": {
            "tags": null
          },
          "name": "stderr",
          "output_type": "stream",
          "text": [
            "2023-01-02 11:00:25.456 | INFO     | __main__:on_validation_epoch_start:14 - Valid.\n"
          ]
        },
        {
          "metadata": {
            "tags": null
          },
          "name": "stdout",
          "output_type": "stream",
          "text": [
            "loss: 0.18587498417632145 - Detection acc: 0.6093 - Correction acc: 0.4655\n",
            "Detection: precision=0.562055768179333, recall=0.5054080629301868 and F1=0.5322288376909138\n",
            "Correction: precision=0.7266536964980544, recall=0.6009654062751408 and F1=0.6578599735799208\n",
            "Sentence Level: acc:0.465471, precision:0.566787, recall:0.248025, f1:0.345055\n"
          ]
        },
        {
          "data": {
            "application/vnd.jupyter.widget-view+json": {
              "model_id": "a0c30356810b4eeda80cb07346b73013",
              "version_major": 2,
              "version_minor": 0
            },
            "text/plain": [
              "Validation: 0it [00:00, ?it/s]"
            ]
          },
          "metadata": {},
          "output_type": "display_data"
        },
        {
          "metadata": {
            "tags": null
          },
          "name": "stderr",
          "output_type": "stream",
          "text": [
            "2023-01-02 11:01:49.079 | INFO     | __main__:on_validation_epoch_start:14 - Valid.\n"
          ]
        },
        {
          "metadata": {
            "tags": null
          },
          "name": "stdout",
          "output_type": "stream",
          "text": [
            "loss: 0.18648357384584166 - Detection acc: 0.6093 - Correction acc: 0.4655\n",
            "Detection: precision=0.56997591651057, recall=0.523598820058997 and F1=0.5458039718129405\n",
            "Correction: precision=0.7093896713615023, recall=0.58816660179058 and F1=0.6431155565013832\n",
            "Sentence Level: acc:0.465471, precision:0.565930, recall:0.250869, f1:0.347636\n"
          ]
        },
        {
          "data": {
            "application/vnd.jupyter.widget-view+json": {
              "model_id": "6f9b9be9a3b24022ada0aac4e5653c1c",
              "version_major": 2,
              "version_minor": 0
            },
            "text/plain": [
              "Validation: 0it [00:00, ?it/s]"
            ]
          },
          "metadata": {},
          "output_type": "display_data"
        },
        {
          "metadata": {
            "tags": null
          },
          "name": "stderr",
          "output_type": "stream",
          "text": [
            "2023-01-02 11:03:11.617 | INFO     | __main__:on_validation_epoch_start:14 - Valid.\n"
          ]
        },
        {
          "metadata": {
            "tags": null
          },
          "name": "stdout",
          "output_type": "stream",
          "text": [
            "loss: 0.18714392286810008 - Detection acc: 0.6079 - Correction acc: 0.4646\n",
            "Detection: precision=0.5627090301003345, recall=0.4963126843657817 and F1=0.5274294670846396\n",
            "Correction: precision=0.7261020307082714, recall=0.5981232150142799 and F1=0.6559284116331096\n",
            "Sentence Level: acc:0.464574, precision:0.566274, recall:0.242970, f1:0.340040\n"
          ]
        },
        {
          "data": {
            "application/vnd.jupyter.widget-view+json": {
              "model_id": "955dc1181db847e3a06094a1e770eccd",
              "version_major": 2,
              "version_minor": 0
            },
            "text/plain": [
              "Validation: 0it [00:00, ?it/s]"
            ]
          },
          "metadata": {},
          "output_type": "display_data"
        },
        {
          "metadata": {
            "tags": null
          },
          "name": "stderr",
          "output_type": "stream",
          "text": [
            "2023-01-02 11:04:34.630 | INFO     | __main__:on_validation_epoch_start:14 - Valid.\n"
          ]
        },
        {
          "metadata": {
            "tags": null
          },
          "name": "stdout",
          "output_type": "stream",
          "text": [
            "loss: 0.18843891234560448 - Detection acc: 0.6102 - Correction acc: 0.4665\n",
            "Detection: precision=0.5668493150684931, recall=0.5086037364798427 and F1=0.5361492614667012\n",
            "Correction: precision=0.7220879652005799, recall=0.5940357852882704 and F1=0.6518324607329843\n",
            "Sentence Level: acc:0.466547, precision:0.569253, recall:0.248025, f1:0.345511\n"
          ]
        },
        {
          "data": {
            "application/vnd.jupyter.widget-view+json": {
              "model_id": "d736bb8f2f3444c7a6bd860d78352637",
              "version_major": 2,
              "version_minor": 0
            },
            "text/plain": [
              "Validation: 0it [00:00, ?it/s]"
            ]
          },
          "metadata": {},
          "output_type": "display_data"
        },
        {
          "metadata": {
            "tags": null
          },
          "name": "stderr",
          "output_type": "stream",
          "text": [
            "2023-01-02 11:05:57.910 | INFO     | __main__:on_validation_epoch_start:14 - Valid.\n"
          ]
        },
        {
          "metadata": {
            "tags": null
          },
          "name": "stdout",
          "output_type": "stream",
          "text": [
            "loss: 0.18463561514561827 - Detection acc: 0.6041 - Correction acc: 0.4646\n",
            "Detection: precision=0.5638629283489096, recall=0.4894296951819076 and F1=0.5240163179365707\n",
            "Correction: precision=0.7267704671019588, recall=0.5957184026348291 and F1=0.6547511312217196\n",
            "Sentence Level: acc:0.464574, precision:0.566766, recall:0.241390, f1:0.338577\n"
          ]
        },
        {
          "data": {
            "application/vnd.jupyter.widget-view+json": {
              "model_id": "0a14bfdea3844eeaaa0ad426ffd99ec9",
              "version_major": 2,
              "version_minor": 0
            },
            "text/plain": [
              "Validation: 0it [00:00, ?it/s]"
            ]
          },
          "metadata": {},
          "output_type": "display_data"
        },
        {
          "metadata": {
            "tags": null
          },
          "name": "stderr",
          "output_type": "stream",
          "text": [
            "2023-01-02 11:07:20.621 | INFO     | __main__:on_validation_epoch_start:14 - Valid.\n"
          ]
        },
        {
          "metadata": {
            "tags": null
          },
          "name": "stdout",
          "output_type": "stream",
          "text": [
            "loss: 0.1890754635361108 - Detection acc: 0.6095 - Correction acc: 0.4653\n",
            "Detection: precision=0.5668789808917197, recall=0.5250737463126843 and F1=0.5451761102603369\n",
            "Correction: precision=0.7125468164794008, recall=0.5899224806201551 and F1=0.645462256149279\n",
            "Sentence Level: acc:0.465291, precision:0.564972, recall:0.252765, f1:0.349269\n"
          ]
        },
        {
          "data": {
            "application/vnd.jupyter.widget-view+json": {
              "model_id": "5acbb12b9ab640aab706c670089f6193",
              "version_major": 2,
              "version_minor": 0
            },
            "text/plain": [
              "Validation: 0it [00:00, ?it/s]"
            ]
          },
          "metadata": {},
          "output_type": "display_data"
        },
        {
          "metadata": {
            "tags": null
          },
          "name": "stderr",
          "output_type": "stream",
          "text": [
            "2023-01-02 11:08:44.653 | INFO     | __main__:on_validation_epoch_start:14 - Valid.\n"
          ]
        },
        {
          "metadata": {
            "tags": null
          },
          "name": "stdout",
          "output_type": "stream",
          "text": [
            "loss: 0.18834478949958627 - Detection acc: 0.6077 - Correction acc: 0.4678\n",
            "Detection: precision=0.5677402182592494, recall=0.5243362831858407 and F1=0.5451757188498403\n",
            "Correction: precision=0.7168307548054383, recall=0.5937864077669903 and F1=0.649532710280374\n",
            "Sentence Level: acc:0.467803, precision:0.570613, recall:0.252765, f1:0.350339\n"
          ]
        },
        {
          "data": {
            "application/vnd.jupyter.widget-view+json": {
              "model_id": "d6c41a57b61c49a6bee1ce3be2cd1bc1",
              "version_major": 2,
              "version_minor": 0
            },
            "text/plain": [
              "Validation: 0it [00:00, ?it/s]"
            ]
          },
          "metadata": {},
          "output_type": "display_data"
        },
        {
          "metadata": {
            "tags": null
          },
          "name": "stderr",
          "output_type": "stream",
          "text": [
            "2023-01-02 11:10:07.391 | INFO     | __main__:on_validation_epoch_start:14 - Valid.\n"
          ]
        },
        {
          "metadata": {
            "tags": null
          },
          "name": "stdout",
          "output_type": "stream",
          "text": [
            "loss: 0.18817254833199762 - Detection acc: 0.5982 - Correction acc: 0.4665\n",
            "Detection: precision=0.562984755282161, recall=0.5174532940019666 and F1=0.5392596387857053\n",
            "Correction: precision=0.7192399049881235, recall=0.5930278104191148 and F1=0.6500644053241735\n",
            "Sentence Level: acc:0.466547, precision:0.567875, recall:0.252449, f1:0.349519\n"
          ]
        },
        {
          "data": {
            "application/vnd.jupyter.widget-view+json": {
              "model_id": "94455da63d434a6782e4c90ccf6ec742",
              "version_major": 2,
              "version_minor": 0
            },
            "text/plain": [
              "Validation: 0it [00:00, ?it/s]"
            ]
          },
          "metadata": {},
          "output_type": "display_data"
        },
        {
          "metadata": {
            "tags": null
          },
          "name": "stderr",
          "output_type": "stream",
          "text": [
            "2023-01-02 11:11:29.193 | INFO     | __main__:on_validation_epoch_start:14 - Valid.\n"
          ]
        },
        {
          "metadata": {
            "tags": null
          },
          "name": "stdout",
          "output_type": "stream",
          "text": [
            "loss: 0.18918596682223407 - Detection acc: 0.6047 - Correction acc: 0.4676\n",
            "Detection: precision=0.5663334233990813, recall=0.5152409046214356 and F1=0.5395803835757499\n",
            "Correction: precision=0.7166030534351145, recall=0.5918045705279747 and F1=0.648252050064739\n",
            "Sentence Level: acc:0.467623, precision:0.570914, recall:0.250553, f1:0.348265\n"
          ]
        },
        {
          "data": {
            "application/vnd.jupyter.widget-view+json": {
              "model_id": "6317e20cf938457da7a79769c6a41b05",
              "version_major": 2,
              "version_minor": 0
            },
            "text/plain": [
              "Validation: 0it [00:00, ?it/s]"
            ]
          },
          "metadata": {},
          "output_type": "display_data"
        },
        {
          "metadata": {
            "tags": null
          },
          "name": "stderr",
          "output_type": "stream",
          "text": [
            "2023-01-02 11:12:52.858 | INFO     | __main__:on_validation_epoch_start:14 - Valid.\n"
          ]
        },
        {
          "metadata": {
            "tags": null
          },
          "name": "stdout",
          "output_type": "stream",
          "text": [
            "loss: 0.19191015427085487 - Detection acc: 0.5980 - Correction acc: 0.4664\n",
            "Detection: precision=0.565987833906374, recall=0.5260570304818093 and F1=0.5452923939355333\n",
            "Correction: precision=0.7093457943925233, recall=0.5872340425531914 and F1=0.6425396825396824\n",
            "Sentence Level: acc:0.466368, precision:0.568052, recall:0.250553, f1:0.347731\n"
          ]
        },
        {
          "data": {
            "application/vnd.jupyter.widget-view+json": {
              "model_id": "10f9080b4edc4cb9a7524e927c42629d",
              "version_major": 2,
              "version_minor": 0
            },
            "text/plain": [
              "Validation: 0it [00:00, ?it/s]"
            ]
          },
          "metadata": {},
          "output_type": "display_data"
        },
        {
          "metadata": {
            "tags": null
          },
          "name": "stderr",
          "output_type": "stream",
          "text": [
            "2023-01-02 11:14:15.879 | INFO     | __main__:on_validation_epoch_start:14 - Valid.\n"
          ]
        },
        {
          "metadata": {
            "tags": null
          },
          "name": "stdout",
          "output_type": "stream",
          "text": [
            "loss: 0.18951248716224323 - Detection acc: 0.6075 - Correction acc: 0.4676\n",
            "Detection: precision=0.5690399137001079, recall=0.5186823992133727 and F1=0.5426954732510288\n",
            "Correction: precision=0.718957345971564, recall=0.5960707269155207 and F1=0.6517722878625135\n",
            "Sentence Level: acc:0.467623, precision:0.570407, recall:0.252133, f1:0.349693\n"
          ]
        },
        {
          "data": {
            "application/vnd.jupyter.widget-view+json": {
              "model_id": "26952a57aaec44b6a52c9483f893052e",
              "version_major": 2,
              "version_minor": 0
            },
            "text/plain": [
              "Validation: 0it [00:00, ?it/s]"
            ]
          },
          "metadata": {},
          "output_type": "display_data"
        },
        {
          "metadata": {
            "tags": null
          },
          "name": "stderr",
          "output_type": "stream",
          "text": [
            "2023-01-02 11:15:38.962 | INFO     | __main__:on_validation_epoch_start:14 - Valid.\n"
          ]
        },
        {
          "metadata": {
            "tags": null
          },
          "name": "stdout",
          "output_type": "stream",
          "text": [
            "loss: 0.18953958475454288 - Detection acc: 0.6083 - Correction acc: 0.4669\n",
            "Detection: precision=0.5641361256544503, recall=0.5297443461160275 and F1=0.5463995943204868\n",
            "Correction: precision=0.7109048723897912, recall=0.5901386748844376 and F1=0.6449168596085035\n",
            "Sentence Level: acc:0.466906, precision:0.567435, recall:0.256556, f1:0.353351\n"
          ]
        },
        {
          "data": {
            "application/vnd.jupyter.widget-view+json": {
              "model_id": "5672b91ffe6043828eafacbbd107e6e5",
              "version_major": 2,
              "version_minor": 0
            },
            "text/plain": [
              "Validation: 0it [00:00, ?it/s]"
            ]
          },
          "metadata": {},
          "output_type": "display_data"
        },
        {
          "metadata": {
            "tags": null
          },
          "name": "stderr",
          "output_type": "stream",
          "text": [
            "2023-01-02 11:17:00.961 | INFO     | __main__:on_validation_epoch_start:14 - Valid.\n"
          ]
        },
        {
          "metadata": {
            "tags": null
          },
          "name": "stdout",
          "output_type": "stream",
          "text": [
            "loss: 0.18571295656941153 - Detection acc: 0.6181 - Correction acc: 0.4664\n",
            "Detection: precision=0.5640816326530612, recall=0.5095870206489675 and F1=0.5354513754358775\n",
            "Correction: precision=0.7192474674384949, recall=0.594734742720383 and F1=0.6510917030567686\n",
            "Sentence Level: acc:0.466368, precision:0.568052, recall:0.250553, f1:0.347731\n"
          ]
        },
        {
          "data": {
            "application/vnd.jupyter.widget-view+json": {
              "model_id": "829bf40e71ca427faa6ba91df6b7ac77",
              "version_major": 2,
              "version_minor": 0
            },
            "text/plain": [
              "Validation: 0it [00:00, ?it/s]"
            ]
          },
          "metadata": {},
          "output_type": "display_data"
        },
        {
          "metadata": {
            "tags": null
          },
          "name": "stderr",
          "output_type": "stream",
          "text": [
            "2023-01-02 11:18:24.044 | INFO     | __main__:on_validation_epoch_start:14 - Valid.\n"
          ]
        },
        {
          "metadata": {
            "tags": null
          },
          "name": "stdout",
          "output_type": "stream",
          "text": [
            "loss: 0.1878259363160892 - Detection acc: 0.6039 - Correction acc: 0.4673\n",
            "Detection: precision=0.5706989247311828, recall=0.5218780727630286 and F1=0.5451977401129944\n",
            "Correction: precision=0.7121997173810646, recall=0.5894736842105263 and F1=0.6450511945392492\n",
            "Sentence Level: acc:0.467265, precision:0.570093, recall:0.250553, f1:0.348112\n"
          ]
        },
        {
          "data": {
            "application/vnd.jupyter.widget-view+json": {
              "model_id": "6cf8515e23fc4b06889e77d21ba4b090",
              "version_major": 2,
              "version_minor": 0
            },
            "text/plain": [
              "Validation: 0it [00:00, ?it/s]"
            ]
          },
          "metadata": {},
          "output_type": "display_data"
        },
        {
          "metadata": {
            "tags": null
          },
          "name": "stderr",
          "output_type": "stream",
          "text": [
            "2023-01-02 11:19:47.855 | INFO     | __main__:on_validation_epoch_start:14 - Valid.\n"
          ]
        },
        {
          "metadata": {
            "tags": null
          },
          "name": "stdout",
          "output_type": "stream",
          "text": [
            "loss: 0.19233921830627052 - Detection acc: 0.5973 - Correction acc: 0.4653\n",
            "Detection: precision=0.5639135959339263, recall=0.5454768928220256 and F1=0.5545420467324753\n",
            "Correction: precision=0.7030193780982424, recall=0.587792012057272 and F1=0.6402626718653807\n",
            "Sentence Level: acc:0.465291, precision:0.563100, recall:0.259400, f1:0.355181\n"
          ]
        },
        {
          "data": {
            "application/vnd.jupyter.widget-view+json": {
              "model_id": "82976ba0a8364bf980da97e45668c44a",
              "version_major": 2,
              "version_minor": 0
            },
            "text/plain": [
              "Validation: 0it [00:00, ?it/s]"
            ]
          },
          "metadata": {},
          "output_type": "display_data"
        },
        {
          "metadata": {
            "tags": null
          },
          "name": "stderr",
          "output_type": "stream",
          "text": [
            "2023-01-02 11:21:11.188 | INFO     | __main__:on_validation_epoch_start:14 - Valid.\n"
          ]
        },
        {
          "metadata": {
            "tags": null
          },
          "name": "stdout",
          "output_type": "stream",
          "text": [
            "loss: 0.19245535067536615 - Detection acc: 0.6002 - Correction acc: 0.4631\n",
            "Detection: precision=0.5627268014515293, recall=0.533677482792527 and F1=0.547817310118597\n",
            "Correction: precision=0.710732381391064, recall=0.5920951650038373 and F1=0.6460121415114088\n",
            "Sentence Level: acc:0.463139, precision:0.560140, recall:0.253081, f1:0.348640\n"
          ]
        },
        {
          "data": {
            "application/vnd.jupyter.widget-view+json": {
              "model_id": "ac63787fe5514a51baccf82594c50422",
              "version_major": 2,
              "version_minor": 0
            },
            "text/plain": [
              "Validation: 0it [00:00, ?it/s]"
            ]
          },
          "metadata": {},
          "output_type": "display_data"
        },
        {
          "metadata": {
            "tags": null
          },
          "name": "stderr",
          "output_type": "stream",
          "text": [
            "2023-01-02 11:22:32.887 | INFO     | __main__:on_validation_epoch_start:14 - Valid.\n"
          ]
        },
        {
          "metadata": {
            "tags": null
          },
          "name": "stdout",
          "output_type": "stream",
          "text": [
            "loss: 0.18821303902024572 - Detection acc: 0.6126 - Correction acc: 0.4692\n",
            "Detection: precision=0.5690032858707558, recall=0.5108161258603736 and F1=0.5383419689119172\n",
            "Correction: precision=0.7242540904716073, recall=0.5950968762356663 and F1=0.653353592359453\n",
            "Sentence Level: acc:0.469238, precision:0.574746, recall:0.250237, f1:0.348668\n"
          ]
        },
        {
          "data": {
            "application/vnd.jupyter.widget-view+json": {
              "model_id": "8b075d06965a48df9fc8f99e6bbfd97a",
              "version_major": 2,
              "version_minor": 0
            },
            "text/plain": [
              "Validation: 0it [00:00, ?it/s]"
            ]
          },
          "metadata": {},
          "output_type": "display_data"
        },
        {
          "metadata": {
            "tags": null
          },
          "name": "stderr",
          "output_type": "stream",
          "text": [
            "2023-01-02 11:23:56.522 | INFO     | __main__:on_validation_epoch_start:14 - Valid.\n"
          ]
        },
        {
          "metadata": {
            "tags": null
          },
          "name": "stdout",
          "output_type": "stream",
          "text": [
            "loss: 0.19100366194139828 - Detection acc: 0.6050 - Correction acc: 0.4680\n",
            "Detection: precision=0.567246835443038, recall=0.5287610619469026 and F1=0.5473282442748091\n",
            "Correction: precision=0.7150162715016272, recall=0.5929067077872012 and F1=0.6482613277133825\n",
            "Sentence Level: acc:0.467982, precision:0.569727, recall:0.256872, f1:0.354094\n"
          ]
        },
        {
          "data": {
            "application/vnd.jupyter.widget-view+json": {
              "model_id": "4a92ca010cd24c0aa0712ba72da36f3d",
              "version_major": 2,
              "version_minor": 0
            },
            "text/plain": [
              "Validation: 0it [00:00, ?it/s]"
            ]
          },
          "metadata": {},
          "output_type": "display_data"
        },
        {
          "metadata": {
            "tags": null
          },
          "name": "stderr",
          "output_type": "stream",
          "text": [
            "2023-01-02 11:25:18.563 | INFO     | __main__:on_validation_epoch_start:14 - Valid.\n"
          ]
        },
        {
          "metadata": {
            "tags": null
          },
          "name": "stdout",
          "output_type": "stream",
          "text": [
            "loss: 0.19053592905402184 - Detection acc: 0.6036 - Correction acc: 0.4653\n",
            "Detection: precision=0.56474914630943, recall=0.5285152409046214 and F1=0.546031746031746\n",
            "Correction: precision=0.713953488372093, recall=0.5951919348584723 and F1=0.6491858743920491\n",
            "Sentence Level: acc:0.465291, precision:0.564336, recall:0.254976, f1:0.351251\n"
          ]
        },
        {
          "data": {
            "application/vnd.jupyter.widget-view+json": {
              "model_id": "16762e77c1a448259df8ad9bf060945e",
              "version_major": 2,
              "version_minor": 0
            },
            "text/plain": [
              "Validation: 0it [00:00, ?it/s]"
            ]
          },
          "metadata": {},
          "output_type": "display_data"
        },
        {
          "metadata": {
            "tags": null
          },
          "name": "stderr",
          "output_type": "stream",
          "text": [
            "2023-01-02 11:26:40.944 | INFO     | __main__:on_validation_epoch_start:14 - Valid.\n"
          ]
        },
        {
          "metadata": {
            "tags": null
          },
          "name": "stdout",
          "output_type": "stream",
          "text": [
            "loss: 0.18663948486474427 - Detection acc: 0.6117 - Correction acc: 0.4682\n",
            "Detection: precision=0.5706733444629939, recall=0.5041789577187807 and F1=0.5353693552597234\n",
            "Correction: precision=0.7230619210141395, recall=0.5941506410256411 and F1=0.6522982186056742\n",
            "Sentence Level: acc:0.468161, precision:0.573099, recall:0.247709, f1:0.345908\n"
          ]
        },
        {
          "data": {
            "application/vnd.jupyter.widget-view+json": {
              "model_id": "100f4fafaccc423ab59bc831d11ef0e8",
              "version_major": 2,
              "version_minor": 0
            },
            "text/plain": [
              "Validation: 0it [00:00, ?it/s]"
            ]
          },
          "metadata": {},
          "output_type": "display_data"
        },
        {
          "metadata": {
            "tags": null
          },
          "name": "stderr",
          "output_type": "stream",
          "text": [
            "2023-01-02 11:28:02.422 | INFO     | __main__:on_validation_epoch_start:14 - Valid.\n"
          ]
        },
        {
          "metadata": {
            "tags": null
          },
          "name": "stdout",
          "output_type": "stream",
          "text": [
            "loss: 0.18778135847638955 - Detection acc: 0.6118 - Correction acc: 0.4683\n",
            "Detection: precision=0.5709229512659951, recall=0.5154867256637168 and F1=0.541790466348017\n",
            "Correction: precision=0.7181688125894135, recall=0.5945519147256217 and F1=0.6505399568034557\n",
            "Sentence Level: acc:0.468341, precision:0.572250, recall:0.251501, f1:0.349429\n"
          ]
        },
        {
          "data": {
            "application/vnd.jupyter.widget-view+json": {
              "model_id": "66fab5aad083446b98447d3d0ae5f108",
              "version_major": 2,
              "version_minor": 0
            },
            "text/plain": [
              "Validation: 0it [00:00, ?it/s]"
            ]
          },
          "metadata": {},
          "output_type": "display_data"
        },
        {
          "metadata": {
            "tags": null
          },
          "name": "stderr",
          "output_type": "stream",
          "text": [
            "2023-01-02 11:29:25.580 | INFO     | __main__:on_validation_epoch_start:14 - Valid.\n"
          ]
        },
        {
          "metadata": {
            "tags": null
          },
          "name": "stdout",
          "output_type": "stream",
          "text": [
            "loss: 0.1902264847674153 - Detection acc: 0.6054 - Correction acc: 0.4646\n",
            "Detection: precision=0.5680317040951123, recall=0.5285152409046214 and F1=0.5475614414873297\n",
            "Correction: precision=0.706046511627907, recall=0.5863267670915412 and F1=0.6406414855454737\n",
            "Sentence Level: acc:0.464574, precision:0.563649, recall:0.251817, f1:0.348111\n"
          ]
        },
        {
          "data": {
            "application/vnd.jupyter.widget-view+json": {
              "model_id": "4c989004e517466891477e18ee37be6f",
              "version_major": 2,
              "version_minor": 0
            },
            "text/plain": [
              "Validation: 0it [00:00, ?it/s]"
            ]
          },
          "metadata": {},
          "output_type": "display_data"
        },
        {
          "metadata": {
            "tags": null
          },
          "name": "stderr",
          "output_type": "stream",
          "text": [
            "2023-01-02 11:30:48.857 | INFO     | __main__:on_validation_epoch_start:14 - Valid.\n"
          ]
        },
        {
          "metadata": {
            "tags": null
          },
          "name": "stdout",
          "output_type": "stream",
          "text": [
            "loss: 0.18869432959366927 - Detection acc: 0.6018 - Correction acc: 0.4671\n",
            "Detection: precision=0.5675604626708728, recall=0.5307276302851525 and F1=0.5485264227642277\n",
            "Correction: precision=0.7160722556739231, recall=0.5964506172839507 and F1=0.6508103557145863\n",
            "Sentence Level: acc:0.467085, precision:0.568600, recall:0.254028, f1:0.351168\n"
          ]
        },
        {
          "data": {
            "application/vnd.jupyter.widget-view+json": {
              "model_id": "1a9f662098a04d70bb1e80dc33e037f3",
              "version_major": 2,
              "version_minor": 0
            },
            "text/plain": [
              "Validation: 0it [00:00, ?it/s]"
            ]
          },
          "metadata": {},
          "output_type": "display_data"
        },
        {
          "metadata": {
            "tags": null
          },
          "name": "stderr",
          "output_type": "stream",
          "text": [
            "2023-01-02 11:32:11.880 | INFO     | __main__:on_validation_epoch_start:14 - Valid.\n"
          ]
        },
        {
          "metadata": {
            "tags": null
          },
          "name": "stdout",
          "output_type": "stream",
          "text": [
            "loss: 0.18534621274606747 - Detection acc: 0.6102 - Correction acc: 0.4685\n",
            "Detection: precision=0.5696854663774403, recall=0.5164700098328416 and F1=0.5417741103661681\n",
            "Correction: precision=0.7210851975249881, recall=0.5966916108704214 and F1=0.6530172413793104\n",
            "Sentence Level: acc:0.468520, precision:0.571733, recall:0.254344, f1:0.352066\n"
          ]
        },
        {
          "data": {
            "application/vnd.jupyter.widget-view+json": {
              "model_id": "0710b36150064694892ce012a3dbce51",
              "version_major": 2,
              "version_minor": 0
            },
            "text/plain": [
              "Validation: 0it [00:00, ?it/s]"
            ]
          },
          "metadata": {},
          "output_type": "display_data"
        },
        {
          "metadata": {
            "tags": null
          },
          "name": "stderr",
          "output_type": "stream",
          "text": [
            "2023-01-02 11:33:33.986 | INFO     | __main__:on_validation_epoch_start:14 - Valid.\n"
          ]
        },
        {
          "metadata": {
            "tags": null
          },
          "name": "stdout",
          "output_type": "stream",
          "text": [
            "loss: 0.1880185158753937 - Detection acc: 0.6124 - Correction acc: 0.4680\n",
            "Detection: precision=0.5718459495351925, recall=0.5292527040314651 and F1=0.5497255202349035\n",
            "Correction: precision=0.7134231305155597, recall=0.5937379203710862 and F1=0.6481012658227848\n",
            "Sentence Level: acc:0.467982, precision:0.570318, recall:0.254976, f1:0.352402\n"
          ]
        },
        {
          "data": {
            "application/vnd.jupyter.widget-view+json": {
              "model_id": "f440d8f51aba40b09d60d7335cff15f4",
              "version_major": 2,
              "version_minor": 0
            },
            "text/plain": [
              "Validation: 0it [00:00, ?it/s]"
            ]
          },
          "metadata": {},
          "output_type": "display_data"
        },
        {
          "metadata": {
            "tags": null
          },
          "name": "stderr",
          "output_type": "stream",
          "text": [
            "2023-01-02 11:34:56.684 | INFO     | __main__:on_validation_epoch_start:14 - Valid.\n"
          ]
        },
        {
          "metadata": {
            "tags": null
          },
          "name": "stdout",
          "output_type": "stream",
          "text": [
            "loss: 0.1911638594147834 - Detection acc: 0.6063 - Correction acc: 0.4689\n",
            "Detection: precision=0.5688264376788967, recall=0.5373647984267453 and F1=0.5526482113512831\n",
            "Correction: precision=0.7099725526075022, recall=0.5898897757506651 and F1=0.6443844716628607\n",
            "Sentence Level: acc:0.468879, precision:0.571031, recall:0.259084, f1:0.356444\n"
          ]
        },
        {
          "data": {
            "application/vnd.jupyter.widget-view+json": {
              "model_id": "531a6c8d3732477b8ca5616a42ff88e8",
              "version_major": 2,
              "version_minor": 0
            },
            "text/plain": [
              "Validation: 0it [00:00, ?it/s]"
            ]
          },
          "metadata": {},
          "output_type": "display_data"
        },
        {
          "metadata": {
            "tags": null
          },
          "name": "stderr",
          "output_type": "stream",
          "text": [
            "2023-01-02 11:36:20.424 | INFO     | __main__:on_validation_epoch_start:14 - Valid.\n"
          ]
        },
        {
          "metadata": {
            "tags": null
          },
          "name": "stdout",
          "output_type": "stream",
          "text": [
            "loss: 0.18705179779367012 - Detection acc: 0.6109 - Correction acc: 0.4635\n",
            "Detection: precision=0.5642641819676624, recall=0.5061455260570304 and F1=0.5336270571465596\n",
            "Correction: precision=0.7163671685284119, recall=0.59 and F1=0.6470717262557577\n",
            "Sentence Level: acc:0.463498, precision:0.562771, recall:0.246445, f1:0.342782\n"
          ]
        },
        {
          "data": {
            "application/vnd.jupyter.widget-view+json": {
              "model_id": "1074171db5334988b4712fb255f0b5d1",
              "version_major": 2,
              "version_minor": 0
            },
            "text/plain": [
              "Validation: 0it [00:00, ?it/s]"
            ]
          },
          "metadata": {},
          "output_type": "display_data"
        },
        {
          "metadata": {
            "tags": null
          },
          "name": "stderr",
          "output_type": "stream",
          "text": [
            "2023-01-02 11:37:43.648 | INFO     | __main__:on_validation_epoch_start:14 - Valid.\n"
          ]
        },
        {
          "metadata": {
            "tags": null
          },
          "name": "stdout",
          "output_type": "stream",
          "text": [
            "loss: 0.1922637095505541 - Detection acc: 0.5982 - Correction acc: 0.4646\n",
            "Detection: precision=0.5661389172625128, recall=0.5449852507374632 and F1=0.5553607214428858\n",
            "Correction: precision=0.706359945872801, recall=0.5911664779161948 and F1=0.6436498150431565\n",
            "Sentence Level: acc:0.464574, precision:0.562413, recall:0.256240, f1:0.352073\n"
          ]
        },
        {
          "data": {
            "application/vnd.jupyter.widget-view+json": {
              "model_id": "155db524603a43209fe6ef609db3d255",
              "version_major": 2,
              "version_minor": 0
            },
            "text/plain": [
              "Validation: 0it [00:00, ?it/s]"
            ]
          },
          "metadata": {},
          "output_type": "display_data"
        },
        {
          "metadata": {
            "tags": null
          },
          "name": "stderr",
          "output_type": "stream",
          "text": [
            "2023-01-02 11:39:05.190 | INFO     | __main__:on_validation_epoch_start:14 - Valid.\n"
          ]
        },
        {
          "metadata": {
            "tags": null
          },
          "name": "stdout",
          "output_type": "stream",
          "text": [
            "loss: 0.18925142762335864 - Detection acc: 0.6029 - Correction acc: 0.4648\n",
            "Detection: precision=0.5634118967452301, recall=0.4936086529006883 and F1=0.5262054507337526\n",
            "Correction: precision=0.725597609561753, recall=0.5956663941128373 and F1=0.6542433767400091\n",
            "Sentence Level: acc:0.464753, precision:0.565723, recall:0.246130, f1:0.343021\n"
          ]
        },
        {
          "data": {
            "application/vnd.jupyter.widget-view+json": {
              "model_id": "df80f2814c9c4b918a5b35297d1507cf",
              "version_major": 2,
              "version_minor": 0
            },
            "text/plain": [
              "Validation: 0it [00:00, ?it/s]"
            ]
          },
          "metadata": {},
          "output_type": "display_data"
        },
        {
          "metadata": {
            "tags": null
          },
          "name": "stderr",
          "output_type": "stream",
          "text": [
            "2023-01-02 11:40:27.065 | INFO     | __main__:on_validation_epoch_start:14 - Valid.\n"
          ]
        },
        {
          "metadata": {
            "tags": null
          },
          "name": "stdout",
          "output_type": "stream",
          "text": [
            "loss: 0.1852338999848474 - Detection acc: 0.6174 - Correction acc: 0.4687\n",
            "Detection: precision=0.5725806451612904, recall=0.523598820058997 and F1=0.5469953775038521\n",
            "Correction: precision=0.711737089201878, recall=0.5905726529022205 and F1=0.6455184160102193\n",
            "Sentence Level: acc:0.468700, precision:0.572448, recall:0.253397, f1:0.351292\n"
          ]
        },
        {
          "data": {
            "application/vnd.jupyter.widget-view+json": {
              "model_id": "cd02d7667a2545c687a09b4c4ed2997f",
              "version_major": 2,
              "version_minor": 0
            },
            "text/plain": [
              "Validation: 0it [00:00, ?it/s]"
            ]
          },
          "metadata": {},
          "output_type": "display_data"
        },
        {
          "metadata": {
            "tags": null
          },
          "name": "stderr",
          "output_type": "stream",
          "text": [
            "2023-01-02 11:41:49.476 | INFO     | __main__:on_validation_epoch_start:14 - Valid.\n"
          ]
        },
        {
          "metadata": {
            "tags": null
          },
          "name": "stdout",
          "output_type": "stream",
          "text": [
            "loss: 0.1884446641938253 - Detection acc: 0.6074 - Correction acc: 0.4630\n",
            "Detection: precision=0.5630064263760827, recall=0.49532940019665683 and F1=0.5270040538773375\n",
            "Correction: precision=0.7245657568238213, recall=0.5944625407166124 and F1=0.6530977409975397\n",
            "Sentence Level: acc:0.462960, precision:0.562637, recall:0.242654, f1:0.339073\n"
          ]
        },
        {
          "data": {
            "application/vnd.jupyter.widget-view+json": {
              "model_id": "3d4ddcc3809848d2b6b045f0b8f22767",
              "version_major": 2,
              "version_minor": 0
            },
            "text/plain": [
              "Validation: 0it [00:00, ?it/s]"
            ]
          },
          "metadata": {},
          "output_type": "display_data"
        },
        {
          "metadata": {
            "tags": null
          },
          "name": "stderr",
          "output_type": "stream",
          "text": [
            "2023-01-02 11:43:12.853 | INFO     | __main__:on_validation_epoch_start:14 - Valid.\n"
          ]
        },
        {
          "metadata": {
            "tags": null
          },
          "name": "stdout",
          "output_type": "stream",
          "text": [
            "loss: 0.18913465484299444 - Detection acc: 0.6081 - Correction acc: 0.4651\n",
            "Detection: precision=0.5670995670995671, recall=0.5152409046214356 and F1=0.539927872230809\n",
            "Correction: precision=0.7146946564885496, recall=0.5916271721958926 and F1=0.6473638720829732\n",
            "Sentence Level: acc:0.465112, precision:0.565970, recall:0.248025, f1:0.344903\n"
          ]
        },
        {
          "data": {
            "application/vnd.jupyter.widget-view+json": {
              "model_id": "cf8644c027f24499be470ed09e130637",
              "version_major": 2,
              "version_minor": 0
            },
            "text/plain": [
              "Validation: 0it [00:00, ?it/s]"
            ]
          },
          "metadata": {},
          "output_type": "display_data"
        },
        {
          "metadata": {
            "tags": null
          },
          "name": "stderr",
          "output_type": "stream",
          "text": [
            "2023-01-02 11:44:34.840 | INFO     | __main__:on_validation_epoch_start:14 - Valid.\n"
          ]
        },
        {
          "metadata": {
            "tags": null
          },
          "name": "stdout",
          "output_type": "stream",
          "text": [
            "loss: 0.18942151421850378 - Detection acc: 0.6086 - Correction acc: 0.4658\n",
            "Detection: precision=0.5685911016949152, recall=0.5277777777777778 and F1=0.5474247832738399\n",
            "Correction: precision=0.7135537959944108, recall=0.5924207269914926 and F1=0.6473695330657089\n",
            "Sentence Level: acc:0.465830, precision:0.565522, recall:0.254976, f1:0.351481\n"
          ]
        },
        {
          "data": {
            "application/vnd.jupyter.widget-view+json": {
              "model_id": "630246524c9a42d19d228fd950ec1691",
              "version_major": 2,
              "version_minor": 0
            },
            "text/plain": [
              "Validation: 0it [00:00, ?it/s]"
            ]
          },
          "metadata": {},
          "output_type": "display_data"
        },
        {
          "metadata": {
            "tags": null
          },
          "name": "stderr",
          "output_type": "stream",
          "text": [
            "2023-01-02 11:45:57.063 | INFO     | __main__:on_validation_epoch_start:14 - Valid.\n"
          ]
        },
        {
          "metadata": {
            "tags": null
          },
          "name": "stdout",
          "output_type": "stream",
          "text": [
            "loss: 0.19432297298176723 - Detection acc: 0.5977 - Correction acc: 0.4655\n",
            "Detection: precision=0.5645569620253165, recall=0.548180924287119 and F1=0.5562484410077326\n",
            "Correction: precision=0.7053811659192825, recall=0.5889180082366156 and F1=0.6419098143236074\n",
            "Sentence Level: acc:0.465471, precision:0.562968, recall:0.261295, f1:0.356927\n"
          ]
        },
        {
          "data": {
            "application/vnd.jupyter.widget-view+json": {
              "model_id": "eb267296980248f682198c4b80451e39",
              "version_major": 2,
              "version_minor": 0
            },
            "text/plain": [
              "Validation: 0it [00:00, ?it/s]"
            ]
          },
          "metadata": {},
          "output_type": "display_data"
        },
        {
          "metadata": {
            "tags": null
          },
          "name": "stderr",
          "output_type": "stream",
          "text": [
            "2023-01-02 11:47:19.386 | INFO     | __main__:on_validation_epoch_start:14 - Valid.\n"
          ]
        },
        {
          "metadata": {
            "tags": null
          },
          "name": "stdout",
          "output_type": "stream",
          "text": [
            "loss: 0.18949768709188158 - Detection acc: 0.6038 - Correction acc: 0.4649\n",
            "Detection: precision=0.562418894368025, recall=0.5326941986234022 and F1=0.5471531372301478\n",
            "Correction: precision=0.7180433779418551, recall=0.595256312165264 and F1=0.6509098514955031\n",
            "Sentence Level: acc:0.464933, precision:0.562500, recall:0.258768, f1:0.354469\n"
          ]
        },
        {
          "data": {
            "application/vnd.jupyter.widget-view+json": {
              "model_id": "23ce204942874cfbaae08d4d21f64033",
              "version_major": 2,
              "version_minor": 0
            },
            "text/plain": [
              "Validation: 0it [00:00, ?it/s]"
            ]
          },
          "metadata": {},
          "output_type": "display_data"
        },
        {
          "metadata": {
            "tags": null
          },
          "name": "stderr",
          "output_type": "stream",
          "text": [
            "2023-01-02 11:48:41.463 | INFO     | __main__:on_validation_epoch_start:14 - Valid.\n"
          ]
        },
        {
          "metadata": {
            "tags": null
          },
          "name": "stdout",
          "output_type": "stream",
          "text": [
            "loss: 0.18918779712509026 - Detection acc: 0.6111 - Correction acc: 0.4667\n",
            "Detection: precision=0.567029466418901, recall=0.5250737463126843 and F1=0.5452456924058711\n",
            "Correction: precision=0.7172284644194756, recall=0.5958770906262155 and F1=0.650945400467389\n",
            "Sentence Level: acc:0.466726, precision:0.568182, recall:0.252765, f1:0.349880\n"
          ]
        },
        {
          "data": {
            "application/vnd.jupyter.widget-view+json": {
              "model_id": "b796ac5caa774847a219e3532806e68f",
              "version_major": 2,
              "version_minor": 0
            },
            "text/plain": [
              "Validation: 0it [00:00, ?it/s]"
            ]
          },
          "metadata": {},
          "output_type": "display_data"
        },
        {
          "metadata": {
            "tags": null
          },
          "name": "stderr",
          "output_type": "stream",
          "text": [
            "2023-01-02 11:50:02.909 | INFO     | __main__:on_validation_epoch_start:14 - Valid.\n"
          ]
        },
        {
          "metadata": {
            "tags": null
          },
          "name": "stdout",
          "output_type": "stream",
          "text": [
            "loss: 0.18781269680369983 - Detection acc: 0.6066 - Correction acc: 0.4701\n",
            "Detection: precision=0.5686701115039434, recall=0.5140117994100295 and F1=0.5399612653324726\n",
            "Correction: precision=0.7221425155428025, recall=0.598256735340729 and F1=0.6543878656554714\n",
            "Sentence Level: acc:0.470135, precision:0.575411, recall:0.254344, f1:0.352761\n"
          ]
        },
        {
          "data": {
            "application/vnd.jupyter.widget-view+json": {
              "model_id": "249ba463b59c42c591c6c8a5092cef11",
              "version_major": 2,
              "version_minor": 0
            },
            "text/plain": [
              "Validation: 0it [00:00, ?it/s]"
            ]
          },
          "metadata": {},
          "output_type": "display_data"
        },
        {
          "metadata": {
            "tags": null
          },
          "name": "stderr",
          "output_type": "stream",
          "text": [
            "2023-01-02 11:51:24.751 | INFO     | __main__:on_validation_epoch_start:14 - Valid.\n"
          ]
        },
        {
          "metadata": {
            "tags": null
          },
          "name": "stdout",
          "output_type": "stream",
          "text": [
            "loss: 0.18753567591986872 - Detection acc: 0.6106 - Correction acc: 0.4626\n",
            "Detection: precision=0.5638069705093833, recall=0.5169616519174042 and F1=0.5393690689920493\n",
            "Correction: precision=0.7094626723728008, recall=0.5883280757097792 and F1=0.6432420780340591\n",
            "Sentence Level: acc:0.462601, precision:0.560487, recall:0.247393, f1:0.343270\n"
          ]
        },
        {
          "data": {
            "application/vnd.jupyter.widget-view+json": {
              "model_id": "a8138997026341ae878922e9a12d8933",
              "version_major": 2,
              "version_minor": 0
            },
            "text/plain": [
              "Validation: 0it [00:00, ?it/s]"
            ]
          },
          "metadata": {},
          "output_type": "display_data"
        },
        {
          "metadata": {
            "tags": null
          },
          "name": "stderr",
          "output_type": "stream",
          "text": [
            "2023-01-02 11:52:46.870 | INFO     | __main__:on_validation_epoch_start:14 - Valid.\n"
          ]
        },
        {
          "metadata": {
            "tags": null
          },
          "name": "stdout",
          "output_type": "stream",
          "text": [
            "loss: 0.19007431631061164 - Detection acc: 0.6084 - Correction acc: 0.4631\n",
            "Detection: precision=0.5650449497620307, recall=0.5253195673549655 and F1=0.5444585987261147\n",
            "Correction: precision=0.7122133832475432, recall=0.5912975912975913 and F1=0.6461473147951602\n",
            "Sentence Level: acc:0.463139, precision:0.560224, recall:0.252765, f1:0.348356\n"
          ]
        },
        {
          "data": {
            "application/vnd.jupyter.widget-view+json": {
              "model_id": "074058a644954588bc5c32b186a3771f",
              "version_major": 2,
              "version_minor": 0
            },
            "text/plain": [
              "Validation: 0it [00:00, ?it/s]"
            ]
          },
          "metadata": {},
          "output_type": "display_data"
        },
        {
          "metadata": {
            "tags": null
          },
          "name": "stderr",
          "output_type": "stream",
          "text": [
            "2023-01-02 11:54:10.172 | INFO     | __main__:on_validation_epoch_start:14 - Valid.\n"
          ]
        },
        {
          "metadata": {
            "tags": null
          },
          "name": "stdout",
          "output_type": "stream",
          "text": [
            "loss: 0.19022825597362084 - Detection acc: 0.6066 - Correction acc: 0.4639\n",
            "Detection: precision=0.5638918345705196, recall=0.5228613569321534 and F1=0.5426020408163265\n",
            "Correction: precision=0.7160319699106723, recall=0.5946895743850058 and F1=0.6497440273037542\n",
            "Sentence Level: acc:0.463857, precision:0.562500, recall:0.250237, f1:0.346381\n"
          ]
        },
        {
          "data": {
            "application/vnd.jupyter.widget-view+json": {
              "model_id": "975a8d1106af41daa01436ed7fca3919",
              "version_major": 2,
              "version_minor": 0
            },
            "text/plain": [
              "Validation: 0it [00:00, ?it/s]"
            ]
          },
          "metadata": {},
          "output_type": "display_data"
        },
        {
          "metadata": {
            "tags": null
          },
          "name": "stderr",
          "output_type": "stream",
          "text": [
            "2023-01-02 11:55:33.182 | INFO     | __main__:on_validation_epoch_start:14 - Valid.\n"
          ]
        },
        {
          "metadata": {
            "tags": null
          },
          "name": "stdout",
          "output_type": "stream",
          "text": [
            "loss: 0.19328210333531554 - Detection acc: 0.6000 - Correction acc: 0.4660\n",
            "Detection: precision=0.5632586997572161, recall=0.5132743362831859 and F1=0.5371061093247589\n",
            "Correction: precision=0.7227011494252874, recall=0.6 and F1=0.655659352596133\n",
            "Sentence Level: acc:0.466009, precision:0.567143, recall:0.250869, f1:0.347864\n"
          ]
        },
        {
          "data": {
            "application/vnd.jupyter.widget-view+json": {
              "model_id": "352bca4d59b24c178cbc600353866957",
              "version_major": 2,
              "version_minor": 0
            },
            "text/plain": [
              "Validation: 0it [00:00, ?it/s]"
            ]
          },
          "metadata": {},
          "output_type": "display_data"
        },
        {
          "metadata": {
            "tags": null
          },
          "name": "stderr",
          "output_type": "stream",
          "text": [
            "2023-01-02 11:56:56.874 | INFO     | __main__:on_validation_epoch_start:14 - Valid.\n"
          ]
        },
        {
          "metadata": {
            "tags": null
          },
          "name": "stdout",
          "output_type": "stream",
          "text": [
            "loss: 0.19306826743889938 - Detection acc: 0.5977 - Correction acc: 0.4631\n",
            "Detection: precision=0.5618904726181545, recall=0.5523598820058997 and F1=0.5570844179992562\n",
            "Correction: precision=0.7076101468624834, recall=0.5912978802528821 and F1=0.6442463533225283\n",
            "Sentence Level: acc:0.463139, precision:0.557873, recall:0.261927, f1:0.356482\n"
          ]
        },
        {
          "data": {
            "application/vnd.jupyter.widget-view+json": {
              "model_id": "a2bd690f2ca5426b9f77cad73e8a11da",
              "version_major": 2,
              "version_minor": 0
            },
            "text/plain": [
              "Validation: 0it [00:00, ?it/s]"
            ]
          },
          "metadata": {},
          "output_type": "display_data"
        },
        {
          "metadata": {
            "tags": null
          },
          "name": "stderr",
          "output_type": "stream",
          "text": [
            "2023-01-02 11:58:18.639 | INFO     | __main__:on_validation_epoch_start:14 - Valid.\n"
          ]
        },
        {
          "metadata": {
            "tags": null
          },
          "name": "stdout",
          "output_type": "stream",
          "text": [
            "loss: 0.18913673287765545 - Detection acc: 0.6100 - Correction acc: 0.4639\n",
            "Detection: precision=0.5654520917678812, recall=0.5149950835791544 and F1=0.5390454136112184\n",
            "Correction: precision=0.7136038186157518, recall=0.5902092380576391 and F1=0.6460674157303371\n",
            "Sentence Level: acc:0.463857, precision:0.562947, recall:0.248657, f1:0.344948\n"
          ]
        },
        {
          "data": {
            "application/vnd.jupyter.widget-view+json": {
              "model_id": "4ebc95d5bf9f476ab59ed1c89f8044d7",
              "version_major": 2,
              "version_minor": 0
            },
            "text/plain": [
              "Validation: 0it [00:00, ?it/s]"
            ]
          },
          "metadata": {},
          "output_type": "display_data"
        },
        {
          "metadata": {
            "tags": null
          },
          "name": "stderr",
          "output_type": "stream",
          "text": [
            "2023-01-02 11:59:40.348 | INFO     | __main__:on_validation_epoch_start:14 - Valid.\n"
          ]
        },
        {
          "metadata": {
            "tags": null
          },
          "name": "stdout",
          "output_type": "stream",
          "text": [
            "loss: 0.18630720759657296 - Detection acc: 0.6133 - Correction acc: 0.4633\n",
            "Detection: precision=0.5637816245006658, recall=0.5204031465093412 and F1=0.5412245941454685\n",
            "Correction: precision=0.7132735002361833, recall=0.5886939571150097 and F1=0.6450234942332336\n",
            "Sentence Level: acc:0.463318, precision:0.561131, recall:0.250869, f1:0.346725\n"
          ]
        },
        {
          "data": {
            "application/vnd.jupyter.widget-view+json": {
              "model_id": "69a49e3802a245a18fdb651fd67fb146",
              "version_major": 2,
              "version_minor": 0
            },
            "text/plain": [
              "Validation: 0it [00:00, ?it/s]"
            ]
          },
          "metadata": {},
          "output_type": "display_data"
        },
        {
          "metadata": {
            "tags": null
          },
          "name": "stderr",
          "output_type": "stream",
          "text": [
            "2023-01-02 12:01:02.193 | INFO     | __main__:on_validation_epoch_start:14 - Valid.\n"
          ]
        },
        {
          "metadata": {
            "tags": null
          },
          "name": "stdout",
          "output_type": "stream",
          "text": [
            "loss: 0.1895718269727447 - Detection acc: 0.6048 - Correction acc: 0.4692\n",
            "Detection: precision=0.5674953221063886, recall=0.5218780727630286 and F1=0.5437315917531054\n",
            "Correction: precision=0.7178520960904381, recall=0.5976470588235294 and F1=0.6522576503316928\n",
            "Sentence Level: acc:0.469238, precision:0.572331, recall:0.257504, f1:0.355197\n"
          ]
        },
        {
          "data": {
            "application/vnd.jupyter.widget-view+json": {
              "model_id": "bdb84189de9749ddaec226362196ea40",
              "version_major": 2,
              "version_minor": 0
            },
            "text/plain": [
              "Validation: 0it [00:00, ?it/s]"
            ]
          },
          "metadata": {},
          "output_type": "display_data"
        },
        {
          "metadata": {
            "tags": null
          },
          "name": "stderr",
          "output_type": "stream",
          "text": [
            "2023-01-02 12:02:24.358 | INFO     | __main__:on_validation_epoch_start:14 - Valid.\n"
          ]
        },
        {
          "metadata": {
            "tags": null
          },
          "name": "stdout",
          "output_type": "stream",
          "text": [
            "loss: 0.19321033646437255 - Detection acc: 0.5982 - Correction acc: 0.4664\n",
            "Detection: precision=0.5678655815174587, recall=0.5317109144542773 and F1=0.5491938555287545\n",
            "Correction: precision=0.7124364308830329, recall=0.5924644367550942 and F1=0.6469353484466834\n",
            "Sentence Level: acc:0.466368, precision:0.566341, recall:0.256240, f1:0.352839\n"
          ]
        },
        {
          "data": {
            "application/vnd.jupyter.widget-view+json": {
              "model_id": "c3aa053074df471c83b644def38fd8e7",
              "version_major": 2,
              "version_minor": 0
            },
            "text/plain": [
              "Validation: 0it [00:00, ?it/s]"
            ]
          },
          "metadata": {},
          "output_type": "display_data"
        },
        {
          "metadata": {
            "tags": null
          },
          "name": "stderr",
          "output_type": "stream",
          "text": [
            "2023-01-02 12:03:47.424 | INFO     | __main__:on_validation_epoch_start:14 - Valid.\n"
          ]
        },
        {
          "metadata": {
            "tags": null
          },
          "name": "stdout",
          "output_type": "stream",
          "text": [
            "loss: 0.19454995017837395 - Detection acc: 0.5944 - Correction acc: 0.4628\n",
            "Detection: precision=0.562931492299522, recall=0.5211406096361848 and F1=0.5412305335716109\n",
            "Correction: precision=0.7150943396226415, recall=0.5914943425673039 and F1=0.6474482169549434\n",
            "Sentence Level: acc:0.462780, precision:0.560888, recall:0.247393, f1:0.343346\n"
          ]
        },
        {
          "data": {
            "application/vnd.jupyter.widget-view+json": {
              "model_id": "abebd96a8c5b47aa9989f21e7da5a8a8",
              "version_major": 2,
              "version_minor": 0
            },
            "text/plain": [
              "Validation: 0it [00:00, ?it/s]"
            ]
          },
          "metadata": {},
          "output_type": "display_data"
        },
        {
          "metadata": {
            "tags": null
          },
          "name": "stderr",
          "output_type": "stream",
          "text": [
            "2023-01-02 12:05:09.508 | INFO     | __main__:on_validation_epoch_start:14 - Valid.\n"
          ]
        },
        {
          "metadata": {
            "tags": null
          },
          "name": "stdout",
          "output_type": "stream",
          "text": [
            "loss: 0.18599483167583292 - Detection acc: 0.6072 - Correction acc: 0.4626\n",
            "Detection: precision=0.5598802395209581, recall=0.505653883972468 and F1=0.5313872384396796\n",
            "Correction: precision=0.7243558580456976, recall=0.5957616953218713 and F1=0.6537955243527863\n",
            "Sentence Level: acc:0.462601, precision:0.561011, recall:0.245498, f1:0.341538\n"
          ]
        },
        {
          "data": {
            "application/vnd.jupyter.widget-view+json": {
              "model_id": "df217918e40d47b79ef7c3f48b0e7dfd",
              "version_major": 2,
              "version_minor": 0
            },
            "text/plain": [
              "Validation: 0it [00:00, ?it/s]"
            ]
          },
          "metadata": {},
          "output_type": "display_data"
        },
        {
          "metadata": {
            "tags": null
          },
          "name": "stderr",
          "output_type": "stream",
          "text": [
            "2023-01-02 12:06:31.602 | INFO     | __main__:on_validation_epoch_start:14 - Valid.\n"
          ]
        },
        {
          "metadata": {
            "tags": null
          },
          "name": "stdout",
          "output_type": "stream",
          "text": [
            "loss: 0.18740183402868835 - Detection acc: 0.6023 - Correction acc: 0.4658\n",
            "Detection: precision=0.5648751357220413, recall=0.5115535889872173 and F1=0.5368937048503613\n",
            "Correction: precision=0.7174435367611726, recall=0.593638170974155 and F1=0.6496953872932985\n",
            "Sentence Level: acc:0.465830, precision:0.567412, recall:0.248657, f1:0.345782\n"
          ]
        },
        {
          "data": {
            "application/vnd.jupyter.widget-view+json": {
              "model_id": "5af965bb69ed464486937a001d582d3e",
              "version_major": 2,
              "version_minor": 0
            },
            "text/plain": [
              "Validation: 0it [00:00, ?it/s]"
            ]
          },
          "metadata": {},
          "output_type": "display_data"
        },
        {
          "metadata": {
            "tags": null
          },
          "name": "stderr",
          "output_type": "stream",
          "text": [
            "2023-01-02 12:07:54.627 | INFO     | __main__:on_validation_epoch_start:14 - Valid.\n"
          ]
        },
        {
          "metadata": {
            "tags": null
          },
          "name": "stdout",
          "output_type": "stream",
          "text": [
            "loss: 0.1901208060708913 - Detection acc: 0.6038 - Correction acc: 0.4648\n",
            "Detection: precision=0.5631145362742492, recall=0.5208947885939036 and F1=0.541182479887626\n",
            "Correction: precision=0.7107126002831524, recall=0.5885111371629543 and F1=0.6438648995297135\n",
            "Sentence Level: acc:0.464753, precision:0.564689, recall:0.249605, f1:0.346188\n"
          ]
        },
        {
          "data": {
            "application/vnd.jupyter.widget-view+json": {
              "model_id": "a487cdd431f14879bec156ff694cdda6",
              "version_major": 2,
              "version_minor": 0
            },
            "text/plain": [
              "Validation: 0it [00:00, ?it/s]"
            ]
          },
          "metadata": {},
          "output_type": "display_data"
        },
        {
          "metadata": {
            "tags": null
          },
          "name": "stderr",
          "output_type": "stream",
          "text": [
            "2023-01-02 12:09:16.666 | INFO     | __main__:on_validation_epoch_start:14 - Valid.\n"
          ]
        },
        {
          "metadata": {
            "tags": null
          },
          "name": "stdout",
          "output_type": "stream",
          "text": [
            "loss: 0.1859493347054178 - Detection acc: 0.6109 - Correction acc: 0.4671\n",
            "Detection: precision=0.5658315565031983, recall=0.5218780727630286 and F1=0.5429667519181586\n",
            "Correction: precision=0.7154969382948657, recall=0.5938232994526974 and F1=0.6490066225165564\n",
            "Sentence Level: acc:0.467085, precision:0.568503, recall:0.254344, f1:0.351452\n"
          ]
        },
        {
          "data": {
            "application/vnd.jupyter.widget-view+json": {
              "model_id": "a7655b7b96c84f8e863266f764991588",
              "version_major": 2,
              "version_minor": 0
            },
            "text/plain": [
              "Validation: 0it [00:00, ?it/s]"
            ]
          },
          "metadata": {},
          "output_type": "display_data"
        },
        {
          "metadata": {
            "tags": null
          },
          "name": "stderr",
          "output_type": "stream",
          "text": [
            "2023-01-02 12:10:40.596 | INFO     | __main__:on_validation_epoch_start:14 - Valid.\n"
          ]
        },
        {
          "metadata": {
            "tags": null
          },
          "name": "stdout",
          "output_type": "stream",
          "text": [
            "loss: 0.18942589837719093 - Detection acc: 0.6052 - Correction acc: 0.4667\n",
            "Detection: precision=0.5659640905542545, recall=0.5346607669616519 and F1=0.5498672734167614\n",
            "Correction: precision=0.7135632183908046, recall=0.5955487336914812 and F1=0.6492365613888308\n",
            "Sentence Level: acc:0.466726, precision:0.566759, recall:0.257504, f1:0.354117\n"
          ]
        },
        {
          "data": {
            "application/vnd.jupyter.widget-view+json": {
              "model_id": "e259806197084d2194407de08c479168",
              "version_major": 2,
              "version_minor": 0
            },
            "text/plain": [
              "Validation: 0it [00:00, ?it/s]"
            ]
          },
          "metadata": {},
          "output_type": "display_data"
        },
        {
          "metadata": {
            "tags": null
          },
          "name": "stderr",
          "output_type": "stream",
          "text": [
            "2023-01-02 12:12:02.206 | INFO     | __main__:on_validation_epoch_start:14 - Valid.\n"
          ]
        },
        {
          "metadata": {
            "tags": null
          },
          "name": "stdout",
          "output_type": "stream",
          "text": [
            "loss: 0.1884601680053906 - Detection acc: 0.6068 - Correction acc: 0.4680\n",
            "Detection: precision=0.567654123298639, recall=0.5228613569321534 and F1=0.5443378119001919\n",
            "Correction: precision=0.7202632816173014, recall=0.5977370269215763 and F1=0.6533049040511727\n",
            "Sentence Level: acc:0.467982, precision:0.569727, recall:0.256872, f1:0.354094\n"
          ]
        },
        {
          "data": {
            "application/vnd.jupyter.widget-view+json": {
              "model_id": "c45eae9fbf2642189ff5d2096ede420a",
              "version_major": 2,
              "version_minor": 0
            },
            "text/plain": [
              "Validation: 0it [00:00, ?it/s]"
            ]
          },
          "metadata": {},
          "output_type": "display_data"
        },
        {
          "metadata": {
            "tags": null
          },
          "name": "stderr",
          "output_type": "stream",
          "text": [
            "2023-01-02 12:13:25.148 | INFO     | __main__:on_validation_epoch_start:14 - Valid.\n"
          ]
        },
        {
          "metadata": {
            "tags": null
          },
          "name": "stdout",
          "output_type": "stream",
          "text": [
            "loss: 0.18680300309576772 - Detection acc: 0.6095 - Correction acc: 0.4635\n",
            "Detection: precision=0.5653110692162672, recall=0.5159783677482792 and F1=0.5395193419868912\n",
            "Correction: precision=0.7151024297284421, recall=0.5918769716088328 and F1=0.647680690399137\n",
            "Sentence Level: acc:0.463498, precision:0.561878, recall:0.249605, f1:0.345657\n"
          ]
        },
        {
          "data": {
            "application/vnd.jupyter.widget-view+json": {
              "model_id": "22e186da9fe44537b4c0eb96dadc0c92",
              "version_major": 2,
              "version_minor": 0
            },
            "text/plain": [
              "Validation: 0it [00:00, ?it/s]"
            ]
          },
          "metadata": {},
          "output_type": "display_data"
        },
        {
          "metadata": {
            "tags": null
          },
          "name": "stderr",
          "output_type": "stream",
          "text": [
            "2023-01-02 12:14:47.476 | INFO     | __main__:on_validation_epoch_start:14 - Valid.\n"
          ]
        },
        {
          "metadata": {
            "tags": null
          },
          "name": "stdout",
          "output_type": "stream",
          "text": [
            "loss: 0.18976907347413627 - Detection acc: 0.6014 - Correction acc: 0.4660\n",
            "Detection: precision=0.5628167511336356, recall=0.5186823992133727 and F1=0.5398490469489575\n",
            "Correction: precision=0.7218009478672985, recall=0.5988989382618954 and F1=0.6546314205888675\n",
            "Sentence Level: acc:0.466009, precision:0.566572, recall:0.252765, f1:0.349574\n"
          ]
        },
        {
          "data": {
            "application/vnd.jupyter.widget-view+json": {
              "model_id": "a6d09c33ac3d4028b26168a2ef8e88c0",
              "version_major": 2,
              "version_minor": 0
            },
            "text/plain": [
              "Validation: 0it [00:00, ?it/s]"
            ]
          },
          "metadata": {},
          "output_type": "display_data"
        },
        {
          "metadata": {
            "tags": null
          },
          "name": "stderr",
          "output_type": "stream",
          "text": [
            "2023-01-02 12:16:10.065 | INFO     | __main__:on_validation_epoch_start:14 - Valid.\n"
          ]
        },
        {
          "metadata": {
            "tags": null
          },
          "name": "stdout",
          "output_type": "stream",
          "text": [
            "loss: 0.18676101619547064 - Detection acc: 0.6120 - Correction acc: 0.4649\n",
            "Detection: precision=0.5675099866844208, recall=0.5238446411012783 and F1=0.5448037837146875\n",
            "Correction: precision=0.7090567808540591, recall=0.58816660179058 and F1=0.6429787234042553\n",
            "Sentence Level: acc:0.464933, precision:0.565093, recall:0.249605, f1:0.346263\n"
          ]
        },
        {
          "data": {
            "application/vnd.jupyter.widget-view+json": {
              "model_id": "77577ab4bbbb4eb480514dfe8604e948",
              "version_major": 2,
              "version_minor": 0
            },
            "text/plain": [
              "Validation: 0it [00:00, ?it/s]"
            ]
          },
          "metadata": {},
          "output_type": "display_data"
        },
        {
          "metadata": {
            "tags": null
          },
          "name": "stderr",
          "output_type": "stream",
          "text": [
            "2023-01-02 12:17:32.606 | INFO     | __main__:on_validation_epoch_start:14 - Valid.\n"
          ]
        },
        {
          "metadata": {
            "tags": null
          },
          "name": "stdout",
          "output_type": "stream",
          "text": [
            "loss: 0.1904879000715234 - Detection acc: 0.6070 - Correction acc: 0.4631\n",
            "Detection: precision=0.5627705627705628, recall=0.511307767944936 and F1=0.5358062854198866\n",
            "Correction: precision=0.7168269230769231, recall=0.591901548233426 and F1=0.6484018264840183\n",
            "Sentence Level: acc:0.463139, precision:0.561429, recall:0.248341, f1:0.344359\n"
          ]
        },
        {
          "data": {
            "application/vnd.jupyter.widget-view+json": {
              "model_id": "c5eee0d445e343d0a60d50967787d982",
              "version_major": 2,
              "version_minor": 0
            },
            "text/plain": [
              "Validation: 0it [00:00, ?it/s]"
            ]
          },
          "metadata": {},
          "output_type": "display_data"
        },
        {
          "metadata": {
            "tags": null
          },
          "name": "stderr",
          "output_type": "stream",
          "text": [
            "2023-01-02 12:18:55.711 | INFO     | __main__:on_validation_epoch_start:14 - Valid.\n"
          ]
        },
        {
          "metadata": {
            "tags": null
          },
          "name": "stdout",
          "output_type": "stream",
          "text": [
            "loss: 0.19156162389977413 - Detection acc: 0.6068 - Correction acc: 0.4619\n",
            "Detection: precision=0.562200956937799, recall=0.5199115044247787 and F1=0.5402298850574713\n",
            "Correction: precision=0.7111111111111111, recall=0.5886497064579256 and F1=0.6441113490364025\n",
            "Sentence Level: acc:0.461883, precision:0.558552, recall:0.248657, f1:0.344119\n"
          ]
        },
        {
          "data": {
            "application/vnd.jupyter.widget-view+json": {
              "model_id": "b47b307cbf9b4b478ef7cf1b0bda5485",
              "version_major": 2,
              "version_minor": 0
            },
            "text/plain": [
              "Validation: 0it [00:00, ?it/s]"
            ]
          },
          "metadata": {},
          "output_type": "display_data"
        },
        {
          "metadata": {
            "tags": null
          },
          "name": "stderr",
          "output_type": "stream",
          "text": [
            "2023-01-02 12:20:17.702 | INFO     | __main__:on_validation_epoch_start:14 - Valid.\n"
          ]
        },
        {
          "metadata": {
            "tags": null
          },
          "name": "stdout",
          "output_type": "stream",
          "text": [
            "loss: 0.1892022815617648 - Detection acc: 0.6072 - Correction acc: 0.4619\n",
            "Detection: precision=0.5605738575982997, recall=0.5186823992133727 and F1=0.5388151174668029\n",
            "Correction: precision=0.7151658767772512, recall=0.5943284757778653 and F1=0.6491718649171864\n",
            "Sentence Level: acc:0.461883, precision:0.558058, recall:0.250553, f1:0.345835\n"
          ]
        },
        {
          "data": {
            "application/vnd.jupyter.widget-view+json": {
              "model_id": "5be082770b4642af888510cb8bc2b5d1",
              "version_major": 2,
              "version_minor": 0
            },
            "text/plain": [
              "Validation: 0it [00:00, ?it/s]"
            ]
          },
          "metadata": {},
          "output_type": "display_data"
        },
        {
          "metadata": {
            "tags": null
          },
          "name": "stderr",
          "output_type": "stream",
          "text": [
            "2023-01-02 12:21:40.577 | INFO     | __main__:on_validation_epoch_start:14 - Valid.\n"
          ]
        },
        {
          "metadata": {
            "tags": null
          },
          "name": "stdout",
          "output_type": "stream",
          "text": [
            "loss: 0.19031014903025192 - Detection acc: 0.6088 - Correction acc: 0.4667\n",
            "Detection: precision=0.5645330535152151, recall=0.5290068829891839 and F1=0.5461928934010152\n",
            "Correction: precision=0.7156133828996283, recall=0.5964368706429125 and F1=0.6506125897760878\n",
            "Sentence Level: acc:0.466726, precision:0.567133, recall:0.256240, f1:0.352992\n"
          ]
        },
        {
          "data": {
            "application/vnd.jupyter.widget-view+json": {
              "model_id": "728e2a8f36574f1d9bc579f0315d0ded",
              "version_major": 2,
              "version_minor": 0
            },
            "text/plain": [
              "Validation: 0it [00:00, ?it/s]"
            ]
          },
          "metadata": {},
          "output_type": "display_data"
        },
        {
          "metadata": {
            "tags": null
          },
          "name": "stderr",
          "output_type": "stream",
          "text": [
            "2023-01-02 12:23:01.997 | INFO     | __main__:on_validation_epoch_start:14 - Valid.\n"
          ]
        },
        {
          "metadata": {
            "tags": null
          },
          "name": "stdout",
          "output_type": "stream",
          "text": [
            "loss: 0.1929547476836226 - Detection acc: 0.6027 - Correction acc: 0.4685\n",
            "Detection: precision=0.5665789473684211, recall=0.5292527040314651 and F1=0.5472801220132181\n",
            "Correction: precision=0.7148165350673479, recall=0.5939791586260131 and F1=0.6488195615514335\n",
            "Sentence Level: acc:0.468520, precision:0.570927, recall:0.256872, f1:0.354326\n"
          ]
        },
        {
          "data": {
            "application/vnd.jupyter.widget-view+json": {
              "model_id": "86a5da5a6df54a7882e588345a6f49d9",
              "version_major": 2,
              "version_minor": 0
            },
            "text/plain": [
              "Validation: 0it [00:00, ?it/s]"
            ]
          },
          "metadata": {},
          "output_type": "display_data"
        },
        {
          "metadata": {
            "tags": null
          },
          "name": "stderr",
          "output_type": "stream",
          "text": [
            "2023-01-02 12:24:26.120 | INFO     | __main__:on_validation_epoch_start:14 - Valid.\n"
          ]
        },
        {
          "metadata": {
            "tags": null
          },
          "name": "stdout",
          "output_type": "stream",
          "text": [
            "loss: 0.19163655100220983 - Detection acc: 0.5987 - Correction acc: 0.4673\n",
            "Detection: precision=0.5655499868108679, recall=0.5270403146509341 and F1=0.545616490647665\n",
            "Correction: precision=0.7168843283582089, recall=0.5955056179775281 and F1=0.6505820105820106\n",
            "Sentence Level: acc:0.467265, precision:0.568517, recall:0.255608, f1:0.352659\n"
          ]
        },
        {
          "data": {
            "application/vnd.jupyter.widget-view+json": {
              "model_id": "79d10eeb3f694306a3a56e1b7e4f077a",
              "version_major": 2,
              "version_minor": 0
            },
            "text/plain": [
              "Validation: 0it [00:00, ?it/s]"
            ]
          },
          "metadata": {},
          "output_type": "display_data"
        },
        {
          "metadata": {
            "tags": null
          },
          "name": "stderr",
          "output_type": "stream",
          "text": [
            "2023-01-02 12:25:48.604 | INFO     | __main__:on_validation_epoch_start:14 - Valid.\n"
          ]
        },
        {
          "metadata": {
            "tags": null
          },
          "name": "stdout",
          "output_type": "stream",
          "text": [
            "loss: 0.19128304482861 - Detection acc: 0.6013 - Correction acc: 0.4662\n",
            "Detection: precision=0.5644589806486782, recall=0.5090953785644051 and F1=0.5353496187152642\n",
            "Correction: precision=0.7213906325446644, recall=0.596169193934557 and F1=0.6528293642123661\n",
            "Sentence Level: acc:0.466188, precision:0.567937, recall:0.249605, f1:0.346795\n"
          ]
        },
        {
          "data": {
            "application/vnd.jupyter.widget-view+json": {
              "model_id": "2bf9be620359476092881ba5d99f29e7",
              "version_major": 2,
              "version_minor": 0
            },
            "text/plain": [
              "Validation: 0it [00:00, ?it/s]"
            ]
          },
          "metadata": {},
          "output_type": "display_data"
        },
        {
          "metadata": {
            "tags": null
          },
          "name": "stderr",
          "output_type": "stream",
          "text": [
            "2023-01-02 12:27:11.121 | INFO     | __main__:on_validation_epoch_start:14 - Valid.\n"
          ]
        },
        {
          "metadata": {
            "tags": null
          },
          "name": "stdout",
          "output_type": "stream",
          "text": [
            "loss: 0.19166933982209725 - Detection acc: 0.6077 - Correction acc: 0.4698\n",
            "Detection: precision=0.5681879557115852, recall=0.5172074729596854 and F1=0.541500450392485\n",
            "Correction: precision=0.7224334600760456, recall=0.5998421468034728 and F1=0.6554549374730487\n",
            "Sentence Level: acc:0.469776, precision:0.573747, recall:0.256872, f1:0.354867\n"
          ]
        },
        {
          "data": {
            "application/vnd.jupyter.widget-view+json": {
              "model_id": "5c46e22e62864df2b53d288d2d71a618",
              "version_major": 2,
              "version_minor": 0
            },
            "text/plain": [
              "Validation: 0it [00:00, ?it/s]"
            ]
          },
          "metadata": {},
          "output_type": "display_data"
        },
        {
          "metadata": {
            "tags": null
          },
          "name": "stderr",
          "output_type": "stream",
          "text": [
            "2023-01-02 12:28:34.256 | INFO     | __main__:on_validation_epoch_start:14 - Valid.\n"
          ]
        },
        {
          "metadata": {
            "tags": null
          },
          "name": "stdout",
          "output_type": "stream",
          "text": [
            "loss: 0.19042314233427698 - Detection acc: 0.6077 - Correction acc: 0.4682\n",
            "Detection: precision=0.5661389857794473, recall=0.5186823992133727 and F1=0.5413726747915331\n",
            "Correction: precision=0.7161137440758294, recall=0.5934799685781619 and F1=0.6490549828178693\n",
            "Sentence Level: acc:0.468161, precision:0.571023, recall:0.254028, f1:0.351629\n"
          ]
        },
        {
          "data": {
            "application/vnd.jupyter.widget-view+json": {
              "model_id": "eed7d17d1aa246b99e2ac319038c8951",
              "version_major": 2,
              "version_minor": 0
            },
            "text/plain": [
              "Validation: 0it [00:00, ?it/s]"
            ]
          },
          "metadata": {},
          "output_type": "display_data"
        },
        {
          "metadata": {
            "tags": null
          },
          "name": "stderr",
          "output_type": "stream",
          "text": [
            "2023-01-02 12:29:58.680 | INFO     | __main__:on_validation_epoch_start:14 - Valid.\n"
          ]
        },
        {
          "metadata": {
            "tags": null
          },
          "name": "stdout",
          "output_type": "stream",
          "text": [
            "loss: 0.18711284395645966 - Detection acc: 0.6140 - Correction acc: 0.4671\n",
            "Detection: precision=0.5691699604743083, recall=0.49557522123893805 and F1=0.5298291721419185\n",
            "Correction: precision=0.7232142857142857, recall=0.5953450387913434 and F1=0.6530795072788353\n",
            "Sentence Level: acc:0.467085, precision:0.571534, recall:0.244866, f1:0.342845\n"
          ]
        },
        {
          "data": {
            "application/vnd.jupyter.widget-view+json": {
              "model_id": "abf03d4767dc4fc28f1ad089cde897cb",
              "version_major": 2,
              "version_minor": 0
            },
            "text/plain": [
              "Validation: 0it [00:00, ?it/s]"
            ]
          },
          "metadata": {},
          "output_type": "display_data"
        },
        {
          "metadata": {
            "tags": null
          },
          "name": "stderr",
          "output_type": "stream",
          "text": [
            "2023-01-02 12:31:22.392 | INFO     | __main__:on_validation_epoch_start:14 - Valid.\n"
          ]
        },
        {
          "metadata": {
            "tags": null
          },
          "name": "stdout",
          "output_type": "stream",
          "text": [
            "loss: 0.18779702433808285 - Detection acc: 0.6129 - Correction acc: 0.4694\n",
            "Detection: precision=0.5674871517446578, recall=0.515732546705998 and F1=0.5403734707018674\n",
            "Correction: precision=0.7206863679694948, recall=0.5976284584980237 and F1=0.6534140017286085\n",
            "Sentence Level: acc:0.469417, precision:0.573561, recall:0.254976, f1:0.353018\n"
          ]
        },
        {
          "data": {
            "application/vnd.jupyter.widget-view+json": {
              "model_id": "ec1c41c1191d41b2ba555d5b174cbff7",
              "version_major": 2,
              "version_minor": 0
            },
            "text/plain": [
              "Validation: 0it [00:00, ?it/s]"
            ]
          },
          "metadata": {},
          "output_type": "display_data"
        },
        {
          "metadata": {
            "tags": null
          },
          "name": "stderr",
          "output_type": "stream",
          "text": [
            "2023-01-02 12:32:46.217 | INFO     | __main__:on_validation_epoch_start:14 - Valid.\n"
          ]
        },
        {
          "metadata": {
            "tags": null
          },
          "name": "stdout",
          "output_type": "stream",
          "text": [
            "loss: 0.1945226119661873 - Detection acc: 0.5593 - Correction acc: 0.4560\n",
            "Detection: precision=0.5508495444471805, recall=0.5499016715830876 and F1=0.5503751999015869\n",
            "Correction: precision=0.6964684845775593, recall=0.5843960990247562 and F1=0.6355292677952274\n",
            "Sentence Level: acc:0.455964, precision:0.544776, recall:0.253712, f1:0.346195\n"
          ]
        },
        {
          "data": {
            "application/vnd.jupyter.widget-view+json": {
              "model_id": "7623f52b42f746bc8406677e7ea8cc9b",
              "version_major": 2,
              "version_minor": 0
            },
            "text/plain": [
              "Validation: 0it [00:00, ?it/s]"
            ]
          },
          "metadata": {},
          "output_type": "display_data"
        },
        {
          "metadata": {
            "tags": null
          },
          "name": "stderr",
          "output_type": "stream",
          "text": [
            "2023-01-02 12:34:09.571 | INFO     | __main__:on_validation_epoch_start:14 - Valid.\n"
          ]
        },
        {
          "metadata": {
            "tags": null
          },
          "name": "stdout",
          "output_type": "stream",
          "text": [
            "loss: 0.18021852353757079 - Detection acc: 0.6099 - Correction acc: 0.4664\n",
            "Detection: precision=0.5643243243243243, recall=0.5132743362831859 and F1=0.537590113285273\n",
            "Correction: precision=0.7183908045977011, recall=0.5957108816521048 and F1=0.6513243595310465\n",
            "Sentence Level: acc:0.466368, precision:0.566807, recall:0.254660, f1:0.351428\n"
          ]
        },
        {
          "data": {
            "application/vnd.jupyter.widget-view+json": {
              "model_id": "71bc0cb0e477464aae8d7b2b9c7c7d12",
              "version_major": 2,
              "version_minor": 0
            },
            "text/plain": [
              "Validation: 0it [00:00, ?it/s]"
            ]
          },
          "metadata": {},
          "output_type": "display_data"
        },
        {
          "metadata": {
            "tags": null
          },
          "name": "stderr",
          "output_type": "stream",
          "text": [
            "2023-01-02 12:35:32.529 | INFO     | __main__:on_validation_epoch_start:14 - Valid.\n"
          ]
        },
        {
          "metadata": {
            "tags": null
          },
          "name": "stdout",
          "output_type": "stream",
          "text": [
            "loss: 0.18683576651594855 - Detection acc: 0.6086 - Correction acc: 0.4665\n",
            "Detection: precision=0.5637189420251135, recall=0.5186823992133727 and F1=0.5402637306362821\n",
            "Correction: precision=0.7161137440758294, recall=0.595350669818755 and F1=0.650172117039587\n",
            "Sentence Level: acc:0.466547, precision:0.567206, recall:0.254660, f1:0.351505\n"
          ]
        },
        {
          "data": {
            "application/vnd.jupyter.widget-view+json": {
              "model_id": "9ec07895cd1e4383b0cf85ae16652054",
              "version_major": 2,
              "version_minor": 0
            },
            "text/plain": [
              "Validation: 0it [00:00, ?it/s]"
            ]
          },
          "metadata": {},
          "output_type": "display_data"
        },
        {
          "metadata": {
            "tags": null
          },
          "name": "stderr",
          "output_type": "stream",
          "text": [
            "2023-01-02 12:36:54.294 | INFO     | __main__:on_validation_epoch_start:14 - Valid.\n"
          ]
        },
        {
          "metadata": {
            "tags": null
          },
          "name": "stdout",
          "output_type": "stream",
          "text": [
            "loss: 0.19053318893367593 - Detection acc: 0.6061 - Correction acc: 0.4658\n",
            "Detection: precision=0.5601249349297241, recall=0.5290068829891839 and F1=0.5441213653603034\n",
            "Correction: precision=0.7137546468401487, recall=0.593050193050193 and F1=0.6478279207085618\n",
            "Sentence Level: acc:0.465830, precision:0.564616, recall:0.258136, f1:0.354293\n"
          ]
        },
        {
          "data": {
            "application/vnd.jupyter.widget-view+json": {
              "model_id": "f6523f76cb864eaf89926bcb3ea43a9c",
              "version_major": 2,
              "version_minor": 0
            },
            "text/plain": [
              "Validation: 0it [00:00, ?it/s]"
            ]
          },
          "metadata": {},
          "output_type": "display_data"
        },
        {
          "metadata": {
            "tags": null
          },
          "name": "stderr",
          "output_type": "stream",
          "text": [
            "2023-01-02 12:38:16.811 | INFO     | __main__:on_validation_epoch_start:14 - Valid.\n"
          ]
        },
        {
          "metadata": {
            "tags": null
          },
          "name": "stdout",
          "output_type": "stream",
          "text": [
            "loss: 0.19070337137038057 - Detection acc: 0.6005 - Correction acc: 0.4655\n",
            "Detection: precision=0.5604703247480403, recall=0.492133726647001 and F1=0.5240837696335079\n",
            "Correction: precision=0.7237762237762237, recall=0.5950718685831622 and F1=0.6531440162271805\n",
            "Sentence Level: acc:0.465471, precision:0.567568, recall:0.245498, f1:0.342744\n"
          ]
        },
        {
          "data": {
            "application/vnd.jupyter.widget-view+json": {
              "model_id": "fd85330d8480466288c4dafd71015cbb",
              "version_major": 2,
              "version_minor": 0
            },
            "text/plain": [
              "Validation: 0it [00:00, ?it/s]"
            ]
          },
          "metadata": {},
          "output_type": "display_data"
        },
        {
          "metadata": {
            "tags": null
          },
          "name": "stderr",
          "output_type": "stream",
          "text": [
            "2023-01-02 12:39:38.855 | INFO     | __main__:on_validation_epoch_start:14 - Valid.\n"
          ]
        },
        {
          "metadata": {
            "tags": null
          },
          "name": "stdout",
          "output_type": "stream",
          "text": [
            "loss: 0.18983984620056368 - Detection acc: 0.6079 - Correction acc: 0.4687\n",
            "Detection: precision=0.5661080074487895, recall=0.5231071779744346 and F1=0.5437587836974576\n",
            "Correction: precision=0.7218045112781954, recall=0.6002344665885111 and F1=0.6554299125240025\n",
            "Sentence Level: acc:0.468700, precision:0.570437, recall:0.259716, f1:0.356926\n"
          ]
        },
        {
          "data": {
            "application/vnd.jupyter.widget-view+json": {
              "model_id": "8eb97d489da44c20a2c304bbb1ef090d",
              "version_major": 2,
              "version_minor": 0
            },
            "text/plain": [
              "Validation: 0it [00:00, ?it/s]"
            ]
          },
          "metadata": {},
          "output_type": "display_data"
        },
        {
          "metadata": {
            "tags": null
          },
          "name": "stderr",
          "output_type": "stream",
          "text": [
            "2023-01-02 12:41:01.576 | INFO     | __main__:on_validation_epoch_start:14 - Valid.\n"
          ]
        },
        {
          "metadata": {
            "tags": null
          },
          "name": "stdout",
          "output_type": "stream",
          "text": [
            "loss: 0.1870339358733459 - Detection acc: 0.6081 - Correction acc: 0.4648\n",
            "Detection: precision=0.5616927727397637, recall=0.5024582104228122 and F1=0.530426884650318\n",
            "Correction: precision=0.711839530332681, recall=0.5878787878787879 and F1=0.6439477760566497\n",
            "Sentence Level: acc:0.464753, precision:0.565914, recall:0.245498, f1:0.342442\n"
          ]
        },
        {
          "data": {
            "application/vnd.jupyter.widget-view+json": {
              "model_id": "0bf17781248240e0a4a591c597a57e24",
              "version_major": 2,
              "version_minor": 0
            },
            "text/plain": [
              "Validation: 0it [00:00, ?it/s]"
            ]
          },
          "metadata": {},
          "output_type": "display_data"
        },
        {
          "metadata": {
            "tags": null
          },
          "name": "stderr",
          "output_type": "stream",
          "text": [
            "2023-01-02 12:42:24.822 | INFO     | __main__:on_validation_epoch_start:14 - Valid.\n"
          ]
        },
        {
          "metadata": {
            "tags": null
          },
          "name": "stdout",
          "output_type": "stream",
          "text": [
            "loss: 0.18814252130687237 - Detection acc: 0.6090 - Correction acc: 0.4665\n",
            "Detection: precision=0.5666488222698073, recall=0.5204031465093412 and F1=0.5425422860071757\n",
            "Correction: precision=0.7123287671232876, recall=0.5909090909090909 and F1=0.6459627329192547\n",
            "Sentence Level: acc:0.466547, precision:0.567301, recall:0.254344, f1:0.351222\n"
          ]
        },
        {
          "data": {
            "application/vnd.jupyter.widget-view+json": {
              "model_id": "596f94cca5284b9e8585b1360126be20",
              "version_major": 2,
              "version_minor": 0
            },
            "text/plain": [
              "Validation: 0it [00:00, ?it/s]"
            ]
          },
          "metadata": {},
          "output_type": "display_data"
        },
        {
          "metadata": {
            "tags": null
          },
          "name": "stderr",
          "output_type": "stream",
          "text": [
            "2023-01-02 12:43:47.459 | INFO     | __main__:on_validation_epoch_start:14 - Valid.\n"
          ]
        },
        {
          "metadata": {
            "tags": null
          },
          "name": "stdout",
          "output_type": "stream",
          "text": [
            "loss: 0.18878674388609148 - Detection acc: 0.6088 - Correction acc: 0.4631\n",
            "Detection: precision=0.5628579220070903, recall=0.5073746312684366 and F1=0.5336780866192631\n",
            "Correction: precision=0.7146317829457365, recall=0.591182364729459 and F1=0.6470717262557578\n",
            "Sentence Level: acc:0.463139, precision:0.561693, recall:0.247393, f1:0.343496\n"
          ]
        },
        {
          "data": {
            "application/vnd.jupyter.widget-view+json": {
              "model_id": "43bcea156d914c9b93a61ff4d331fcc3",
              "version_major": 2,
              "version_minor": 0
            },
            "text/plain": [
              "Validation: 0it [00:00, ?it/s]"
            ]
          },
          "metadata": {},
          "output_type": "display_data"
        },
        {
          "metadata": {
            "tags": null
          },
          "name": "stderr",
          "output_type": "stream",
          "text": [
            "2023-01-02 12:45:10.309 | INFO     | __main__:on_validation_epoch_start:14 - Valid.\n"
          ]
        },
        {
          "metadata": {
            "tags": null
          },
          "name": "stdout",
          "output_type": "stream",
          "text": [
            "loss: 0.1888516949997707 - Detection acc: 0.6120 - Correction acc: 0.4662\n",
            "Detection: precision=0.5647682858738136, recall=0.4972959685349066 and F1=0.5288888888888889\n",
            "Correction: precision=0.7217004448838359, recall=0.5954323001631321 and F1=0.6525139664804469\n",
            "Sentence Level: acc:0.466188, precision:0.567937, recall:0.249605, f1:0.346795\n"
          ]
        },
        {
          "data": {
            "application/vnd.jupyter.widget-view+json": {
              "model_id": "a5a22852678c4e6ea10fe61803953334",
              "version_major": 2,
              "version_minor": 0
            },
            "text/plain": [
              "Validation: 0it [00:00, ?it/s]"
            ]
          },
          "metadata": {},
          "output_type": "display_data"
        },
        {
          "metadata": {
            "tags": null
          },
          "name": "stderr",
          "output_type": "stream",
          "text": [
            "2023-01-02 12:46:33.292 | INFO     | __main__:on_validation_epoch_start:14 - Valid.\n"
          ]
        },
        {
          "metadata": {
            "tags": null
          },
          "name": "stdout",
          "output_type": "stream",
          "text": [
            "loss: 0.19232559644363142 - Detection acc: 0.5955 - Correction acc: 0.4664\n",
            "Detection: precision=0.5625495900555408, recall=0.5228613569321534 and F1=0.5419798700471398\n",
            "Correction: precision=0.7165021156558533, recall=0.5939204988308652 and F1=0.6494779458768379\n",
            "Sentence Level: acc:0.466368, precision:0.566064, recall:0.257188, f1:0.353682\n"
          ]
        },
        {
          "data": {
            "application/vnd.jupyter.widget-view+json": {
              "model_id": "d96b5a32a3f344f3a215cbc8bbcb9845",
              "version_major": 2,
              "version_minor": 0
            },
            "text/plain": [
              "Validation: 0it [00:00, ?it/s]"
            ]
          },
          "metadata": {},
          "output_type": "display_data"
        },
        {
          "metadata": {
            "tags": null
          },
          "name": "stderr",
          "output_type": "stream",
          "text": [
            "2023-01-02 12:47:55.889 | INFO     | __main__:on_validation_epoch_start:14 - Valid.\n"
          ]
        },
        {
          "metadata": {
            "tags": null
          },
          "name": "stdout",
          "output_type": "stream",
          "text": [
            "loss: 0.19031165218488735 - Detection acc: 0.6100 - Correction acc: 0.4671\n",
            "Detection: precision=0.5685636856368563, recall=0.515732546705998 and F1=0.5408610466615106\n",
            "Correction: precision=0.713536701620591, recall=0.5919335705812574 and F1=0.6470715366328075\n",
            "Sentence Level: acc:0.467085, precision:0.568892, recall:0.253081, f1:0.350317\n"
          ]
        },
        {
          "data": {
            "application/vnd.jupyter.widget-view+json": {
              "model_id": "baaa80246c12467390b10ee5867537b6",
              "version_major": 2,
              "version_minor": 0
            },
            "text/plain": [
              "Validation: 0it [00:00, ?it/s]"
            ]
          },
          "metadata": {},
          "output_type": "display_data"
        },
        {
          "metadata": {
            "tags": null
          },
          "name": "stderr",
          "output_type": "stream",
          "text": [
            "2023-01-02 12:49:19.148 | INFO     | __main__:on_validation_epoch_start:14 - Valid.\n"
          ]
        },
        {
          "metadata": {
            "tags": null
          },
          "name": "stdout",
          "output_type": "stream",
          "text": [
            "loss: 0.19151607308198104 - Detection acc: 0.6041 - Correction acc: 0.4676\n",
            "Detection: precision=0.5668091929449492, recall=0.5213864306784661 and F1=0.5431498079385404\n",
            "Correction: precision=0.7161716171617162, recall=0.5952194357366771 and F1=0.6501176974106571\n",
            "Sentence Level: acc:0.467623, precision:0.569513, recall:0.254976, f1:0.352248\n"
          ]
        },
        {
          "data": {
            "application/vnd.jupyter.widget-view+json": {
              "model_id": "1dc50fe5a3b24d338c62529aafd43ca1",
              "version_major": 2,
              "version_minor": 0
            },
            "text/plain": [
              "Validation: 0it [00:00, ?it/s]"
            ]
          },
          "metadata": {},
          "output_type": "display_data"
        },
        {
          "metadata": {
            "tags": null
          },
          "name": "stderr",
          "output_type": "stream",
          "text": [
            "2023-01-02 12:50:42.321 | INFO     | __main__:on_validation_epoch_start:14 - Valid.\n"
          ]
        },
        {
          "metadata": {
            "tags": null
          },
          "name": "stdout",
          "output_type": "stream",
          "text": [
            "loss: 0.188465725291859 - Detection acc: 0.6083 - Correction acc: 0.4714\n",
            "Detection: precision=0.5718506580714477, recall=0.5233529990167158 and F1=0.5465280451803363\n",
            "Correction: precision=0.7209957726632221, recall=0.6019607843137255 and F1=0.6561231032271851\n",
            "Sentence Level: acc:0.471390, precision:0.576331, recall:0.260032, f1:0.358371\n"
          ]
        },
        {
          "data": {
            "application/vnd.jupyter.widget-view+json": {
              "model_id": "beadb5052f38498eb6d249303bec0295",
              "version_major": 2,
              "version_minor": 0
            },
            "text/plain": [
              "Validation: 0it [00:00, ?it/s]"
            ]
          },
          "metadata": {},
          "output_type": "display_data"
        },
        {
          "metadata": {
            "tags": null
          },
          "name": "stderr",
          "output_type": "stream",
          "text": [
            "2023-01-02 12:52:05.660 | INFO     | __main__:on_validation_epoch_start:14 - Valid.\n"
          ]
        },
        {
          "metadata": {
            "tags": null
          },
          "name": "stdout",
          "output_type": "stream",
          "text": [
            "loss: 0.19118087975816292 - Detection acc: 0.6068 - Correction acc: 0.4692\n",
            "Detection: precision=0.5675533315775613, recall=0.5297443461160275 and F1=0.5479974570883662\n",
            "Correction: precision=0.7187935034802784, recall=0.6013198757763976 and F1=0.6548298456985838\n",
            "Sentence Level: acc:0.469238, precision:0.570937, recall:0.261927, f1:0.359108\n"
          ]
        },
        {
          "data": {
            "application/vnd.jupyter.widget-view+json": {
              "model_id": "67e75884c6924188b595369b2ca34645",
              "version_major": 2,
              "version_minor": 0
            },
            "text/plain": [
              "Validation: 0it [00:00, ?it/s]"
            ]
          },
          "metadata": {},
          "output_type": "display_data"
        },
        {
          "metadata": {
            "tags": null
          },
          "name": "stderr",
          "output_type": "stream",
          "text": [
            "2023-01-02 12:53:27.459 | INFO     | __main__:on_validation_epoch_start:14 - Valid.\n"
          ]
        },
        {
          "metadata": {
            "tags": null
          },
          "name": "stdout",
          "output_type": "stream",
          "text": [
            "loss: 0.1876625003801151 - Detection acc: 0.6108 - Correction acc: 0.4657\n",
            "Detection: precision=0.5665176076020123, recall=0.49827925270403145 and F1=0.5302118754904526\n",
            "Correction: precision=0.7202762703502713, recall=0.5932547744819179 and F1=0.6506238859180035\n",
            "Sentence Level: acc:0.465650, precision:0.568182, recall:0.244866, f1:0.342239\n"
          ]
        },
        {
          "data": {
            "application/vnd.jupyter.widget-view+json": {
              "model_id": "646b3c1c22a14bb481a8d21583755872",
              "version_major": 2,
              "version_minor": 0
            },
            "text/plain": [
              "Validation: 0it [00:00, ?it/s]"
            ]
          },
          "metadata": {},
          "output_type": "display_data"
        },
        {
          "metadata": {
            "tags": null
          },
          "name": "stderr",
          "output_type": "stream",
          "text": [
            "2023-01-02 12:54:50.572 | INFO     | __main__:on_validation_epoch_start:14 - Valid.\n"
          ]
        },
        {
          "metadata": {
            "tags": null
          },
          "name": "stdout",
          "output_type": "stream",
          "text": [
            "loss: 0.18982069329781967 - Detection acc: 0.6029 - Correction acc: 0.4658\n",
            "Detection: precision=0.5643130815544609, recall=0.5068829891838741 and F1=0.534058534058534\n",
            "Correction: precision=0.7177497575169738, recall=0.592948717948718 and F1=0.6494076349275998\n",
            "Sentence Level: acc:0.465830, precision:0.567218, recall:0.249289, f1:0.346356\n"
          ]
        },
        {
          "data": {
            "application/vnd.jupyter.widget-view+json": {
              "model_id": "2523b9affd1c468da67e4b9d548b9f3e",
              "version_major": 2,
              "version_minor": 0
            },
            "text/plain": [
              "Validation: 0it [00:00, ?it/s]"
            ]
          },
          "metadata": {},
          "output_type": "display_data"
        },
        {
          "metadata": {
            "tags": null
          },
          "name": "stderr",
          "output_type": "stream",
          "text": [
            "2023-01-02 12:56:13.783 | INFO     | __main__:on_validation_epoch_start:14 - Valid.\n"
          ]
        },
        {
          "metadata": {
            "tags": null
          },
          "name": "stdout",
          "output_type": "stream",
          "text": [
            "loss: 0.1951283152130517 - Detection acc: 0.6000 - Correction acc: 0.4637\n",
            "Detection: precision=0.5659121171770972, recall=0.522369714847591 and F1=0.5432698453278795\n",
            "Correction: precision=0.7110588235294117, recall=0.5893135725429017 and F1=0.6444870974621454\n",
            "Sentence Level: acc:0.463677, precision:0.561663, recall:0.251817, f1:0.347731\n"
          ]
        },
        {
          "data": {
            "application/vnd.jupyter.widget-view+json": {
              "model_id": "c41b255ca69446f39085eb6b15b4b355",
              "version_major": 2,
              "version_minor": 0
            },
            "text/plain": [
              "Validation: 0it [00:00, ?it/s]"
            ]
          },
          "metadata": {},
          "output_type": "display_data"
        },
        {
          "metadata": {
            "tags": null
          },
          "name": "stderr",
          "output_type": "stream",
          "text": [
            "2023-01-02 12:57:36.692 | INFO     | __main__:on_validation_epoch_start:14 - Valid.\n"
          ]
        },
        {
          "metadata": {
            "tags": null
          },
          "name": "stdout",
          "output_type": "stream",
          "text": [
            "loss: 0.19057178497314453 - Detection acc: 0.6038 - Correction acc: 0.4649\n",
            "Detection: precision=0.5627765486725663, recall=0.5002458210422812 and F1=0.5296720458094741\n",
            "Correction: precision=0.7194103194103194, recall=0.5917542441390461 and F1=0.6493679308050565\n",
            "Sentence Level: acc:0.464933, precision:0.565942, recall:0.246761, f1:0.343674\n"
          ]
        },
        {
          "data": {
            "application/vnd.jupyter.widget-view+json": {
              "model_id": "46f98a35c82e478e8d9925d8484281a7",
              "version_major": 2,
              "version_minor": 0
            },
            "text/plain": [
              "Validation: 0it [00:00, ?it/s]"
            ]
          },
          "metadata": {},
          "output_type": "display_data"
        },
        {
          "metadata": {
            "tags": null
          },
          "name": "stderr",
          "output_type": "stream",
          "text": [
            "2023-01-02 12:58:58.267 | INFO     | __main__:on_validation_epoch_start:14 - Valid.\n"
          ]
        },
        {
          "metadata": {
            "tags": null
          },
          "name": "stdout",
          "output_type": "stream",
          "text": [
            "loss: 0.18682530065151778 - Detection acc: 0.6074 - Correction acc: 0.4698\n",
            "Detection: precision=0.5697200326175591, recall=0.5152409046214356 and F1=0.5411126887827546\n",
            "Correction: precision=0.7170801526717557, recall=0.5947764147210131 and F1=0.6502271252433484\n",
            "Sentence Level: acc:0.469776, precision:0.573852, recall:0.256556, f1:0.354585\n"
          ]
        },
        {
          "data": {
            "application/vnd.jupyter.widget-view+json": {
              "model_id": "df49913dccb3489ea54be641aa5aa699",
              "version_major": 2,
              "version_minor": 0
            },
            "text/plain": [
              "Validation: 0it [00:00, ?it/s]"
            ]
          },
          "metadata": {},
          "output_type": "display_data"
        },
        {
          "metadata": {
            "tags": null
          },
          "name": "stderr",
          "output_type": "stream",
          "text": [
            "2023-01-02 13:00:20.226 | INFO     | __main__:on_validation_epoch_start:14 - Valid.\n"
          ]
        },
        {
          "metadata": {
            "tags": null
          },
          "name": "stdout",
          "output_type": "stream",
          "text": [
            "loss: 0.189625274728645 - Detection acc: 0.6120 - Correction acc: 0.4680\n",
            "Detection: precision=0.5679179044018363, recall=0.5169616519174042 and F1=0.541243083258268\n",
            "Correction: precision=0.7180218735140276, recall=0.595895816890292 and F1=0.6512831572137158\n",
            "Sentence Level: acc:0.467982, precision:0.570617, recall:0.254028, f1:0.351552\n"
          ]
        },
        {
          "data": {
            "application/vnd.jupyter.widget-view+json": {
              "model_id": "e2f9348ec4bc4542adfedf3a4bfba010",
              "version_major": 2,
              "version_minor": 0
            },
            "text/plain": [
              "Validation: 0it [00:00, ?it/s]"
            ]
          },
          "metadata": {},
          "output_type": "display_data"
        },
        {
          "metadata": {
            "tags": null
          },
          "name": "stderr",
          "output_type": "stream",
          "text": [
            "2023-01-02 13:01:42.398 | INFO     | __main__:on_validation_epoch_start:14 - Valid.\n"
          ]
        },
        {
          "metadata": {
            "tags": null
          },
          "name": "stdout",
          "output_type": "stream",
          "text": [
            "loss: 0.19318017566745932 - Detection acc: 0.6004 - Correction acc: 0.4662\n",
            "Detection: precision=0.564947339994599, recall=0.5142576204523107 and F1=0.5384120447818813\n",
            "Correction: precision=0.7194072657743786, recall=0.5965120887831946 and F1=0.6522210184182017\n",
            "Sentence Level: acc:0.466188, precision:0.566879, recall:0.253081, f1:0.349934\n"
          ]
        },
        {
          "data": {
            "application/vnd.jupyter.widget-view+json": {
              "model_id": "a6382051559940d2a7266f39251b04a2",
              "version_major": 2,
              "version_minor": 0
            },
            "text/plain": [
              "Validation: 0it [00:00, ?it/s]"
            ]
          },
          "metadata": {},
          "output_type": "display_data"
        },
        {
          "metadata": {
            "tags": null
          },
          "name": "stderr",
          "output_type": "stream",
          "text": [
            "2023-01-02 13:03:04.807 | INFO     | __main__:on_validation_epoch_start:14 - Valid.\n"
          ]
        },
        {
          "metadata": {
            "tags": null
          },
          "name": "stdout",
          "output_type": "stream",
          "text": [
            "loss: 0.18905332024124535 - Detection acc: 0.6118 - Correction acc: 0.4671\n",
            "Detection: precision=0.5663292488012787, recall=0.5226155358898722 and F1=0.5435949884939913\n",
            "Correction: precision=0.7177798682972719, recall=0.5946999220576773 and F1=0.6504688832054561\n",
            "Sentence Level: acc:0.467085, precision:0.567737, recall:0.256872, f1:0.353709\n"
          ]
        },
        {
          "data": {
            "application/vnd.jupyter.widget-view+json": {
              "model_id": "c11261f5d06b426ab4eaac9541af83cf",
              "version_major": 2,
              "version_minor": 0
            },
            "text/plain": [
              "Validation: 0it [00:00, ?it/s]"
            ]
          },
          "metadata": {},
          "output_type": "display_data"
        },
        {
          "metadata": {
            "tags": null
          },
          "name": "stderr",
          "output_type": "stream",
          "text": [
            "2023-01-02 13:04:28.004 | INFO     | __main__:on_validation_epoch_start:14 - Valid.\n"
          ]
        },
        {
          "metadata": {
            "tags": null
          },
          "name": "stdout",
          "output_type": "stream",
          "text": [
            "loss: 0.19121748479929837 - Detection acc: 0.6057 - Correction acc: 0.4698\n",
            "Detection: precision=0.5677588466579292, recall=0.532448377581121 and F1=0.5495369783077508\n",
            "Correction: precision=0.7123730378578024, recall=0.594834232845027 and F1=0.6483193277310924\n",
            "Sentence Level: acc:0.469776, precision:0.572519, recall:0.260664, f1:0.358228\n"
          ]
        },
        {
          "data": {
            "application/vnd.jupyter.widget-view+json": {
              "model_id": "1f58364c467d4291b5d01c6fdf4e6ce5",
              "version_major": 2,
              "version_minor": 0
            },
            "text/plain": [
              "Validation: 0it [00:00, ?it/s]"
            ]
          },
          "metadata": {},
          "output_type": "display_data"
        },
        {
          "metadata": {
            "tags": null
          },
          "name": "stderr",
          "output_type": "stream",
          "text": [
            "2023-01-02 13:05:50.431 | INFO     | __main__:on_validation_epoch_start:14 - Valid.\n"
          ]
        },
        {
          "metadata": {
            "tags": null
          },
          "name": "stdout",
          "output_type": "stream",
          "text": [
            "loss: 0.18994952298023485 - Detection acc: 0.6047 - Correction acc: 0.4678\n",
            "Detection: precision=0.5693354264782836, recall=0.5349065880039331 and F1=0.5515842839036755\n",
            "Correction: precision=0.7146139705882353, recall=0.5969289827255279 and F1=0.6504915289688349\n",
            "Sentence Level: acc:0.467803, precision:0.568276, recall:0.260348, f1:0.357096\n"
          ]
        },
        {
          "data": {
            "application/vnd.jupyter.widget-view+json": {
              "model_id": "8245ef1cc93e4f219d21cec1dfcbdfcf",
              "version_major": 2,
              "version_minor": 0
            },
            "text/plain": [
              "Validation: 0it [00:00, ?it/s]"
            ]
          },
          "metadata": {},
          "output_type": "display_data"
        },
        {
          "metadata": {
            "tags": null
          },
          "name": "stderr",
          "output_type": "stream",
          "text": [
            "2023-01-02 13:07:13.255 | INFO     | __main__:on_validation_epoch_start:14 - Valid.\n"
          ]
        },
        {
          "metadata": {
            "tags": null
          },
          "name": "stdout",
          "output_type": "stream",
          "text": [
            "loss: 0.18839091892269524 - Detection acc: 0.6106 - Correction acc: 0.4665\n",
            "Detection: precision=0.5645562620956593, recall=0.5019665683382497 and F1=0.5314248536109303\n",
            "Correction: precision=0.7277179236043095, recall=0.6008896077638496 and F1=0.658250276854928\n",
            "Sentence Level: acc:0.466547, precision:0.568166, recall:0.251501, f1:0.348664\n"
          ]
        },
        {
          "data": {
            "application/vnd.jupyter.widget-view+json": {
              "model_id": "9a03e9236c5e4b8fa104bc2f4c1e96f5",
              "version_major": 2,
              "version_minor": 0
            },
            "text/plain": [
              "Validation: 0it [00:00, ?it/s]"
            ]
          },
          "metadata": {},
          "output_type": "display_data"
        },
        {
          "metadata": {
            "tags": null
          },
          "name": "stderr",
          "output_type": "stream",
          "text": [
            "2023-01-02 13:08:36.819 | INFO     | __main__:on_validation_epoch_start:14 - Valid.\n"
          ]
        },
        {
          "metadata": {
            "tags": null
          },
          "name": "stdout",
          "output_type": "stream",
          "text": [
            "loss: 0.19082891636274077 - Detection acc: 0.6115 - Correction acc: 0.4665\n",
            "Detection: precision=0.5678224687933425, recall=0.5031956735496559 and F1=0.5335592336765281\n",
            "Correction: precision=0.7161700048851979, recall=0.5882825040128411 and F1=0.6459572593082177\n",
            "Sentence Level: acc:0.466547, precision:0.570066, recall:0.245498, f1:0.343198\n"
          ]
        },
        {
          "data": {
            "application/vnd.jupyter.widget-view+json": {
              "model_id": "5d73a77d47084fa9b5ac6fd4b2091199",
              "version_major": 2,
              "version_minor": 0
            },
            "text/plain": [
              "Validation: 0it [00:00, ?it/s]"
            ]
          },
          "metadata": {},
          "output_type": "display_data"
        },
        {
          "metadata": {
            "tags": null
          },
          "name": "stderr",
          "output_type": "stream",
          "text": [
            "2023-01-02 13:09:59.503 | INFO     | __main__:on_validation_epoch_start:14 - Valid.\n"
          ]
        },
        {
          "metadata": {
            "tags": null
          },
          "name": "stdout",
          "output_type": "stream",
          "text": [
            "loss: 0.19343225505541672 - Detection acc: 0.6039 - Correction acc: 0.4674\n",
            "Detection: precision=0.5644854737985338, recall=0.5110619469026548 and F1=0.5364469100761191\n",
            "Correction: precision=0.7215007215007215, recall=0.5985634477254589 and F1=0.6543075245365322\n",
            "Sentence Level: acc:0.467444, precision:0.570201, recall:0.251501, f1:0.349046\n"
          ]
        },
        {
          "data": {
            "application/vnd.jupyter.widget-view+json": {
              "model_id": "aff58385170f4d718bbb25c09b8716fd",
              "version_major": 2,
              "version_minor": 0
            },
            "text/plain": [
              "Validation: 0it [00:00, ?it/s]"
            ]
          },
          "metadata": {},
          "output_type": "display_data"
        },
        {
          "metadata": {
            "tags": null
          },
          "name": "stderr",
          "output_type": "stream",
          "text": [
            "2023-01-02 13:11:22.836 | INFO     | __main__:on_validation_epoch_start:14 - Valid.\n"
          ]
        },
        {
          "metadata": {
            "tags": null
          },
          "name": "stdout",
          "output_type": "stream",
          "text": [
            "loss: 0.19315728240392424 - Detection acc: 0.6014 - Correction acc: 0.4673\n",
            "Detection: precision=0.5651821862348179, recall=0.5147492625368731 and F1=0.5387881126978001\n",
            "Correction: precision=0.7182425978987583, recall=0.5930599369085173 and F1=0.6496760259179265\n",
            "Sentence Level: acc:0.467265, precision:0.568807, recall:0.254660, f1:0.351811\n"
          ]
        },
        {
          "data": {
            "application/vnd.jupyter.widget-view+json": {
              "model_id": "5177eb6f52f744d4a0aba35da7bdd7b1",
              "version_major": 2,
              "version_minor": 0
            },
            "text/plain": [
              "Validation: 0it [00:00, ?it/s]"
            ]
          },
          "metadata": {},
          "output_type": "display_data"
        },
        {
          "metadata": {
            "tags": null
          },
          "name": "stderr",
          "output_type": "stream",
          "text": [
            "2023-01-02 13:12:44.913 | INFO     | __main__:on_validation_epoch_start:14 - Valid.\n"
          ]
        },
        {
          "metadata": {
            "tags": null
          },
          "name": "stdout",
          "output_type": "stream",
          "text": [
            "loss: 0.19258787736973978 - Detection acc: 0.6081 - Correction acc: 0.4644\n",
            "Detection: precision=0.56567242281528, recall=0.5314650934119961 and F1=0.5480354879594423\n",
            "Correction: precision=0.7067530064754857, recall=0.5872405841660261 and F1=0.6414777497900923\n",
            "Sentence Level: acc:0.464395, precision:0.562456, recall:0.254660, f1:0.350587\n"
          ]
        },
        {
          "data": {
            "application/vnd.jupyter.widget-view+json": {
              "model_id": "2854641280be40dfa1c17290c2567f03",
              "version_major": 2,
              "version_minor": 0
            },
            "text/plain": [
              "Validation: 0it [00:00, ?it/s]"
            ]
          },
          "metadata": {},
          "output_type": "display_data"
        },
        {
          "metadata": {
            "tags": null
          },
          "name": "stderr",
          "output_type": "stream",
          "text": [
            "2023-01-02 13:14:08.696 | INFO     | __main__:on_validation_epoch_start:14 - Valid.\n"
          ]
        },
        {
          "metadata": {
            "tags": null
          },
          "name": "stdout",
          "output_type": "stream",
          "text": [
            "loss: 0.1919874596324834 - Detection acc: 0.6009 - Correction acc: 0.4691\n",
            "Detection: precision=0.5663740356477787, recall=0.5233529990167158 and F1=0.5440143094416763\n",
            "Correction: precision=0.7167684358853922, recall=0.5940054495912807 and F1=0.6496381438910175\n",
            "Sentence Level: acc:0.469058, precision:0.571131, recall:0.260032, f1:0.357360\n"
          ]
        },
        {
          "data": {
            "application/vnd.jupyter.widget-view+json": {
              "model_id": "6bc7d0b1e5d747faae62a138d03d8103",
              "version_major": 2,
              "version_minor": 0
            },
            "text/plain": [
              "Validation: 0it [00:00, ?it/s]"
            ]
          },
          "metadata": {},
          "output_type": "display_data"
        },
        {
          "metadata": {
            "tags": null
          },
          "name": "stderr",
          "output_type": "stream",
          "text": [
            "2023-01-02 13:15:31.090 | INFO     | __main__:on_validation_epoch_start:14 - Valid.\n"
          ]
        },
        {
          "metadata": {
            "tags": null
          },
          "name": "stdout",
          "output_type": "stream",
          "text": [
            "loss: 0.1901018164035949 - Detection acc: 0.6100 - Correction acc: 0.4671\n",
            "Detection: precision=0.5685915860987719, recall=0.5349065880039331 and F1=0.5512349588347055\n",
            "Correction: precision=0.7123161764705882, recall=0.5925076452599388 and F1=0.6469115191986644\n",
            "Sentence Level: acc:0.467085, precision:0.567175, recall:0.258768, f1:0.355392\n"
          ]
        },
        {
          "data": {
            "application/vnd.jupyter.widget-view+json": {
              "model_id": "8719eb6e45854f129e2c5533ff4c580d",
              "version_major": 2,
              "version_minor": 0
            },
            "text/plain": [
              "Validation: 0it [00:00, ?it/s]"
            ]
          },
          "metadata": {},
          "output_type": "display_data"
        },
        {
          "metadata": {
            "tags": null
          },
          "name": "stderr",
          "output_type": "stream",
          "text": [
            "2023-01-02 13:16:53.574 | INFO     | __main__:on_validation_epoch_start:14 - Valid.\n"
          ]
        },
        {
          "metadata": {
            "tags": null
          },
          "name": "stdout",
          "output_type": "stream",
          "text": [
            "loss: 0.1878053251315247 - Detection acc: 0.6100 - Correction acc: 0.4667\n",
            "Detection: precision=0.5646992054483542, recall=0.48918387413962633 and F1=0.524236037934668\n",
            "Correction: precision=0.7296482412060301, recall=0.5997521685254027 and F1=0.6583541147132169\n",
            "Sentence Level: acc:0.466726, precision:0.570175, recall:0.246445, f1:0.344143\n"
          ]
        },
        {
          "data": {
            "application/vnd.jupyter.widget-view+json": {
              "model_id": "f5fdc0b7f3a5467e868fbf5d3bc35877",
              "version_major": 2,
              "version_minor": 0
            },
            "text/plain": [
              "Validation: 0it [00:00, ?it/s]"
            ]
          },
          "metadata": {},
          "output_type": "display_data"
        },
        {
          "metadata": {
            "tags": null
          },
          "name": "stderr",
          "output_type": "stream",
          "text": [
            "2023-01-02 13:18:17.161 | INFO     | __main__:on_validation_epoch_start:14 - Valid.\n"
          ]
        },
        {
          "metadata": {
            "tags": null
          },
          "name": "stdout",
          "output_type": "stream",
          "text": [
            "loss: 0.1912012572654269 - Detection acc: 0.6091 - Correction acc: 0.4687\n",
            "Detection: precision=0.5689277899343544, recall=0.511307767944936 and F1=0.5385810460901088\n",
            "Correction: precision=0.7197115384615385, recall=0.59688995215311 and F1=0.6525719267654752\n",
            "Sentence Level: acc:0.468700, precision:0.572448, recall:0.253397, f1:0.351292\n"
          ]
        },
        {
          "data": {
            "application/vnd.jupyter.widget-view+json": {
              "model_id": "4594fdb512f741399c515171105054a0",
              "version_major": 2,
              "version_minor": 0
            },
            "text/plain": [
              "Validation: 0it [00:00, ?it/s]"
            ]
          },
          "metadata": {},
          "output_type": "display_data"
        },
        {
          "metadata": {
            "tags": null
          },
          "name": "stderr",
          "output_type": "stream",
          "text": [
            "2023-01-02 13:19:39.944 | INFO     | __main__:on_validation_epoch_start:14 - Valid.\n"
          ]
        },
        {
          "metadata": {
            "tags": null
          },
          "name": "stdout",
          "output_type": "stream",
          "text": [
            "loss: 0.1895801043984565 - Detection acc: 0.6117 - Correction acc: 0.4667\n",
            "Detection: precision=0.5679890560875513, recall=0.5103244837758112 and F1=0.5376149164832319\n",
            "Correction: precision=0.7191714836223507, recall=0.5960079840319361 and F1=0.6518227461253001\n",
            "Sentence Level: acc:0.466726, precision:0.568670, recall:0.251185, f1:0.348455\n"
          ]
        },
        {
          "data": {
            "application/vnd.jupyter.widget-view+json": {
              "model_id": "c96ec38658a443578a2e47723b086f0b",
              "version_major": 2,
              "version_minor": 0
            },
            "text/plain": [
              "Validation: 0it [00:00, ?it/s]"
            ]
          },
          "metadata": {},
          "output_type": "display_data"
        },
        {
          "metadata": {
            "tags": null
          },
          "name": "stderr",
          "output_type": "stream",
          "text": [
            "2023-01-02 13:21:02.822 | INFO     | __main__:on_validation_epoch_start:14 - Valid.\n"
          ]
        },
        {
          "metadata": {
            "tags": null
          },
          "name": "stdout",
          "output_type": "stream",
          "text": [
            "loss: 0.18863882005892016 - Detection acc: 0.6122 - Correction acc: 0.4700\n",
            "Detection: precision=0.571156979902227, recall=0.5169616519174042 and F1=0.5427096774193548\n",
            "Correction: precision=0.717546362339515, recall=0.5978605388272583 and F1=0.6522584828182407\n",
            "Sentence Level: acc:0.469955, precision:0.574363, recall:0.256240, f1:0.354381\n"
          ]
        },
        {
          "data": {
            "application/vnd.jupyter.widget-view+json": {
              "model_id": "ff261ae15fa3408c8a237db3575ed900",
              "version_major": 2,
              "version_minor": 0
            },
            "text/plain": [
              "Validation: 0it [00:00, ?it/s]"
            ]
          },
          "metadata": {},
          "output_type": "display_data"
        },
        {
          "metadata": {
            "tags": null
          },
          "name": "stderr",
          "output_type": "stream",
          "text": [
            "2023-01-02 13:22:25.462 | INFO     | __main__:on_validation_epoch_start:14 - Valid.\n"
          ]
        },
        {
          "metadata": {
            "tags": null
          },
          "name": "stdout",
          "output_type": "stream",
          "text": [
            "loss: 0.191146907819943 - Detection acc: 0.6084 - Correction acc: 0.4676\n",
            "Detection: precision=0.5669824086603519, recall=0.5149950835791544 and F1=0.5397397913177896\n",
            "Correction: precision=0.7193317422434368, recall=0.5984908657664814 and F1=0.6533709083026231\n",
            "Sentence Level: acc:0.467623, precision:0.569710, recall:0.254344, f1:0.351682\n"
          ]
        },
        {
          "data": {
            "application/vnd.jupyter.widget-view+json": {
              "model_id": "88da8112b2034d12accbb0a415e03f36",
              "version_major": 2,
              "version_minor": 0
            },
            "text/plain": [
              "Validation: 0it [00:00, ?it/s]"
            ]
          },
          "metadata": {},
          "output_type": "display_data"
        },
        {
          "metadata": {
            "tags": null
          },
          "name": "stderr",
          "output_type": "stream",
          "text": [
            "2023-01-02 13:23:48.670 | INFO     | __main__:on_validation_epoch_start:14 - Valid.\n"
          ]
        },
        {
          "metadata": {
            "tags": null
          },
          "name": "stdout",
          "output_type": "stream",
          "text": [
            "loss: 0.18857468935576352 - Detection acc: 0.6136 - Correction acc: 0.4651\n",
            "Detection: precision=0.5687163502408614, recall=0.49336283185840707 and F1=0.5283664604449124\n",
            "Correction: precision=0.7229696063776782, recall=0.594672131147541 and F1=0.6525747695075332\n",
            "Sentence Level: acc:0.465112, precision:0.567728, recall:0.242338, f1:0.339681\n"
          ]
        },
        {
          "data": {
            "application/vnd.jupyter.widget-view+json": {
              "model_id": "ef73ea45d5eb468ea400938bcbcb87e9",
              "version_major": 2,
              "version_minor": 0
            },
            "text/plain": [
              "Validation: 0it [00:00, ?it/s]"
            ]
          },
          "metadata": {},
          "output_type": "display_data"
        },
        {
          "metadata": {
            "tags": null
          },
          "name": "stderr",
          "output_type": "stream",
          "text": [
            "2023-01-02 13:25:10.492 | INFO     | __main__:on_validation_epoch_start:14 - Valid.\n"
          ]
        },
        {
          "metadata": {
            "tags": null
          },
          "name": "stdout",
          "output_type": "stream",
          "text": [
            "loss: 0.191443130035292 - Detection acc: 0.6077 - Correction acc: 0.4651\n",
            "Detection: precision=0.566622864651774, recall=0.5299901671583087 and F1=0.5476946526101868\n",
            "Correction: precision=0.7105751391465677, recall=0.5912774990351216 and F1=0.6454602907099221\n",
            "Sentence Level: acc:0.465112, precision:0.563586, recall:0.256240, f1:0.352302\n"
          ]
        },
        {
          "data": {
            "application/vnd.jupyter.widget-view+json": {
              "model_id": "5e28a5e94666469ea8eb805c4a5d57e7",
              "version_major": 2,
              "version_minor": 0
            },
            "text/plain": [
              "Validation: 0it [00:00, ?it/s]"
            ]
          },
          "metadata": {},
          "output_type": "display_data"
        },
        {
          "metadata": {
            "tags": null
          },
          "name": "stderr",
          "output_type": "stream",
          "text": [
            "2023-01-02 13:26:32.636 | INFO     | __main__:on_validation_epoch_start:14 - Valid.\n"
          ]
        },
        {
          "metadata": {
            "tags": null
          },
          "name": "stdout",
          "output_type": "stream",
          "text": [
            "loss: 0.19207556122405964 - Detection acc: 0.6079 - Correction acc: 0.4655\n",
            "Detection: precision=0.5656829459388875, recall=0.532448377581121 and F1=0.548562745346334\n",
            "Correction: precision=0.7132963988919667, recall=0.5940023068050749 and F1=0.6482064191315293\n",
            "Sentence Level: acc:0.465471, precision:0.563925, recall:0.257820, f1:0.353859\n"
          ]
        },
        {
          "data": {
            "application/vnd.jupyter.widget-view+json": {
              "model_id": "2a64e4ffa51845fd8c83c081ef3964ad",
              "version_major": 2,
              "version_minor": 0
            },
            "text/plain": [
              "Validation: 0it [00:00, ?it/s]"
            ]
          },
          "metadata": {},
          "output_type": "display_data"
        },
        {
          "metadata": {
            "tags": null
          },
          "name": "stderr",
          "output_type": "stream",
          "text": [
            "2023-01-02 13:27:55.010 | INFO     | __main__:on_validation_epoch_start:14 - Valid.\n"
          ]
        },
        {
          "metadata": {
            "tags": null
          },
          "name": "stdout",
          "output_type": "stream",
          "text": [
            "loss: 0.19137530486014756 - Detection acc: 0.6086 - Correction acc: 0.4680\n",
            "Detection: precision=0.5642214344150531, recall=0.5086037364798427 and F1=0.5349709114414996\n",
            "Correction: precision=0.7240212663122282, recall=0.5989604158336665 and F1=0.6555798687089714\n",
            "Sentence Level: acc:0.467982, precision:0.570318, recall:0.254976, f1:0.352402\n"
          ]
        },
        {
          "data": {
            "application/vnd.jupyter.widget-view+json": {
              "model_id": "2edf637a8fee41a0a81ed0dffa28ba82",
              "version_major": 2,
              "version_minor": 0
            },
            "text/plain": [
              "Validation: 0it [00:00, ?it/s]"
            ]
          },
          "metadata": {},
          "output_type": "display_data"
        },
        {
          "metadata": {
            "tags": null
          },
          "name": "stderr",
          "output_type": "stream",
          "text": [
            "2023-01-02 13:29:18.504 | INFO     | __main__:on_validation_epoch_start:14 - Valid.\n"
          ]
        },
        {
          "metadata": {
            "tags": null
          },
          "name": "stdout",
          "output_type": "stream",
          "text": [
            "loss: 0.19086274606260387 - Detection acc: 0.6117 - Correction acc: 0.4700\n",
            "Detection: precision=0.5675172780435939, recall=0.5248279252704031 and F1=0.5453384418901659\n",
            "Correction: precision=0.7194379391100703, recall=0.5985970381917382 and F1=0.6534779834077856\n",
            "Sentence Level: acc:0.469955, precision:0.573633, recall:0.258452, f1:0.356349\n"
          ]
        },
        {
          "data": {
            "application/vnd.jupyter.widget-view+json": {
              "model_id": "7901ae21ad3d4c9490f80a608cad3436",
              "version_major": 2,
              "version_minor": 0
            },
            "text/plain": [
              "Validation: 0it [00:00, ?it/s]"
            ]
          },
          "metadata": {},
          "output_type": "display_data"
        },
        {
          "metadata": {
            "tags": null
          },
          "name": "stderr",
          "output_type": "stream",
          "text": [
            "2023-01-02 13:30:41.966 | INFO     | __main__:on_validation_epoch_start:14 - Valid.\n"
          ]
        },
        {
          "metadata": {
            "tags": null
          },
          "name": "stdout",
          "output_type": "stream",
          "text": [
            "loss: 0.19118213094770908 - Detection acc: 0.6102 - Correction acc: 0.4680\n",
            "Detection: precision=0.5673603504928806, recall=0.5093411996066863 and F1=0.5367875647668393\n",
            "Correction: precision=0.7162162162162162, recall=0.5947895791583167 and F1=0.6498795708342456\n",
            "Sentence Level: acc:0.467982, precision:0.570718, recall:0.253712, f1:0.351269\n"
          ]
        },
        {
          "data": {
            "application/vnd.jupyter.widget-view+json": {
              "model_id": "9862dbe4c1804109b379b1f41004afdc",
              "version_major": 2,
              "version_minor": 0
            },
            "text/plain": [
              "Validation: 0it [00:00, ?it/s]"
            ]
          },
          "metadata": {},
          "output_type": "display_data"
        },
        {
          "metadata": {
            "tags": null
          },
          "name": "stderr",
          "output_type": "stream",
          "text": [
            "2023-01-02 13:32:06.371 | INFO     | __main__:on_validation_epoch_start:14 - Valid.\n"
          ]
        },
        {
          "metadata": {
            "tags": null
          },
          "name": "stdout",
          "output_type": "stream",
          "text": [
            "loss: 0.190749123015187 - Detection acc: 0.6160 - Correction acc: 0.4682\n",
            "Detection: precision=0.569811320754717, recall=0.5196656833824975 and F1=0.5435844690151709\n",
            "Correction: precision=0.7133396404919584, recall=0.5939346199291059 and F1=0.6481839673329034\n",
            "Sentence Level: acc:0.468161, precision:0.570423, recall:0.255924, f1:0.353326\n"
          ]
        },
        {
          "data": {
            "application/vnd.jupyter.widget-view+json": {
              "model_id": "1c363113b87f4137bac452806b63d342",
              "version_major": 2,
              "version_minor": 0
            },
            "text/plain": [
              "Validation: 0it [00:00, ?it/s]"
            ]
          },
          "metadata": {},
          "output_type": "display_data"
        },
        {
          "metadata": {
            "tags": null
          },
          "name": "stderr",
          "output_type": "stream",
          "text": [
            "2023-01-02 13:33:29.623 | INFO     | __main__:on_validation_epoch_start:14 - Valid.\n"
          ]
        },
        {
          "metadata": {
            "tags": null
          },
          "name": "stdout",
          "output_type": "stream",
          "text": [
            "loss: 0.19331868551671505 - Detection acc: 0.5971 - Correction acc: 0.4653\n",
            "Detection: precision=0.5626814462918976, recall=0.5240904621435595 and F1=0.5427007763777523\n",
            "Correction: precision=0.7185741088180112, recall=0.5989053948397185 and F1=0.6533049040511726\n",
            "Sentence Level: acc:0.465291, precision:0.564336, recall:0.254976, f1:0.351251\n"
          ]
        },
        {
          "data": {
            "application/vnd.jupyter.widget-view+json": {
              "model_id": "cea0f14d1c214fc8a44b006efb20be8f",
              "version_major": 2,
              "version_minor": 0
            },
            "text/plain": [
              "Validation: 0it [00:00, ?it/s]"
            ]
          },
          "metadata": {},
          "output_type": "display_data"
        },
        {
          "metadata": {
            "tags": null
          },
          "name": "stderr",
          "output_type": "stream",
          "text": [
            "2023-01-02 13:34:51.660 | INFO     | __main__:on_validation_epoch_start:14 - Valid.\n"
          ]
        },
        {
          "metadata": {
            "tags": null
          },
          "name": "stdout",
          "output_type": "stream",
          "text": [
            "loss: 0.18884552574970506 - Detection acc: 0.6081 - Correction acc: 0.4682\n",
            "Detection: precision=0.5688493667475074, recall=0.5189282202556539 and F1=0.5427432831983546\n",
            "Correction: precision=0.7276172430127902, recall=0.6035363457760314 and F1=0.6597938144329896\n",
            "Sentence Level: acc:0.468161, precision:0.569832, recall:0.257820, f1:0.355014\n"
          ]
        },
        {
          "data": {
            "application/vnd.jupyter.widget-view+json": {
              "model_id": "0894277cd8f7498ca5edf541318dd83c",
              "version_major": 2,
              "version_minor": 0
            },
            "text/plain": [
              "Validation: 0it [00:00, ?it/s]"
            ]
          },
          "metadata": {},
          "output_type": "display_data"
        },
        {
          "metadata": {
            "tags": null
          },
          "name": "stderr",
          "output_type": "stream",
          "text": [
            "2023-01-02 13:36:14.278 | INFO     | __main__:on_validation_epoch_start:14 - Valid.\n"
          ]
        },
        {
          "metadata": {
            "tags": null
          },
          "name": "stdout",
          "output_type": "stream",
          "text": [
            "loss: 0.1933546315201304 - Detection acc: 0.6054 - Correction acc: 0.4673\n",
            "Detection: precision=0.5659574468085107, recall=0.5231071779744346 and F1=0.5436893203883495\n",
            "Correction: precision=0.7161654135338346, recall=0.5967110415035238 and F1=0.6510038445108928\n",
            "Sentence Level: acc:0.467265, precision:0.567850, recall:0.257820, f1:0.354628\n"
          ]
        },
        {
          "data": {
            "application/vnd.jupyter.widget-view+json": {
              "model_id": "7172cbbb12124e94aed7223e70055f4b",
              "version_major": 2,
              "version_minor": 0
            },
            "text/plain": [
              "Validation: 0it [00:00, ?it/s]"
            ]
          },
          "metadata": {},
          "output_type": "display_data"
        },
        {
          "metadata": {
            "tags": null
          },
          "name": "stderr",
          "output_type": "stream",
          "text": [
            "2023-01-02 13:37:37.356 | INFO     | __main__:on_validation_epoch_start:14 - Valid.\n"
          ]
        },
        {
          "metadata": {
            "tags": null
          },
          "name": "stdout",
          "output_type": "stream",
          "text": [
            "loss: 0.19355213371190158 - Detection acc: 0.5982 - Correction acc: 0.4676\n",
            "Detection: precision=0.5648246546227418, recall=0.5226155358898722 and F1=0.5429009193054137\n",
            "Correction: precision=0.7206020696142992, recall=0.5996086105675147 and F1=0.6545609912411878\n",
            "Sentence Level: acc:0.467623, precision:0.568355, recall:0.258768, f1:0.355623\n"
          ]
        },
        {
          "data": {
            "application/vnd.jupyter.widget-view+json": {
              "model_id": "4fc7006cb4484dec806e0f020e166dde",
              "version_major": 2,
              "version_minor": 0
            },
            "text/plain": [
              "Validation: 0it [00:00, ?it/s]"
            ]
          },
          "metadata": {},
          "output_type": "display_data"
        },
        {
          "metadata": {
            "tags": null
          },
          "name": "stderr",
          "output_type": "stream",
          "text": [
            "2023-01-02 13:39:00.530 | INFO     | __main__:on_validation_epoch_start:14 - Valid.\n"
          ]
        },
        {
          "metadata": {
            "tags": null
          },
          "name": "stdout",
          "output_type": "stream",
          "text": [
            "loss: 0.18981802226467567 - Detection acc: 0.6072 - Correction acc: 0.4676\n",
            "Detection: precision=0.5691168403730115, recall=0.51007866273353 and F1=0.5379828882551205\n",
            "Correction: precision=0.7161445783132531, recall=0.5927403270841644 and F1=0.6486250545613269\n",
            "Sentence Level: acc:0.467623, precision:0.570812, recall:0.250869, f1:0.348551\n"
          ]
        },
        {
          "data": {
            "application/vnd.jupyter.widget-view+json": {
              "model_id": "2360ea6d5a8d4e09ba8f3020f127d3bf",
              "version_major": 2,
              "version_minor": 0
            },
            "text/plain": [
              "Validation: 0it [00:00, ?it/s]"
            ]
          },
          "metadata": {},
          "output_type": "display_data"
        },
        {
          "metadata": {
            "tags": null
          },
          "name": "stderr",
          "output_type": "stream",
          "text": [
            "2023-01-02 13:40:23.966 | INFO     | __main__:on_validation_epoch_start:14 - Valid.\n"
          ]
        },
        {
          "metadata": {
            "tags": null
          },
          "name": "stdout",
          "output_type": "stream",
          "text": [
            "loss: 0.1887920658019456 - Detection acc: 0.6075 - Correction acc: 0.4691\n",
            "Detection: precision=0.5690502183406113, recall=0.5125368731563422 and F1=0.5393171236420072\n",
            "Correction: precision=0.7227817745803358, recall=0.5992047713717694 and F1=0.6552173913043479\n",
            "Sentence Level: acc:0.469058, precision:0.572954, recall:0.254344, f1:0.352298\n"
          ]
        },
        {
          "data": {
            "application/vnd.jupyter.widget-view+json": {
              "model_id": "6aec71d001a84f8f9d32f3387a1904b0",
              "version_major": 2,
              "version_minor": 0
            },
            "text/plain": [
              "Validation: 0it [00:00, ?it/s]"
            ]
          },
          "metadata": {},
          "output_type": "display_data"
        },
        {
          "metadata": {
            "tags": null
          },
          "name": "stderr",
          "output_type": "stream",
          "text": [
            "2023-01-02 13:41:46.180 | INFO     | __main__:on_validation_epoch_start:14 - Valid.\n"
          ]
        },
        {
          "metadata": {
            "tags": null
          },
          "name": "stdout",
          "output_type": "stream",
          "text": [
            "loss: 0.19117225571112198 - Detection acc: 0.6124 - Correction acc: 0.4676\n",
            "Detection: precision=0.5679210034694422, recall=0.5231071779744346 and F1=0.5445937300063979\n",
            "Correction: precision=0.7152255639097744, recall=0.5942991019133151 and F1=0.6491789294092557\n",
            "Sentence Level: acc:0.467623, precision:0.569220, recall:0.255924, f1:0.353095\n"
          ]
        },
        {
          "data": {
            "application/vnd.jupyter.widget-view+json": {
              "model_id": "0106d5eed5964b1db2bee8a78b5eaecd",
              "version_major": 2,
              "version_minor": 0
            },
            "text/plain": [
              "Validation: 0it [00:00, ?it/s]"
            ]
          },
          "metadata": {},
          "output_type": "display_data"
        },
        {
          "metadata": {
            "tags": null
          },
          "name": "stderr",
          "output_type": "stream",
          "text": [
            "2023-01-02 13:43:09.901 | INFO     | __main__:on_validation_epoch_start:14 - Valid.\n"
          ]
        },
        {
          "metadata": {
            "tags": null
          },
          "name": "stdout",
          "output_type": "stream",
          "text": [
            "loss: 0.19446306963535873 - Detection acc: 0.6016 - Correction acc: 0.4692\n",
            "Detection: precision=0.5670619235836627, recall=0.5290068829891839 and F1=0.5473737759125016\n",
            "Correction: precision=0.7156133828996283, recall=0.5973622963537626 and F1=0.6511627906976745\n",
            "Sentence Level: acc:0.469238, precision:0.571528, recall:0.260032, f1:0.357438\n"
          ]
        },
        {
          "data": {
            "application/vnd.jupyter.widget-view+json": {
              "model_id": "482710c14c844bb0b21c8b3dc7d0ca98",
              "version_major": 2,
              "version_minor": 0
            },
            "text/plain": [
              "Validation: 0it [00:00, ?it/s]"
            ]
          },
          "metadata": {},
          "output_type": "display_data"
        },
        {
          "metadata": {
            "tags": null
          },
          "name": "stderr",
          "output_type": "stream",
          "text": [
            "2023-01-02 13:44:31.504 | INFO     | __main__:on_validation_epoch_start:14 - Valid.\n"
          ]
        },
        {
          "metadata": {
            "tags": null
          },
          "name": "stdout",
          "output_type": "stream",
          "text": [
            "loss: 0.1928421761840582 - Detection acc: 0.6052 - Correction acc: 0.4671\n",
            "Detection: precision=0.5642165838346848, recall=0.5302359882005899 and F1=0.546698770751489\n",
            "Correction: precision=0.7153453871117292, recall=0.5989906832298136 and F1=0.6520177477287133\n",
            "Sentence Level: acc:0.467085, precision:0.566804, recall:0.260032, f1:0.356509\n"
          ]
        },
        {
          "data": {
            "application/vnd.jupyter.widget-view+json": {
              "model_id": "f2f9f5b5eddf44a99c1a449e6d15bc50",
              "version_major": 2,
              "version_minor": 0
            },
            "text/plain": [
              "Validation: 0it [00:00, ?it/s]"
            ]
          },
          "metadata": {},
          "output_type": "display_data"
        },
        {
          "metadata": {
            "tags": null
          },
          "name": "stderr",
          "output_type": "stream",
          "text": [
            "2023-01-02 13:45:53.828 | INFO     | __main__:on_validation_epoch_start:14 - Valid.\n"
          ]
        },
        {
          "metadata": {
            "tags": null
          },
          "name": "stdout",
          "output_type": "stream",
          "text": [
            "loss: 0.19558652947572144 - Detection acc: 0.6013 - Correction acc: 0.4664\n",
            "Detection: precision=0.563564875491481, recall=0.5285152409046214 and F1=0.5454776100469364\n",
            "Correction: precision=0.72, recall=0.6004654771140419 and F1=0.6548223350253807\n",
            "Sentence Level: acc:0.466368, precision:0.565789, recall:0.258136, f1:0.354524\n"
          ]
        },
        {
          "data": {
            "application/vnd.jupyter.widget-view+json": {
              "model_id": "2d3f650386e94d089724b1260f9870f8",
              "version_major": 2,
              "version_minor": 0
            },
            "text/plain": [
              "Validation: 0it [00:00, ?it/s]"
            ]
          },
          "metadata": {},
          "output_type": "display_data"
        },
        {
          "metadata": {
            "tags": null
          },
          "name": "stderr",
          "output_type": "stream",
          "text": [
            "2023-01-02 13:47:16.511 | INFO     | __main__:on_validation_epoch_start:14 - Valid.\n"
          ]
        },
        {
          "metadata": {
            "tags": null
          },
          "name": "stdout",
          "output_type": "stream",
          "text": [
            "loss: 0.1894917886026881 - Detection acc: 0.6083 - Correction acc: 0.4651\n",
            "Detection: precision=0.5631306244886829, recall=0.5076204523107178 and F1=0.5339366515837105\n",
            "Correction: precision=0.7215496368038741, recall=0.5971943887775552 and F1=0.6535087719298246\n",
            "Sentence Level: acc:0.465112, precision:0.564848, recall:0.251817, f1:0.348339\n"
          ]
        },
        {
          "data": {
            "application/vnd.jupyter.widget-view+json": {
              "model_id": "b8debf977e9343f3ace87a653ff26b76",
              "version_major": 2,
              "version_minor": 0
            },
            "text/plain": [
              "Validation: 0it [00:00, ?it/s]"
            ]
          },
          "metadata": {},
          "output_type": "display_data"
        },
        {
          "metadata": {
            "tags": null
          },
          "name": "stderr",
          "output_type": "stream",
          "text": [
            "2023-01-02 13:48:40.380 | INFO     | __main__:on_validation_epoch_start:14 - Valid.\n"
          ]
        },
        {
          "metadata": {
            "tags": null
          },
          "name": "stdout",
          "output_type": "stream",
          "text": [
            "loss: 0.19192286479202184 - Detection acc: 0.6016 - Correction acc: 0.4658\n",
            "Detection: precision=0.5620950323974082, recall=0.5117994100294986 and F1=0.5357694287184765\n",
            "Correction: precision=0.7195004803073968, recall=0.5951529598728645 and F1=0.6514459665144596\n",
            "Sentence Level: acc:0.465830, precision:0.566359, recall:0.252133, f1:0.348929\n"
          ]
        },
        {
          "data": {
            "application/vnd.jupyter.widget-view+json": {
              "model_id": "871eac16cd9c4510b025c095926419c6",
              "version_major": 2,
              "version_minor": 0
            },
            "text/plain": [
              "Validation: 0it [00:00, ?it/s]"
            ]
          },
          "metadata": {},
          "output_type": "display_data"
        },
        {
          "metadata": {
            "tags": null
          },
          "name": "stderr",
          "output_type": "stream",
          "text": [
            "2023-01-02 13:50:03.702 | INFO     | __main__:on_validation_epoch_start:14 - Valid.\n"
          ]
        },
        {
          "metadata": {
            "tags": null
          },
          "name": "stdout",
          "output_type": "stream",
          "text": [
            "loss: 0.19384584931487386 - Detection acc: 0.6014 - Correction acc: 0.4644\n",
            "Detection: precision=0.5602165087956699, recall=0.5088495575221239 and F1=0.5332989823521834\n",
            "Correction: precision=0.7154589371980676, recall=0.5919264588329336 and F1=0.647856517935258\n",
            "Sentence Level: acc:0.464395, precision:0.563430, recall:0.251185, f1:0.347465\n"
          ]
        },
        {
          "data": {
            "application/vnd.jupyter.widget-view+json": {
              "model_id": "6876f981487346ca94e3132566707610",
              "version_major": 2,
              "version_minor": 0
            },
            "text/plain": [
              "Validation: 0it [00:00, ?it/s]"
            ]
          },
          "metadata": {},
          "output_type": "display_data"
        },
        {
          "metadata": {
            "tags": null
          },
          "name": "stderr",
          "output_type": "stream",
          "text": [
            "2023-01-02 13:51:26.870 | INFO     | __main__:on_validation_epoch_start:14 - Valid.\n"
          ]
        },
        {
          "metadata": {
            "tags": null
          },
          "name": "stdout",
          "output_type": "stream",
          "text": [
            "loss: 0.19085955518213185 - Detection acc: 0.6079 - Correction acc: 0.4637\n",
            "Detection: precision=0.5643290999447819, recall=0.5024582104228122 and F1=0.5315994798439533\n",
            "Correction: precision=0.7186888454011742, recall=0.594496155402671 and F1=0.650719822812846\n",
            "Sentence Level: acc:0.463677, precision:0.563544, recall:0.245182, f1:0.341700\n"
          ]
        },
        {
          "data": {
            "application/vnd.jupyter.widget-view+json": {
              "model_id": "a8dfc989771f420ea096849b1e243730",
              "version_major": 2,
              "version_minor": 0
            },
            "text/plain": [
              "Validation: 0it [00:00, ?it/s]"
            ]
          },
          "metadata": {},
          "output_type": "display_data"
        },
        {
          "metadata": {
            "tags": null
          },
          "name": "stderr",
          "output_type": "stream",
          "text": [
            "2023-01-02 13:52:49.656 | INFO     | __main__:on_validation_epoch_start:14 - Valid.\n"
          ]
        },
        {
          "metadata": {
            "tags": null
          },
          "name": "stdout",
          "output_type": "stream",
          "text": [
            "loss: 0.1908234539018436 - Detection acc: 0.6063 - Correction acc: 0.4680\n",
            "Detection: precision=0.5680152049959273, recall=0.5142576204523107 and F1=0.5398013159592312\n",
            "Correction: precision=0.7131931166347992, recall=0.5932405566600397 and F1=0.6477100065118298\n",
            "Sentence Level: acc:0.467982, precision:0.570819, recall:0.253397, f1:0.350985\n"
          ]
        },
        {
          "data": {
            "application/vnd.jupyter.widget-view+json": {
              "model_id": "72389019a79c45eca73f2ba3254a6ad6",
              "version_major": 2,
              "version_minor": 0
            },
            "text/plain": [
              "Validation: 0it [00:00, ?it/s]"
            ]
          },
          "metadata": {},
          "output_type": "display_data"
        },
        {
          "metadata": {
            "tags": null
          },
          "name": "stderr",
          "output_type": "stream",
          "text": [
            "2023-01-02 13:54:13.439 | INFO     | __main__:on_validation_epoch_start:14 - Valid.\n"
          ]
        },
        {
          "metadata": {
            "tags": null
          },
          "name": "stdout",
          "output_type": "stream",
          "text": [
            "loss: 0.19174588861113245 - Detection acc: 0.6066 - Correction acc: 0.4683\n",
            "Detection: precision=0.5647352370390907, recall=0.5007374631268436 and F1=0.530814332247557\n",
            "Correction: precision=0.7221404025527737, recall=0.5986975986975986 and F1=0.6546506453048508\n",
            "Sentence Level: acc:0.468341, precision:0.572459, recall:0.250869, f1:0.348858\n"
          ]
        },
        {
          "data": {
            "application/vnd.jupyter.widget-view+json": {
              "model_id": "f31190d104744b159601f3b593439e67",
              "version_major": 2,
              "version_minor": 0
            },
            "text/plain": [
              "Validation: 0it [00:00, ?it/s]"
            ]
          },
          "metadata": {},
          "output_type": "display_data"
        },
        {
          "metadata": {
            "tags": null
          },
          "name": "stderr",
          "output_type": "stream",
          "text": [
            "2023-01-02 13:55:36.357 | INFO     | __main__:on_validation_epoch_start:14 - Valid.\n"
          ]
        },
        {
          "metadata": {
            "tags": null
          },
          "name": "stdout",
          "output_type": "stream",
          "text": [
            "loss: 0.19408416019921954 - Detection acc: 0.5978 - Correction acc: 0.4669\n",
            "Detection: precision=0.5668142745506642, recall=0.5349065880039331 and F1=0.5503983811812319\n",
            "Correction: precision=0.7132352941176471, recall=0.5964642582628747 and F1=0.6496442025952281\n",
            "Sentence Level: acc:0.466906, precision:0.567247, recall:0.257188, f1:0.353913\n"
          ]
        },
        {
          "data": {
            "application/vnd.jupyter.widget-view+json": {
              "model_id": "872259b47daa40a48870219263aa8379",
              "version_major": 2,
              "version_minor": 0
            },
            "text/plain": [
              "Validation: 0it [00:00, ?it/s]"
            ]
          },
          "metadata": {},
          "output_type": "display_data"
        },
        {
          "metadata": {
            "tags": null
          },
          "name": "stderr",
          "output_type": "stream",
          "text": [
            "2023-01-02 13:56:59.551 | INFO     | __main__:on_validation_epoch_start:14 - Valid.\n"
          ]
        },
        {
          "metadata": {
            "tags": null
          },
          "name": "stdout",
          "output_type": "stream",
          "text": [
            "loss: 0.19595405510203404 - Detection acc: 0.5950 - Correction acc: 0.4648\n",
            "Detection: precision=0.5630689206762028, recall=0.5322025565388397 and F1=0.5472008087956528\n",
            "Correction: precision=0.71270207852194, recall=0.597367402245451 and F1=0.6499578770008424\n",
            "Sentence Level: acc:0.464753, precision:0.562199, recall:0.258452, f1:0.354113\n"
          ]
        },
        {
          "data": {
            "application/vnd.jupyter.widget-view+json": {
              "model_id": "74de0bb38b18480ba653de0fde7f4a61",
              "version_major": 2,
              "version_minor": 0
            },
            "text/plain": [
              "Validation: 0it [00:00, ?it/s]"
            ]
          },
          "metadata": {},
          "output_type": "display_data"
        },
        {
          "metadata": {
            "tags": null
          },
          "name": "stderr",
          "output_type": "stream",
          "text": [
            "2023-01-02 13:58:22.943 | INFO     | __main__:on_validation_epoch_start:14 - Valid.\n"
          ]
        },
        {
          "metadata": {
            "tags": null
          },
          "name": "stdout",
          "output_type": "stream",
          "text": [
            "loss: 0.19357869096777655 - Detection acc: 0.6047 - Correction acc: 0.4628\n",
            "Detection: precision=0.5627820546854261, recall=0.5211406096361848 and F1=0.5411614550095724\n",
            "Correction: precision=0.7122641509433962, recall=0.591692789968652 and F1=0.6464041095890412\n",
            "Sentence Level: acc:0.462780, precision:0.560284, recall:0.249605, f1:0.345355\n"
          ]
        },
        {
          "data": {
            "application/vnd.jupyter.widget-view+json": {
              "model_id": "63010f6c81604db8876e5a5a5ad8db07",
              "version_major": 2,
              "version_minor": 0
            },
            "text/plain": [
              "Validation: 0it [00:00, ?it/s]"
            ]
          },
          "metadata": {},
          "output_type": "display_data"
        },
        {
          "metadata": {
            "tags": null
          },
          "name": "stderr",
          "output_type": "stream",
          "text": [
            "2023-01-02 13:59:45.395 | INFO     | __main__:on_validation_epoch_start:14 - Valid.\n"
          ]
        },
        {
          "metadata": {
            "tags": null
          },
          "name": "stdout",
          "output_type": "stream",
          "text": [
            "loss: 0.1940857017920776 - Detection acc: 0.6030 - Correction acc: 0.4662\n",
            "Detection: precision=0.5646997929606625, recall=0.5363815142576205 and F1=0.5501765002521433\n",
            "Correction: precision=0.7121906507791017, recall=0.5972328977709455 and F1=0.6496655518394648\n",
            "Sentence Level: acc:0.466188, precision:0.564770, recall:0.260348, f1:0.356401\n"
          ]
        },
        {
          "data": {
            "application/vnd.jupyter.widget-view+json": {
              "model_id": "d1fd5fb0d29f491caedc3dccb23373ff",
              "version_major": 2,
              "version_minor": 0
            },
            "text/plain": [
              "Validation: 0it [00:00, ?it/s]"
            ]
          },
          "metadata": {},
          "output_type": "display_data"
        },
        {
          "metadata": {
            "tags": null
          },
          "name": "stderr",
          "output_type": "stream",
          "text": [
            "2023-01-02 14:01:08.640 | INFO     | __main__:on_validation_epoch_start:14 - Valid.\n"
          ]
        },
        {
          "metadata": {
            "tags": null
          },
          "name": "stdout",
          "output_type": "stream",
          "text": [
            "loss: 0.19092879698357798 - Detection acc: 0.6065 - Correction acc: 0.4673\n",
            "Detection: precision=0.5640022358859698, recall=0.4960668633235005 and F1=0.5278577033743134\n",
            "Correction: precision=0.7289395441030724, recall=0.6018821603927987 and F1=0.659345584939489\n",
            "Sentence Level: acc:0.467265, precision:0.570601, recall:0.248973, f1:0.346678\n"
          ]
        },
        {
          "data": {
            "application/vnd.jupyter.widget-view+json": {
              "model_id": "483b197925174a16ae91dbe0983f32b0",
              "version_major": 2,
              "version_minor": 0
            },
            "text/plain": [
              "Validation: 0it [00:00, ?it/s]"
            ]
          },
          "metadata": {},
          "output_type": "display_data"
        },
        {
          "metadata": {
            "tags": null
          },
          "name": "stderr",
          "output_type": "stream",
          "text": [
            "2023-01-02 14:02:31.587 | INFO     | __main__:on_validation_epoch_start:14 - Valid.\n"
          ]
        },
        {
          "metadata": {
            "tags": null
          },
          "name": "stdout",
          "output_type": "stream",
          "text": [
            "loss: 0.19569581747055054 - Detection acc: 0.6022 - Correction acc: 0.4642\n",
            "Detection: precision=0.5624168219323928, recall=0.5194198623402163 and F1=0.5400638977635782\n",
            "Correction: precision=0.7146237576904875, recall=0.5956607495069034 and F1=0.6497418244406196\n",
            "Sentence Level: acc:0.464215, precision:0.562238, recall:0.254028, f1:0.349946\n"
          ]
        },
        {
          "data": {
            "application/vnd.jupyter.widget-view+json": {
              "model_id": "734b632cbd664e9386c2beb1235428b0",
              "version_major": 2,
              "version_minor": 0
            },
            "text/plain": [
              "Validation: 0it [00:00, ?it/s]"
            ]
          },
          "metadata": {},
          "output_type": "display_data"
        },
        {
          "metadata": {
            "tags": null
          },
          "name": "stderr",
          "output_type": "stream",
          "text": [
            "2023-01-02 14:03:56.738 | INFO     | __main__:on_validation_epoch_start:14 - Valid.\n"
          ]
        },
        {
          "metadata": {
            "tags": null
          },
          "name": "stdout",
          "output_type": "stream",
          "text": [
            "loss: 0.19218889234418218 - Detection acc: 0.6059 - Correction acc: 0.4689\n",
            "Detection: precision=0.5695652173913044, recall=0.5152409046214356 and F1=0.541042849767682\n",
            "Correction: precision=0.7194656488549618, recall=0.5969912905779889 and F1=0.6525313717005626\n",
            "Sentence Level: acc:0.468879, precision:0.571629, recall:0.257188, f1:0.354761\n"
          ]
        },
        {
          "data": {
            "application/vnd.jupyter.widget-view+json": {
              "model_id": "a693014bdb4240d7ba0279d0d13dfc0b",
              "version_major": 2,
              "version_minor": 0
            },
            "text/plain": [
              "Validation: 0it [00:00, ?it/s]"
            ]
          },
          "metadata": {},
          "output_type": "display_data"
        },
        {
          "metadata": {
            "tags": null
          },
          "name": "stderr",
          "output_type": "stream",
          "text": [
            "2023-01-02 14:05:19.229 | INFO     | __main__:on_validation_epoch_start:14 - Valid.\n"
          ]
        },
        {
          "metadata": {
            "tags": null
          },
          "name": "stdout",
          "output_type": "stream",
          "text": [
            "loss: 0.1894238806245002 - Detection acc: 0.6120 - Correction acc: 0.4687\n",
            "Detection: precision=0.5694933622324573, recall=0.516715830875123 and F1=0.5418223997937878\n",
            "Correction: precision=0.7159847764034253, recall=0.5950968762356663 and F1=0.6499676095875622\n",
            "Sentence Level: acc:0.468700, precision:0.572037, recall:0.254660, f1:0.352427\n"
          ]
        },
        {
          "data": {
            "application/vnd.jupyter.widget-view+json": {
              "model_id": "56c1c1506f8d4811b3c7a7c9c789bb19",
              "version_major": 2,
              "version_minor": 0
            },
            "text/plain": [
              "Validation: 0it [00:00, ?it/s]"
            ]
          },
          "metadata": {},
          "output_type": "display_data"
        },
        {
          "metadata": {
            "tags": null
          },
          "name": "stderr",
          "output_type": "stream",
          "text": [
            "2023-01-02 14:06:42.197 | INFO     | __main__:on_validation_epoch_start:14 - Valid.\n"
          ]
        },
        {
          "metadata": {
            "tags": null
          },
          "name": "stdout",
          "output_type": "stream",
          "text": [
            "loss: 0.19410735453394326 - Detection acc: 0.6081 - Correction acc: 0.4665\n",
            "Detection: precision=0.567048786990136, recall=0.5228613569321534 and F1=0.5440593426269343\n",
            "Correction: precision=0.7165021156558533, recall=0.5974127793022345 and F1=0.6515604959384352\n",
            "Sentence Level: acc:0.466547, precision:0.566090, recall:0.258452, f1:0.354881\n"
          ]
        },
        {
          "data": {
            "application/vnd.jupyter.widget-view+json": {
              "model_id": "7e948e20475b4af7ad3d68b20d1301cc",
              "version_major": 2,
              "version_minor": 0
            },
            "text/plain": [
              "Validation: 0it [00:00, ?it/s]"
            ]
          },
          "metadata": {},
          "output_type": "display_data"
        },
        {
          "metadata": {
            "tags": null
          },
          "name": "stderr",
          "output_type": "stream",
          "text": [
            "2023-01-02 14:08:05.877 | INFO     | __main__:on_validation_epoch_start:14 - Valid.\n"
          ]
        },
        {
          "metadata": {
            "tags": null
          },
          "name": "stdout",
          "output_type": "stream",
          "text": [
            "loss: 0.19284573146565395 - Detection acc: 0.6047 - Correction acc: 0.4669\n",
            "Detection: precision=0.5661804430037818, recall=0.5152409046214356 and F1=0.5395109395109396\n",
            "Correction: precision=0.7175572519083969, recall=0.5954077593032462 and F1=0.6508005192557333\n",
            "Sentence Level: acc:0.466906, precision:0.568198, recall:0.254028, f1:0.351092\n"
          ]
        },
        {
          "data": {
            "application/vnd.jupyter.widget-view+json": {
              "model_id": "f1a19fae4e67463085b5c3db1de52297",
              "version_major": 2,
              "version_minor": 0
            },
            "text/plain": [
              "Validation: 0it [00:00, ?it/s]"
            ]
          },
          "metadata": {},
          "output_type": "display_data"
        },
        {
          "metadata": {
            "tags": null
          },
          "name": "stderr",
          "output_type": "stream",
          "text": [
            "2023-01-02 14:09:29.273 | INFO     | __main__:on_validation_epoch_start:14 - Valid.\n"
          ]
        },
        {
          "metadata": {
            "tags": null
          },
          "name": "stdout",
          "output_type": "stream",
          "text": [
            "loss: 0.19166488843885335 - Detection acc: 0.6016 - Correction acc: 0.4676\n",
            "Detection: precision=0.5684296619411123, recall=0.5125368731563422 and F1=0.5390382626680457\n",
            "Correction: precision=0.7232613908872901, recall=0.6012759170653907 and F1=0.65665142608317\n",
            "Sentence Level: acc:0.467623, precision:0.569317, recall:0.255608, f1:0.352813\n"
          ]
        },
        {
          "output_type": "display_data",
          "data": {
            "text/plain": [
              "Validation: 0it [00:00, ?it/s]"
            ],
            "application/vnd.jupyter.widget-view+json": {
              "version_major": 2,
              "version_minor": 0,
              "model_id": "5c67421d593c44d697bd7322b38dec6d"
            }
          },
          "metadata": {}
        },
        {
          "output_type": "stream",
          "name": "stderr",
          "text": [
            "2023-01-02 14:10:53.153 | INFO     | __main__:on_validation_epoch_start:14 - Valid.\n"
          ]
        },
        {
          "output_type": "stream",
          "name": "stdout",
          "text": [
            "loss: 0.19414015977897428 - Detection acc: 0.6022 - Correction acc: 0.4649\n",
            "Detection: precision=0.5625163826998689, recall=0.5275319567354966 and F1=0.5444627679817329\n",
            "Correction: precision=0.7087604846225536, recall=0.5918287937743191 and F1=0.6450381679389312\n",
            "Sentence Level: acc:0.464933, precision:0.563107, recall:0.256556, f1:0.352507\n"
          ]
        },
        {
          "output_type": "stream",
          "name": "stderr",
          "text": [
            "/usr/local/lib/python3.8/dist-packages/pytorch_lightning/trainer/call.py:48: UserWarning: Detected KeyboardInterrupt, attempting graceful shutdown...\n",
            "  rank_zero_warn(\"Detected KeyboardInterrupt, attempting graceful shutdown...\")\n",
            "2023-01-02 14:11:03.898 | INFO     | __main__:<module>:34 - train model done.\n"
          ]
        }
      ],
      "source": [
        "# Initialize model\n",
        "if cfg.MODEL.NAME == 'macbert4csc':\n",
        "    model = MacBert4Csc(cfg, tokenizer)\n",
        "else:\n",
        "    raise ValueError(\"model not found.\")\n",
        "    \n",
        "# Load the previously saved model and continue training\n",
        "if cfg.MODEL.WEIGHTS and os.path.exists(cfg.MODEL.WEIGHTS):\n",
        "    model.load_from_checkpoint(checkpoint_path=cfg.MODEL.WEIGHTS, cfg=cfg, map_location=device, tokenizer=tokenizer)\n",
        "\n",
        "# Configure model save parameters\n",
        "ckpt_callback = ModelCheckpoint(\n",
        "    monitor='val_avg_f1',\n",
        "    dirpath=cfg.OUTPUT_DIR[0],\n",
        "    filename='{epoch:02d}-{val_loss:.2f}-{val_avg_f1:.3f}',\n",
        "    save_top_k=1,\n",
        "    mode='max'\n",
        ")\n",
        "\n",
        "# Train the model\n",
        "logger.info('train model ...')\n",
        "trainer = pl.Trainer(max_epochs=cfg.SOLVER.MAX_EPOCHS,\n",
        "                      gpus=None if device == torch.device('cpu') else cfg.MODEL.GPU_IDS,\n",
        "                      accumulate_grad_batches=cfg.SOLVER.ACCUMULATE_GRAD_BATCHES,\n",
        "                      callbacks=[ckpt_callback])\n",
        "# for training\n",
        "# There is data in train_loader\n",
        "torch.autograd.set_detect_anomaly(True)\n",
        "if 'train' in cfg.MODE and train_loader and len(train_loader) > 0:\n",
        "    if valid_loader and len(valid_loader) > 0:\n",
        "        trainer.fit(model, train_loader, valid_loader)\n",
        "    else:\n",
        "        trainer.fit(model, train_loader)\n",
        "    logger.info('train model done.')"
      ]
    },
    {
      "cell_type": "code",
      "execution_count": null,
      "metadata": {
        "colab": {
          "base_uri": "https://localhost:8080/"
        },
        "id": "NOqUyqZj9C3f",
        "outputId": "e008ba63-a9c0-41c1-bb27-67dfe862f240"
      },
      "outputs": [
        {
          "output_type": "stream",
          "name": "stderr",
          "text": [
            "2023-01-02 14:17:22.380 | INFO     | __main__:<module>:8 - ckpt_path: /content/gdrive/MyDrive/OCR/data/macbert_ckpt/epoch=104-val_loss=0.19-val_avg_f1=0.980.ckpt\n",
            "Some weights of the model checkpoint at hfl/chinese-macbert-base were not used when initializing BertForMaskedLM: ['cls.seq_relationship.bias', 'cls.seq_relationship.weight']\n",
            "- This IS expected if you are initializing BertForMaskedLM from the checkpoint of a model trained on another task or with another architecture (e.g. initializing a BertForSequenceClassification model from a BertForPreTraining model).\n",
            "- This IS NOT expected if you are initializing BertForMaskedLM from the checkpoint of a model that you expect to be exactly identical (initializing a BertForSequenceClassification model from a BertForSequenceClassification model).\n"
          ]
        }
      ],
      "source": [
        "# The model is converted to transformers and can be loaded\n",
        "if ckpt_callback and len(ckpt_callback.best_model_path) > 0:\n",
        "    ckpt_path = ckpt_callback.best_model_path\n",
        "elif cfg.MODEL.WEIGHTS and os.path.exists(cfg.MODEL.WEIGHTS):\n",
        "    ckpt_path = cfg.MODEL.WEIGHTS\n",
        "else:\n",
        "    ckpt_path = ''\n",
        "logger.info(f'ckpt_path: {ckpt_path}')\n",
        "if ckpt_path and os.path.exists(ckpt_path):\n",
        "    model.load_state_dict(torch.load(ckpt_path)['state_dict'])\n",
        "    # Save the original transformer bert model first\n",
        "    tokenizer.save_pretrained(cfg.OUTPUT_DIR[0])\n",
        "    bert = BertForMaskedLM.from_pretrained(cfg.MODEL.BERT_CKPT)\n",
        "    bert.save_pretrained(cfg.OUTPUT_DIR[0])\n",
        "    state_dict = torch.load(ckpt_path)['state_dict']\n",
        "    new_state_dict = OrderedDict()\n",
        "    if cfg.MODEL.NAME in ['macbert4csc']:\n",
        "        for k, v in state_dict.items():\n",
        "            if k.startswith('bert.'):\n",
        "                new_state_dict[k[5:]] = v\n",
        "    else:\n",
        "        new_state_dict = state_dict\n",
        "    # Save the model file after finetune training and replace the original pytorch_model.bin\n",
        "    torch.save(new_state_dict, os.path.join(cfg.OUTPUT_DIR[0], 'pytorch_model.bin'))"
      ]
    },
    {
      "cell_type": "code",
      "execution_count": null,
      "metadata": {
        "colab": {
          "base_uri": "https://localhost:8080/",
          "height": 275,
          "referenced_widgets": [
            "f312c0a4f91543029efe160805c2d59d",
            "e6970e89b6fd430c883f6fd0c57428dc",
            "c6b63e68e69a45f78ed34be5173b5fec",
            "a4eb33475fb44551befde5dbbb5880fc",
            "e8a392fb39a6491b97f69fd40944608c",
            "0e0501973cb34952b03e2b499a0ea0ad",
            "2f230a584544470887d1c4667d779f85",
            "8c389daf29af46c5899ba9e35d4af5f6",
            "e63365346fc04b4aa7b7595044beca39",
            "e7f409eb7f7c44b79ea715c50da2e19a",
            "927aedd7793d4b77ba9a182f44dc382e"
          ]
        },
        "id": "pGtVW1_j7S36",
        "outputId": "4a3c16da-ed2a-4045-c249-5e8215c580fa"
      },
      "outputs": [
        {
          "output_type": "stream",
          "name": "stderr",
          "text": [
            "INFO:pytorch_lightning.accelerators.cuda:LOCAL_RANK: 0 - CUDA_VISIBLE_DEVICES: [0]\n"
          ]
        },
        {
          "output_type": "display_data",
          "data": {
            "text/plain": [
              "Testing: 0it [00:00, ?it/s]"
            ],
            "application/vnd.jupyter.widget-view+json": {
              "version_major": 2,
              "version_minor": 0,
              "model_id": "f312c0a4f91543029efe160805c2d59d"
            }
          },
          "metadata": {}
        },
        {
          "output_type": "stream",
          "name": "stderr",
          "text": [
            "2023-01-02 14:17:39.780 | INFO     | __main__:on_test_epoch_start:17 - Testing...\n",
            "2023-01-02 14:17:45.563 | INFO     | __main__:test_epoch_end:95 - Test.\n"
          ]
        },
        {
          "output_type": "stream",
          "name": "stdout",
          "text": [
            "loss: 0.18866139514879746 - Detection acc: 0.5977 - Correction acc: 0.4714\n",
            "Detection: precision=0.5713188220230474, recall=0.5484267453294002 and F1=0.5596387808854885\n",
            "Correction: precision=0.7095472882115643, recall=0.5924401197604791 and F1=0.6457271058535591\n",
            "Sentence Level: acc:0.471390, precision:0.574658, recall:0.265087, f1:0.362811\n",
            "────────────────────────────────────────────────────────────────────────────────────────────────────────────────────────\n",
            "       Test metric             DataLoader 0\n",
            "────────────────────────────────────────────────────────────────────────────────────────────────────────────────────────\n",
            "       val_avg_f1           0.9798418283462524\n",
            "        val_loss            0.18866139514879746\n",
            "────────────────────────────────────────────────────────────────────────────────────────────────────────────────────────\n"
          ]
        }
      ],
      "source": [
        "# The logic for testing is the same as training\n",
        "if 'test' in cfg.MODE and test_loader and len(test_loader) > 0:\n",
        "    trainer.test(model, test_loader)"
      ]
    },
    {
      "cell_type": "code",
      "source": [
        "# from google.colab import files\n",
        "# !zip -r /content/macbert4csc_adam_2e4.zip /content/output/macbert4csc_adam_2e4\n",
        "# import shutil\n",
        "# shutil.move(\"/content/output/macbert4csc_adam\", \"/content/gdrive/MyDrive/OCR/data\")"
      ],
      "metadata": {
        "id": "FKlVUNJDTo3k"
      },
      "execution_count": null,
      "outputs": []
    },
    {
      "cell_type": "code",
      "execution_count": null,
      "metadata": {
        "id": "78_7900N7yrH"
      },
      "outputs": [],
      "source": [
        "unk_tokens = [' ', '“', '”', '‘', '’', '\\n', '…', '—', '\\t', '֍']\n",
        "def get_errors(corrected_text, origin_text):\n",
        "    sub_details = []\n",
        "    for i, ori_char in enumerate(origin_text):\n",
        "        if i >= len(corrected_text):\n",
        "            break\n",
        "        if ori_char in unk_tokens:\n",
        "            # deal with unk word\n",
        "            corrected_text = corrected_text[:i] + ori_char + corrected_text[i:]\n",
        "            continue\n",
        "        if ori_char != corrected_text[i]:\n",
        "            if ori_char.lower() == corrected_text[i]:\n",
        "                # pass english upper char\n",
        "                corrected_text = corrected_text[:i] + ori_char + corrected_text[i + 1:]\n",
        "                continue\n",
        "            sub_details.append((ori_char, corrected_text[i], i, i + 1))\n",
        "    sub_details = sorted(sub_details, key=operator.itemgetter(2))\n",
        "    return corrected_text, sub_details\n",
        "\n",
        "    \n",
        "class Inference:\n",
        "    def __init__(self, ckpt_path=ckpt_path,\n",
        "                 vocab_path=cfg.OUTPUT_DIR[0]):\n",
        "        logger.debug(\"device: {}\".format(device))\n",
        "        self.tokenizer = BertTokenizerFast.from_pretrained(vocab_path)\n",
        "        \n",
        "        self.model = MacBert4Csc.load_from_checkpoint(checkpoint_path=ckpt_path,\n",
        "                                                          cfg=cfg,\n",
        "                                                          map_location=device,\n",
        "                                                          tokenizer=self.tokenizer)\n",
        "        self.model.to(device)\n",
        "        self.model.eval()\n",
        "\n",
        "    def predict(self, sentence_list):\n",
        "        \"\"\"\n",
        "        Text Error Correction Model Prediction\n",
        "        Args:\n",
        "            sentence_list: list\n",
        "                input text list\n",
        "        Returns: tuple\n",
        "            corrected_texts(list)\n",
        "        \"\"\"\n",
        "        is_str = False\n",
        "        if isinstance(sentence_list, str):\n",
        "            is_str = True\n",
        "            sentence_list = [sentence_list]\n",
        "        corrected_texts = self.model.predict(sentence_list)\n",
        "        if is_str:\n",
        "            return corrected_texts[0]\n",
        "        return corrected_texts\n",
        "\n",
        "    def predict_with_error_detail(self, sentence_list):\n",
        "        \"\"\"\n",
        "        Text error correction model prediction, the result contains error location information\n",
        "        Args:\n",
        "            sentence_list: list\n",
        "                input text list\n",
        "        Returns: tuple\n",
        "            corrected_texts(list), details(list)\n",
        "        \"\"\"\n",
        "        details = []\n",
        "        is_str = False\n",
        "        if isinstance(sentence_list, str):\n",
        "            is_str = True\n",
        "            sentence_list = [sentence_list]\n",
        "        corrected_texts = self.model.predict(sentence_list)\n",
        "\n",
        "        for corrected_text, text in zip(corrected_texts, sentence_list):\n",
        "            corrected_text, sub_details = get_errors(corrected_text, text)\n",
        "            details.append(sub_details)\n",
        "        if is_str:\n",
        "            return corrected_texts[0], details[0]\n",
        "        return corrected_texts, details"
      ]
    },
    {
      "cell_type": "code",
      "execution_count": null,
      "metadata": {
        "id": "Y9UQPBxw8zMP"
      },
      "outputs": [],
      "source": [
        "m = Inference()\n",
        "inputs = [\n",
        "        '啓埃元年秋新刋',\n",
        "        '雲僊古啓新傳',\n",
        "        '新文堂藏板'\n",
        "]\n",
        "answer = [\n",
        "    '啓定元年秋新刋',\n",
        "    '雲僊古跡新傳',\n",
        "    '桞文堂藏板'\n",
        "]\n",
        "outputs = m.predict(inputs)\n",
        "for a, b, c in zip(inputs, answer, outputs):\n",
        "    print('input  :', a)\n",
        "    print('answer:', b)\n",
        "    print('predict:', c)\n",
        "    print(b==c)\n",
        "  "
      ]
    }
  ],
  "metadata": {
    "accelerator": "GPU",
    "colab": {
      "provenance": []
    },
    "gpuClass": "standard",
    "kernelspec": {
      "display_name": "Python 3",
      "name": "python3"
    },
    "language_info": {
      "name": "python"
    },
    "widgets": {
      "application/vnd.jupyter.widget-state+json": {
        "08131f9d74944aec96d3549eb2ece0ff": {
          "model_module": "@jupyter-widgets/controls",
          "model_module_version": "1.5.0",
          "model_name": "HTMLModel",
          "state": {
            "_dom_classes": [],
            "_model_module": "@jupyter-widgets/controls",
            "_model_module_version": "1.5.0",
            "_model_name": "HTMLModel",
            "_view_count": null,
            "_view_module": "@jupyter-widgets/controls",
            "_view_module_version": "1.5.0",
            "_view_name": "HTMLView",
            "description": "",
            "description_tooltip": null,
            "layout": "IPY_MODEL_20417cb84d4e48348c4393399b2729ba",
            "placeholder": "​",
            "style": "IPY_MODEL_6d373ed0cf0347dfb697a9a1cfc4667a",
            "value": "Downloading: 100%"
          }
        },
        "0b766258625d46d0b8af6a2ad04eaa0c": {
          "model_module": "@jupyter-widgets/controls",
          "model_module_version": "1.5.0",
          "model_name": "ProgressStyleModel",
          "state": {
            "_model_module": "@jupyter-widgets/controls",
            "_model_module_version": "1.5.0",
            "_model_name": "ProgressStyleModel",
            "_view_count": null,
            "_view_module": "@jupyter-widgets/base",
            "_view_module_version": "1.2.0",
            "_view_name": "StyleView",
            "bar_color": null,
            "description_width": ""
          }
        },
        "1449ef78ecdd4f609bcd1ada93a7c4ab": {
          "model_module": "@jupyter-widgets/base",
          "model_module_version": "1.2.0",
          "model_name": "LayoutModel",
          "state": {
            "_model_module": "@jupyter-widgets/base",
            "_model_module_version": "1.2.0",
            "_model_name": "LayoutModel",
            "_view_count": null,
            "_view_module": "@jupyter-widgets/base",
            "_view_module_version": "1.2.0",
            "_view_name": "LayoutView",
            "align_content": null,
            "align_items": null,
            "align_self": null,
            "border": null,
            "bottom": null,
            "display": null,
            "flex": "2",
            "flex_flow": null,
            "grid_area": null,
            "grid_auto_columns": null,
            "grid_auto_flow": null,
            "grid_auto_rows": null,
            "grid_column": null,
            "grid_gap": null,
            "grid_row": null,
            "grid_template_areas": null,
            "grid_template_columns": null,
            "grid_template_rows": null,
            "height": null,
            "justify_content": null,
            "justify_items": null,
            "left": null,
            "margin": null,
            "max_height": null,
            "max_width": null,
            "min_height": null,
            "min_width": null,
            "object_fit": null,
            "object_position": null,
            "order": null,
            "overflow": null,
            "overflow_x": null,
            "overflow_y": null,
            "padding": null,
            "right": null,
            "top": null,
            "visibility": null,
            "width": null
          }
        },
        "1c7e05f622ca4620a4d204c5d2190cc8": {
          "model_module": "@jupyter-widgets/base",
          "model_module_version": "1.2.0",
          "model_name": "LayoutModel",
          "state": {
            "_model_module": "@jupyter-widgets/base",
            "_model_module_version": "1.2.0",
            "_model_name": "LayoutModel",
            "_view_count": null,
            "_view_module": "@jupyter-widgets/base",
            "_view_module_version": "1.2.0",
            "_view_name": "LayoutView",
            "align_content": null,
            "align_items": null,
            "align_self": null,
            "border": null,
            "bottom": null,
            "display": null,
            "flex": "2",
            "flex_flow": null,
            "grid_area": null,
            "grid_auto_columns": null,
            "grid_auto_flow": null,
            "grid_auto_rows": null,
            "grid_column": null,
            "grid_gap": null,
            "grid_row": null,
            "grid_template_areas": null,
            "grid_template_columns": null,
            "grid_template_rows": null,
            "height": null,
            "justify_content": null,
            "justify_items": null,
            "left": null,
            "margin": null,
            "max_height": null,
            "max_width": null,
            "min_height": null,
            "min_width": null,
            "object_fit": null,
            "object_position": null,
            "order": null,
            "overflow": null,
            "overflow_x": null,
            "overflow_y": null,
            "padding": null,
            "right": null,
            "top": null,
            "visibility": null,
            "width": null
          }
        },
        "1e7e811acca145949a8c6ac69de9798a": {
          "model_module": "@jupyter-widgets/controls",
          "model_module_version": "1.5.0",
          "model_name": "DescriptionStyleModel",
          "state": {
            "_model_module": "@jupyter-widgets/controls",
            "_model_module_version": "1.5.0",
            "_model_name": "DescriptionStyleModel",
            "_view_count": null,
            "_view_module": "@jupyter-widgets/base",
            "_view_module_version": "1.2.0",
            "_view_name": "StyleView",
            "description_width": ""
          }
        },
        "20417cb84d4e48348c4393399b2729ba": {
          "model_module": "@jupyter-widgets/base",
          "model_module_version": "1.2.0",
          "model_name": "LayoutModel",
          "state": {
            "_model_module": "@jupyter-widgets/base",
            "_model_module_version": "1.2.0",
            "_model_name": "LayoutModel",
            "_view_count": null,
            "_view_module": "@jupyter-widgets/base",
            "_view_module_version": "1.2.0",
            "_view_name": "LayoutView",
            "align_content": null,
            "align_items": null,
            "align_self": null,
            "border": null,
            "bottom": null,
            "display": null,
            "flex": null,
            "flex_flow": null,
            "grid_area": null,
            "grid_auto_columns": null,
            "grid_auto_flow": null,
            "grid_auto_rows": null,
            "grid_column": null,
            "grid_gap": null,
            "grid_row": null,
            "grid_template_areas": null,
            "grid_template_columns": null,
            "grid_template_rows": null,
            "height": null,
            "justify_content": null,
            "justify_items": null,
            "left": null,
            "margin": null,
            "max_height": null,
            "max_width": null,
            "min_height": null,
            "min_width": null,
            "object_fit": null,
            "object_position": null,
            "order": null,
            "overflow": null,
            "overflow_x": null,
            "overflow_y": null,
            "padding": null,
            "right": null,
            "top": null,
            "visibility": null,
            "width": null
          }
        },
        "22f846808e934762809a745c54a7fbc8": {
          "model_module": "@jupyter-widgets/base",
          "model_module_version": "1.2.0",
          "model_name": "LayoutModel",
          "state": {
            "_model_module": "@jupyter-widgets/base",
            "_model_module_version": "1.2.0",
            "_model_name": "LayoutModel",
            "_view_count": null,
            "_view_module": "@jupyter-widgets/base",
            "_view_module_version": "1.2.0",
            "_view_name": "LayoutView",
            "align_content": null,
            "align_items": null,
            "align_self": null,
            "border": null,
            "bottom": null,
            "display": "inline-flex",
            "flex": null,
            "flex_flow": "row wrap",
            "grid_area": null,
            "grid_auto_columns": null,
            "grid_auto_flow": null,
            "grid_auto_rows": null,
            "grid_column": null,
            "grid_gap": null,
            "grid_row": null,
            "grid_template_areas": null,
            "grid_template_columns": null,
            "grid_template_rows": null,
            "height": null,
            "justify_content": null,
            "justify_items": null,
            "left": null,
            "margin": null,
            "max_height": null,
            "max_width": null,
            "min_height": null,
            "min_width": null,
            "object_fit": null,
            "object_position": null,
            "order": null,
            "overflow": null,
            "overflow_x": null,
            "overflow_y": null,
            "padding": null,
            "right": null,
            "top": null,
            "visibility": "hidden",
            "width": "100%"
          }
        },
        "2399dfb0514b4151a53b5a46e965cf81": {
          "model_module": "@jupyter-widgets/base",
          "model_module_version": "1.2.0",
          "model_name": "LayoutModel",
          "state": {
            "_model_module": "@jupyter-widgets/base",
            "_model_module_version": "1.2.0",
            "_model_name": "LayoutModel",
            "_view_count": null,
            "_view_module": "@jupyter-widgets/base",
            "_view_module_version": "1.2.0",
            "_view_name": "LayoutView",
            "align_content": null,
            "align_items": null,
            "align_self": null,
            "border": null,
            "bottom": null,
            "display": null,
            "flex": "2",
            "flex_flow": null,
            "grid_area": null,
            "grid_auto_columns": null,
            "grid_auto_flow": null,
            "grid_auto_rows": null,
            "grid_column": null,
            "grid_gap": null,
            "grid_row": null,
            "grid_template_areas": null,
            "grid_template_columns": null,
            "grid_template_rows": null,
            "height": null,
            "justify_content": null,
            "justify_items": null,
            "left": null,
            "margin": null,
            "max_height": null,
            "max_width": null,
            "min_height": null,
            "min_width": null,
            "object_fit": null,
            "object_position": null,
            "order": null,
            "overflow": null,
            "overflow_x": null,
            "overflow_y": null,
            "padding": null,
            "right": null,
            "top": null,
            "visibility": null,
            "width": null
          }
        },
        "23bcca609e6e4272bebad42b0eabceb9": {
          "model_module": "@jupyter-widgets/controls",
          "model_module_version": "1.5.0",
          "model_name": "DescriptionStyleModel",
          "state": {
            "_model_module": "@jupyter-widgets/controls",
            "_model_module_version": "1.5.0",
            "_model_name": "DescriptionStyleModel",
            "_view_count": null,
            "_view_module": "@jupyter-widgets/base",
            "_view_module_version": "1.2.0",
            "_view_name": "StyleView",
            "description_width": ""
          }
        },
        "23ea6fcba1684a27af1902784da263e5": {
          "model_module": "@jupyter-widgets/controls",
          "model_module_version": "1.5.0",
          "model_name": "ProgressStyleModel",
          "state": {
            "_model_module": "@jupyter-widgets/controls",
            "_model_module_version": "1.5.0",
            "_model_name": "ProgressStyleModel",
            "_view_count": null,
            "_view_module": "@jupyter-widgets/base",
            "_view_module_version": "1.2.0",
            "_view_name": "StyleView",
            "bar_color": null,
            "description_width": ""
          }
        },
        "24992297b66946788512ed7e59cd17b4": {
          "model_module": "@jupyter-widgets/base",
          "model_module_version": "1.2.0",
          "model_name": "LayoutModel",
          "state": {
            "_model_module": "@jupyter-widgets/base",
            "_model_module_version": "1.2.0",
            "_model_name": "LayoutModel",
            "_view_count": null,
            "_view_module": "@jupyter-widgets/base",
            "_view_module_version": "1.2.0",
            "_view_name": "LayoutView",
            "align_content": null,
            "align_items": null,
            "align_self": null,
            "border": null,
            "bottom": null,
            "display": null,
            "flex": null,
            "flex_flow": null,
            "grid_area": null,
            "grid_auto_columns": null,
            "grid_auto_flow": null,
            "grid_auto_rows": null,
            "grid_column": null,
            "grid_gap": null,
            "grid_row": null,
            "grid_template_areas": null,
            "grid_template_columns": null,
            "grid_template_rows": null,
            "height": null,
            "justify_content": null,
            "justify_items": null,
            "left": null,
            "margin": null,
            "max_height": null,
            "max_width": null,
            "min_height": null,
            "min_width": null,
            "object_fit": null,
            "object_position": null,
            "order": null,
            "overflow": null,
            "overflow_x": null,
            "overflow_y": null,
            "padding": null,
            "right": null,
            "top": null,
            "visibility": null,
            "width": null
          }
        },
        "24f179079fa149cdb6a06eacd674d7b2": {
          "model_module": "@jupyter-widgets/controls",
          "model_module_version": "1.5.0",
          "model_name": "ProgressStyleModel",
          "state": {
            "_model_module": "@jupyter-widgets/controls",
            "_model_module_version": "1.5.0",
            "_model_name": "ProgressStyleModel",
            "_view_count": null,
            "_view_module": "@jupyter-widgets/base",
            "_view_module_version": "1.2.0",
            "_view_name": "StyleView",
            "bar_color": null,
            "description_width": ""
          }
        },
        "27a01b678f26406fbaeb33af2e255c63": {
          "model_module": "@jupyter-widgets/controls",
          "model_module_version": "1.5.0",
          "model_name": "HBoxModel",
          "state": {
            "_dom_classes": [],
            "_model_module": "@jupyter-widgets/controls",
            "_model_module_version": "1.5.0",
            "_model_name": "HBoxModel",
            "_view_count": null,
            "_view_module": "@jupyter-widgets/controls",
            "_view_module_version": "1.5.0",
            "_view_name": "HBoxView",
            "box_style": "",
            "children": [
              "IPY_MODEL_08131f9d74944aec96d3549eb2ece0ff",
              "IPY_MODEL_4bc96dbc700f4055ade523bbd6adf431",
              "IPY_MODEL_6f6cd77f7b77443bb7e3b25e954c18f5"
            ],
            "layout": "IPY_MODEL_420fa2b3db654790babfa715352aab68"
          }
        },
        "2b24ea1aa21a478cb3271faac57c6748": {
          "model_module": "@jupyter-widgets/controls",
          "model_module_version": "1.5.0",
          "model_name": "DescriptionStyleModel",
          "state": {
            "_model_module": "@jupyter-widgets/controls",
            "_model_module_version": "1.5.0",
            "_model_name": "DescriptionStyleModel",
            "_view_count": null,
            "_view_module": "@jupyter-widgets/base",
            "_view_module_version": "1.2.0",
            "_view_name": "StyleView",
            "description_width": ""
          }
        },
        "2b33f8543e9747228131eaeb4d2dcefc": {
          "model_module": "@jupyter-widgets/controls",
          "model_module_version": "1.5.0",
          "model_name": "HTMLModel",
          "state": {
            "_dom_classes": [],
            "_model_module": "@jupyter-widgets/controls",
            "_model_module_version": "1.5.0",
            "_model_name": "HTMLModel",
            "_view_count": null,
            "_view_module": "@jupyter-widgets/controls",
            "_view_module_version": "1.5.0",
            "_view_name": "HTMLView",
            "description": "",
            "description_tooltip": null,
            "layout": "IPY_MODEL_3607f6a91c0a4c52a56df2a70fb13b83",
            "placeholder": "​",
            "style": "IPY_MODEL_ca1b485dae0548ae9070ff056198e89a",
            "value": " 44/44 [00:05&lt;00:00,  7.79it/s]"
          }
        },
        "3607f6a91c0a4c52a56df2a70fb13b83": {
          "model_module": "@jupyter-widgets/base",
          "model_module_version": "1.2.0",
          "model_name": "LayoutModel",
          "state": {
            "_model_module": "@jupyter-widgets/base",
            "_model_module_version": "1.2.0",
            "_model_name": "LayoutModel",
            "_view_count": null,
            "_view_module": "@jupyter-widgets/base",
            "_view_module_version": "1.2.0",
            "_view_name": "LayoutView",
            "align_content": null,
            "align_items": null,
            "align_self": null,
            "border": null,
            "bottom": null,
            "display": null,
            "flex": null,
            "flex_flow": null,
            "grid_area": null,
            "grid_auto_columns": null,
            "grid_auto_flow": null,
            "grid_auto_rows": null,
            "grid_column": null,
            "grid_gap": null,
            "grid_row": null,
            "grid_template_areas": null,
            "grid_template_columns": null,
            "grid_template_rows": null,
            "height": null,
            "justify_content": null,
            "justify_items": null,
            "left": null,
            "margin": null,
            "max_height": null,
            "max_width": null,
            "min_height": null,
            "min_width": null,
            "object_fit": null,
            "object_position": null,
            "order": null,
            "overflow": null,
            "overflow_x": null,
            "overflow_y": null,
            "padding": null,
            "right": null,
            "top": null,
            "visibility": null,
            "width": null
          }
        },
        "361c21608d9f4ed0b1029c65e8cdbbbd": {
          "model_module": "@jupyter-widgets/controls",
          "model_module_version": "1.5.0",
          "model_name": "DescriptionStyleModel",
          "state": {
            "_model_module": "@jupyter-widgets/controls",
            "_model_module_version": "1.5.0",
            "_model_name": "DescriptionStyleModel",
            "_view_count": null,
            "_view_module": "@jupyter-widgets/base",
            "_view_module_version": "1.2.0",
            "_view_name": "StyleView",
            "description_width": ""
          }
        },
        "420fa2b3db654790babfa715352aab68": {
          "model_module": "@jupyter-widgets/base",
          "model_module_version": "1.2.0",
          "model_name": "LayoutModel",
          "state": {
            "_model_module": "@jupyter-widgets/base",
            "_model_module_version": "1.2.0",
            "_model_name": "LayoutModel",
            "_view_count": null,
            "_view_module": "@jupyter-widgets/base",
            "_view_module_version": "1.2.0",
            "_view_name": "LayoutView",
            "align_content": null,
            "align_items": null,
            "align_self": null,
            "border": null,
            "bottom": null,
            "display": null,
            "flex": null,
            "flex_flow": null,
            "grid_area": null,
            "grid_auto_columns": null,
            "grid_auto_flow": null,
            "grid_auto_rows": null,
            "grid_column": null,
            "grid_gap": null,
            "grid_row": null,
            "grid_template_areas": null,
            "grid_template_columns": null,
            "grid_template_rows": null,
            "height": null,
            "justify_content": null,
            "justify_items": null,
            "left": null,
            "margin": null,
            "max_height": null,
            "max_width": null,
            "min_height": null,
            "min_width": null,
            "object_fit": null,
            "object_position": null,
            "order": null,
            "overflow": null,
            "overflow_x": null,
            "overflow_y": null,
            "padding": null,
            "right": null,
            "top": null,
            "visibility": null,
            "width": null
          }
        },
        "4244903b93584d66a1e84b5ff2f3295d": {
          "model_module": "@jupyter-widgets/base",
          "model_module_version": "1.2.0",
          "model_name": "LayoutModel",
          "state": {
            "_model_module": "@jupyter-widgets/base",
            "_model_module_version": "1.2.0",
            "_model_name": "LayoutModel",
            "_view_count": null,
            "_view_module": "@jupyter-widgets/base",
            "_view_module_version": "1.2.0",
            "_view_name": "LayoutView",
            "align_content": null,
            "align_items": null,
            "align_self": null,
            "border": null,
            "bottom": null,
            "display": null,
            "flex": null,
            "flex_flow": null,
            "grid_area": null,
            "grid_auto_columns": null,
            "grid_auto_flow": null,
            "grid_auto_rows": null,
            "grid_column": null,
            "grid_gap": null,
            "grid_row": null,
            "grid_template_areas": null,
            "grid_template_columns": null,
            "grid_template_rows": null,
            "height": null,
            "justify_content": null,
            "justify_items": null,
            "left": null,
            "margin": null,
            "max_height": null,
            "max_width": null,
            "min_height": null,
            "min_width": null,
            "object_fit": null,
            "object_position": null,
            "order": null,
            "overflow": null,
            "overflow_x": null,
            "overflow_y": null,
            "padding": null,
            "right": null,
            "top": null,
            "visibility": null,
            "width": null
          }
        },
        "48cab65ea81b4a8b9bfd9b1ff5a9a9c0": {
          "model_module": "@jupyter-widgets/controls",
          "model_module_version": "1.5.0",
          "model_name": "HBoxModel",
          "state": {
            "_dom_classes": [],
            "_model_module": "@jupyter-widgets/controls",
            "_model_module_version": "1.5.0",
            "_model_name": "HBoxModel",
            "_view_count": null,
            "_view_module": "@jupyter-widgets/controls",
            "_view_module_version": "1.5.0",
            "_view_name": "HBoxView",
            "box_style": "",
            "children": [
              "IPY_MODEL_e178efe4342841f1a2f75bc6bbe4b5e2",
              "IPY_MODEL_ec8dd61d7cb741aeadbbbe12289c9fc6",
              "IPY_MODEL_a8d1fba111b14b06a1f6596767f6e891"
            ],
            "layout": "IPY_MODEL_c15f259e0ef24800baa5cde786ac80d7"
          }
        },
        "4b7a0b8339f842b8bfe1e5370b272d3a": {
          "model_module": "@jupyter-widgets/controls",
          "model_module_version": "1.5.0",
          "model_name": "FloatProgressModel",
          "state": {
            "_dom_classes": [],
            "_model_module": "@jupyter-widgets/controls",
            "_model_module_version": "1.5.0",
            "_model_name": "FloatProgressModel",
            "_view_count": null,
            "_view_module": "@jupyter-widgets/controls",
            "_view_module_version": "1.5.0",
            "_view_name": "ProgressView",
            "bar_style": "",
            "description": "",
            "description_tooltip": null,
            "layout": "IPY_MODEL_d0d2d8b1e5f94004a9640fb5e3fd2474",
            "max": 215,
            "min": 0,
            "orientation": "horizontal",
            "style": "IPY_MODEL_0b766258625d46d0b8af6a2ad04eaa0c",
            "value": 7
          }
        },
        "4bc96dbc700f4055ade523bbd6adf431": {
          "model_module": "@jupyter-widgets/controls",
          "model_module_version": "1.5.0",
          "model_name": "FloatProgressModel",
          "state": {
            "_dom_classes": [],
            "_model_module": "@jupyter-widgets/controls",
            "_model_module_version": "1.5.0",
            "_model_name": "FloatProgressModel",
            "_view_count": null,
            "_view_module": "@jupyter-widgets/controls",
            "_view_module_version": "1.5.0",
            "_view_name": "ProgressView",
            "bar_style": "success",
            "description": "",
            "description_tooltip": null,
            "layout": "IPY_MODEL_8782724e4f014668bd7653ac27095272",
            "max": 659,
            "min": 0,
            "orientation": "horizontal",
            "style": "IPY_MODEL_bb5f2f9a5b1b4708afcaa19d04eb7817",
            "value": 659
          }
        },
        "4bf324a0f60641d6b27c7b0130456310": {
          "model_module": "@jupyter-widgets/controls",
          "model_module_version": "1.5.0",
          "model_name": "FloatProgressModel",
          "state": {
            "_dom_classes": [],
            "_model_module": "@jupyter-widgets/controls",
            "_model_module_version": "1.5.0",
            "_model_name": "FloatProgressModel",
            "_view_count": null,
            "_view_module": "@jupyter-widgets/controls",
            "_view_module_version": "1.5.0",
            "_view_name": "ProgressView",
            "bar_style": "",
            "description": "",
            "description_tooltip": null,
            "layout": "IPY_MODEL_2399dfb0514b4151a53b5a46e965cf81",
            "max": 44,
            "min": 0,
            "orientation": "horizontal",
            "style": "IPY_MODEL_5efc82864ec14453bdc880f2c13808c8",
            "value": 32
          }
        },
        "4c7ec451b6074e7c8e57e5416ed4470a": {
          "model_module": "@jupyter-widgets/controls",
          "model_module_version": "1.5.0",
          "model_name": "HTMLModel",
          "state": {
            "_dom_classes": [],
            "_model_module": "@jupyter-widgets/controls",
            "_model_module_version": "1.5.0",
            "_model_name": "HTMLModel",
            "_view_count": null,
            "_view_module": "@jupyter-widgets/controls",
            "_view_module_version": "1.5.0",
            "_view_name": "HTMLView",
            "description": "",
            "description_tooltip": null,
            "layout": "IPY_MODEL_cb6b94e7754a4355b2aea18ed5ba5d53",
            "placeholder": "​",
            "style": "IPY_MODEL_361c21608d9f4ed0b1029c65e8cdbbbd",
            "value": "Epoch 259:   3%"
          }
        },
        "4e528e71ea174768ac656f535ae43f0d": {
          "model_module": "@jupyter-widgets/controls",
          "model_module_version": "1.5.0",
          "model_name": "HBoxModel",
          "state": {
            "_dom_classes": [],
            "_model_module": "@jupyter-widgets/controls",
            "_model_module_version": "1.5.0",
            "_model_name": "HBoxModel",
            "_view_count": null,
            "_view_module": "@jupyter-widgets/controls",
            "_view_module_version": "1.5.0",
            "_view_name": "HBoxView",
            "box_style": "",
            "children": [
              "IPY_MODEL_53a9bd8e732b41f5869c111ff60bf262",
              "IPY_MODEL_ffe7f83555c74d3d8948213035ade445",
              "IPY_MODEL_2b33f8543e9747228131eaeb4d2dcefc"
            ],
            "layout": "IPY_MODEL_a12a789435b74ab3a1550fc36b54b128"
          }
        },
        "4eb9c4ae30454c81a78863add1ab027e": {
          "model_module": "@jupyter-widgets/controls",
          "model_module_version": "1.5.0",
          "model_name": "DescriptionStyleModel",
          "state": {
            "_model_module": "@jupyter-widgets/controls",
            "_model_module_version": "1.5.0",
            "_model_name": "DescriptionStyleModel",
            "_view_count": null,
            "_view_module": "@jupyter-widgets/base",
            "_view_module_version": "1.2.0",
            "_view_name": "StyleView",
            "description_width": ""
          }
        },
        "53a9bd8e732b41f5869c111ff60bf262": {
          "model_module": "@jupyter-widgets/controls",
          "model_module_version": "1.5.0",
          "model_name": "HTMLModel",
          "state": {
            "_dom_classes": [],
            "_model_module": "@jupyter-widgets/controls",
            "_model_module_version": "1.5.0",
            "_model_name": "HTMLModel",
            "_view_count": null,
            "_view_module": "@jupyter-widgets/controls",
            "_view_module_version": "1.5.0",
            "_view_name": "HTMLView",
            "description": "",
            "description_tooltip": null,
            "layout": "IPY_MODEL_df4565438ee345968639aab5a92176e6",
            "placeholder": "​",
            "style": "IPY_MODEL_23bcca609e6e4272bebad42b0eabceb9",
            "value": "Validation DataLoader 0: 100%"
          }
        },
        "563ed7f3a12642528f2c33dc6ec6c4dc": {
          "model_module": "@jupyter-widgets/controls",
          "model_module_version": "1.5.0",
          "model_name": "HBoxModel",
          "state": {
            "_dom_classes": [],
            "_model_module": "@jupyter-widgets/controls",
            "_model_module_version": "1.5.0",
            "_model_name": "HBoxModel",
            "_view_count": null,
            "_view_module": "@jupyter-widgets/controls",
            "_view_module_version": "1.5.0",
            "_view_name": "HBoxView",
            "box_style": "",
            "children": [
              "IPY_MODEL_4c7ec451b6074e7c8e57e5416ed4470a",
              "IPY_MODEL_4b7a0b8339f842b8bfe1e5370b272d3a",
              "IPY_MODEL_64bade0c35ff41c7b15be52138d943c0"
            ],
            "layout": "IPY_MODEL_797c5f5a4608425ba8bca010b8a7592d"
          }
        },
        "5d0777104847442cac65418727d3151f": {
          "model_module": "@jupyter-widgets/base",
          "model_module_version": "1.2.0",
          "model_name": "LayoutModel",
          "state": {
            "_model_module": "@jupyter-widgets/base",
            "_model_module_version": "1.2.0",
            "_model_name": "LayoutModel",
            "_view_count": null,
            "_view_module": "@jupyter-widgets/base",
            "_view_module_version": "1.2.0",
            "_view_name": "LayoutView",
            "align_content": null,
            "align_items": null,
            "align_self": null,
            "border": null,
            "bottom": null,
            "display": null,
            "flex": null,
            "flex_flow": null,
            "grid_area": null,
            "grid_auto_columns": null,
            "grid_auto_flow": null,
            "grid_auto_rows": null,
            "grid_column": null,
            "grid_gap": null,
            "grid_row": null,
            "grid_template_areas": null,
            "grid_template_columns": null,
            "grid_template_rows": null,
            "height": null,
            "justify_content": null,
            "justify_items": null,
            "left": null,
            "margin": null,
            "max_height": null,
            "max_width": null,
            "min_height": null,
            "min_width": null,
            "object_fit": null,
            "object_position": null,
            "order": null,
            "overflow": null,
            "overflow_x": null,
            "overflow_y": null,
            "padding": null,
            "right": null,
            "top": null,
            "visibility": null,
            "width": null
          }
        },
        "5e1f94b1d0d044c49fe6f3eb26dc809e": {
          "model_module": "@jupyter-widgets/base",
          "model_module_version": "1.2.0",
          "model_name": "LayoutModel",
          "state": {
            "_model_module": "@jupyter-widgets/base",
            "_model_module_version": "1.2.0",
            "_model_name": "LayoutModel",
            "_view_count": null,
            "_view_module": "@jupyter-widgets/base",
            "_view_module_version": "1.2.0",
            "_view_name": "LayoutView",
            "align_content": null,
            "align_items": null,
            "align_self": null,
            "border": null,
            "bottom": null,
            "display": null,
            "flex": null,
            "flex_flow": null,
            "grid_area": null,
            "grid_auto_columns": null,
            "grid_auto_flow": null,
            "grid_auto_rows": null,
            "grid_column": null,
            "grid_gap": null,
            "grid_row": null,
            "grid_template_areas": null,
            "grid_template_columns": null,
            "grid_template_rows": null,
            "height": null,
            "justify_content": null,
            "justify_items": null,
            "left": null,
            "margin": null,
            "max_height": null,
            "max_width": null,
            "min_height": null,
            "min_width": null,
            "object_fit": null,
            "object_position": null,
            "order": null,
            "overflow": null,
            "overflow_x": null,
            "overflow_y": null,
            "padding": null,
            "right": null,
            "top": null,
            "visibility": null,
            "width": null
          }
        },
        "5efc82864ec14453bdc880f2c13808c8": {
          "model_module": "@jupyter-widgets/controls",
          "model_module_version": "1.5.0",
          "model_name": "ProgressStyleModel",
          "state": {
            "_model_module": "@jupyter-widgets/controls",
            "_model_module_version": "1.5.0",
            "_model_name": "ProgressStyleModel",
            "_view_count": null,
            "_view_module": "@jupyter-widgets/base",
            "_view_module_version": "1.2.0",
            "_view_name": "StyleView",
            "bar_color": null,
            "description_width": ""
          }
        },
        "60f79e99c7a4472abe4c6ffefaf560fa": {
          "model_module": "@jupyter-widgets/controls",
          "model_module_version": "1.5.0",
          "model_name": "HTMLModel",
          "state": {
            "_dom_classes": [],
            "_model_module": "@jupyter-widgets/controls",
            "_model_module_version": "1.5.0",
            "_model_name": "HTMLModel",
            "_view_count": null,
            "_view_module": "@jupyter-widgets/controls",
            "_view_module_version": "1.5.0",
            "_view_name": "HTMLView",
            "description": "",
            "description_tooltip": null,
            "layout": "IPY_MODEL_a4caac93cdd84819aa5f9a0d64f8d416",
            "placeholder": "​",
            "style": "IPY_MODEL_d85b2558c5c6404998c27c3c823b065c",
            "value": "Validation DataLoader 0:  73%"
          }
        },
        "6484152baaeb4508bcb97f493b03e025": {
          "model_module": "@jupyter-widgets/base",
          "model_module_version": "1.2.0",
          "model_name": "LayoutModel",
          "state": {
            "_model_module": "@jupyter-widgets/base",
            "_model_module_version": "1.2.0",
            "_model_name": "LayoutModel",
            "_view_count": null,
            "_view_module": "@jupyter-widgets/base",
            "_view_module_version": "1.2.0",
            "_view_name": "LayoutView",
            "align_content": null,
            "align_items": null,
            "align_self": null,
            "border": null,
            "bottom": null,
            "display": null,
            "flex": "2",
            "flex_flow": null,
            "grid_area": null,
            "grid_auto_columns": null,
            "grid_auto_flow": null,
            "grid_auto_rows": null,
            "grid_column": null,
            "grid_gap": null,
            "grid_row": null,
            "grid_template_areas": null,
            "grid_template_columns": null,
            "grid_template_rows": null,
            "height": null,
            "justify_content": null,
            "justify_items": null,
            "left": null,
            "margin": null,
            "max_height": null,
            "max_width": null,
            "min_height": null,
            "min_width": null,
            "object_fit": null,
            "object_position": null,
            "order": null,
            "overflow": null,
            "overflow_x": null,
            "overflow_y": null,
            "padding": null,
            "right": null,
            "top": null,
            "visibility": null,
            "width": null
          }
        },
        "64bade0c35ff41c7b15be52138d943c0": {
          "model_module": "@jupyter-widgets/controls",
          "model_module_version": "1.5.0",
          "model_name": "HTMLModel",
          "state": {
            "_dom_classes": [],
            "_model_module": "@jupyter-widgets/controls",
            "_model_module_version": "1.5.0",
            "_model_name": "HTMLModel",
            "_view_count": null,
            "_view_module": "@jupyter-widgets/controls",
            "_view_module_version": "1.5.0",
            "_view_name": "HTMLView",
            "description": "",
            "description_tooltip": null,
            "layout": "IPY_MODEL_9486ad7ffe624e4685fbac764c0bdeb4",
            "placeholder": "​",
            "style": "IPY_MODEL_2b24ea1aa21a478cb3271faac57c6748",
            "value": " 7/215 [00:03&lt;01:36,  2.16it/s, loss=0.00308, v_num=0, train_loss_step=0.00239, train_loss_epoch=0.00313]"
          }
        },
        "6913b67107b84b08a233890132356d83": {
          "model_module": "@jupyter-widgets/controls",
          "model_module_version": "1.5.0",
          "model_name": "ProgressStyleModel",
          "state": {
            "_model_module": "@jupyter-widgets/controls",
            "_model_module_version": "1.5.0",
            "_model_name": "ProgressStyleModel",
            "_view_count": null,
            "_view_module": "@jupyter-widgets/base",
            "_view_module_version": "1.2.0",
            "_view_name": "StyleView",
            "bar_color": null,
            "description_width": ""
          }
        },
        "6d373ed0cf0347dfb697a9a1cfc4667a": {
          "model_module": "@jupyter-widgets/controls",
          "model_module_version": "1.5.0",
          "model_name": "DescriptionStyleModel",
          "state": {
            "_model_module": "@jupyter-widgets/controls",
            "_model_module_version": "1.5.0",
            "_model_name": "DescriptionStyleModel",
            "_view_count": null,
            "_view_module": "@jupyter-widgets/base",
            "_view_module_version": "1.2.0",
            "_view_name": "StyleView",
            "description_width": ""
          }
        },
        "6d9bdb2fd5b9469ebb001659924c5b91": {
          "model_module": "@jupyter-widgets/base",
          "model_module_version": "1.2.0",
          "model_name": "LayoutModel",
          "state": {
            "_model_module": "@jupyter-widgets/base",
            "_model_module_version": "1.2.0",
            "_model_name": "LayoutModel",
            "_view_count": null,
            "_view_module": "@jupyter-widgets/base",
            "_view_module_version": "1.2.0",
            "_view_name": "LayoutView",
            "align_content": null,
            "align_items": null,
            "align_self": null,
            "border": null,
            "bottom": null,
            "display": null,
            "flex": null,
            "flex_flow": null,
            "grid_area": null,
            "grid_auto_columns": null,
            "grid_auto_flow": null,
            "grid_auto_rows": null,
            "grid_column": null,
            "grid_gap": null,
            "grid_row": null,
            "grid_template_areas": null,
            "grid_template_columns": null,
            "grid_template_rows": null,
            "height": null,
            "justify_content": null,
            "justify_items": null,
            "left": null,
            "margin": null,
            "max_height": null,
            "max_width": null,
            "min_height": null,
            "min_width": null,
            "object_fit": null,
            "object_position": null,
            "order": null,
            "overflow": null,
            "overflow_x": null,
            "overflow_y": null,
            "padding": null,
            "right": null,
            "top": null,
            "visibility": null,
            "width": null
          }
        },
        "6f6cd77f7b77443bb7e3b25e954c18f5": {
          "model_module": "@jupyter-widgets/controls",
          "model_module_version": "1.5.0",
          "model_name": "HTMLModel",
          "state": {
            "_dom_classes": [],
            "_model_module": "@jupyter-widgets/controls",
            "_model_module_version": "1.5.0",
            "_model_name": "HTMLModel",
            "_view_count": null,
            "_view_module": "@jupyter-widgets/controls",
            "_view_module_version": "1.5.0",
            "_view_name": "HTMLView",
            "description": "",
            "description_tooltip": null,
            "layout": "IPY_MODEL_d6749827aa82419f9e028873a8195021",
            "placeholder": "​",
            "style": "IPY_MODEL_801ecbac4975447f94c49a3bd83de86b",
            "value": " 659/659 [00:00&lt;00:00, 37.6kB/s]"
          }
        },
        "6f9b9be9a3b24022ada0aac4e5653c1c": {
          "model_module": "@jupyter-widgets/controls",
          "model_module_version": "1.5.0",
          "model_name": "HBoxModel",
          "state": {
            "_dom_classes": [],
            "_model_module": "@jupyter-widgets/controls",
            "_model_module_version": "1.5.0",
            "_model_name": "HBoxModel",
            "_view_count": null,
            "_view_module": "@jupyter-widgets/controls",
            "_view_module_version": "1.5.0",
            "_view_name": "HBoxView",
            "box_style": "",
            "children": [
              "IPY_MODEL_60f79e99c7a4472abe4c6ffefaf560fa",
              "IPY_MODEL_4bf324a0f60641d6b27c7b0130456310",
              "IPY_MODEL_da82911f91564a1e90305c61865acc79"
            ],
            "layout": "IPY_MODEL_86da83ee291b40dcba5b98fb7a78edb7"
          }
        },
        "70c43675024d438e9eab48099bb12a11": {
          "model_module": "@jupyter-widgets/base",
          "model_module_version": "1.2.0",
          "model_name": "LayoutModel",
          "state": {
            "_model_module": "@jupyter-widgets/base",
            "_model_module_version": "1.2.0",
            "_model_name": "LayoutModel",
            "_view_count": null,
            "_view_module": "@jupyter-widgets/base",
            "_view_module_version": "1.2.0",
            "_view_name": "LayoutView",
            "align_content": null,
            "align_items": null,
            "align_self": null,
            "border": null,
            "bottom": null,
            "display": null,
            "flex": null,
            "flex_flow": null,
            "grid_area": null,
            "grid_auto_columns": null,
            "grid_auto_flow": null,
            "grid_auto_rows": null,
            "grid_column": null,
            "grid_gap": null,
            "grid_row": null,
            "grid_template_areas": null,
            "grid_template_columns": null,
            "grid_template_rows": null,
            "height": null,
            "justify_content": null,
            "justify_items": null,
            "left": null,
            "margin": null,
            "max_height": null,
            "max_width": null,
            "min_height": null,
            "min_width": null,
            "object_fit": null,
            "object_position": null,
            "order": null,
            "overflow": null,
            "overflow_x": null,
            "overflow_y": null,
            "padding": null,
            "right": null,
            "top": null,
            "visibility": null,
            "width": null
          }
        },
        "797c5f5a4608425ba8bca010b8a7592d": {
          "model_module": "@jupyter-widgets/base",
          "model_module_version": "1.2.0",
          "model_name": "LayoutModel",
          "state": {
            "_model_module": "@jupyter-widgets/base",
            "_model_module_version": "1.2.0",
            "_model_name": "LayoutModel",
            "_view_count": null,
            "_view_module": "@jupyter-widgets/base",
            "_view_module_version": "1.2.0",
            "_view_name": "LayoutView",
            "align_content": null,
            "align_items": null,
            "align_self": null,
            "border": null,
            "bottom": null,
            "display": "inline-flex",
            "flex": null,
            "flex_flow": "row wrap",
            "grid_area": null,
            "grid_auto_columns": null,
            "grid_auto_flow": null,
            "grid_auto_rows": null,
            "grid_column": null,
            "grid_gap": null,
            "grid_row": null,
            "grid_template_areas": null,
            "grid_template_columns": null,
            "grid_template_rows": null,
            "height": null,
            "justify_content": null,
            "justify_items": null,
            "left": null,
            "margin": null,
            "max_height": null,
            "max_width": null,
            "min_height": null,
            "min_width": null,
            "object_fit": null,
            "object_position": null,
            "order": null,
            "overflow": null,
            "overflow_x": null,
            "overflow_y": null,
            "padding": null,
            "right": null,
            "top": null,
            "visibility": null,
            "width": "100%"
          }
        },
        "7d103f64e9d44f8b85c224a935fe6c80": {
          "model_module": "@jupyter-widgets/controls",
          "model_module_version": "1.5.0",
          "model_name": "ProgressStyleModel",
          "state": {
            "_model_module": "@jupyter-widgets/controls",
            "_model_module_version": "1.5.0",
            "_model_name": "ProgressStyleModel",
            "_view_count": null,
            "_view_module": "@jupyter-widgets/base",
            "_view_module_version": "1.2.0",
            "_view_name": "StyleView",
            "bar_color": null,
            "description_width": ""
          }
        },
        "801ecbac4975447f94c49a3bd83de86b": {
          "model_module": "@jupyter-widgets/controls",
          "model_module_version": "1.5.0",
          "model_name": "DescriptionStyleModel",
          "state": {
            "_model_module": "@jupyter-widgets/controls",
            "_model_module_version": "1.5.0",
            "_model_name": "DescriptionStyleModel",
            "_view_count": null,
            "_view_module": "@jupyter-widgets/base",
            "_view_module_version": "1.2.0",
            "_view_name": "StyleView",
            "description_width": ""
          }
        },
        "80ab2aafe44f4b7cb45151917e210738": {
          "model_module": "@jupyter-widgets/controls",
          "model_module_version": "1.5.0",
          "model_name": "HBoxModel",
          "state": {
            "_dom_classes": [],
            "_model_module": "@jupyter-widgets/controls",
            "_model_module_version": "1.5.0",
            "_model_name": "HBoxModel",
            "_view_count": null,
            "_view_module": "@jupyter-widgets/controls",
            "_view_module_version": "1.5.0",
            "_view_name": "HBoxView",
            "box_style": "",
            "children": [
              "IPY_MODEL_db98801ad3be4b0197a17b6e1f7383b5",
              "IPY_MODEL_bf10299da4ff4a2a8bbc2906a2a14478",
              "IPY_MODEL_e545784f713a453583789be88e816a66"
            ],
            "layout": "IPY_MODEL_6d9bdb2fd5b9469ebb001659924c5b91"
          }
        },
        "86da83ee291b40dcba5b98fb7a78edb7": {
          "model_module": "@jupyter-widgets/base",
          "model_module_version": "1.2.0",
          "model_name": "LayoutModel",
          "state": {
            "_model_module": "@jupyter-widgets/base",
            "_model_module_version": "1.2.0",
            "_model_name": "LayoutModel",
            "_view_count": null,
            "_view_module": "@jupyter-widgets/base",
            "_view_module_version": "1.2.0",
            "_view_name": "LayoutView",
            "align_content": null,
            "align_items": null,
            "align_self": null,
            "border": null,
            "bottom": null,
            "display": "inline-flex",
            "flex": null,
            "flex_flow": "row wrap",
            "grid_area": null,
            "grid_auto_columns": null,
            "grid_auto_flow": null,
            "grid_auto_rows": null,
            "grid_column": null,
            "grid_gap": null,
            "grid_row": null,
            "grid_template_areas": null,
            "grid_template_columns": null,
            "grid_template_rows": null,
            "height": null,
            "justify_content": null,
            "justify_items": null,
            "left": null,
            "margin": null,
            "max_height": null,
            "max_width": null,
            "min_height": null,
            "min_width": null,
            "object_fit": null,
            "object_position": null,
            "order": null,
            "overflow": null,
            "overflow_x": null,
            "overflow_y": null,
            "padding": null,
            "right": null,
            "top": null,
            "visibility": null,
            "width": "100%"
          }
        },
        "8782724e4f014668bd7653ac27095272": {
          "model_module": "@jupyter-widgets/base",
          "model_module_version": "1.2.0",
          "model_name": "LayoutModel",
          "state": {
            "_model_module": "@jupyter-widgets/base",
            "_model_module_version": "1.2.0",
            "_model_name": "LayoutModel",
            "_view_count": null,
            "_view_module": "@jupyter-widgets/base",
            "_view_module_version": "1.2.0",
            "_view_name": "LayoutView",
            "align_content": null,
            "align_items": null,
            "align_self": null,
            "border": null,
            "bottom": null,
            "display": null,
            "flex": null,
            "flex_flow": null,
            "grid_area": null,
            "grid_auto_columns": null,
            "grid_auto_flow": null,
            "grid_auto_rows": null,
            "grid_column": null,
            "grid_gap": null,
            "grid_row": null,
            "grid_template_areas": null,
            "grid_template_columns": null,
            "grid_template_rows": null,
            "height": null,
            "justify_content": null,
            "justify_items": null,
            "left": null,
            "margin": null,
            "max_height": null,
            "max_width": null,
            "min_height": null,
            "min_width": null,
            "object_fit": null,
            "object_position": null,
            "order": null,
            "overflow": null,
            "overflow_x": null,
            "overflow_y": null,
            "padding": null,
            "right": null,
            "top": null,
            "visibility": null,
            "width": null
          }
        },
        "91f5131209f84eaab0f26d31ab768c1f": {
          "model_module": "@jupyter-widgets/controls",
          "model_module_version": "1.5.0",
          "model_name": "HTMLModel",
          "state": {
            "_dom_classes": [],
            "_model_module": "@jupyter-widgets/controls",
            "_model_module_version": "1.5.0",
            "_model_name": "HTMLModel",
            "_view_count": null,
            "_view_module": "@jupyter-widgets/controls",
            "_view_module_version": "1.5.0",
            "_view_name": "HTMLView",
            "description": "",
            "description_tooltip": null,
            "layout": "IPY_MODEL_c8b23e5f379a478783bd317727a36bd7",
            "placeholder": "​",
            "style": "IPY_MODEL_b7e240fc87a14749b4bf1057f7bcf018",
            "value": "Sanity Checking DataLoader 0: 100%"
          }
        },
        "92d85bbc82ee4911b2bf43e0dd4b4104": {
          "model_module": "@jupyter-widgets/controls",
          "model_module_version": "1.5.0",
          "model_name": "HBoxModel",
          "state": {
            "_dom_classes": [],
            "_model_module": "@jupyter-widgets/controls",
            "_model_module_version": "1.5.0",
            "_model_name": "HBoxModel",
            "_view_count": null,
            "_view_module": "@jupyter-widgets/controls",
            "_view_module_version": "1.5.0",
            "_view_name": "HBoxView",
            "box_style": "",
            "children": [
              "IPY_MODEL_91f5131209f84eaab0f26d31ab768c1f",
              "IPY_MODEL_b80e1b420bb84bf3809bbb3c94d73c90",
              "IPY_MODEL_b8bc0411083348b1be5c94aaab314a1e"
            ],
            "layout": "IPY_MODEL_22f846808e934762809a745c54a7fbc8"
          }
        },
        "9486ad7ffe624e4685fbac764c0bdeb4": {
          "model_module": "@jupyter-widgets/base",
          "model_module_version": "1.2.0",
          "model_name": "LayoutModel",
          "state": {
            "_model_module": "@jupyter-widgets/base",
            "_model_module_version": "1.2.0",
            "_model_name": "LayoutModel",
            "_view_count": null,
            "_view_module": "@jupyter-widgets/base",
            "_view_module_version": "1.2.0",
            "_view_name": "LayoutView",
            "align_content": null,
            "align_items": null,
            "align_self": null,
            "border": null,
            "bottom": null,
            "display": null,
            "flex": null,
            "flex_flow": null,
            "grid_area": null,
            "grid_auto_columns": null,
            "grid_auto_flow": null,
            "grid_auto_rows": null,
            "grid_column": null,
            "grid_gap": null,
            "grid_row": null,
            "grid_template_areas": null,
            "grid_template_columns": null,
            "grid_template_rows": null,
            "height": null,
            "justify_content": null,
            "justify_items": null,
            "left": null,
            "margin": null,
            "max_height": null,
            "max_width": null,
            "min_height": null,
            "min_width": null,
            "object_fit": null,
            "object_position": null,
            "order": null,
            "overflow": null,
            "overflow_x": null,
            "overflow_y": null,
            "padding": null,
            "right": null,
            "top": null,
            "visibility": null,
            "width": null
          }
        },
        "a032a899d5ab485aa16480a846cb8930": {
          "model_module": "@jupyter-widgets/controls",
          "model_module_version": "1.5.0",
          "model_name": "DescriptionStyleModel",
          "state": {
            "_model_module": "@jupyter-widgets/controls",
            "_model_module_version": "1.5.0",
            "_model_name": "DescriptionStyleModel",
            "_view_count": null,
            "_view_module": "@jupyter-widgets/base",
            "_view_module_version": "1.2.0",
            "_view_name": "StyleView",
            "description_width": ""
          }
        },
        "a12a789435b74ab3a1550fc36b54b128": {
          "model_module": "@jupyter-widgets/base",
          "model_module_version": "1.2.0",
          "model_name": "LayoutModel",
          "state": {
            "_model_module": "@jupyter-widgets/base",
            "_model_module_version": "1.2.0",
            "_model_name": "LayoutModel",
            "_view_count": null,
            "_view_module": "@jupyter-widgets/base",
            "_view_module_version": "1.2.0",
            "_view_name": "LayoutView",
            "align_content": null,
            "align_items": null,
            "align_self": null,
            "border": null,
            "bottom": null,
            "display": "inline-flex",
            "flex": null,
            "flex_flow": "row wrap",
            "grid_area": null,
            "grid_auto_columns": null,
            "grid_auto_flow": null,
            "grid_auto_rows": null,
            "grid_column": null,
            "grid_gap": null,
            "grid_row": null,
            "grid_template_areas": null,
            "grid_template_columns": null,
            "grid_template_rows": null,
            "height": null,
            "justify_content": null,
            "justify_items": null,
            "left": null,
            "margin": null,
            "max_height": null,
            "max_width": null,
            "min_height": null,
            "min_width": null,
            "object_fit": null,
            "object_position": null,
            "order": null,
            "overflow": null,
            "overflow_x": null,
            "overflow_y": null,
            "padding": null,
            "right": null,
            "top": null,
            "visibility": "hidden",
            "width": "100%"
          }
        },
        "a4caac93cdd84819aa5f9a0d64f8d416": {
          "model_module": "@jupyter-widgets/base",
          "model_module_version": "1.2.0",
          "model_name": "LayoutModel",
          "state": {
            "_model_module": "@jupyter-widgets/base",
            "_model_module_version": "1.2.0",
            "_model_name": "LayoutModel",
            "_view_count": null,
            "_view_module": "@jupyter-widgets/base",
            "_view_module_version": "1.2.0",
            "_view_name": "LayoutView",
            "align_content": null,
            "align_items": null,
            "align_self": null,
            "border": null,
            "bottom": null,
            "display": null,
            "flex": null,
            "flex_flow": null,
            "grid_area": null,
            "grid_auto_columns": null,
            "grid_auto_flow": null,
            "grid_auto_rows": null,
            "grid_column": null,
            "grid_gap": null,
            "grid_row": null,
            "grid_template_areas": null,
            "grid_template_columns": null,
            "grid_template_rows": null,
            "height": null,
            "justify_content": null,
            "justify_items": null,
            "left": null,
            "margin": null,
            "max_height": null,
            "max_width": null,
            "min_height": null,
            "min_width": null,
            "object_fit": null,
            "object_position": null,
            "order": null,
            "overflow": null,
            "overflow_x": null,
            "overflow_y": null,
            "padding": null,
            "right": null,
            "top": null,
            "visibility": null,
            "width": null
          }
        },
        "a8d1fba111b14b06a1f6596767f6e891": {
          "model_module": "@jupyter-widgets/controls",
          "model_module_version": "1.5.0",
          "model_name": "HTMLModel",
          "state": {
            "_dom_classes": [],
            "_model_module": "@jupyter-widgets/controls",
            "_model_module_version": "1.5.0",
            "_model_name": "HTMLModel",
            "_view_count": null,
            "_view_module": "@jupyter-widgets/controls",
            "_view_module_version": "1.5.0",
            "_view_name": "HTMLView",
            "description": "",
            "description_tooltip": null,
            "layout": "IPY_MODEL_5d0777104847442cac65418727d3151f",
            "placeholder": "​",
            "style": "IPY_MODEL_a032a899d5ab485aa16480a846cb8930",
            "value": " 44/44 [00:05&lt;00:00,  7.81it/s]"
          }
        },
        "b6bf13b125e84ac3bf566b0f282d32b6": {
          "model_module": "@jupyter-widgets/controls",
          "model_module_version": "1.5.0",
          "model_name": "DescriptionStyleModel",
          "state": {
            "_model_module": "@jupyter-widgets/controls",
            "_model_module_version": "1.5.0",
            "_model_name": "DescriptionStyleModel",
            "_view_count": null,
            "_view_module": "@jupyter-widgets/base",
            "_view_module_version": "1.2.0",
            "_view_name": "StyleView",
            "description_width": ""
          }
        },
        "b7e240fc87a14749b4bf1057f7bcf018": {
          "model_module": "@jupyter-widgets/controls",
          "model_module_version": "1.5.0",
          "model_name": "DescriptionStyleModel",
          "state": {
            "_model_module": "@jupyter-widgets/controls",
            "_model_module_version": "1.5.0",
            "_model_name": "DescriptionStyleModel",
            "_view_count": null,
            "_view_module": "@jupyter-widgets/base",
            "_view_module_version": "1.2.0",
            "_view_name": "StyleView",
            "description_width": ""
          }
        },
        "b80e1b420bb84bf3809bbb3c94d73c90": {
          "model_module": "@jupyter-widgets/controls",
          "model_module_version": "1.5.0",
          "model_name": "FloatProgressModel",
          "state": {
            "_dom_classes": [],
            "_model_module": "@jupyter-widgets/controls",
            "_model_module_version": "1.5.0",
            "_model_name": "FloatProgressModel",
            "_view_count": null,
            "_view_module": "@jupyter-widgets/controls",
            "_view_module_version": "1.5.0",
            "_view_name": "ProgressView",
            "bar_style": "",
            "description": "",
            "description_tooltip": null,
            "layout": "IPY_MODEL_6484152baaeb4508bcb97f493b03e025",
            "max": 2,
            "min": 0,
            "orientation": "horizontal",
            "style": "IPY_MODEL_6913b67107b84b08a233890132356d83",
            "value": 2
          }
        },
        "b8b7abbb83eb440683e5ae688d77f39a": {
          "model_module": "@jupyter-widgets/base",
          "model_module_version": "1.2.0",
          "model_name": "LayoutModel",
          "state": {
            "_model_module": "@jupyter-widgets/base",
            "_model_module_version": "1.2.0",
            "_model_name": "LayoutModel",
            "_view_count": null,
            "_view_module": "@jupyter-widgets/base",
            "_view_module_version": "1.2.0",
            "_view_name": "LayoutView",
            "align_content": null,
            "align_items": null,
            "align_self": null,
            "border": null,
            "bottom": null,
            "display": null,
            "flex": null,
            "flex_flow": null,
            "grid_area": null,
            "grid_auto_columns": null,
            "grid_auto_flow": null,
            "grid_auto_rows": null,
            "grid_column": null,
            "grid_gap": null,
            "grid_row": null,
            "grid_template_areas": null,
            "grid_template_columns": null,
            "grid_template_rows": null,
            "height": null,
            "justify_content": null,
            "justify_items": null,
            "left": null,
            "margin": null,
            "max_height": null,
            "max_width": null,
            "min_height": null,
            "min_width": null,
            "object_fit": null,
            "object_position": null,
            "order": null,
            "overflow": null,
            "overflow_x": null,
            "overflow_y": null,
            "padding": null,
            "right": null,
            "top": null,
            "visibility": null,
            "width": null
          }
        },
        "b8bc0411083348b1be5c94aaab314a1e": {
          "model_module": "@jupyter-widgets/controls",
          "model_module_version": "1.5.0",
          "model_name": "HTMLModel",
          "state": {
            "_dom_classes": [],
            "_model_module": "@jupyter-widgets/controls",
            "_model_module_version": "1.5.0",
            "_model_name": "HTMLModel",
            "_view_count": null,
            "_view_module": "@jupyter-widgets/controls",
            "_view_module_version": "1.5.0",
            "_view_name": "HTMLView",
            "description": "",
            "description_tooltip": null,
            "layout": "IPY_MODEL_c59676eec61647db9f6ccd4873de1b0b",
            "placeholder": "​",
            "style": "IPY_MODEL_c5555aff308a4e7f8e1bb32065094180",
            "value": " 2/2 [00:03&lt;00:00,  1.80s/it]"
          }
        },
        "bb5f2f9a5b1b4708afcaa19d04eb7817": {
          "model_module": "@jupyter-widgets/controls",
          "model_module_version": "1.5.0",
          "model_name": "ProgressStyleModel",
          "state": {
            "_model_module": "@jupyter-widgets/controls",
            "_model_module_version": "1.5.0",
            "_model_name": "ProgressStyleModel",
            "_view_count": null,
            "_view_module": "@jupyter-widgets/base",
            "_view_module_version": "1.2.0",
            "_view_name": "StyleView",
            "bar_color": null,
            "description_width": ""
          }
        },
        "bf10299da4ff4a2a8bbc2906a2a14478": {
          "model_module": "@jupyter-widgets/controls",
          "model_module_version": "1.5.0",
          "model_name": "FloatProgressModel",
          "state": {
            "_dom_classes": [],
            "_model_module": "@jupyter-widgets/controls",
            "_model_module_version": "1.5.0",
            "_model_name": "FloatProgressModel",
            "_view_count": null,
            "_view_module": "@jupyter-widgets/controls",
            "_view_module_version": "1.5.0",
            "_view_name": "ProgressView",
            "bar_style": "success",
            "description": "",
            "description_tooltip": null,
            "layout": "IPY_MODEL_70c43675024d438e9eab48099bb12a11",
            "max": 411582858,
            "min": 0,
            "orientation": "horizontal",
            "style": "IPY_MODEL_23ea6fcba1684a27af1902784da263e5",
            "value": 411582858
          }
        },
        "c15f259e0ef24800baa5cde786ac80d7": {
          "model_module": "@jupyter-widgets/base",
          "model_module_version": "1.2.0",
          "model_name": "LayoutModel",
          "state": {
            "_model_module": "@jupyter-widgets/base",
            "_model_module_version": "1.2.0",
            "_model_name": "LayoutModel",
            "_view_count": null,
            "_view_module": "@jupyter-widgets/base",
            "_view_module_version": "1.2.0",
            "_view_name": "LayoutView",
            "align_content": null,
            "align_items": null,
            "align_self": null,
            "border": null,
            "bottom": null,
            "display": "inline-flex",
            "flex": null,
            "flex_flow": "row wrap",
            "grid_area": null,
            "grid_auto_columns": null,
            "grid_auto_flow": null,
            "grid_auto_rows": null,
            "grid_column": null,
            "grid_gap": null,
            "grid_row": null,
            "grid_template_areas": null,
            "grid_template_columns": null,
            "grid_template_rows": null,
            "height": null,
            "justify_content": null,
            "justify_items": null,
            "left": null,
            "margin": null,
            "max_height": null,
            "max_width": null,
            "min_height": null,
            "min_width": null,
            "object_fit": null,
            "object_position": null,
            "order": null,
            "overflow": null,
            "overflow_x": null,
            "overflow_y": null,
            "padding": null,
            "right": null,
            "top": null,
            "visibility": "hidden",
            "width": "100%"
          }
        },
        "c5555aff308a4e7f8e1bb32065094180": {
          "model_module": "@jupyter-widgets/controls",
          "model_module_version": "1.5.0",
          "model_name": "DescriptionStyleModel",
          "state": {
            "_model_module": "@jupyter-widgets/controls",
            "_model_module_version": "1.5.0",
            "_model_name": "DescriptionStyleModel",
            "_view_count": null,
            "_view_module": "@jupyter-widgets/base",
            "_view_module_version": "1.2.0",
            "_view_name": "StyleView",
            "description_width": ""
          }
        },
        "c59676eec61647db9f6ccd4873de1b0b": {
          "model_module": "@jupyter-widgets/base",
          "model_module_version": "1.2.0",
          "model_name": "LayoutModel",
          "state": {
            "_model_module": "@jupyter-widgets/base",
            "_model_module_version": "1.2.0",
            "_model_name": "LayoutModel",
            "_view_count": null,
            "_view_module": "@jupyter-widgets/base",
            "_view_module_version": "1.2.0",
            "_view_name": "LayoutView",
            "align_content": null,
            "align_items": null,
            "align_self": null,
            "border": null,
            "bottom": null,
            "display": null,
            "flex": null,
            "flex_flow": null,
            "grid_area": null,
            "grid_auto_columns": null,
            "grid_auto_flow": null,
            "grid_auto_rows": null,
            "grid_column": null,
            "grid_gap": null,
            "grid_row": null,
            "grid_template_areas": null,
            "grid_template_columns": null,
            "grid_template_rows": null,
            "height": null,
            "justify_content": null,
            "justify_items": null,
            "left": null,
            "margin": null,
            "max_height": null,
            "max_width": null,
            "min_height": null,
            "min_width": null,
            "object_fit": null,
            "object_position": null,
            "order": null,
            "overflow": null,
            "overflow_x": null,
            "overflow_y": null,
            "padding": null,
            "right": null,
            "top": null,
            "visibility": null,
            "width": null
          }
        },
        "c8b23e5f379a478783bd317727a36bd7": {
          "model_module": "@jupyter-widgets/base",
          "model_module_version": "1.2.0",
          "model_name": "LayoutModel",
          "state": {
            "_model_module": "@jupyter-widgets/base",
            "_model_module_version": "1.2.0",
            "_model_name": "LayoutModel",
            "_view_count": null,
            "_view_module": "@jupyter-widgets/base",
            "_view_module_version": "1.2.0",
            "_view_name": "LayoutView",
            "align_content": null,
            "align_items": null,
            "align_self": null,
            "border": null,
            "bottom": null,
            "display": null,
            "flex": null,
            "flex_flow": null,
            "grid_area": null,
            "grid_auto_columns": null,
            "grid_auto_flow": null,
            "grid_auto_rows": null,
            "grid_column": null,
            "grid_gap": null,
            "grid_row": null,
            "grid_template_areas": null,
            "grid_template_columns": null,
            "grid_template_rows": null,
            "height": null,
            "justify_content": null,
            "justify_items": null,
            "left": null,
            "margin": null,
            "max_height": null,
            "max_width": null,
            "min_height": null,
            "min_width": null,
            "object_fit": null,
            "object_position": null,
            "order": null,
            "overflow": null,
            "overflow_x": null,
            "overflow_y": null,
            "padding": null,
            "right": null,
            "top": null,
            "visibility": null,
            "width": null
          }
        },
        "ca1b485dae0548ae9070ff056198e89a": {
          "model_module": "@jupyter-widgets/controls",
          "model_module_version": "1.5.0",
          "model_name": "DescriptionStyleModel",
          "state": {
            "_model_module": "@jupyter-widgets/controls",
            "_model_module_version": "1.5.0",
            "_model_name": "DescriptionStyleModel",
            "_view_count": null,
            "_view_module": "@jupyter-widgets/base",
            "_view_module_version": "1.2.0",
            "_view_name": "StyleView",
            "description_width": ""
          }
        },
        "cb6b94e7754a4355b2aea18ed5ba5d53": {
          "model_module": "@jupyter-widgets/base",
          "model_module_version": "1.2.0",
          "model_name": "LayoutModel",
          "state": {
            "_model_module": "@jupyter-widgets/base",
            "_model_module_version": "1.2.0",
            "_model_name": "LayoutModel",
            "_view_count": null,
            "_view_module": "@jupyter-widgets/base",
            "_view_module_version": "1.2.0",
            "_view_name": "LayoutView",
            "align_content": null,
            "align_items": null,
            "align_self": null,
            "border": null,
            "bottom": null,
            "display": null,
            "flex": null,
            "flex_flow": null,
            "grid_area": null,
            "grid_auto_columns": null,
            "grid_auto_flow": null,
            "grid_auto_rows": null,
            "grid_column": null,
            "grid_gap": null,
            "grid_row": null,
            "grid_template_areas": null,
            "grid_template_columns": null,
            "grid_template_rows": null,
            "height": null,
            "justify_content": null,
            "justify_items": null,
            "left": null,
            "margin": null,
            "max_height": null,
            "max_width": null,
            "min_height": null,
            "min_width": null,
            "object_fit": null,
            "object_position": null,
            "order": null,
            "overflow": null,
            "overflow_x": null,
            "overflow_y": null,
            "padding": null,
            "right": null,
            "top": null,
            "visibility": null,
            "width": null
          }
        },
        "d0d2d8b1e5f94004a9640fb5e3fd2474": {
          "model_module": "@jupyter-widgets/base",
          "model_module_version": "1.2.0",
          "model_name": "LayoutModel",
          "state": {
            "_model_module": "@jupyter-widgets/base",
            "_model_module_version": "1.2.0",
            "_model_name": "LayoutModel",
            "_view_count": null,
            "_view_module": "@jupyter-widgets/base",
            "_view_module_version": "1.2.0",
            "_view_name": "LayoutView",
            "align_content": null,
            "align_items": null,
            "align_self": null,
            "border": null,
            "bottom": null,
            "display": null,
            "flex": "2",
            "flex_flow": null,
            "grid_area": null,
            "grid_auto_columns": null,
            "grid_auto_flow": null,
            "grid_auto_rows": null,
            "grid_column": null,
            "grid_gap": null,
            "grid_row": null,
            "grid_template_areas": null,
            "grid_template_columns": null,
            "grid_template_rows": null,
            "height": null,
            "justify_content": null,
            "justify_items": null,
            "left": null,
            "margin": null,
            "max_height": null,
            "max_width": null,
            "min_height": null,
            "min_width": null,
            "object_fit": null,
            "object_position": null,
            "order": null,
            "overflow": null,
            "overflow_x": null,
            "overflow_y": null,
            "padding": null,
            "right": null,
            "top": null,
            "visibility": null,
            "width": null
          }
        },
        "d6749827aa82419f9e028873a8195021": {
          "model_module": "@jupyter-widgets/base",
          "model_module_version": "1.2.0",
          "model_name": "LayoutModel",
          "state": {
            "_model_module": "@jupyter-widgets/base",
            "_model_module_version": "1.2.0",
            "_model_name": "LayoutModel",
            "_view_count": null,
            "_view_module": "@jupyter-widgets/base",
            "_view_module_version": "1.2.0",
            "_view_name": "LayoutView",
            "align_content": null,
            "align_items": null,
            "align_self": null,
            "border": null,
            "bottom": null,
            "display": null,
            "flex": null,
            "flex_flow": null,
            "grid_area": null,
            "grid_auto_columns": null,
            "grid_auto_flow": null,
            "grid_auto_rows": null,
            "grid_column": null,
            "grid_gap": null,
            "grid_row": null,
            "grid_template_areas": null,
            "grid_template_columns": null,
            "grid_template_rows": null,
            "height": null,
            "justify_content": null,
            "justify_items": null,
            "left": null,
            "margin": null,
            "max_height": null,
            "max_width": null,
            "min_height": null,
            "min_width": null,
            "object_fit": null,
            "object_position": null,
            "order": null,
            "overflow": null,
            "overflow_x": null,
            "overflow_y": null,
            "padding": null,
            "right": null,
            "top": null,
            "visibility": null,
            "width": null
          }
        },
        "d85b2558c5c6404998c27c3c823b065c": {
          "model_module": "@jupyter-widgets/controls",
          "model_module_version": "1.5.0",
          "model_name": "DescriptionStyleModel",
          "state": {
            "_model_module": "@jupyter-widgets/controls",
            "_model_module_version": "1.5.0",
            "_model_name": "DescriptionStyleModel",
            "_view_count": null,
            "_view_module": "@jupyter-widgets/base",
            "_view_module_version": "1.2.0",
            "_view_name": "StyleView",
            "description_width": ""
          }
        },
        "da82911f91564a1e90305c61865acc79": {
          "model_module": "@jupyter-widgets/controls",
          "model_module_version": "1.5.0",
          "model_name": "HTMLModel",
          "state": {
            "_dom_classes": [],
            "_model_module": "@jupyter-widgets/controls",
            "_model_module_version": "1.5.0",
            "_model_name": "HTMLModel",
            "_view_count": null,
            "_view_module": "@jupyter-widgets/controls",
            "_view_module_version": "1.5.0",
            "_view_name": "HTMLView",
            "description": "",
            "description_tooltip": null,
            "layout": "IPY_MODEL_24992297b66946788512ed7e59cd17b4",
            "placeholder": "​",
            "style": "IPY_MODEL_4eb9c4ae30454c81a78863add1ab027e",
            "value": " 32/44 [00:04&lt;00:01,  7.21it/s]"
          }
        },
        "db98801ad3be4b0197a17b6e1f7383b5": {
          "model_module": "@jupyter-widgets/controls",
          "model_module_version": "1.5.0",
          "model_name": "HTMLModel",
          "state": {
            "_dom_classes": [],
            "_model_module": "@jupyter-widgets/controls",
            "_model_module_version": "1.5.0",
            "_model_name": "HTMLModel",
            "_view_count": null,
            "_view_module": "@jupyter-widgets/controls",
            "_view_module_version": "1.5.0",
            "_view_name": "HTMLView",
            "description": "",
            "description_tooltip": null,
            "layout": "IPY_MODEL_5e1f94b1d0d044c49fe6f3eb26dc809e",
            "placeholder": "​",
            "style": "IPY_MODEL_1e7e811acca145949a8c6ac69de9798a",
            "value": "Downloading: 100%"
          }
        },
        "df4565438ee345968639aab5a92176e6": {
          "model_module": "@jupyter-widgets/base",
          "model_module_version": "1.2.0",
          "model_name": "LayoutModel",
          "state": {
            "_model_module": "@jupyter-widgets/base",
            "_model_module_version": "1.2.0",
            "_model_name": "LayoutModel",
            "_view_count": null,
            "_view_module": "@jupyter-widgets/base",
            "_view_module_version": "1.2.0",
            "_view_name": "LayoutView",
            "align_content": null,
            "align_items": null,
            "align_self": null,
            "border": null,
            "bottom": null,
            "display": null,
            "flex": null,
            "flex_flow": null,
            "grid_area": null,
            "grid_auto_columns": null,
            "grid_auto_flow": null,
            "grid_auto_rows": null,
            "grid_column": null,
            "grid_gap": null,
            "grid_row": null,
            "grid_template_areas": null,
            "grid_template_columns": null,
            "grid_template_rows": null,
            "height": null,
            "justify_content": null,
            "justify_items": null,
            "left": null,
            "margin": null,
            "max_height": null,
            "max_width": null,
            "min_height": null,
            "min_width": null,
            "object_fit": null,
            "object_position": null,
            "order": null,
            "overflow": null,
            "overflow_x": null,
            "overflow_y": null,
            "padding": null,
            "right": null,
            "top": null,
            "visibility": null,
            "width": null
          }
        },
        "e178efe4342841f1a2f75bc6bbe4b5e2": {
          "model_module": "@jupyter-widgets/controls",
          "model_module_version": "1.5.0",
          "model_name": "HTMLModel",
          "state": {
            "_dom_classes": [],
            "_model_module": "@jupyter-widgets/controls",
            "_model_module_version": "1.5.0",
            "_model_name": "HTMLModel",
            "_view_count": null,
            "_view_module": "@jupyter-widgets/controls",
            "_view_module_version": "1.5.0",
            "_view_name": "HTMLView",
            "description": "",
            "description_tooltip": null,
            "layout": "IPY_MODEL_b8b7abbb83eb440683e5ae688d77f39a",
            "placeholder": "​",
            "style": "IPY_MODEL_e770cf43075d4b148770fc5e26e0adc3",
            "value": "Validation DataLoader 0: 100%"
          }
        },
        "e545784f713a453583789be88e816a66": {
          "model_module": "@jupyter-widgets/controls",
          "model_module_version": "1.5.0",
          "model_name": "HTMLModel",
          "state": {
            "_dom_classes": [],
            "_model_module": "@jupyter-widgets/controls",
            "_model_module_version": "1.5.0",
            "_model_name": "HTMLModel",
            "_view_count": null,
            "_view_module": "@jupyter-widgets/controls",
            "_view_module_version": "1.5.0",
            "_view_name": "HTMLView",
            "description": "",
            "description_tooltip": null,
            "layout": "IPY_MODEL_4244903b93584d66a1e84b5ff2f3295d",
            "placeholder": "​",
            "style": "IPY_MODEL_b6bf13b125e84ac3bf566b0f282d32b6",
            "value": " 412M/412M [00:11&lt;00:00, 36.6MB/s]"
          }
        },
        "e770cf43075d4b148770fc5e26e0adc3": {
          "model_module": "@jupyter-widgets/controls",
          "model_module_version": "1.5.0",
          "model_name": "DescriptionStyleModel",
          "state": {
            "_model_module": "@jupyter-widgets/controls",
            "_model_module_version": "1.5.0",
            "_model_name": "DescriptionStyleModel",
            "_view_count": null,
            "_view_module": "@jupyter-widgets/base",
            "_view_module_version": "1.2.0",
            "_view_name": "StyleView",
            "description_width": ""
          }
        },
        "ec8dd61d7cb741aeadbbbe12289c9fc6": {
          "model_module": "@jupyter-widgets/controls",
          "model_module_version": "1.5.0",
          "model_name": "FloatProgressModel",
          "state": {
            "_dom_classes": [],
            "_model_module": "@jupyter-widgets/controls",
            "_model_module_version": "1.5.0",
            "_model_name": "FloatProgressModel",
            "_view_count": null,
            "_view_module": "@jupyter-widgets/controls",
            "_view_module_version": "1.5.0",
            "_view_name": "ProgressView",
            "bar_style": "",
            "description": "",
            "description_tooltip": null,
            "layout": "IPY_MODEL_1449ef78ecdd4f609bcd1ada93a7c4ab",
            "max": 44,
            "min": 0,
            "orientation": "horizontal",
            "style": "IPY_MODEL_24f179079fa149cdb6a06eacd674d7b2",
            "value": 44
          }
        },
        "ffe7f83555c74d3d8948213035ade445": {
          "model_module": "@jupyter-widgets/controls",
          "model_module_version": "1.5.0",
          "model_name": "FloatProgressModel",
          "state": {
            "_dom_classes": [],
            "_model_module": "@jupyter-widgets/controls",
            "_model_module_version": "1.5.0",
            "_model_name": "FloatProgressModel",
            "_view_count": null,
            "_view_module": "@jupyter-widgets/controls",
            "_view_module_version": "1.5.0",
            "_view_name": "ProgressView",
            "bar_style": "",
            "description": "",
            "description_tooltip": null,
            "layout": "IPY_MODEL_1c7e05f622ca4620a4d204c5d2190cc8",
            "max": 44,
            "min": 0,
            "orientation": "horizontal",
            "style": "IPY_MODEL_7d103f64e9d44f8b85c224a935fe6c80",
            "value": 44
          }
        },
        "5c67421d593c44d697bd7322b38dec6d": {
          "model_module": "@jupyter-widgets/controls",
          "model_name": "HBoxModel",
          "model_module_version": "1.5.0",
          "state": {
            "_dom_classes": [],
            "_model_module": "@jupyter-widgets/controls",
            "_model_module_version": "1.5.0",
            "_model_name": "HBoxModel",
            "_view_count": null,
            "_view_module": "@jupyter-widgets/controls",
            "_view_module_version": "1.5.0",
            "_view_name": "HBoxView",
            "box_style": "",
            "children": [
              "IPY_MODEL_1da4708f8f5f49edb44445c0c29256cc",
              "IPY_MODEL_cf26072006e24d01895372b18e8b903f",
              "IPY_MODEL_cc6074e59f194222895eb5426640c61b"
            ],
            "layout": "IPY_MODEL_f0eb8a20e2744c0994dde5f8736e9e27"
          }
        },
        "1da4708f8f5f49edb44445c0c29256cc": {
          "model_module": "@jupyter-widgets/controls",
          "model_name": "HTMLModel",
          "model_module_version": "1.5.0",
          "state": {
            "_dom_classes": [],
            "_model_module": "@jupyter-widgets/controls",
            "_model_module_version": "1.5.0",
            "_model_name": "HTMLModel",
            "_view_count": null,
            "_view_module": "@jupyter-widgets/controls",
            "_view_module_version": "1.5.0",
            "_view_name": "HTMLView",
            "description": "",
            "description_tooltip": null,
            "layout": "IPY_MODEL_35bccf74ec5548ae909159d5ea48c274",
            "placeholder": "​",
            "style": "IPY_MODEL_38aee8e2ea334379ad0c9825e166b635",
            "value": "Validation DataLoader 0: 100%"
          }
        },
        "cf26072006e24d01895372b18e8b903f": {
          "model_module": "@jupyter-widgets/controls",
          "model_name": "FloatProgressModel",
          "model_module_version": "1.5.0",
          "state": {
            "_dom_classes": [],
            "_model_module": "@jupyter-widgets/controls",
            "_model_module_version": "1.5.0",
            "_model_name": "FloatProgressModel",
            "_view_count": null,
            "_view_module": "@jupyter-widgets/controls",
            "_view_module_version": "1.5.0",
            "_view_name": "ProgressView",
            "bar_style": "",
            "description": "",
            "description_tooltip": null,
            "layout": "IPY_MODEL_e8431ec196554a2b96103293e046474f",
            "max": 44,
            "min": 0,
            "orientation": "horizontal",
            "style": "IPY_MODEL_4e3dcac4e5a14356a1522ee7dcd5e596",
            "value": 44
          }
        },
        "cc6074e59f194222895eb5426640c61b": {
          "model_module": "@jupyter-widgets/controls",
          "model_name": "HTMLModel",
          "model_module_version": "1.5.0",
          "state": {
            "_dom_classes": [],
            "_model_module": "@jupyter-widgets/controls",
            "_model_module_version": "1.5.0",
            "_model_name": "HTMLModel",
            "_view_count": null,
            "_view_module": "@jupyter-widgets/controls",
            "_view_module_version": "1.5.0",
            "_view_name": "HTMLView",
            "description": "",
            "description_tooltip": null,
            "layout": "IPY_MODEL_39f12043baf4452fbb54b0c134ad35cf",
            "placeholder": "​",
            "style": "IPY_MODEL_62914bff8131429db082072771f5d892",
            "value": " 44/44 [00:06&lt;00:00,  7.25it/s]"
          }
        },
        "f0eb8a20e2744c0994dde5f8736e9e27": {
          "model_module": "@jupyter-widgets/base",
          "model_name": "LayoutModel",
          "model_module_version": "1.2.0",
          "state": {
            "_model_module": "@jupyter-widgets/base",
            "_model_module_version": "1.2.0",
            "_model_name": "LayoutModel",
            "_view_count": null,
            "_view_module": "@jupyter-widgets/base",
            "_view_module_version": "1.2.0",
            "_view_name": "LayoutView",
            "align_content": null,
            "align_items": null,
            "align_self": null,
            "border": null,
            "bottom": null,
            "display": "inline-flex",
            "flex": null,
            "flex_flow": "row wrap",
            "grid_area": null,
            "grid_auto_columns": null,
            "grid_auto_flow": null,
            "grid_auto_rows": null,
            "grid_column": null,
            "grid_gap": null,
            "grid_row": null,
            "grid_template_areas": null,
            "grid_template_columns": null,
            "grid_template_rows": null,
            "height": null,
            "justify_content": null,
            "justify_items": null,
            "left": null,
            "margin": null,
            "max_height": null,
            "max_width": null,
            "min_height": null,
            "min_width": null,
            "object_fit": null,
            "object_position": null,
            "order": null,
            "overflow": null,
            "overflow_x": null,
            "overflow_y": null,
            "padding": null,
            "right": null,
            "top": null,
            "visibility": "hidden",
            "width": "100%"
          }
        },
        "35bccf74ec5548ae909159d5ea48c274": {
          "model_module": "@jupyter-widgets/base",
          "model_name": "LayoutModel",
          "model_module_version": "1.2.0",
          "state": {
            "_model_module": "@jupyter-widgets/base",
            "_model_module_version": "1.2.0",
            "_model_name": "LayoutModel",
            "_view_count": null,
            "_view_module": "@jupyter-widgets/base",
            "_view_module_version": "1.2.0",
            "_view_name": "LayoutView",
            "align_content": null,
            "align_items": null,
            "align_self": null,
            "border": null,
            "bottom": null,
            "display": null,
            "flex": null,
            "flex_flow": null,
            "grid_area": null,
            "grid_auto_columns": null,
            "grid_auto_flow": null,
            "grid_auto_rows": null,
            "grid_column": null,
            "grid_gap": null,
            "grid_row": null,
            "grid_template_areas": null,
            "grid_template_columns": null,
            "grid_template_rows": null,
            "height": null,
            "justify_content": null,
            "justify_items": null,
            "left": null,
            "margin": null,
            "max_height": null,
            "max_width": null,
            "min_height": null,
            "min_width": null,
            "object_fit": null,
            "object_position": null,
            "order": null,
            "overflow": null,
            "overflow_x": null,
            "overflow_y": null,
            "padding": null,
            "right": null,
            "top": null,
            "visibility": null,
            "width": null
          }
        },
        "38aee8e2ea334379ad0c9825e166b635": {
          "model_module": "@jupyter-widgets/controls",
          "model_name": "DescriptionStyleModel",
          "model_module_version": "1.5.0",
          "state": {
            "_model_module": "@jupyter-widgets/controls",
            "_model_module_version": "1.5.0",
            "_model_name": "DescriptionStyleModel",
            "_view_count": null,
            "_view_module": "@jupyter-widgets/base",
            "_view_module_version": "1.2.0",
            "_view_name": "StyleView",
            "description_width": ""
          }
        },
        "e8431ec196554a2b96103293e046474f": {
          "model_module": "@jupyter-widgets/base",
          "model_name": "LayoutModel",
          "model_module_version": "1.2.0",
          "state": {
            "_model_module": "@jupyter-widgets/base",
            "_model_module_version": "1.2.0",
            "_model_name": "LayoutModel",
            "_view_count": null,
            "_view_module": "@jupyter-widgets/base",
            "_view_module_version": "1.2.0",
            "_view_name": "LayoutView",
            "align_content": null,
            "align_items": null,
            "align_self": null,
            "border": null,
            "bottom": null,
            "display": null,
            "flex": "2",
            "flex_flow": null,
            "grid_area": null,
            "grid_auto_columns": null,
            "grid_auto_flow": null,
            "grid_auto_rows": null,
            "grid_column": null,
            "grid_gap": null,
            "grid_row": null,
            "grid_template_areas": null,
            "grid_template_columns": null,
            "grid_template_rows": null,
            "height": null,
            "justify_content": null,
            "justify_items": null,
            "left": null,
            "margin": null,
            "max_height": null,
            "max_width": null,
            "min_height": null,
            "min_width": null,
            "object_fit": null,
            "object_position": null,
            "order": null,
            "overflow": null,
            "overflow_x": null,
            "overflow_y": null,
            "padding": null,
            "right": null,
            "top": null,
            "visibility": null,
            "width": null
          }
        },
        "4e3dcac4e5a14356a1522ee7dcd5e596": {
          "model_module": "@jupyter-widgets/controls",
          "model_name": "ProgressStyleModel",
          "model_module_version": "1.5.0",
          "state": {
            "_model_module": "@jupyter-widgets/controls",
            "_model_module_version": "1.5.0",
            "_model_name": "ProgressStyleModel",
            "_view_count": null,
            "_view_module": "@jupyter-widgets/base",
            "_view_module_version": "1.2.0",
            "_view_name": "StyleView",
            "bar_color": null,
            "description_width": ""
          }
        },
        "39f12043baf4452fbb54b0c134ad35cf": {
          "model_module": "@jupyter-widgets/base",
          "model_name": "LayoutModel",
          "model_module_version": "1.2.0",
          "state": {
            "_model_module": "@jupyter-widgets/base",
            "_model_module_version": "1.2.0",
            "_model_name": "LayoutModel",
            "_view_count": null,
            "_view_module": "@jupyter-widgets/base",
            "_view_module_version": "1.2.0",
            "_view_name": "LayoutView",
            "align_content": null,
            "align_items": null,
            "align_self": null,
            "border": null,
            "bottom": null,
            "display": null,
            "flex": null,
            "flex_flow": null,
            "grid_area": null,
            "grid_auto_columns": null,
            "grid_auto_flow": null,
            "grid_auto_rows": null,
            "grid_column": null,
            "grid_gap": null,
            "grid_row": null,
            "grid_template_areas": null,
            "grid_template_columns": null,
            "grid_template_rows": null,
            "height": null,
            "justify_content": null,
            "justify_items": null,
            "left": null,
            "margin": null,
            "max_height": null,
            "max_width": null,
            "min_height": null,
            "min_width": null,
            "object_fit": null,
            "object_position": null,
            "order": null,
            "overflow": null,
            "overflow_x": null,
            "overflow_y": null,
            "padding": null,
            "right": null,
            "top": null,
            "visibility": null,
            "width": null
          }
        },
        "62914bff8131429db082072771f5d892": {
          "model_module": "@jupyter-widgets/controls",
          "model_name": "DescriptionStyleModel",
          "model_module_version": "1.5.0",
          "state": {
            "_model_module": "@jupyter-widgets/controls",
            "_model_module_version": "1.5.0",
            "_model_name": "DescriptionStyleModel",
            "_view_count": null,
            "_view_module": "@jupyter-widgets/base",
            "_view_module_version": "1.2.0",
            "_view_name": "StyleView",
            "description_width": ""
          }
        },
        "f312c0a4f91543029efe160805c2d59d": {
          "model_module": "@jupyter-widgets/controls",
          "model_name": "HBoxModel",
          "model_module_version": "1.5.0",
          "state": {
            "_dom_classes": [],
            "_model_module": "@jupyter-widgets/controls",
            "_model_module_version": "1.5.0",
            "_model_name": "HBoxModel",
            "_view_count": null,
            "_view_module": "@jupyter-widgets/controls",
            "_view_module_version": "1.5.0",
            "_view_name": "HBoxView",
            "box_style": "",
            "children": [
              "IPY_MODEL_e6970e89b6fd430c883f6fd0c57428dc",
              "IPY_MODEL_c6b63e68e69a45f78ed34be5173b5fec",
              "IPY_MODEL_a4eb33475fb44551befde5dbbb5880fc"
            ],
            "layout": "IPY_MODEL_e8a392fb39a6491b97f69fd40944608c"
          }
        },
        "e6970e89b6fd430c883f6fd0c57428dc": {
          "model_module": "@jupyter-widgets/controls",
          "model_name": "HTMLModel",
          "model_module_version": "1.5.0",
          "state": {
            "_dom_classes": [],
            "_model_module": "@jupyter-widgets/controls",
            "_model_module_version": "1.5.0",
            "_model_name": "HTMLModel",
            "_view_count": null,
            "_view_module": "@jupyter-widgets/controls",
            "_view_module_version": "1.5.0",
            "_view_name": "HTMLView",
            "description": "",
            "description_tooltip": null,
            "layout": "IPY_MODEL_0e0501973cb34952b03e2b499a0ea0ad",
            "placeholder": "​",
            "style": "IPY_MODEL_2f230a584544470887d1c4667d779f85",
            "value": "Testing DataLoader 0: 100%"
          }
        },
        "c6b63e68e69a45f78ed34be5173b5fec": {
          "model_module": "@jupyter-widgets/controls",
          "model_name": "FloatProgressModel",
          "model_module_version": "1.5.0",
          "state": {
            "_dom_classes": [],
            "_model_module": "@jupyter-widgets/controls",
            "_model_module_version": "1.5.0",
            "_model_name": "FloatProgressModel",
            "_view_count": null,
            "_view_module": "@jupyter-widgets/controls",
            "_view_module_version": "1.5.0",
            "_view_name": "ProgressView",
            "bar_style": "success",
            "description": "",
            "description_tooltip": null,
            "layout": "IPY_MODEL_8c389daf29af46c5899ba9e35d4af5f6",
            "max": 44,
            "min": 0,
            "orientation": "horizontal",
            "style": "IPY_MODEL_e63365346fc04b4aa7b7595044beca39",
            "value": 44
          }
        },
        "a4eb33475fb44551befde5dbbb5880fc": {
          "model_module": "@jupyter-widgets/controls",
          "model_name": "HTMLModel",
          "model_module_version": "1.5.0",
          "state": {
            "_dom_classes": [],
            "_model_module": "@jupyter-widgets/controls",
            "_model_module_version": "1.5.0",
            "_model_name": "HTMLModel",
            "_view_count": null,
            "_view_module": "@jupyter-widgets/controls",
            "_view_module_version": "1.5.0",
            "_view_name": "HTMLView",
            "description": "",
            "description_tooltip": null,
            "layout": "IPY_MODEL_e7f409eb7f7c44b79ea715c50da2e19a",
            "placeholder": "​",
            "style": "IPY_MODEL_927aedd7793d4b77ba9a182f44dc382e",
            "value": " 44/44 [00:05&lt;00:00,  8.21it/s]"
          }
        },
        "e8a392fb39a6491b97f69fd40944608c": {
          "model_module": "@jupyter-widgets/base",
          "model_name": "LayoutModel",
          "model_module_version": "1.2.0",
          "state": {
            "_model_module": "@jupyter-widgets/base",
            "_model_module_version": "1.2.0",
            "_model_name": "LayoutModel",
            "_view_count": null,
            "_view_module": "@jupyter-widgets/base",
            "_view_module_version": "1.2.0",
            "_view_name": "LayoutView",
            "align_content": null,
            "align_items": null,
            "align_self": null,
            "border": null,
            "bottom": null,
            "display": "inline-flex",
            "flex": null,
            "flex_flow": "row wrap",
            "grid_area": null,
            "grid_auto_columns": null,
            "grid_auto_flow": null,
            "grid_auto_rows": null,
            "grid_column": null,
            "grid_gap": null,
            "grid_row": null,
            "grid_template_areas": null,
            "grid_template_columns": null,
            "grid_template_rows": null,
            "height": null,
            "justify_content": null,
            "justify_items": null,
            "left": null,
            "margin": null,
            "max_height": null,
            "max_width": null,
            "min_height": null,
            "min_width": null,
            "object_fit": null,
            "object_position": null,
            "order": null,
            "overflow": null,
            "overflow_x": null,
            "overflow_y": null,
            "padding": null,
            "right": null,
            "top": null,
            "visibility": null,
            "width": "100%"
          }
        },
        "0e0501973cb34952b03e2b499a0ea0ad": {
          "model_module": "@jupyter-widgets/base",
          "model_name": "LayoutModel",
          "model_module_version": "1.2.0",
          "state": {
            "_model_module": "@jupyter-widgets/base",
            "_model_module_version": "1.2.0",
            "_model_name": "LayoutModel",
            "_view_count": null,
            "_view_module": "@jupyter-widgets/base",
            "_view_module_version": "1.2.0",
            "_view_name": "LayoutView",
            "align_content": null,
            "align_items": null,
            "align_self": null,
            "border": null,
            "bottom": null,
            "display": null,
            "flex": null,
            "flex_flow": null,
            "grid_area": null,
            "grid_auto_columns": null,
            "grid_auto_flow": null,
            "grid_auto_rows": null,
            "grid_column": null,
            "grid_gap": null,
            "grid_row": null,
            "grid_template_areas": null,
            "grid_template_columns": null,
            "grid_template_rows": null,
            "height": null,
            "justify_content": null,
            "justify_items": null,
            "left": null,
            "margin": null,
            "max_height": null,
            "max_width": null,
            "min_height": null,
            "min_width": null,
            "object_fit": null,
            "object_position": null,
            "order": null,
            "overflow": null,
            "overflow_x": null,
            "overflow_y": null,
            "padding": null,
            "right": null,
            "top": null,
            "visibility": null,
            "width": null
          }
        },
        "2f230a584544470887d1c4667d779f85": {
          "model_module": "@jupyter-widgets/controls",
          "model_name": "DescriptionStyleModel",
          "model_module_version": "1.5.0",
          "state": {
            "_model_module": "@jupyter-widgets/controls",
            "_model_module_version": "1.5.0",
            "_model_name": "DescriptionStyleModel",
            "_view_count": null,
            "_view_module": "@jupyter-widgets/base",
            "_view_module_version": "1.2.0",
            "_view_name": "StyleView",
            "description_width": ""
          }
        },
        "8c389daf29af46c5899ba9e35d4af5f6": {
          "model_module": "@jupyter-widgets/base",
          "model_name": "LayoutModel",
          "model_module_version": "1.2.0",
          "state": {
            "_model_module": "@jupyter-widgets/base",
            "_model_module_version": "1.2.0",
            "_model_name": "LayoutModel",
            "_view_count": null,
            "_view_module": "@jupyter-widgets/base",
            "_view_module_version": "1.2.0",
            "_view_name": "LayoutView",
            "align_content": null,
            "align_items": null,
            "align_self": null,
            "border": null,
            "bottom": null,
            "display": null,
            "flex": "2",
            "flex_flow": null,
            "grid_area": null,
            "grid_auto_columns": null,
            "grid_auto_flow": null,
            "grid_auto_rows": null,
            "grid_column": null,
            "grid_gap": null,
            "grid_row": null,
            "grid_template_areas": null,
            "grid_template_columns": null,
            "grid_template_rows": null,
            "height": null,
            "justify_content": null,
            "justify_items": null,
            "left": null,
            "margin": null,
            "max_height": null,
            "max_width": null,
            "min_height": null,
            "min_width": null,
            "object_fit": null,
            "object_position": null,
            "order": null,
            "overflow": null,
            "overflow_x": null,
            "overflow_y": null,
            "padding": null,
            "right": null,
            "top": null,
            "visibility": null,
            "width": null
          }
        },
        "e63365346fc04b4aa7b7595044beca39": {
          "model_module": "@jupyter-widgets/controls",
          "model_name": "ProgressStyleModel",
          "model_module_version": "1.5.0",
          "state": {
            "_model_module": "@jupyter-widgets/controls",
            "_model_module_version": "1.5.0",
            "_model_name": "ProgressStyleModel",
            "_view_count": null,
            "_view_module": "@jupyter-widgets/base",
            "_view_module_version": "1.2.0",
            "_view_name": "StyleView",
            "bar_color": null,
            "description_width": ""
          }
        },
        "e7f409eb7f7c44b79ea715c50da2e19a": {
          "model_module": "@jupyter-widgets/base",
          "model_name": "LayoutModel",
          "model_module_version": "1.2.0",
          "state": {
            "_model_module": "@jupyter-widgets/base",
            "_model_module_version": "1.2.0",
            "_model_name": "LayoutModel",
            "_view_count": null,
            "_view_module": "@jupyter-widgets/base",
            "_view_module_version": "1.2.0",
            "_view_name": "LayoutView",
            "align_content": null,
            "align_items": null,
            "align_self": null,
            "border": null,
            "bottom": null,
            "display": null,
            "flex": null,
            "flex_flow": null,
            "grid_area": null,
            "grid_auto_columns": null,
            "grid_auto_flow": null,
            "grid_auto_rows": null,
            "grid_column": null,
            "grid_gap": null,
            "grid_row": null,
            "grid_template_areas": null,
            "grid_template_columns": null,
            "grid_template_rows": null,
            "height": null,
            "justify_content": null,
            "justify_items": null,
            "left": null,
            "margin": null,
            "max_height": null,
            "max_width": null,
            "min_height": null,
            "min_width": null,
            "object_fit": null,
            "object_position": null,
            "order": null,
            "overflow": null,
            "overflow_x": null,
            "overflow_y": null,
            "padding": null,
            "right": null,
            "top": null,
            "visibility": null,
            "width": null
          }
        },
        "927aedd7793d4b77ba9a182f44dc382e": {
          "model_module": "@jupyter-widgets/controls",
          "model_name": "DescriptionStyleModel",
          "model_module_version": "1.5.0",
          "state": {
            "_model_module": "@jupyter-widgets/controls",
            "_model_module_version": "1.5.0",
            "_model_name": "DescriptionStyleModel",
            "_view_count": null,
            "_view_module": "@jupyter-widgets/base",
            "_view_module_version": "1.2.0",
            "_view_name": "StyleView",
            "description_width": ""
          }
        }
      }
    }
  },
  "nbformat": 4,
  "nbformat_minor": 0
}